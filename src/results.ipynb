{
 "cells": [
  {
   "cell_type": "markdown",
   "metadata": {},
   "source": [
    "# Entity Resolution project @ Wavestone\n",
    "## Entity Matching\n",
    "\n",
    "> *Datasets information from [here](https://data.dws.informatik.uni-mannheim.de/benchmarkmatchingtasks/index.html)*\n",
    "\n",
    "> **Tristan PERROT**\n"
   ]
  },
  {
   "cell_type": "markdown",
   "metadata": {},
   "source": [
    "## Import libraries"
   ]
  },
  {
   "cell_type": "code",
   "execution_count": 10,
   "metadata": {},
   "outputs": [],
   "source": [
    "import os\n",
    "\n",
    "while 'model' not in os.listdir():\n",
    "    os.chdir('..')"
   ]
  },
  {
   "cell_type": "code",
   "execution_count": 11,
   "metadata": {},
   "outputs": [],
   "source": [
    "import re\n",
    "import pandas as pd\n",
    "from sklearn.metrics import accuracy_score, precision_score, recall_score, f1_score, roc_auc_score, confusion_matrix, roc_curve, auc\n",
    "import matplotlib.pyplot as plt\n",
    "import seaborn as sns\n",
    "\n",
    "from model.utils import load_data\n",
    "import src.cross_encoder.result_sberts as result_sberts\n",
    "import src.import_data as import_data\n",
    "import re\n",
    "import pandas as pd\n",
    "from sklearn.metrics import accuracy_score, precision_score, recall_score, f1_score, roc_auc_score, confusion_matrix, roc_curve, auc\n",
    "import matplotlib.pyplot as plt\n",
    "import seaborn as sns\n",
    "\n",
    "from model.utils import load_data\n",
    "import src.bert.result_berts as result_berts\n",
    "import src.import_data as import_data\n",
    "import re\n",
    "import pandas as pd\n",
    "from sklearn.metrics import accuracy_score, precision_score, recall_score, f1_score, roc_auc_score, confusion_matrix, roc_curve, auc\n",
    "import matplotlib.pyplot as plt\n",
    "import seaborn as sns\n",
    "\n",
    "from model.utils import load_data\n",
    "from model.Blocking import get_blocking_metrics, merge_true_matches\n",
    "import src.blocking.result_blocking as result_blocking\n",
    "import src.import_data as import_data\n",
    "import re\n",
    "import pandas as pd\n",
    "from sklearn.metrics import accuracy_score, precision_score, recall_score, f1_score, roc_auc_score, confusion_matrix, roc_curve, auc\n",
    "import matplotlib.pyplot as plt\n",
    "import seaborn as sns\n",
    "\n",
    "from model.utils import load_data\n",
    "import src.zero_shot.result_zero_shot as result_zero_shot\n",
    "import src.import_data as import_data"
   ]
  },
  {
   "cell_type": "code",
   "execution_count": 12,
   "metadata": {},
   "outputs": [
    {
     "name": "stdout",
     "output_type": "stream",
     "text": [
      "Available models for Zero-Shot:\n",
      "['all-mpnet-base-v2', 'sentence-transformers/multi-qa-mpnet-base-dot-v1']\n",
      "\n",
      "Available models for BERTs:\n",
      "['roberta-base', 'distilroberta-base', 'bert-base-uncased']\n",
      "\n",
      "Available models for SBERTs:\n",
      "['cross-encoder/stsb-roberta-base', 'cross-encoder/stsb-distilroberta-base', 'cross-encoder/ms-marco-MiniLM-L-12-v2', 'cross-encoder/stsb-roberta-large']\n",
      "\n",
      "Available models for Blocking:\n",
      "['sentence-transformers/allenai-specter', 'all-distilroberta-v1', 'all-mpnet-base-v2', 'multi-qa-mpnet-base-dot-v1']\n",
      "\n",
      "Available datasets:\n",
      "['fodors-zagats', 'amazon-google', 'abt-buy']\n"
     ]
    }
   ],
   "source": [
    "print('Available models for Zero-Shot:')\n",
    "print(result_zero_shot.MODELS)\n",
    "print()\n",
    "print('Available models for BERTs:')\n",
    "print(result_berts.MODELS)\n",
    "print()\n",
    "print('Available models for SBERTs:')\n",
    "print(result_sberts.MODELS)\n",
    "print()\n",
    "print('Available models for Blocking:')\n",
    "print(result_blocking.MODELS)\n",
    "print()\n",
    "print('Available datasets:')\n",
    "print(result_zero_shot.DATA_NAMES)"
   ]
  },
  {
   "cell_type": "code",
   "execution_count": 13,
   "metadata": {},
   "outputs": [],
   "source": [
    "THRESHOLD = 0.65"
   ]
  },
  {
   "cell_type": "markdown",
   "metadata": {},
   "source": [
    "## Load results"
   ]
  },
  {
   "cell_type": "markdown",
   "metadata": {},
   "source": [
    "### ZERO-SHOT"
   ]
  },
  {
   "cell_type": "code",
   "execution_count": 14,
   "metadata": {},
   "outputs": [],
   "source": [
    "preds = {}\n",
    "results_dict_zshot = {}\n",
    "for data_name in result_zero_shot.DATA_NAMES:\n",
    "    results_dict_zshot[data_name] = {}\n",
    "    table_a_serialized, table_b_serialized, X_train_ids, y_train, X_valid_ids, y_valid, X_test_ids, y_test = load_data(os.path.join(import_data.DATA_FOLDER, data_name))\n",
    "    for model_name in result_zero_shot.MODELS:\n",
    "        results_dict_zshot[data_name][model_name] = {}\n",
    "        for order_cols in result_zero_shot.LOAD_OPTIONS['order_cols']:\n",
    "            results_dict_zshot[data_name][model_name][order_cols] = {}\n",
    "            for remove_col_names in result_zero_shot.LOAD_OPTIONS['remove_col_names']:\n",
    "                dir_name = f'{data_name}-zshot/{model_name}-order_cols_{order_cols}-remove_col_names_{remove_col_names}'\n",
    "                logits = pd.read_csv(os.path.join('results', dir_name, 'logits.csv'), names=['idA', 'idB', 'pred'])\n",
    "                with open(os.path.join('results', dir_name, 'train_time.txt'), 'r') as file:\n",
    "                    train_time = float(file.read().strip())\n",
    "                results_dict_zshot[data_name][model_name][order_cols][remove_col_names] = {}\n",
    "                results_dict_zshot[data_name][model_name][order_cols][remove_col_names]['precision'] = precision_score(y_test, logits['pred'].values > THRESHOLD)\n",
    "                results_dict_zshot[data_name][model_name][order_cols][remove_col_names]['recall'] = recall_score(y_test, logits['pred'].values > THRESHOLD)\n",
    "                results_dict_zshot[data_name][model_name][order_cols][remove_col_names]['f1'] = f1_score(y_test, logits['pred'].values > THRESHOLD)\n",
    "                results_dict_zshot[data_name][model_name][order_cols][remove_col_names]['roc_auc'] = roc_auc_score(y_test, logits['pred'].values)\n",
    "                results_dict_zshot[data_name][model_name][order_cols][remove_col_names]['accuracy'] = accuracy_score(y_test, logits['pred'].values > THRESHOLD)\n",
    "                results_dict_zshot[data_name][model_name][order_cols][remove_col_names]['confusion_matrix'] = confusion_matrix(y_test, logits['pred'].values > THRESHOLD)\n",
    "                fpr, tpr, _ = roc_curve(y_test, logits['pred'].values)\n",
    "                results_dict_zshot[data_name][model_name][order_cols][remove_col_names]['roc_curve'] = (fpr, tpr, auc(fpr, tpr))\n",
    "                results_dict_zshot[data_name][model_name][order_cols][remove_col_names]['logits'] = logits\n",
    "                results_dict_zshot[data_name][model_name][order_cols][remove_col_names]['train_time'] = train_time"
   ]
  },
  {
   "cell_type": "markdown",
   "metadata": {},
   "source": [
    "### FEW-SHOT"
   ]
  },
  {
   "cell_type": "markdown",
   "metadata": {},
   "source": [
    "### CROSS-ENCODER"
   ]
  },
  {
   "cell_type": "code",
   "execution_count": 15,
   "metadata": {},
   "outputs": [],
   "source": [
    "preds = {}\n",
    "results_dict_cross = {}\n",
    "for data_name in result_sberts.DATA_NAMES:\n",
    "    results_dict_cross[data_name] = {}\n",
    "    table_a_serialized, table_b_serialized, X_train_ids, y_train, X_valid_ids, y_valid, X_test_ids, y_test = load_data(os.path.join(import_data.DATA_FOLDER, data_name))\n",
    "    for model_name in result_sberts.MODELS:\n",
    "        if model_name == 'cross-encoder/stsb-roberta-large': continue\n",
    "        results_dict_cross[data_name][model_name] = {}\n",
    "        for order_cols in result_sberts.LOAD_OPTIONS['order_cols']:\n",
    "            results_dict_cross[data_name][model_name][order_cols] = {}\n",
    "            for remove_col_names in result_sberts.LOAD_OPTIONS['remove_col_names']:\n",
    "                dir_name = f'{data_name}-{model_name}-order_cols_{order_cols}-remove_col_names_{remove_col_names}'\n",
    "                logits = pd.read_csv(os.path.join('results', dir_name, 'logits.csv'), names=['idA', 'idB', 'pred'])\n",
    "                with open(os.path.join('results', dir_name, 'train_time.txt'), 'r') as file:\n",
    "                    train_time = float(file.read().strip())\n",
    "                results_dict_cross[data_name][model_name][order_cols][remove_col_names] = {}\n",
    "                results_dict_cross[data_name][model_name][order_cols][remove_col_names]['precision'] = precision_score(y_test, logits['pred'].values > result_sberts.threshold)\n",
    "                results_dict_cross[data_name][model_name][order_cols][remove_col_names]['recall'] = recall_score(y_test, logits['pred'].values > result_sberts.threshold)\n",
    "                results_dict_cross[data_name][model_name][order_cols][remove_col_names]['f1'] = f1_score(y_test, logits['pred'].values > result_sberts.threshold)\n",
    "                results_dict_cross[data_name][model_name][order_cols][remove_col_names]['roc_auc'] = roc_auc_score(y_test, logits['pred'].values)\n",
    "                results_dict_cross[data_name][model_name][order_cols][remove_col_names]['accuracy'] = accuracy_score(y_test, logits['pred'].values > result_sberts.threshold)\n",
    "                results_dict_cross[data_name][model_name][order_cols][remove_col_names]['confusion_matrix'] = confusion_matrix(y_test, logits['pred'].values > result_sberts.threshold)\n",
    "                fpr, tpr, _ = roc_curve(y_test, logits['pred'].values)\n",
    "                results_dict_cross[data_name][model_name][order_cols][remove_col_names]['roc_curve'] = (fpr, tpr, auc(fpr, tpr))\n",
    "                results_dict_cross[data_name][model_name][order_cols][remove_col_names]['logits'] = logits\n",
    "                results_dict_cross[data_name][model_name][order_cols][remove_col_names]['train_time'] = train_time"
   ]
  },
  {
   "cell_type": "markdown",
   "metadata": {},
   "source": [
    "### BERT"
   ]
  },
  {
   "cell_type": "code",
   "execution_count": 16,
   "metadata": {},
   "outputs": [
    {
     "name": "stderr",
     "output_type": "stream",
     "text": [
      "/Users/ttperr/Documents/Code/Pro/Work/WavER/venv/lib/python3.12/site-packages/sklearn/metrics/_classification.py:1565: UndefinedMetricWarning: Precision is ill-defined and being set to 0.0 due to no predicted samples. Use `zero_division` parameter to control this behavior.\n",
      "  _warn_prf(average, modifier, f\"{metric.capitalize()} is\", len(result))\n",
      "/Users/ttperr/Documents/Code/Pro/Work/WavER/venv/lib/python3.12/site-packages/sklearn/metrics/_classification.py:1565: UndefinedMetricWarning: Precision is ill-defined and being set to 0.0 due to no predicted samples. Use `zero_division` parameter to control this behavior.\n",
      "  _warn_prf(average, modifier, f\"{metric.capitalize()} is\", len(result))\n",
      "/Users/ttperr/Documents/Code/Pro/Work/WavER/venv/lib/python3.12/site-packages/sklearn/metrics/_classification.py:1565: UndefinedMetricWarning: Precision is ill-defined and being set to 0.0 due to no predicted samples. Use `zero_division` parameter to control this behavior.\n",
      "  _warn_prf(average, modifier, f\"{metric.capitalize()} is\", len(result))\n"
     ]
    }
   ],
   "source": [
    "preds = {}\n",
    "results_dict_bert = {}\n",
    "for data_name in result_berts.DATA_NAMES:\n",
    "    results_dict_bert[data_name] = {}\n",
    "    table_a_serialized, table_b_serialized, X_train_ids, y_train, X_valid_ids, y_valid, X_test_ids, y_test = load_data(os.path.join(import_data.DATA_FOLDER, data_name))\n",
    "    for model_name in result_berts.MODELS:\n",
    "        results_dict_bert[data_name][model_name] = {}\n",
    "        for order_cols in result_berts.LOAD_OPTIONS['order_cols']:\n",
    "            results_dict_bert[data_name][model_name][order_cols] = {}\n",
    "            for remove_col_names in result_berts.LOAD_OPTIONS['remove_col_names']:\n",
    "                dir_name = f'{data_name}-berts/{model_name}-order_cols_{order_cols}-remove_col_names_{remove_col_names}'\n",
    "                logits = pd.read_csv(os.path.join('results', dir_name, 'logits.csv'), names=['idA', 'idB', 'pred'])\n",
    "                with open(os.path.join('results', dir_name, 'train_time.txt'), 'r') as file:\n",
    "                    train_time = float(file.read().strip())\n",
    "                results_dict_bert[data_name][model_name][order_cols][remove_col_names] = {}\n",
    "                results_dict_bert[data_name][model_name][order_cols][remove_col_names]['precision'] = precision_score(y_test, logits['pred'].values > result_berts.threshold)\n",
    "                results_dict_bert[data_name][model_name][order_cols][remove_col_names]['recall'] = recall_score(y_test, logits['pred'].values > result_berts.threshold)\n",
    "                results_dict_bert[data_name][model_name][order_cols][remove_col_names]['f1'] = f1_score(y_test, logits['pred'].values > result_berts.threshold)\n",
    "                results_dict_bert[data_name][model_name][order_cols][remove_col_names]['roc_auc'] = roc_auc_score(y_test, logits['pred'].values)\n",
    "                results_dict_bert[data_name][model_name][order_cols][remove_col_names]['accuracy'] = accuracy_score(y_test, logits['pred'].values > result_berts.threshold)\n",
    "                results_dict_bert[data_name][model_name][order_cols][remove_col_names]['confusion_matrix'] = confusion_matrix(y_test, logits['pred'].values > result_berts.threshold)\n",
    "                fpr, tpr, _ = roc_curve(y_test, logits['pred'].values)\n",
    "                results_dict_bert[data_name][model_name][order_cols][remove_col_names]['roc_curve'] = (fpr, tpr, auc(fpr, tpr))\n",
    "                results_dict_bert[data_name][model_name][order_cols][remove_col_names]['logits'] = logits\n",
    "                results_dict_bert[data_name][model_name][order_cols][remove_col_names]['train_time'] = train_time"
   ]
  },
  {
   "cell_type": "markdown",
   "metadata": {},
   "source": [
    "### BLOCKING"
   ]
  },
  {
   "cell_type": "code",
   "execution_count": 17,
   "metadata": {},
   "outputs": [],
   "source": [
    "preds = {}\n",
    "results_dict_blocking = {}\n",
    "for data_name in result_blocking.DATA_NAMES:\n",
    "    results_dict_blocking[data_name] = {}\n",
    "    table_a_serialized, table_b_serialized, X_train_ids, y_train, X_valid_ids, y_valid, X_test_ids, y_test = load_data(os.path.join(import_data.DATA_FOLDER, data_name))\n",
    "    all_true_matches = merge_true_matches(X_train_ids, y_train, X_valid_ids, y_valid, X_test_ids, y_test)\n",
    "    for model_name in result_blocking.MODELS:\n",
    "        results_dict_blocking[data_name][model_name] = {}\n",
    "        for order_cols in result_blocking.LOAD_OPTIONS['order_cols']:\n",
    "            results_dict_blocking[data_name][model_name][order_cols] = {}\n",
    "            for remove_col_names in result_blocking.LOAD_OPTIONS['remove_col_names']:\n",
    "                results_dict_blocking[data_name][model_name][order_cols][remove_col_names] = {}\n",
    "                for K in result_blocking.K_s:\n",
    "                    dir_name = f'{data_name}-blocking/{model_name}-order_cols_{order_cols}-remove_col_names_{remove_col_names}-K_{K}'\n",
    "                    pairs = []\n",
    "                    with open(os.path.join('results', dir_name, 'pairs.txt'), 'r') as f:\n",
    "                        for line in f:\n",
    "                            pairs.append([int(x) for x in line.strip().split(',')])\n",
    "                \n",
    "                    reduction_ratio, recall, f1 = get_blocking_metrics(pairs, all_true_matches, len(table_a_serialized), len(table_b_serialized))\n",
    "                    \n",
    "                    results_dict_blocking[data_name][model_name][order_cols][remove_col_names][K] = {\n",
    "                        'reduction_ratio': reduction_ratio,\n",
    "                        'recall': recall,\n",
    "                        'f1': f1\n",
    "                    }\n",
    "                    "
   ]
  },
  {
   "cell_type": "markdown",
   "metadata": {},
   "source": [
    "## Visualize results"
   ]
  },
  {
   "cell_type": "code",
   "execution_count": 42,
   "metadata": {},
   "outputs": [
    {
     "name": "stdout",
     "output_type": "stream",
     "text": [
      "0.9034749034749034\n"
     ]
    },
    {
     "data": {
      "image/png": "[encoded data removed]",
      "text/plain": [
       "<Figure size 1000x800 with 1 Axes>"
      ]
     },
     "metadata": {},
     "output_type": "display_data"
    }
   ],
   "source": [
    "data_name = 'amazon-google'\n",
    "order_cols = False\n",
    "remove_col_names = True\n",
    "\n",
    "f1_score_cross_roberta_base = results_dict_cross[data_name]['cross-encoder/stsb-roberta-base'][order_cols][remove_col_names]['f1']\n",
    "f1_score_cross_distilbert = results_dict_cross[data_name]['cross-encoder/stsb-distilroberta-base'][order_cols][remove_col_names]['f1']\n",
    "\n",
    "print(f1_score_cross_roberta_base)\n",
    "\n",
    "f1_score_bert_roberta_base = results_dict_bert[data_name]['roberta-base'][order_cols][remove_col_names]['f1']\n",
    "f1_score_bert_distilbert = results_dict_bert[data_name]['distilroberta-base'][order_cols][remove_col_names]['f1']\n",
    "\n",
    "plt.figure(figsize=(10, 8))\n",
    "index = ['RoBERTa Base', 'DistilRoBERTa']\n",
    "\n",
    "plt.bar(\n",
    "    index,\n",
    "    [f1_score_cross_roberta_base, f1_score_cross_distilbert],\n",
    "    color='#4BF06A',\n",
    "    label='Cross-Encoder'\n",
    ")\n",
    "plt.bar(\n",
    "    index,\n",
    "    [f1_score_bert_roberta_base, f1_score_bert_distilbert],\n",
    "    color='#331592',\n",
    "    label='SBERTs'\n",
    ")\n",
    "plt.axhline(y=0.8521, color='red', linestyle='--', label='Best State of Art result with LLM inference')\n",
    "plt.xlabel('Model')\n",
    "plt.ylabel('F1 Score')\n",
    "plt.title(f'F1 Score for {data_name} with order_cols={order_cols} and remove_col_names={remove_col_names}')\n",
    "plt.xticks(range(len(index)), index)\n",
    "plt.legend(loc='lower right')\n",
    "plt.show()"
   ]
  },
  {
   "cell_type": "code",
   "execution_count": 40,
   "metadata": {},
   "outputs": [
    {
     "name": "stdout",
     "output_type": "stream",
     "text": [
      "Best F1 scores for Zero-Shot models:\n",
      "fodors-zagats - all-mpnet-base-v2: 0.5945945945945946\n",
      "fodors-zagats - sentence-transformers/multi-qa-mpnet-base-dot-v1: 0.46808510638297873\n",
      "amazon-google - all-mpnet-base-v2: 0.6523076923076923\n",
      "amazon-google - sentence-transformers/multi-qa-mpnet-base-dot-v1: 0.5502645502645502\n",
      "abt-buy - all-mpnet-base-v2: 0.43103448275862066\n",
      "abt-buy - sentence-transformers/multi-qa-mpnet-base-dot-v1: 0.39106145251396646\n",
      "\n",
      "Best F1 scores for Cross-Encoder models:\n",
      "fodors-zagats - cross-encoder/stsb-roberta-base: 1.0\n",
      "fodors-zagats - cross-encoder/stsb-distilroberta-base: 1.0\n",
      "fodors-zagats - cross-encoder/ms-marco-MiniLM-L-12-v2: 1.0\n",
      "amazon-google - cross-encoder/stsb-roberta-base: 0.9034749034749034\n",
      "amazon-google - cross-encoder/stsb-distilroberta-base: 0.8484848484848485\n",
      "amazon-google - cross-encoder/ms-marco-MiniLM-L-12-v2: 0.8487084870848709\n",
      "abt-buy - cross-encoder/stsb-roberta-base: 0.9488372093023256\n",
      "abt-buy - cross-encoder/stsb-distilroberta-base: 0.9302325581395349\n",
      "abt-buy - cross-encoder/ms-marco-MiniLM-L-12-v2: 0.9014084507042254\n",
      "\n",
      "Best F1 scores for BERT models:\n",
      "fodors-zagats - roberta-base: 1.0\n",
      "fodors-zagats - distilroberta-base: 1.0\n",
      "fodors-zagats - bert-base-uncased: 1.0\n",
      "amazon-google - roberta-base: 0.8235294117647058\n",
      "amazon-google - distilroberta-base: 0.7685589519650655\n",
      "amazon-google - bert-base-uncased: 0.7936507936507936\n",
      "abt-buy - roberta-base: 0.9049773755656109\n",
      "abt-buy - distilroberta-base: 0.9082125603864735\n",
      "abt-buy - bert-base-uncased: 0.8858447488584474\n",
      "\n",
      "Best F1 scores for Blocking models:\n",
      "fodors-zagats - sentence-transformers/allenai-specter: 0\n",
      "fodors-zagats - all-distilroberta-v1: 0\n",
      "fodors-zagats - all-mpnet-base-v2: 0\n",
      "fodors-zagats - multi-qa-mpnet-base-dot-v1: 0\n",
      "amazon-google - sentence-transformers/allenai-specter: 0\n",
      "amazon-google - all-distilroberta-v1: 0\n",
      "amazon-google - all-mpnet-base-v2: 0\n",
      "amazon-google - multi-qa-mpnet-base-dot-v1: 0\n",
      "abt-buy - sentence-transformers/allenai-specter: 0\n",
      "abt-buy - all-distilroberta-v1: 0\n",
      "abt-buy - all-mpnet-base-v2: 0\n",
      "abt-buy - multi-qa-mpnet-base-dot-v1: 0\n"
     ]
    }
   ],
   "source": [
    "def get_best_f1_score(results_dict):\n",
    "    best_f1_scores = {}\n",
    "    for data_name, models in results_dict.items():\n",
    "        best_f1_scores[data_name] = {}\n",
    "        for model_name, configs in models.items():\n",
    "            best_f1 = 0\n",
    "            for order_cols, remove_cols_dict in configs.items():\n",
    "                for remove_col_names, metrics in remove_cols_dict.items():\n",
    "                    if 'f1' in metrics and metrics['f1'] > best_f1:\n",
    "                        best_f1 = metrics['f1']\n",
    "            best_f1_scores[data_name][model_name] = best_f1\n",
    "    return best_f1_scores\n",
    "\n",
    "best_f1_scores_zshot = get_best_f1_score(results_dict_zshot)\n",
    "best_f1_scores_cross = get_best_f1_score(results_dict_cross)\n",
    "best_f1_scores_bert = get_best_f1_score(results_dict_bert)\n",
    "best_f1_scores_blocking = get_best_f1_score(results_dict_blocking)\n",
    "\n",
    "print(\"Best F1 scores for Zero-Shot models:\")\n",
    "for data_name, models in best_f1_scores_zshot.items():\n",
    "    for model_name, f1_score in models.items():\n",
    "        print(f\"{data_name} - {model_name}: {f1_score}\")\n",
    "\n",
    "print(\"\\nBest F1 scores for Cross-Encoder models:\")\n",
    "for data_name, models in best_f1_scores_cross.items():\n",
    "    for model_name, f1_score in models.items():\n",
    "        print(f\"{data_name} - {model_name}: {f1_score}\")\n",
    "\n",
    "print(\"\\nBest F1 scores for BERT models:\")\n",
    "for data_name, models in best_f1_scores_bert.items():\n",
    "    for model_name, f1_score in models.items():\n",
    "        print(f\"{data_name} - {model_name}: {f1_score}\")\n",
    "\n",
    "print(\"\\nBest F1 scores for Blocking models:\")\n",
    "for data_name, models in best_f1_scores_blocking.items():\n",
    "    for model_name, f1_score in models.items():\n",
    "        print(f\"{data_name} - {model_name}: {f1_score}\")"
   ]
  }
 ],
 "metadata": {
  "kernelspec": {
   "display_name": "venv",
   "language": "python",
   "name": "python3"
  },
  "language_info": {
   "codemirror_mode": {
    "name": "ipython",
    "version": 3
   },
   "file_extension": ".py",
   "mimetype": "text/x-python",
   "name": "python",
   "nbconvert_exporter": "python",
   "pygments_lexer": "ipython3",
   "version": "3.12.4"
  }
 },
 "nbformat": 4,
 "nbformat_minor": 2
}

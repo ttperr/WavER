{
 "cells": [
  {
   "cell_type": "markdown",
   "metadata": {},
   "source": [
    "# Entity Resolution project @ Wavestone\n",
    "## Entity Matching - Zero shot\n",
    "\n",
    "> *Datasets information from [here](https://data.dws.informatik.uni-mannheim.de/benchmarkmatchingtasks/index.html)*\n",
    "\n",
    "> **Tristan PERROT**\n"
   ]
  },
  {
   "cell_type": "markdown",
   "metadata": {},
   "source": [
    "## Import libraries\n"
   ]
  },
  {
   "cell_type": "code",
   "execution_count": 1,
   "metadata": {},
   "outputs": [],
   "source": [
    "%load_ext autoreload\n",
    "%autoreload 2"
   ]
  },
  {
   "cell_type": "code",
   "execution_count": 1,
   "metadata": {},
   "outputs": [
    {
     "name": "stdout",
     "output_type": "stream",
     "text": [
      "Using device: cuda\n"
     ]
    }
   ],
   "source": [
    "import os\n",
    "\n",
    "import torch\n",
    "\n",
    "device = torch.device('cuda' if torch.cuda.is_available() else 'cpu')\n",
    "print(f'Using device: {device}')"
   ]
  },
  {
   "cell_type": "code",
   "execution_count": 2,
   "metadata": {},
   "outputs": [],
   "source": [
    "while 'model' not in os.listdir():\n",
    "    os.chdir('..')"
   ]
  },
  {
   "cell_type": "code",
   "execution_count": 3,
   "metadata": {},
   "outputs": [],
   "source": [
    "MODEL_NAME = ''\n",
    "DATA_NAME = 'amazon-google'\n",
    "COMPUTER = 'gpu4.enst.fr:' + str(device)[-1:]\n",
    "DATA_DIR = os.path.join('data', DATA_NAME)"
   ]
  },
  {
   "cell_type": "markdown",
   "metadata": {},
   "source": [
    "## Pre-processing"
   ]
  },
  {
   "cell_type": "code",
   "execution_count": 4,
   "metadata": {},
   "outputs": [
    {
     "name": "stderr",
     "output_type": "stream",
     "text": [
      "/home/jovyan/.local/lib/python3.10/site-packages/transformers/utils/hub.py:128: FutureWarning: Using `TRANSFORMERS_CACHE` is deprecated and will be removed in v5 of Transformers. Use `HF_HOME` instead.\n",
      "  warnings.warn(\n",
      "/opt/conda/lib/python3.10/site-packages/torchvision/io/image.py:13: UserWarning: Failed to load image Python extension: '/opt/conda/lib/python3.10/site-packages/torchvision/image.so: undefined symbol: _ZN3c1017RegisterOperatorsD1Ev'If you don't plan on using image functionality from `torchvision.io`, you can ignore this warning. Otherwise, there might be something wrong with your environment. Did you have `libjpeg` or `libpng` installed before building `torchvision` from source?\n",
      "  warn(\n",
      "2025-02-07 11:46:03.854190: I tensorflow/core/util/port.cc:113] oneDNN custom operations are on. You may see slightly different numerical results due to floating-point round-off errors from different computation orders. To turn them off, set the environment variable `TF_ENABLE_ONEDNN_OPTS=0`.\n",
      "2025-02-07 11:46:03.882837: E external/local_xla/xla/stream_executor/cuda/cuda_dnn.cc:9261] Unable to register cuDNN factory: Attempting to register factory for plugin cuDNN when one has already been registered\n",
      "2025-02-07 11:46:03.882850: E external/local_xla/xla/stream_executor/cuda/cuda_fft.cc:607] Unable to register cuFFT factory: Attempting to register factory for plugin cuFFT when one has already been registered\n",
      "2025-02-07 11:46:03.883603: E external/local_xla/xla/stream_executor/cuda/cuda_blas.cc:1515] Unable to register cuBLAS factory: Attempting to register factory for plugin cuBLAS when one has already been registered\n",
      "2025-02-07 11:46:03.888743: I tensorflow/core/platform/cpu_feature_guard.cc:182] This TensorFlow binary is optimized to use available CPU instructions in performance-critical operations.\n",
      "To enable the following instructions: AVX2 AVX512F AVX512_VNNI AVX512_BF16 AVX_VNNI AMX_TILE AMX_INT8 AMX_BF16 FMA, in other operations, rebuild TensorFlow with the appropriate compiler flags.\n"
     ]
    }
   ],
   "source": [
    "import time\n",
    "\n",
    "import matplotlib.pyplot as plt\n",
    "import numpy as np\n",
    "import seaborn as sns\n",
    "import torch.nn as nn\n",
    "from datasets import Dataset\n",
    "from sentence_transformers import (CrossEncoder, InputExample,\n",
    "                                   SentencesDataset, SentenceTransformer,\n",
    "                                   SentenceTransformerTrainer,\n",
    "                                   SentenceTransformerTrainingArguments,\n",
    "                                   losses, util)\n",
    "from sentence_transformers.cross_encoder.evaluation import \\\n",
    "    CEBinaryClassificationEvaluator\n",
    "from sklearn.metrics import (classification_report, confusion_matrix, f1_score,\n",
    "                             precision_score, recall_score, roc_auc_score,\n",
    "                             roc_curve)\n",
    "from sklearn.metrics.pairwise import cosine_similarity\n",
    "from sklearn.mixture import GaussianMixture\n",
    "from torch.nn import BCEWithLogitsLoss\n",
    "from torch.utils.data import DataLoader\n",
    "from tqdm import tqdm\n",
    "\n",
    "from model.utils import load_data"
   ]
  },
  {
   "cell_type": "code",
   "execution_count": 5,
   "metadata": {},
   "outputs": [],
   "source": [
    "table_a_serialized, table_b_serialized, X_train_ids, y_train, X_valid_ids, y_valid, X_test_ids, y_test = load_data(DATA_DIR, order_cols=True)"
   ]
  },
  {
   "cell_type": "code",
   "execution_count": 6,
   "metadata": {},
   "outputs": [],
   "source": [
    "X1_train, X2_train = [table_a_serialized[i[0]] for i in X_train_ids], [table_b_serialized[i[1]] for i in X_train_ids]\n",
    "X1_valid, X2_valid = [table_a_serialized[i[0]] for i in X_valid_ids], [table_b_serialized[i[1]] for i in X_valid_ids]\n",
    "X1_test, X2_test = [table_a_serialized[i[0]] for i in X_test_ids], [table_b_serialized[i[1]] for i in X_test_ids]"
   ]
  },
  {
   "cell_type": "code",
   "execution_count": 7,
   "metadata": {},
   "outputs": [
    {
     "name": "stdout",
     "output_type": "stream",
     "text": [
      "Sample 0:\n",
      "Entity1: [COL] price [VAL] 229.99 [COL] manufacturer [VAL] microsoft [COL] name [VAL] microsoft powerpoint 2004 (mac) [COL] description [VAL] powerpoint 2004 offers you the powerful advanced new tools needed for fantastic presentations. whether it's for business academic or personal needs you'll design dynamic and visual presentations that stand out and get noticed.\n",
      "Entity2: [COL] price [VAL] 109.95 [COL] manufacturer [VAL]  [COL] name [VAL] microsoft office outlook 2007 [COL] description [VAL] key features: manages time and info works with sharepoint enhanced search one-click functionality create internet calendars enhanced security ...\n",
      "Label: 0\n",
      "\n",
      "Sample 1:\n",
      "Entity1: [COL] price [VAL] 499.99 [COL] manufacturer [VAL] sage software [COL] name [VAL] peachtree by sage premium accounting 2007 - accountants' edition [COL] description [VAL] peachtree premium accounting 2007 accountants' edition is the powerful multi-user ready accounting solution accountants need to service their peachtree clients more effectively and efficiently. create open modify and save client files from any member of the peachtree 2007 line plus handle complex tasks such as company consolidation compensation management and comprehensive budgeting. converts quicken and quickbooks data to peachtree (from 1999-2005) restore backed-up client data plus web transactions and customized forms e-mail forms and reports -- get invoices out faster save money on postage and avoid printing hassles quickly review all your clients' journal entries requires microsoft outlook 2000 2002 or 2003; outlook express 5 or 6; or other mapi compliant e-mail programs included tax forms - 940 941 941b 943 945 w-2 w-3 and over 180 state forms\n",
      "Entity2: [COL] price [VAL] 159.95 [COL] manufacturer [VAL]  [COL] name [VAL] sage software peachtree pro accounting 2007 software for windows tax & finance software [COL] description [VAL] peachtree pro accounting 2007 software for windows the peachtree pro accounting 2007 software for windows from sage software is an accounting software solution designed for small businesses with basic accounting payroll and inventory needs. the ...\n",
      "Label: 0\n",
      "\n",
      "Sample 2:\n",
      "Entity1: [COL] price [VAL] 71.31 [COL] manufacturer [VAL] detto technologies inc [COL] name [VAL] detto move2mac usb [COL] description [VAL] move2mac is a complete solution for moving information from pc to mac -- all your music photos files and folders are moved easily!\n",
      "Entity2: [COL] price [VAL] 45.97 [COL] manufacturer [VAL]  [COL] name [VAL] punch software 25100 - punch! master landscape & home design - architectural - 1 user(s) - pc [COL] description [VAL] punch software 25100 : punch! master landscape & home design includes an extensive sortable plantings library organized by nursery-standard zones. deck home exterior topography and other options add realism. new technology allows you to integrate ...\n",
      "Label: 0\n",
      "\n",
      "Sample 3:\n",
      "Entity1: [COL] price [VAL] 399.0 [COL] manufacturer [VAL] adobe [COL] name [VAL] adobe cs3 design standard macosx dvd [COL] description [VAL] design std cs3 3 mac ed 1u\n",
      "Entity2: [COL] price [VAL] 825.99 [COL] manufacturer [VAL]  [COL] name [VAL] adobe premiere pro cs3 [COL] description [VAL] multicore intel® processor (adobe® onlocation? cs3 is a windows application that may be used on macintosh using boot camp and windows sold separately) mac os x v.10.4.9 1gb of ram for dv; 2gb of ram for hdv and hd 10gb of available hard-disk space ...\n",
      "Label: 0\n",
      "\n",
      "Sample 4:\n",
      "Entity1: [COL] price [VAL] 349.0 [COL] manufacturer [VAL] microsoft [COL] name [VAL] microsoft mappoint 2006 with gps [COL] description [VAL] microsoft mappoint 2006 helps business users to visualize analyze and communicate data. it includes updated geographic and demographic data plus text and voice-prompted driving guidance. make it easier for organizations to visualize their business in a whole new way. getting to meetings and customers is easy; just plug it into your laptop and go! mappoint 2006 with gps locator combines complete business mapping and analysis software with the latest global positioning system (gps) receiver. you'll always know where you are and where your next turn is -- in real time. your location will appear on the map quickly and will stay on the map even in the midst of urban canyons heavy foliage and frequently even indoors.\n",
      "Entity2: [COL] price [VAL] 79.95 [COL] manufacturer [VAL]  [COL] name [VAL] microsoft onenote 2007 upgrade (pc) [COL] description [VAL] key features: professional content share your documents business integration better manage content owner's instructions...\n",
      "Label: 0\n",
      "\n"
     ]
    }
   ],
   "source": [
    "# Display the first 5 samples of the training set\n",
    "for i in range(5):\n",
    "    print(f'Sample {i}:')\n",
    "    print(f'Entity1: {X1_train[i]}')\n",
    "    print(f'Entity2: {X2_train[i]}')\n",
    "    print(f'Label: {y_train[i]}')\n",
    "    print()"
   ]
  },
  {
   "cell_type": "markdown",
   "metadata": {},
   "source": [
    "## Zero Shot Prediction"
   ]
  },
  {
   "cell_type": "code",
   "execution_count": 8,
   "metadata": {},
   "outputs": [],
   "source": [
    "MODEL_NAME = 'all-mpnet-base-v2'"
   ]
  },
  {
   "cell_type": "code",
   "execution_count": 9,
   "metadata": {},
   "outputs": [
    {
     "data": {
      "application/vnd.jupyter.widget-view+json": {
       "model_id": "8ab19a54eda94a788681412c089572b9",
       "version_major": 2,
       "version_minor": 0
      },
      "text/plain": [
       "config.json:   0%|          | 0.00/571 [00:00<?, ?B/s]"
      ]
     },
     "metadata": {},
     "output_type": "display_data"
    },
    {
     "data": {
      "application/vnd.jupyter.widget-view+json": {
       "model_id": "0e6f66f2f7b943169af9810e694918e1",
       "version_major": 2,
       "version_minor": 0
      },
      "text/plain": [
       "model.safetensors:   0%|          | 0.00/438M [00:00<?, ?B/s]"
      ]
     },
     "metadata": {},
     "output_type": "display_data"
    },
    {
     "data": {
      "application/vnd.jupyter.widget-view+json": {
       "model_id": "b7e676ab0c02421581e35039e6112248",
       "version_major": 2,
       "version_minor": 0
      },
      "text/plain": [
       "tokenizer_config.json:   0%|          | 0.00/363 [00:00<?, ?B/s]"
      ]
     },
     "metadata": {},
     "output_type": "display_data"
    },
    {
     "data": {
      "application/vnd.jupyter.widget-view+json": {
       "model_id": "ff5dd94a88be4ccbac97107cf569a7a3",
       "version_major": 2,
       "version_minor": 0
      },
      "text/plain": [
       "vocab.txt:   0%|          | 0.00/232k [00:00<?, ?B/s]"
      ]
     },
     "metadata": {},
     "output_type": "display_data"
    },
    {
     "data": {
      "application/vnd.jupyter.widget-view+json": {
       "model_id": "5735715dfd9c470c9f7c5a5236c36bd5",
       "version_major": 2,
       "version_minor": 0
      },
      "text/plain": [
       "tokenizer.json:   0%|          | 0.00/466k [00:00<?, ?B/s]"
      ]
     },
     "metadata": {},
     "output_type": "display_data"
    },
    {
     "data": {
      "application/vnd.jupyter.widget-view+json": {
       "model_id": "26baac4bfc6048d995b0f2231622678f",
       "version_major": 2,
       "version_minor": 0
      },
      "text/plain": [
       "special_tokens_map.json:   0%|          | 0.00/239 [00:00<?, ?B/s]"
      ]
     },
     "metadata": {},
     "output_type": "display_data"
    }
   ],
   "source": [
    "model = SentenceTransformer(MODEL_NAME, device=device)"
   ]
  },
  {
   "cell_type": "code",
   "execution_count": 10,
   "metadata": {},
   "outputs": [
    {
     "data": {
      "application/vnd.jupyter.widget-view+json": {
       "model_id": "43003c198169451082f72254e1974d1c",
       "version_major": 2,
       "version_minor": 0
      },
      "text/plain": [
       "Batches:   0%|          | 0/27 [00:00<?, ?it/s]"
      ]
     },
     "metadata": {},
     "output_type": "display_data"
    },
    {
     "data": {
      "application/vnd.jupyter.widget-view+json": {
       "model_id": "8ae5d73ff09a4cb08ff223bc802f8ead",
       "version_major": 2,
       "version_minor": 0
      },
      "text/plain": [
       "Batches:   0%|          | 0/27 [00:00<?, ?it/s]"
      ]
     },
     "metadata": {},
     "output_type": "display_data"
    }
   ],
   "source": [
    "embedding1_test = model.encode(X1_test, show_progress_bar=True)\n",
    "embedding2_test = model.encode(X2_test, show_progress_bar=True)"
   ]
  },
  {
   "cell_type": "code",
   "execution_count": 11,
   "metadata": {},
   "outputs": [],
   "source": [
    "similarity_test_zero = cosine_similarity(embedding1_test, embedding2_test)"
   ]
  },
  {
   "cell_type": "code",
   "execution_count": 12,
   "metadata": {},
   "outputs": [
    {
     "name": "stdout",
     "output_type": "stream",
     "text": [
      "(836, 836)\n"
     ]
    }
   ],
   "source": [
    "print(similarity_test_zero.shape)"
   ]
  },
  {
   "cell_type": "code",
   "execution_count": 13,
   "metadata": {},
   "outputs": [
    {
     "name": "stdout",
     "output_type": "stream",
     "text": [
      "              precision    recall  f1-score   support\n",
      "\n",
      "           0       0.94      0.91      0.93       708\n",
      "           1       0.58      0.70      0.64       128\n",
      "\n",
      "    accuracy                           0.88       836\n",
      "   macro avg       0.76      0.81      0.78       836\n",
      "weighted avg       0.89      0.88      0.88       836\n",
      "\n"
     ]
    }
   ],
   "source": [
    "# Set a similarity threshold\n",
    "threshold = 0.70\n",
    "\n",
    "y_pred = np.zeros_like(y_test)\n",
    "\n",
    "for i in range(len(y_test)):\n",
    "    if similarity_test_zero[i,i] > threshold:\n",
    "        y_pred[i] = 1\n",
    "\n",
    "\n",
    "# Classification report\n",
    "print(classification_report(y_test, y_pred))"
   ]
  },
  {
   "cell_type": "code",
   "execution_count": 14,
   "metadata": {},
   "outputs": [
    {
     "data": {
      "image/png": "[encoded data removed]",
      "text/plain": [
       "<Figure size 700x500 with 2 Axes>"
      ]
     },
     "metadata": {},
     "output_type": "display_data"
    }
   ],
   "source": [
    "# Confusion matrix\n",
    "plt.figure(figsize=(7, 5))\n",
    "sns.heatmap(confusion_matrix(y_test, y_pred), annot=True, fmt='d', cmap='Blues')\n",
    "plt.xlabel('Predicted label')\n",
    "plt.ylabel('True label')\n",
    "plt.title('Confusion matrix Zero-shot')\n",
    "plt.show()"
   ]
  },
  {
   "cell_type": "markdown",
   "metadata": {},
   "source": [
    "## Few Shot Prediction"
   ]
  },
  {
   "cell_type": "code",
   "execution_count": 15,
   "metadata": {},
   "outputs": [
    {
     "name": "stdout",
     "output_type": "stream",
     "text": [
      "0\n"
     ]
    }
   ],
   "source": [
    "os.environ['CUDA_VISIBLE_DEVICES'] = \"0\"\n",
    "print(os.environ['CUDA_VISIBLE_DEVICES'])"
   ]
  },
  {
   "cell_type": "code",
   "execution_count": 16,
   "metadata": {},
   "outputs": [],
   "source": [
    "MODEL_NAME = 'all-mpnet-base-v2'\n",
    "\n",
    "EPOCHS = 5\n",
    "WEIGHT_DECAY = 0.01\n",
    "LEARNING_RATE = 5e-5\n",
    "BATCH_SIZE = 16\n",
    "ADAM_EPSILON = 1e-8\n",
    "\n",
    "TRUE_SAMPLES_SIZE = 5\n",
    "FALSE_SAMPLES_SIZE = 5"
   ]
  },
  {
   "cell_type": "code",
   "execution_count": 17,
   "metadata": {},
   "outputs": [],
   "source": [
    "model = SentenceTransformer(MODEL_NAME, device=device)"
   ]
  },
  {
   "cell_type": "code",
   "execution_count": 18,
   "metadata": {},
   "outputs": [
    {
     "data": {
      "text/html": [
       "\n",
       "    <div>\n",
       "      \n",
       "      <progress value='5' max='5' style='width:300px; height:20px; vertical-align: middle;'></progress>\n",
       "      [5/5 00:03, Epoch 5/5]\n",
       "    </div>\n",
       "    <table border=\"1\" class=\"dataframe\">\n",
       "  <thead>\n",
       " <tr style=\"text-align: left;\">\n",
       "      <th>Step</th>\n",
       "      <th>Training Loss</th>\n",
       "    </tr>\n",
       "  </thead>\n",
       "  <tbody>\n",
       "  </tbody>\n",
       "</table><p>"
      ],
      "text/plain": [
       "<IPython.core.display.HTML object>"
      ]
     },
     "metadata": {},
     "output_type": "display_data"
    },
    {
     "data": {
      "application/vnd.jupyter.widget-view+json": {
       "model_id": "934c7ae7aa4648f995d8557809e9da35",
       "version_major": 2,
       "version_minor": 0
      },
      "text/plain": [
       "Computing widget examples:   0%|          | 0/1 [00:00<?, ?example/s]"
      ]
     },
     "metadata": {},
     "output_type": "display_data"
    },
    {
     "data": {
      "text/plain": [
       "TrainOutput(global_step=5, training_loss=0.08949801921844483, metrics={'train_runtime': 3.5996, 'train_samples_per_second': 13.89, 'train_steps_per_second': 1.389, 'total_flos': 0.0, 'train_loss': 0.08949801921844483, 'epoch': 5.0})"
      ]
     },
     "execution_count": 18,
     "metadata": {},
     "output_type": "execute_result"
    }
   ],
   "source": [
    "# Select 50 true sample and 50 false samples\n",
    "y_train_np = np.array(y_train)\n",
    "true_samples = np.nonzero(y_train_np)[0]\n",
    "false_samples = np.nonzero(1-y_train_np)[0]\n",
    "\n",
    "np.random.seed(0)\n",
    "true_samples = np.random.choice(true_samples,TRUE_SAMPLES_SIZE)\n",
    "false_samples = np.random.choice(false_samples,FALSE_SAMPLES_SIZE)\n",
    "\n",
    "X1_train_sample = [X1_train[i] for i in true_samples] + [X1_train[i] for i in false_samples]\n",
    "X2_train_sample = [X2_train[i] for i in true_samples] + [X2_train[i] for i in false_samples]\n",
    "y_train_sample = [1]*TRUE_SAMPLES_SIZE + [0]*FALSE_SAMPLES_SIZE\n",
    "\n",
    "\n",
    "dataset = Dataset.from_dict({\n",
    "    'sentence1': X1_train_sample,\n",
    "    'sentence2': X2_train_sample,\n",
    "    'label': y_train_sample\n",
    "})\n",
    "\n",
    "train_dataloader = DataLoader(dataset, shuffle=True, batch_size=BATCH_SIZE, num_workers=0)\n",
    "\n",
    "train_loss = losses.CosineSimilarityLoss(model)\n",
    "\n",
    "warmup_steps = int(len(train_dataloader) * EPOCHS * 0.1)\n",
    "\n",
    "model_path = os.path.join('model', 'fshot', DATA_NAME, MODEL_NAME)\n",
    "\n",
    "training_args = SentenceTransformerTrainingArguments(\n",
    "    output_dir=model_path,\n",
    "    num_train_epochs=EPOCHS,\n",
    "    per_device_train_batch_size=BATCH_SIZE,\n",
    "    per_device_eval_batch_size=BATCH_SIZE,\n",
    "    gradient_accumulation_steps=1,\n",
    "    warmup_steps=warmup_steps,\n",
    "    weight_decay=WEIGHT_DECAY,\n",
    "    learning_rate=LEARNING_RATE,\n",
    "    adam_epsilon=ADAM_EPSILON,\n",
    "    max_grad_norm=1.0,\n",
    "    overwrite_output_dir=True\n",
    ")\n",
    "\n",
    "trainer = SentenceTransformerTrainer(\n",
    "    model=model,\n",
    "    args=training_args,\n",
    "    train_dataset=dataset,\n",
    "    loss=train_loss\n",
    ")\n",
    "\n",
    "trainer.train()"
   ]
  },
  {
   "cell_type": "code",
   "execution_count": 19,
   "metadata": {},
   "outputs": [
    {
     "data": {
      "application/vnd.jupyter.widget-view+json": {
       "model_id": "04192c09675640288a5fbd89538e202b",
       "version_major": 2,
       "version_minor": 0
      },
      "text/plain": [
       "Batches:   0%|          | 0/27 [00:00<?, ?it/s]"
      ]
     },
     "metadata": {},
     "output_type": "display_data"
    },
    {
     "data": {
      "application/vnd.jupyter.widget-view+json": {
       "model_id": "15ccecc03bc54ec1bf1d34d290357dd0",
       "version_major": 2,
       "version_minor": 0
      },
      "text/plain": [
       "Batches:   0%|          | 0/27 [00:00<?, ?it/s]"
      ]
     },
     "metadata": {},
     "output_type": "display_data"
    }
   ],
   "source": [
    "embedding1_test = model.encode(X1_test, show_progress_bar=True)\n",
    "embedding2_test = model.encode(X2_test, show_progress_bar=True)"
   ]
  },
  {
   "cell_type": "code",
   "execution_count": 20,
   "metadata": {},
   "outputs": [],
   "source": [
    "similarity_test_few = cosine_similarity(embedding1_test, embedding2_test)"
   ]
  },
  {
   "cell_type": "code",
   "execution_count": 21,
   "metadata": {},
   "outputs": [
    {
     "name": "stdout",
     "output_type": "stream",
     "text": [
      "              precision    recall  f1-score   support\n",
      "\n",
      "           0       0.93      0.96      0.95       708\n",
      "           1       0.73      0.62      0.67       128\n",
      "\n",
      "    accuracy                           0.91       836\n",
      "   macro avg       0.83      0.79      0.81       836\n",
      "weighted avg       0.90      0.91      0.90       836\n",
      "\n"
     ]
    }
   ],
   "source": [
    "# Set a similarity threshold\n",
    "threshold = 0.70\n",
    "\n",
    "y_pred = np.zeros_like(y_test)\n",
    "\n",
    "for i in range(len(y_test)):\n",
    "    if similarity_test_few[i,i] > threshold:\n",
    "        y_pred[i] = 1\n",
    "\n",
    "\n",
    "# Classification report\n",
    "print(classification_report(y_test, y_pred))"
   ]
  },
  {
   "cell_type": "code",
   "execution_count": 22,
   "metadata": {},
   "outputs": [
    {
     "data": {
      "image/png": "[encoded data removed]",
      "text/plain": [
       "<Figure size 700x500 with 2 Axes>"
      ]
     },
     "metadata": {},
     "output_type": "display_data"
    }
   ],
   "source": [
    "# Confusion matrix\n",
    "plt.figure(figsize=(7, 5))\n",
    "sns.heatmap(confusion_matrix(y_test, y_pred), annot=True, fmt='d', cmap='Blues')\n",
    "plt.xlabel('Predicted label')\n",
    "plt.ylabel('True label')\n",
    "plt.title('Confusion matrix Few-shot')\n",
    "plt.show()"
   ]
  },
  {
   "cell_type": "markdown",
   "metadata": {},
   "source": [
    "## Few Shot Prediction v2"
   ]
  },
  {
   "cell_type": "code",
   "execution_count": 23,
   "metadata": {},
   "outputs": [
    {
     "data": {
      "application/vnd.jupyter.widget-view+json": {
       "model_id": "2b2f8b47911143de95832033cb9eee9c",
       "version_major": 2,
       "version_minor": 0
      },
      "text/plain": [
       "config.json:   0%|          | 0.00/608 [00:00<?, ?B/s]"
      ]
     },
     "metadata": {},
     "output_type": "display_data"
    },
    {
     "data": {
      "application/vnd.jupyter.widget-view+json": {
       "model_id": "1cea6803335e43e3ac182eccb687124b",
       "version_major": 2,
       "version_minor": 0
      },
      "text/plain": [
       "model.safetensors:   0%|          | 0.00/499M [00:00<?, ?B/s]"
      ]
     },
     "metadata": {},
     "output_type": "display_data"
    },
    {
     "data": {
      "application/vnd.jupyter.widget-view+json": {
       "model_id": "a76b79a15fec4dad9f60ab853c8b45f9",
       "version_major": 2,
       "version_minor": 0
      },
      "text/plain": [
       "tokenizer_config.json:   0%|          | 0.00/142 [00:00<?, ?B/s]"
      ]
     },
     "metadata": {},
     "output_type": "display_data"
    },
    {
     "data": {
      "application/vnd.jupyter.widget-view+json": {
       "model_id": "2f5b663d14264cebb4026376a73a9dff",
       "version_major": 2,
       "version_minor": 0
      },
      "text/plain": [
       "vocab.json:   0%|          | 0.00/899k [00:00<?, ?B/s]"
      ]
     },
     "metadata": {},
     "output_type": "display_data"
    },
    {
     "data": {
      "application/vnd.jupyter.widget-view+json": {
       "model_id": "50f10a9e87cf46608c23b2d526e0c4f8",
       "version_major": 2,
       "version_minor": 0
      },
      "text/plain": [
       "merges.txt:   0%|          | 0.00/456k [00:00<?, ?B/s]"
      ]
     },
     "metadata": {},
     "output_type": "display_data"
    },
    {
     "data": {
      "application/vnd.jupyter.widget-view+json": {
       "model_id": "61f4df08867d4a1e9ddf0d4d26b6c732",
       "version_major": 2,
       "version_minor": 0
      },
      "text/plain": [
       "special_tokens_map.json:   0%|          | 0.00/772 [00:00<?, ?B/s]"
      ]
     },
     "metadata": {},
     "output_type": "display_data"
    },
    {
     "data": {
      "application/vnd.jupyter.widget-view+json": {
       "model_id": "75c6166ea88540fbaf220b89c2463c6b",
       "version_major": 2,
       "version_minor": 0
      },
      "text/plain": [
       "Epoch:   0%|          | 0/3 [00:00<?, ?it/s]"
      ]
     },
     "metadata": {},
     "output_type": "display_data"
    },
    {
     "data": {
      "application/vnd.jupyter.widget-view+json": {
       "model_id": "021b6ecf1c5b45a68a88f182948c9338",
       "version_major": 2,
       "version_minor": 0
      },
      "text/plain": [
       "Iteration:   0%|          | 0/1 [00:00<?, ?it/s]"
      ]
     },
     "metadata": {},
     "output_type": "display_data"
    },
    {
     "data": {
      "application/vnd.jupyter.widget-view+json": {
       "model_id": "1cc8b6feaf6147c3811fadc23fb0a5e1",
       "version_major": 2,
       "version_minor": 0
      },
      "text/plain": [
       "Batches:   0%|          | 0/1 [00:00<?, ?it/s]"
      ]
     },
     "metadata": {},
     "output_type": "display_data"
    },
    {
     "name": "stdout",
     "output_type": "stream",
     "text": [
      "Epoch: 1.0, Steps: 0, Loss: -1\n"
     ]
    },
    {
     "data": {
      "application/vnd.jupyter.widget-view+json": {
       "model_id": "0c8b384ac7b840438e66b4b61b9d799b",
       "version_major": 2,
       "version_minor": 0
      },
      "text/plain": [
       "Iteration:   0%|          | 0/1 [00:00<?, ?it/s]"
      ]
     },
     "metadata": {},
     "output_type": "display_data"
    },
    {
     "data": {
      "application/vnd.jupyter.widget-view+json": {
       "model_id": "f47ea0f0b1804e51a710e2b0fd16933d",
       "version_major": 2,
       "version_minor": 0
      },
      "text/plain": [
       "Batches:   0%|          | 0/1 [00:00<?, ?it/s]"
      ]
     },
     "metadata": {},
     "output_type": "display_data"
    },
    {
     "name": "stdout",
     "output_type": "stream",
     "text": [
      "Epoch: 0.9166666666666665, Steps: 1, Loss: -1\n"
     ]
    },
    {
     "data": {
      "application/vnd.jupyter.widget-view+json": {
       "model_id": "019a3577acad4f5fb8a35ed0877bbfda",
       "version_major": 2,
       "version_minor": 0
      },
      "text/plain": [
       "Iteration:   0%|          | 0/1 [00:00<?, ?it/s]"
      ]
     },
     "metadata": {},
     "output_type": "display_data"
    },
    {
     "data": {
      "application/vnd.jupyter.widget-view+json": {
       "model_id": "26a4bc308ae249a38dccf1ebc08ef667",
       "version_major": 2,
       "version_minor": 0
      },
      "text/plain": [
       "Batches:   0%|          | 0/1 [00:00<?, ?it/s]"
      ]
     },
     "metadata": {},
     "output_type": "display_data"
    },
    {
     "name": "stdout",
     "output_type": "stream",
     "text": [
      "Epoch: 0.9166666666666665, Steps: 2, Loss: -1\n",
      "Accuracy: 0.8528708133971292\n",
      "Precision: 0.7272727272727273\n",
      "Recall: 0.0625\n",
      "F1 score: 0.11510791366906475\n",
      "ROC AUC: 0.7930790960451978\n"
     ]
    }
   ],
   "source": [
    "from model.CrossEncoderModel import fit_cross_encoder, prepare_data_cross_encoder, evaluate_cross_encoder\n",
    "\n",
    "import time\n",
    "\n",
    "import torch.nn as nn\n",
    "from sentence_transformers import CrossEncoder, InputExample\n",
    "from sentence_transformers.cross_encoder.evaluation import \\\n",
    "    CEBinaryClassificationEvaluator\n",
    "from torch.nn import BCEWithLogitsLoss\n",
    "from torch.utils.data import DataLoader\n",
    "from tqdm import tqdm\n",
    "\n",
    "from model.utils import load_data\n",
    "\n",
    "MODEL_NAME = 'cross-encoder/stsb-roberta-base'\n",
    "\n",
    "\n",
    "train_loader, valid_set, y_valid, test_examples, X_test_ids, y_test = prepare_data_cross_encoder(DATA_DIR, remove_col_names=False, order_cols=True, true_samples_size=TRUE_SAMPLES_SIZE, false_samples_size=FALSE_SAMPLES_SIZE)\n",
    "\n",
    "# Take only true sample sizes and false sample sizes of validation set\n",
    "valid_set = valid_set[:TRUE_SAMPLES_SIZE+FALSE_SAMPLES_SIZE]\n",
    "y_valid = y_valid[:TRUE_SAMPLES_SIZE+FALSE_SAMPLES_SIZE]\n",
    "\n",
    "logits, training_time = fit_cross_encoder(MODEL_NAME, train_loader, valid_set, y_valid,\n",
    "                                        test_examples, epochs=3, learning_rate=LEARNING_RATE,\n",
    "                                        weight_decay=WEIGHT_DECAY,\n",
    "                                        classifier_dropout=None)\n",
    "\n",
    "accuracy, precision, recall, f1, roc_auc = evaluate_cross_encoder(logits, y_test, threshold=threshold)"
   ]
  },
  {
   "cell_type": "code",
   "execution_count": 30,
   "metadata": {},
   "outputs": [
    {
     "name": "stdout",
     "output_type": "stream",
     "text": [
      "Max F1 score: 0.6565349544072948 at threshold 0.6565656565656566\n",
      "Max F1 score: 0.6812227074235808 at threshold 0.7070707070707072\n",
      "Max F1 score: 0.5147679324894515 at threshold 0.5656565656565657\n"
     ]
    },
    {
     "data": {
      "image/png": "[encoded data removed]",
      "text/plain": [
       "<Figure size 1500x500 with 3 Axes>"
      ]
     },
     "metadata": {},
     "output_type": "display_data"
    }
   ],
   "source": [
    "f1_scores_zero = []\n",
    "precisions_zero = []\n",
    "recalls_zero = []\n",
    "thresholds = np.linspace(0, 1, 100)\n",
    "for threshold in thresholds:\n",
    "    y_pred = np.zeros_like(y_test)\n",
    "    for i in range(len(y_test)):\n",
    "        if similarity_test_zero[i,i] > threshold:\n",
    "            y_pred[i] = 1\n",
    "    f1_scores_zero.append(f1_score(y_test, y_pred, zero_division=0))\n",
    "    precisions_zero.append(precision_score(y_test, y_pred, zero_division=1))\n",
    "    recalls_zero.append(recall_score(y_test, y_pred, zero_division=0))\n",
    "\n",
    "max_f1_score_zero = max(f1_scores_zero)\n",
    "best_threshold_zero = thresholds[f1_scores_zero.index(max_f1_score_zero)]\n",
    "print(f'Max F1 score: {max_f1_score_zero} at threshold {best_threshold_zero}')\n",
    "\n",
    "fig, ax = plt.subplots(1, 3, figsize=(15, 5))\n",
    "ax[0].plot(thresholds, f1_scores_zero)\n",
    "ax[0].set_title('F1 score vs threshold')\n",
    "ax[0].set_xlabel('Threshold')\n",
    "ax[0].set_ylabel('F1 score')\n",
    "ax[1].plot(thresholds, precisions_zero)\n",
    "ax[1].set_title('Precision vs threshold')\n",
    "ax[1].set_xlabel('Threshold')\n",
    "ax[1].set_ylabel('Precision')\n",
    "ax[2].plot(thresholds, recalls_zero)\n",
    "ax[2].set_title('Recall vs threshold')\n",
    "ax[2].set_xlabel('Threshold')\n",
    "ax[2].set_ylabel('Recall')\n",
    "\n",
    "f1_scores_few = []\n",
    "precisions_few = []\n",
    "recalls_few = []\n",
    "thresholds = np.linspace(0, 1, 100)\n",
    "for threshold in thresholds:\n",
    "    y_pred = np.zeros_like(y_test)\n",
    "    for i in range(len(y_test)):\n",
    "        if similarity_test_few[i,i] > threshold:\n",
    "            y_pred[i] = 1\n",
    "    f1_scores_few.append(f1_score(y_test, y_pred, zero_division=0))\n",
    "    precisions_few.append(precision_score(y_test, y_pred, zero_division=1))\n",
    "    recalls_few.append(recall_score(y_test, y_pred, zero_division=0))\n",
    "\n",
    "max_f1_score_few = max(f1_scores_few)\n",
    "best_threshold_few = thresholds[f1_scores_few.index(max_f1_score_few)]\n",
    "print(f'Max F1 score: {max_f1_score_few} at threshold {best_threshold_few}')\n",
    "\n",
    "ax[0].plot(thresholds, f1_scores_few)\n",
    "ax[1].plot(thresholds, precisions_few)\n",
    "ax[2].plot(thresholds, recalls_few)\n",
    "\n",
    "f1_scores_few_cross = []\n",
    "precisions_few_cross = []\n",
    "recalls_few_cross = []\n",
    "thresholds = np.linspace(0, 1, 100)\n",
    "for threshold in thresholds:\n",
    "    y_pred = logits > threshold\n",
    "    f1_scores_few_cross.append(f1_score(y_test, y_pred, zero_division=0))\n",
    "    precisions_few_cross.append(precision_score(y_test, y_pred, zero_division=1))\n",
    "    recalls_few_cross.append(recall_score(y_test, y_pred, zero_division=0))\n",
    "    \n",
    "max_f1_score_few_cross = max(f1_scores_few_cross)\n",
    "best_threshold_few_cross = thresholds[f1_scores_few_cross.index(max_f1_score_few_cross)]\n",
    "print(f'Max F1 score: {max_f1_score_few_cross} at threshold {best_threshold_few_cross}')\n",
    "\n",
    "ax[0].plot(thresholds, f1_scores_few_cross)\n",
    "ax[1].plot(thresholds, precisions_few_cross)\n",
    "ax[2].plot(thresholds, recalls_few_cross)\n",
    "\n",
    "for a in ax:\n",
    "    a.set_ylim(0, 1)\n",
    "    a.grid(linestyle='--', alpha=0.7)\n",
    "\n",
    "fig.legend(['Zero shot', 'Few shot', 'Few shot cross encoder'], loc='center right', bbox_to_anchor=(1.05, 0.5))\n",
    "plt.show()"
   ]
  }
 ],
 "metadata": {
  "kernelspec": {
   "display_name": "Python 3 (ipykernel)",
   "language": "python",
   "name": "python3"
  },
  "language_info": {
   "codemirror_mode": {
    "name": "ipython",
    "version": 3
   },
   "file_extension": ".py",
   "mimetype": "text/x-python",
   "name": "python",
   "nbconvert_exporter": "python",
   "pygments_lexer": "ipython3",
   "version": "3.10.13"
  }
 },
 "nbformat": 4,
 "nbformat_minor": 2
}

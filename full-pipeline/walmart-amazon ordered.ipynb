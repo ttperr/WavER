{
 "cells": [
  {
   "cell_type": "markdown",
   "metadata": {},
   "source": [
    "# Entity Resolution project @ Wavestone\n",
    "## Full pipeline Amazon-Google Products Matching\n",
    "\n",
    "> *Datasets information from [here](https://data.dws.informatik.uni-mannheim.de/benchmarkmatchingtasks/index.html)*\n",
    "\n",
    "> **Tristan PERROT**\n"
   ]
  },
  {
   "cell_type": "markdown",
   "metadata": {},
   "source": [
    "## Import libraries"
   ]
  },
  {
   "cell_type": "code",
   "execution_count": 1,
   "metadata": {},
   "outputs": [
    {
     "name": "stdout",
     "output_type": "stream",
     "text": [
      "Using device: cuda:2\n"
     ]
    }
   ],
   "source": [
    "import os\n",
    "\n",
    "import pandas as pd\n",
    "import torch\n",
    "import pickle\n",
    "import time\n",
    "\n",
    "device = torch.device('cuda:2' if torch.cuda.is_available() else 'cpu')\n",
    "print(f'Using device: {device}')"
   ]
  },
  {
   "cell_type": "code",
   "execution_count": 2,
   "metadata": {},
   "outputs": [],
   "source": [
    "while 'model' not in os.listdir():\n",
    "    os.chdir('..')\n",
    "\n",
    "from model.utils import load_data"
   ]
  },
  {
   "cell_type": "code",
   "execution_count": null,
   "metadata": {},
   "outputs": [],
   "source": [
    "MODEL_NAME = ''\n",
    "DATA_NAME = 'walmart-amazon'\n",
    "DATA_DIR = os.path.join('data', DATA_NAME)"
   ]
  },
  {
   "cell_type": "code",
   "execution_count": 4,
   "metadata": {},
   "outputs": [
    {
     "name": "stdout",
     "output_type": "stream",
     "text": [
      "Table A columns:\n",
      "        column_name                                       data_example\n",
      "1               upc                                        64109216245\n",
      "2             brand                                             Draper\n",
      "3         groupname                              Electronics - General\n",
      "4             title                 Draper Infrared Remote Transmitter\n",
      "5             price                                              58.45\n",
      "6        shelfdescr  Infrared transmitter. 3-button operation for i...\n",
      "7        shortdescr                                                NaN\n",
      "8         longdescr  DR1143Infrared transmitter. 3-button operation...\n",
      "9          imageurl  http://i.walmartimages.com/i/mp/00/64/10/92/16...\n",
      "10  orig_shelfdescr  Infrared transmitter. 3-button operation for i...\n",
      "11  orig_shortdescr                                                NaN\n",
      "12   orig_longdescr  DR1143Infrared transmitter. 3-button operation...\n",
      "13          modelno                                             121066\n",
      "14       shipweight                                                2.0\n",
      "15       dimensions                                                NaN \n",
      "\n",
      "Table B columns:\n",
      "          column_name                                       data_example\n",
      "1                asin                                         B00005UPF6\n",
      "2               brand                                               Koss\n",
      "3             modelno                                             152132\n",
      "4           category1                              Headphone Accessories\n",
      "5          pcategory1                               Accessories Supplies\n",
      "6           category2                                         Equalizers\n",
      "7          pcategory2                                 Home Audio Theater\n",
      "8               title                  Koss EQ50 3-Band Stereo Equalizer\n",
      "9           listprice                                              19.99\n",
      "10              price                                              12.65\n",
      "11       prodfeatures                                                NaN\n",
      "12        techdetails  10dB boost or cut per channel Unity gain ampli...\n",
      "13         shortdescr  The Koss EQ50 is a three band stereo equalizer...\n",
      "14          longdescr  The pocket-size Koss 3-Band Equalizer delivers...\n",
      "15         dimensions                             7.6 x 4.8 x 1.4 inches\n",
      "16           imageurl  http://ecx.images-amazon.com/images/I/4124dZb2...\n",
      "17         itemweight                                         3.2 ounces\n",
      "18         shipweight                                           1 pounds\n",
      "19  orig_prodfeatures                                                NaN\n",
      "20   orig_techdetails  <ul><li>10dB boost or cut per channel</li> <li...\n",
      "21          groupname  Headphone Accessories Accessories Supplies Equ... \n",
      "\n",
      "Columns are not the same in both tables\n",
      "Table A columns: ['id' 'upc' 'brand' 'groupname' 'title' 'price' 'shelfdescr' 'shortdescr'\n",
      " 'longdescr' 'imageurl' 'orig_shelfdescr' 'orig_shortdescr'\n",
      " 'orig_longdescr' 'modelno' 'shipweight' 'dimensions']\n",
      "Table B columns: ['url' 'asin' 'brand' 'modelno' 'category1' 'pcategory1' 'category2'\n",
      " 'pcategory2' 'title' 'listprice' 'price' 'prodfeatures' 'techdetails'\n",
      " 'shortdescr' 'longdescr' 'dimensions' 'imageurl' 'itemweight'\n",
      " 'shipweight' 'orig_prodfeatures' 'orig_techdetails' 'groupname']\n",
      "Serialized entities \n",
      "\n"
     ]
    }
   ],
   "source": [
    "table_a_serialized, table_b_serialized, X_train_ids, y_train, X_valid_ids, y_valid, X_test_ids, y_test = load_data(DATA_DIR, order_cols=False, remove_col_names=True)"
   ]
  },
  {
   "cell_type": "code",
   "execution_count": 5,
   "metadata": {},
   "outputs": [
    {
     "data": {
      "text/plain": [
       "[\"14249992 64109216245 Draper Electronics - General Draper Infrared Remote Transmitter 58.45 Infrared transmitter. 3-button operation for instant access to up  down and stop functions. Fully compatible with learnable IR master control systems. Receiver sold seperately plugs into the Draper low-voltage control unit LVC-III sold separately .  DR1143Infrared transmitter. 3-button operation for instant access to up  down and stop functions. Fully compatible with learnable IR master control systems. Receiver sold seperately plugs into the Draper low-voltage control unit LVC-III sold separately . http://i.walmartimages.com/i/mp/00/64/10/92/16/0064109216245_P255045_300X300.jpg Infrared transmitter. 3-button operation for instant access to ''up'', ''down'', and ''stop'' functions. Fully compatible with ''learnable'' IR master control systems. Receiver (sold seperately) plugs into the Draper low-voltage control unit, LVC-III (sold separately).  DR1143Infrared transmitter. 3-button operation for instant access to ''up'', ''down'', and ''stop'' functions. Fully compatible with ''learnable'' IR master control systems. Receiver (sold seperately) plugs into the Draper low-voltage control unit, LVC-III (sold separately). 121066 2.0 \",\n",
       " '10928662 1034383417 Epson Monitors Epson 1500 Hours 200W UHE Projector Lamp ELPLP12 438.84  Epson ELPLP12  Replacement Lamp EPSON ELPLP12 1500HRS 200V REPL LAMP FOR LAMP POWERLITE FOR 7700P 5600P 7600 Features Lamp Life 1500 Hour Manufacturer Epson Corporation Compatible Devices LCD Manufacturer Part Number ELPLP12 Manufacturer Website Address www.epson.com Product Name Replacement Lamp Package Type Retail Product Type 200W UHE Projector Lamp Tech Specs Manufacturer Epson Corporation Manufacturer Part Number ELPLP12 Shipping Dimensions 5.25  Depth Manufacturer Website Address www.epson.com Lamp Life 1500 Hour Compatibility Epson Powerlite 7700P Projector Epson Powerlite 7600P Projector Epson Powerlite 5600P Projector Compatible Devices LCD Product Name Replacement Lamp Shipping Weight 1 lb Package Type Retail Product Type 200W UHE Projector Lamp http://i.walmartimages.com/i/p/00/01/03/43/83/0001034383417_300X300.jpg  Epson ELPLP12  Replacement Lamp EPSON ELPLP12 1500HRS 200V REPL LAMP FOR LAMP POWERLITE FOR 7700P 5600P 7600 Features Lamp Life 1500 Hour Manufacturer Epson Corporation Compatible Devices LCD Manufacturer Part Number ELPLP12 Manufacturer Website Address www.epson.com Product Name Replacement Lamp Package Type Retail Product Type 200W UHE Projector Lamp Tech Specs Manufacturer Epson Corporation Manufacturer Part Number ELPLP12 Shipping Dimensions 5.25&quot; Height x 5.75&quot; Width x 6.75&quot; Depth Manufacturer Website Address www.epson.com Lamp Life 1500 Hour Compatibility Epson Powerlite 7700P Projector Epson Powerlite 7600P Projector Epson Powerlite 5600P Projector Compatible Devices LCD Product Name Replacement Lamp Shipping Weight 1 lb Package Type Retail Product Type 200W UHE Projector Lamp ELPLP12 0.95 6.75 x 5.75 x 5.5 inches',\n",
       " \"11961447 80844700031 Comprehensive TV Accessories Comprehensive Two-Piece 75 Precision BNC Jack for RG-59 Set of 25 59.25 Comprehensive s True 75 connectors eliminate impedance mismatching and distortion that can be caused by using 50 connectors on 75 cable. True 75 BNC connectors are a must for all digital high bandwidth applications above 300 MHz and recommended for all analog applications. A lifetime warranty makes Comprehensive connectors the preferred choice of video multimedia consultants and engineers worldwide. Specifications Electrical -Impedance 75 ohm -Freq. Range 0-4 GHZ w low reflection 500V peak 1.3 max. -Thermal limits Usable to 11 GHZ -Voltage Rating PE insulators -55 degrees C to 85 degrees C Mechanical -Mating 2-stud bayonet lock coupling per m39012 -Center Contact Captivated center contact -Cable Retention Crimps 20 to 50 lbs Material -Center contacts Male Female Brass beryllium copper -Body Brass astroplate finish -Crimp Ferrule Copper -Insulators TFE Teflon 75 all crimps rexolite -Derlin 50 glass IFE hermetically sealed -Clamp Gaskets Synthetic rubber silicone rubber -Boots O ring crimp silicone rubber -Heat Shrink Tubing All other crimps thermofit plastic  Comprehensive offers a lifetime warranty on all products  CH1151Comprehensive s True 75 connectors eliminate impedance mismatching and distortion that can be caused by using 50 connectors on 75 cable. True 75 BNC connectors are a must for all digital high bandwidth applications above 300 MHz and recommended for all analog applications. A lifetime warranty makes Comprehensive connectors the preferred choice of video multimedia consultants and engineers worldwide. Specifications Electrical   Impedance 75 ohm Freq. Range 0-4 GHZ w low reflection 500V peak 1.3 max. Thermal limits Usable to 11 GHZ Voltage Rating PE insulators -55 degrees C to 85 degrees C Mechanical   Mating 2-stud bayonet lock coupling per m39012 Center Contact Captivated center contact Cable Retention Crimps 20 to 50 lbs   Material   Center contacts Male Female Brass beryllium copper Body Brass astroplate finish Crimp Ferrule Copper Insulators TFE Teflon 75 all crimps rexolite Derlin 50 glass IFE hermetically sealed Clamp Gaskets Synthetic rubber silicone rubber Boots O ring crimp silicone rubber Heat Shrink Tubing All other crimps thermofit plastic   Comprehensive offers a lifetime warranty on all products http://i.walmartimages.com/i/mp/00/80/84/47/00/0080844700031_P255045_300X300.jpg Comprehensive's True 75 connectors eliminate impedance mismatching and distortion that can be caused by using 50 connectors on 75 cable. True 75 BNC connectors are a must for all digital/high bandwidth applications above 300 MHz and recommended for all analog applications. A lifetime warranty makes Comprehensive connectors the preferred choice of video/multimedia consultants and engineers worldwide. Specifications: Electrical -Impedance: 75 ohm -Freq. Range: 0-4, GHZ w/low reflection, 500V peak, 1.3 max. -Thermal limits: Usable to 11 GHZ -Voltage Rating: PE insulators (-55 degrees C to +85 degrees C) Mechanical -Mating: 2-stud bayonet lock coupling per m39012 -Center Contact: Captivated center contact -Cable Retention: Crimps: 20 to 50 lbs Material -Center contacts: Male/Female: Brass beryllium copper -Body: Brass astroplate finish -Crimp Ferrule: Copper -Insulators: TFE Teflon (75) all crimps rexolite -Derlin (50) glass, IFE (hermetically sealed) -Clamp Gaskets: Synthetic rubber; silicone rubber -Boots: O ring crimp silicone rubber -Heat Shrink Tubing: All other crimps: thermofit plastic  Comprehensive offers a lifetime warranty on all products  CH1151Comprehensive's True 75 connectors eliminate impedance mismatching and distortion that can be caused by using 50 connectors on 75 cable. True 75 BNC connectors are a must for all digital/high bandwidth applications above 300 MHz and recommended for all analog applications. A lifetime warranty makes Comprehensive connectors the preferred choice of video/multimedia consultants and engineers worldwide.<p>Specifications:<p><b>Electrical</B><ul><li>Impedance: 75 ohm<li>Freq. Range: 0-4, GHZ w/low reflection, 500V peak, 1.3 max.<li>Thermal limits: Usable to 11 GHZ<li>Voltage Rating: PE insulators (-55 degrees C to +85 degrees C)<p><b>Mechanical</b><ul><li>Mating: 2-stud bayonet lock coupling per m39012<li>Center Contact: Captivated center contact<li>Cable Retention: Crimps: 20 to 50 lbs</ul><p><b>Material</b><ul><li>Center contacts: Male/Female: Brass beryllium copper<li>Body: Brass astroplate finish<li>Crimp Ferrule: Copper<li>Insulators: TFE Teflon (75) all crimps rexolite<li>Derlin (50) glass, IFE (hermetically sealed)<li>Clamp Gaskets: Synthetic rubber; silicone rubber<li>Boots: O ring crimp silicone rubber<li>Heat Shrink Tubing: All other crimps: thermofit plastic</ul> <p>Comprehensive offers a lifetime warranty on all products BJ-2C7559 0.05 \",\n",
       " '13044637 79006932160 D-Link Garden - General D-Link DCS-1100 Network Camera 99.82 Surveillance Network Camera  Built-in Omni-directional Microphone  Supports 4 profiles simultaneously The D-Link DCS-1100 Network Camera comes with everything you need to quickly add a surveillance camera to your home or small office network. It works right out of the box. Simply connect the cables plug in the camera run the short installation wizard and setup is complete. To view what the camera is seeing simply log on to mydlink.com choose your device and start viewing there is no need to configure your router to open up ports or remember hard-to-memorize Internet addresses. Surveillance Network Camera  Built-in Omni-directional Microphone  Supports 4 profiles simultaneously  Adjustable image size and quality  Time stamp and text overlay  Three configurable motion detection windows  Flip and Mirror http://i.walmartimages.com/i/p/00/79/00/69/32/0079006932160_300X300.jpg <UL><LI>Surveillance/Network Camera</LI><LI>Built-in Omni-directional Microphone</LI><LI>Supports 4 profiles simultaneously</LI></UL> The D-Link DCS-1100 Network Camera comes with everything you need to quickly add a surveillance camera to your home or small office network. It works right out of the box. Simply connect the cables, plug in the camera, run the short installation wizard and setup is complete. To view what the camera is seeing, simply log on to mydlink.com, choose your device, and start viewing there is no need to configure your router to open up ports or remember hard-to-memorize Internet addresses. <UL><LI>Surveillance/Network Camera</LI><LI>Built-in Omni-directional Microphone</LI><LI>Supports 4 profiles simultaneously</LI><LI>Adjustable image size and quality</LI><LI>Time stamp and text overlay</LI><LI>Three configurable motion detection windows</LI><LI>Flip and Mirror</LI></UL> DCS-1100  ',\n",
       " '13214131 6503081691 StarTech Electronics - General StarTech.com RKPW247015 24 Outlet Power Strip 59.0 Fits most 42U racks and equipment cabinets  10 ft. power cord provides plenty of reach to power outlets  24 evenly spaced outlets help keep power cabling clean The StarTech.com RKPW247015 24 Outlet Power Strip provides a 0U solution for your rackmount equipment and fits most 42U racks and equipment cabinets. The 10 ft. power cord provides plenty of reach to power outlets and the 24 evenly spaced outlets help keep power cabling clean and efficiently routed. 24 Outlet Power Strip solution for your rackmount equipment  Fits most 42U racks and equipment cabinets  10 ft. power cord provides plenty of reach to power outlets  24 evenly spaced outlets help keep power cabling clean and efficiently routed http://i.walmartimages.com/i/p/00/06/50/30/81/0006503081691_300X300.jpg <ul><li>Fits most 42U racks and equipment cabinets</li><li>10 ft. power cord provides plenty of reach to power outlets</li><li>24 evenly spaced outlets help keep power cabling clean</li></ul> The StarTech.com RKPW247015 24 Outlet Power Strip provides a 0U solution for your rackmount equipment and fits most 42U racks and equipment cabinets. The 10 ft. power cord provides plenty of reach to power outlets, and the 24 evenly spaced outlets help keep power cabling clean and efficiently routed. <ul><li>24 Outlet Power Strip solution for your rackmount equipment</li><li>Fits most 42U racks and equipment cabinets</li><li>10 ft. power cord provides plenty of reach to power outlets</li><li>24 evenly spaced outlets help keep power cabling clean and efficiently routed</li></ul> RKPW247015 5.25 72.5 x 2.5 x 1.5 inches']"
      ]
     },
     "execution_count": 5,
     "metadata": {},
     "output_type": "execute_result"
    }
   ],
   "source": [
    "table_a_serialized[:5]"
   ]
  },
  {
   "cell_type": "markdown",
   "metadata": {},
   "source": [
    "## Blocking"
   ]
  },
  {
   "cell_type": "code",
   "execution_count": 6,
   "metadata": {},
   "outputs": [],
   "source": [
    "import matplotlib.pyplot as plt\n",
    "import numpy as np\n",
    "from sentence_transformers import SentenceTransformer\n",
    "from sklearn.feature_extraction.text import TfidfVectorizer\n",
    "from sklearn.neighbors import NearestNeighbors\n",
    "from tqdm.notebook import tqdm, trange\n",
    "\n",
    "def perform_blocking_sbert(model_name, table_a_serialized, table_b_serialized, n_neighbors=20, metric='cosine', device='cpu'):\n",
    "    model = SentenceTransformer(model_name, device=device)\n",
    "    table_a_embeddings = model.encode(table_a_serialized)\n",
    "    table_b_embeddings = model.encode(table_b_serialized)\n",
    "\n",
    "    knn = NearestNeighbors(n_neighbors=n_neighbors, metric=metric)\n",
    "    knn.fit(table_b_embeddings)\n",
    "\n",
    "    return knn.kneighbors(table_a_embeddings, return_distance=False)\n",
    "\n",
    "def get_blocking_metrics(indices, all_true_matches, len_table_a, len_table_b):\n",
    "    n_m = len(all_true_matches)\n",
    "    n_n = len_table_a * len_table_b - n_m\n",
    "    s_m = 0\n",
    "    s_n = 0\n",
    "\n",
    "    for i in range(len(indices)):\n",
    "        for j in indices[i]:\n",
    "            if (i, j) in all_true_matches:\n",
    "                s_m += 1\n",
    "            else:\n",
    "                s_n += 1\n",
    "    \n",
    "    reduction_ratio = 1 - (s_m + s_n) / (n_m + n_n)\n",
    "    recall = s_m / n_m\n",
    "    f1 = 2 * (reduction_ratio * recall) / (reduction_ratio + recall)\n",
    "\n",
    "    return reduction_ratio, recall, f1\n",
    "\n",
    "def perform_blocking_tfidf(table_a_serialized, table_b_serialized, n_neighbors=20, metric='cosine'):\n",
    "    vectorizer = TfidfVectorizer()\n",
    "    table_a_tfidf = vectorizer.fit_transform(table_a_serialized)\n",
    "    table_b_tfidf = vectorizer.transform(table_b_serialized)\n",
    "\n",
    "    knn = NearestNeighbors(n_neighbors=n_neighbors, metric=metric)\n",
    "    knn.fit(table_b_tfidf)\n",
    "\n",
    "    return knn.kneighbors(table_a_tfidf, return_distance=False)\n",
    "\n",
    "def merge_indices(indices1, indices2):\n",
    "    merged_indices = []\n",
    "    assert len(indices1) == len(indices2)\n",
    "    for i in range(len(indices1)):\n",
    "        merged_indices.append(list(set(indices1[i]) | set(indices2[i])))\n",
    "    return merged_indices"
   ]
  },
  {
   "cell_type": "code",
   "execution_count": 7,
   "metadata": {},
   "outputs": [],
   "source": [
    "all_true_matches = set()\n",
    "for i in range(len(X_train_ids)):\n",
    "    if y_train[i] == 1:\n",
    "        all_true_matches.add((X_train_ids[i][0], X_train_ids[i][1]))\n",
    "for i in range(len(X_valid_ids)):\n",
    "    if y_valid[i] == 1:\n",
    "        all_true_matches.add((X_valid_ids[i][0], X_valid_ids[i][1]))\n",
    "for i in range(len(X_test_ids)):\n",
    "    if y_test[i] == 1:\n",
    "        all_true_matches.add((X_test_ids[i][0], X_test_ids[i][1]))"
   ]
  },
  {
   "cell_type": "code",
   "execution_count": 8,
   "metadata": {},
   "outputs": [],
   "source": [
    "K_NEIGHBORS = 20\n",
    "MODEL_NAME = 'multi-qa-mpnet-base-dot-v1'\n",
    "\n",
    "sbert_indices = perform_blocking_sbert(MODEL_NAME, table_a_serialized, table_b_serialized, n_neighbors=K_NEIGHBORS, device=device)\n",
    "tfidf = perform_blocking_tfidf(table_a_serialized, table_b_serialized, n_neighbors=K_NEIGHBORS)\n",
    "merged_indices = merge_indices(sbert_indices, tfidf)"
   ]
  },
  {
   "cell_type": "code",
   "execution_count": 9,
   "metadata": {},
   "outputs": [
    {
     "name": "stdout",
     "output_type": "stream",
     "text": [
      "RR: 0.9986, PC: 0.9749, F1: 0.9866\n"
     ]
    }
   ],
   "source": [
    "RR, PC, F1 = get_blocking_metrics(merged_indices, all_true_matches, len(table_a_serialized), len(table_b_serialized))\n",
    "print(f'RR: {RR:.4f}, PC: {PC:.4f}, F1: {F1:.4f}')"
   ]
  },
  {
   "cell_type": "code",
   "execution_count": 10,
   "metadata": {},
   "outputs": [
    {
     "name": "stdout",
     "output_type": "stream",
     "text": [
      "Table A columns:\n",
      "        column_name                                       data_example\n",
      "1               upc                                        64109216245\n",
      "2             brand                                             Draper\n",
      "3         groupname                              Electronics - General\n",
      "4             title                 Draper Infrared Remote Transmitter\n",
      "5             price                                              58.45\n",
      "6        shelfdescr  Infrared transmitter. 3-button operation for i...\n",
      "7        shortdescr                                                NaN\n",
      "8         longdescr  DR1143Infrared transmitter. 3-button operation...\n",
      "9          imageurl  http://i.walmartimages.com/i/mp/00/64/10/92/16...\n",
      "10  orig_shelfdescr  Infrared transmitter. 3-button operation for i...\n",
      "11  orig_shortdescr                                                NaN\n",
      "12   orig_longdescr  DR1143Infrared transmitter. 3-button operation...\n",
      "13          modelno                                             121066\n",
      "14       shipweight                                                2.0\n",
      "15       dimensions                                                NaN \n",
      "\n",
      "Table B columns:\n",
      "          column_name                                       data_example\n",
      "1                asin                                         B00005UPF6\n",
      "2               brand                                               Koss\n",
      "3             modelno                                             152132\n",
      "4           category1                              Headphone Accessories\n",
      "5          pcategory1                               Accessories Supplies\n",
      "6           category2                                         Equalizers\n",
      "7          pcategory2                                 Home Audio Theater\n",
      "8               title                  Koss EQ50 3-Band Stereo Equalizer\n",
      "9           listprice                                              19.99\n",
      "10              price                                              12.65\n",
      "11       prodfeatures                                                NaN\n",
      "12        techdetails  10dB boost or cut per channel Unity gain ampli...\n",
      "13         shortdescr  The Koss EQ50 is a three band stereo equalizer...\n",
      "14          longdescr  The pocket-size Koss 3-Band Equalizer delivers...\n",
      "15         dimensions                             7.6 x 4.8 x 1.4 inches\n",
      "16           imageurl  http://ecx.images-amazon.com/images/I/4124dZb2...\n",
      "17         itemweight                                         3.2 ounces\n",
      "18         shipweight                                           1 pounds\n",
      "19  orig_prodfeatures                                                NaN\n",
      "20   orig_techdetails  <ul><li>10dB boost or cut per channel</li> <li...\n",
      "21          groupname  Headphone Accessories Accessories Supplies Equ... \n",
      "\n",
      "Columns are not the same in both tables\n",
      "Table A columns: ['id' 'upc' 'brand' 'groupname' 'title' 'price' 'shelfdescr' 'shortdescr'\n",
      " 'longdescr' 'imageurl' 'orig_shelfdescr' 'orig_shortdescr'\n",
      " 'orig_longdescr' 'modelno' 'shipweight' 'dimensions']\n",
      "Table B columns: ['url' 'asin' 'brand' 'modelno' 'category1' 'pcategory1' 'category2'\n",
      " 'pcategory2' 'title' 'listprice' 'price' 'prodfeatures' 'techdetails'\n",
      " 'shortdescr' 'longdescr' 'dimensions' 'imageurl' 'itemweight'\n",
      " 'shipweight' 'orig_prodfeatures' 'orig_techdetails' 'groupname']\n",
      "Reordering columns\n",
      "Table A columns order before: ['id' 'upc' 'brand' 'groupname' 'title' 'price' 'shelfdescr' 'shortdescr'\n",
      " 'longdescr' 'imageurl' 'orig_shelfdescr' 'orig_shortdescr'\n",
      " 'orig_longdescr' 'modelno' 'shipweight' 'dimensions']\n",
      "Table B columns order before: ['url' 'asin' 'brand' 'modelno' 'category1' 'pcategory1' 'category2'\n",
      " 'pcategory2' 'title' 'listprice' 'price' 'prodfeatures' 'techdetails'\n",
      " 'shortdescr' 'longdescr' 'dimensions' 'imageurl' 'itemweight'\n",
      " 'shipweight' 'orig_prodfeatures' 'orig_techdetails' 'groupname']\n",
      "Table A columns order after: ['id' 'price' 'upc' 'shipweight' 'modelno' 'brand' 'dimensions'\n",
      " 'groupname' 'imageurl' 'title' 'shortdescr' 'orig_shortdescr'\n",
      " 'shelfdescr' 'orig_shelfdescr' 'longdescr' 'orig_longdescr']\n",
      "Table B columns order after: ['listprice' 'price' 'asin' 'itemweight' 'shipweight' 'modelno'\n",
      " 'category2' 'category1' 'pcategory1' 'pcategory2' 'brand' 'dimensions'\n",
      " 'imageurl' 'url' 'groupname' 'title' 'orig_prodfeatures' 'prodfeatures'\n",
      " 'techdetails' 'orig_techdetails' 'shortdescr' 'longdescr']\n",
      "Serialized entities \n",
      "\n"
     ]
    }
   ],
   "source": [
    "table_a_serialized, table_b_serialized, X_train_ids, y_train, X_valid_ids, y_valid, X_test_ids, y_test = load_data(DATA_DIR, order_cols=True, remove_col_names=False)"
   ]
  },
  {
   "cell_type": "code",
   "execution_count": 11,
   "metadata": {},
   "outputs": [],
   "source": [
    "all_matches = []\n",
    "for i in range(len(table_a_serialized)):\n",
    "    for j in merged_indices[i]:\n",
    "        all_matches.append((i, j))\n"
   ]
  },
  {
   "cell_type": "code",
   "execution_count": 12,
   "metadata": {},
   "outputs": [
    {
     "name": "stdout",
     "output_type": "stream",
     "text": [
      "Train size: 51500, Validation size: 12876, Test size: 16095\n"
     ]
    }
   ],
   "source": [
    "# Import train test split\n",
    "from sklearn.model_selection import train_test_split\n",
    "import numpy as np\n",
    "\n",
    "# Split the data into train and test sets\n",
    "X_train_knn, X_test_knn, y_train_knn, y_test_knn = train_test_split(all_matches, [1 if x in all_true_matches else 0 for x in all_matches], test_size=0.2, random_state=42)\n",
    "\n",
    "# Split the train set into train and validation sets\n",
    "X_train_knn, X_valid_knn, y_train_knn, y_valid_knn = train_test_split(X_train_knn, y_train_knn, test_size=0.2, random_state=42)\n",
    "\n",
    "print(f'Train size: {len(X_train_knn)}, Validation size: {len(X_valid_knn)}, Test size: {len(X_test_knn)}')\n"
   ]
  },
  {
   "cell_type": "markdown",
   "metadata": {},
   "source": [
    "## Matching"
   ]
  },
  {
   "cell_type": "code",
   "execution_count": 13,
   "metadata": {},
   "outputs": [],
   "source": [
    "import numpy as np\n",
    "import torch.nn as nn\n",
    "from sentence_transformers import CrossEncoder, InputExample\n",
    "from sentence_transformers.cross_encoder.evaluation import CEBinaryClassificationEvaluator\n",
    "from sklearn.metrics import classification_report\n",
    "from torch.utils.data import DataLoader\n",
    "from torch.nn import BCEWithLogitsLoss"
   ]
  },
  {
   "cell_type": "code",
   "execution_count": 14,
   "metadata": {},
   "outputs": [
    {
     "data": {
      "text/plain": [
       "2554"
      ]
     },
     "execution_count": 14,
     "metadata": {},
     "output_type": "execute_result"
    }
   ],
   "source": [
    "len(table_a_serialized)"
   ]
  },
  {
   "cell_type": "code",
   "execution_count": 15,
   "metadata": {},
   "outputs": [
    {
     "data": {
      "text/plain": [
       "\"[COL] id [VAL] 14249992 [COL] price [VAL] 58.45 [COL] upc [VAL] 64109216245 [COL] shipweight [VAL] 2.0 [COL] modelno [VAL] 121066 [COL] brand [VAL] Draper [COL] dimensions [VAL]  [COL] groupname [VAL] Electronics - General [COL] imageurl [VAL] http://i.walmartimages.com/i/mp/00/64/10/92/16/0064109216245_P255045_300X300.jpg [COL] title [VAL] Draper Infrared Remote Transmitter [COL] shortdescr [VAL]  [COL] orig_shortdescr [VAL]  [COL] shelfdescr [VAL] Infrared transmitter. 3-button operation for instant access to up  down and stop functions. Fully compatible with learnable IR master control systems. Receiver sold seperately plugs into the Draper low-voltage control unit LVC-III sold separately . [COL] orig_shelfdescr [VAL] Infrared transmitter. 3-button operation for instant access to ''up'', ''down'', and ''stop'' functions. Fully compatible with ''learnable'' IR master control systems. Receiver (sold seperately) plugs into the Draper low-voltage control unit, LVC-III (sold separately). [COL] longdescr [VAL] DR1143Infrared transmitter. 3-button operation for instant access to up  down and stop functions. Fully compatible with learnable IR master control systems. Receiver sold seperately plugs into the Draper low-voltage control unit LVC-III sold separately . [COL] orig_longdescr [VAL] DR1143Infrared transmitter. 3-button operation for instant access to ''up'', ''down'', and ''stop'' functions. Fully compatible with ''learnable'' IR master control systems. Receiver (sold seperately) plugs into the Draper low-voltage control unit, LVC-III (sold separately).\""
      ]
     },
     "execution_count": 15,
     "metadata": {},
     "output_type": "execute_result"
    }
   ],
   "source": [
    "table_a_serialized[0]"
   ]
  },
  {
   "cell_type": "code",
   "execution_count": 16,
   "metadata": {},
   "outputs": [
    {
     "data": {
      "text/plain": [
       "[('[COL] id [VAL] 14929327 [COL] price [VAL] 7.09 [COL] upc [VAL] 7164100931 [COL] shipweight [VAL] 0.1 [COL] modelno [VAL] 1750545 [COL] brand [VAL] Samsill [COL] dimensions [VAL]  [COL] groupname [VAL] Stationery &amp; Office Machinery [COL] imageurl [VAL] http://i.walmartimages.com/i/p/00/07/16/41/00/0007164100931_300X300.jpg [COL] title [VAL] Samsill 4  Non-Stick Round Ring Poly View Binder White [COL] shortdescr [VAL] The Samsill 4  Poly View Binder a great choice for portfolios or educational use. [COL] orig_shortdescr [VAL] The Samsill 4&quot; Non-Stick Round Ring Poly View Binder features a nonstick, clear overlay and two inside pockets for loose documents. Acid-free, archival safe material makes the Samsill 4&quot; Poly View Binder a great choice for portfolios or educational use.<p> [COL] shelfdescr [VAL] 3-ring binder Round rings keeps papers secure 2 inside pockets for loose documents [COL] orig_shelfdescr [VAL] <li>3-ring binder<li>Round rings keeps papers secure<li>2 inside pockets for loose documents [COL] longdescr [VAL] Samsill 4  sheets Round rings keeps papers secure Clear overlay for customized presentations 2 inside pockets for loose documents Made of archival safe polypropylene material [COL] orig_longdescr [VAL] <b>Samsill 4&quot; Non-Stick Round Ring Poly View Binder:</b><ul><li>3-ring binder<li>Holds 8-1/2&quot; x 11&quot; sheets<li>Round rings keeps papers secure<li>Clear overlay for customized presentations<li>2 inside pockets for loose documents<li>Made of archival safe, polypropylene material</ul>',\n",
       "  '[COL] listprice [VAL]  [COL] price [VAL] 33.0 [COL] asin [VAL] B005D9ST9W [COL] itemweight [VAL] 3.1 pounds [COL] shipweight [VAL] 3.1 pounds [COL] modelno [VAL]  [COL] category2 [VAL]  [COL] category1 [VAL] Laminating Supplies [COL] pcategory1 [VAL] Office Electronics Accessories [COL] pcategory2 [VAL]  [COL] brand [VAL] Samsill [COL] dimensions [VAL]  [COL] imageurl [VAL] http://ecx.images-amazon.com/images/I/31Q6Y1fwPJL._SL500_AA300_.jpg [COL] url [VAL] http://www.amazon.com/New-Samsill-70810-Professional-Storage-SAM70810/dp/B005D9ST9W/ [COL] groupname [VAL] Laminating Supplies Office Electronics Accessories   [COL] title [VAL] New-Samsill 70810 - Professional Pad Holder Storage Pockets Card Slots Writing Pad Black - SAM70810 [COL] orig_prodfeatures [VAL]  [COL] prodfeatures [VAL]  [COL] techdetails [VAL]  [COL] orig_techdetails [VAL]  [COL] shortdescr [VAL]  [COL] longdescr [VAL] Functional stylish and smartly designed Padded covers look and feel like fine leather. Hand-turned and hand-stitched binding edges. Features a pen loop writing pad document and business card pockets. Width 9 3 4 in Depth 3 4 in Height 13 in Cover Material s Leather-Like. Black Letter Size Organizer Pad Holder Pad Holders SAMSILL Sterling Writing Pad Holder Tablets Notebooks Booklets Covers Organization Meetings'),\n",
       " ('[COL] id [VAL] 13215259 [COL] price [VAL] 84.67 [COL] upc [VAL] 2394295355 [COL] shipweight [VAL] 2.05 [COL] modelno [VAL] 95355 [COL] brand [VAL] Verbatim [COL] dimensions [VAL] 4.5 x 4.5 x 3.37 inches [COL] groupname [VAL] MP3 Accessories [COL] imageurl [VAL] http://i.walmartimages.com/i/p/00/02/39/42/95/0002394295355_300X300.jpg [COL] title [VAL] Verbatim 95355 UltraLife 8x DVD-R Media [COL] shortdescr [VAL] UltraLife gold archival grade 8x DVD-R media is designed to preserve critical corporate data family photos and home movies. Each disc offers 4.7GB and a recording speed of 8X. A hard coating protects recording surface against scratches and rough handling. [COL] orig_shortdescr [VAL] UltraLife gold archival grade 8x DVD-R media is designed to preserve critical corporate data, family photos and home movies. Each disc offers 4.7GB and a recording speed of 8X. A hard coating protects recording surface against scratches and rough handling. [COL] shelfdescr [VAL] DVD-R  8x maximum write speed  4.7 GB 120 minute capacity [COL] orig_shelfdescr [VAL] <ul><li>DVD-R</li><li>8x maximum write speed</li><li>4.7 GB, 120 minute capacity</li></ul> [COL] longdescr [VAL] DVD-R  8x maximum write speed  Metal Azo recording dye optimizes read write performance  4.7 GB 120 minute capacity [COL] orig_longdescr [VAL] <ul><li>DVD-R</li><li>8x maximum write speed</li><li>Metal Azo recording dye optimizes read/write performance</li><li>4.7 GB, 120 minute capacity</li></ul>',\n",
       "  '[COL] listprice [VAL] 150.0 [COL] price [VAL] 57.24 [COL] asin [VAL] B001GR909S [COL] itemweight [VAL] 1.9 pounds [COL] shipweight [VAL] 2 pounds [COL] modelno [VAL] 96732 [COL] category2 [VAL]  [COL] category1 [VAL] Blank Media [COL] pcategory1 [VAL] Accessories Supplies [COL] pcategory2 [VAL]  [COL] brand [VAL] Verbatim [COL] dimensions [VAL] 5.4 x 5.4 x 3.6 inches [COL] imageurl [VAL] http://ecx.images-amazon.com/images/I/212XYqT6HNL._SL500_AA300_.jpg [COL] url [VAL] http://www.amazon.com/Verbatim-96732-DataLifePlus-2-4x-6x-Recordable/dp/B001GR909S/ [COL] groupname [VAL] Blank Media Accessories Supplies   [COL] title [VAL] Verbatim 96732 DataLifePlus 8.5 GB 2.4x-6x Double Layer Recordable Shiny Silver Disc DVD R DL 50 Disc Spindle [COL] orig_prodfeatures [VAL]  [COL] prodfeatures [VAL]  [COL] techdetails [VAL] Shiny silver surface is ideal for silk-screen printing 8.5 gigabytes of storage capacity on a single-sided disc Supported by high-speed Double Layer writers providing up to 6X speed with compatible high speed DL writers Largest compatible DVD back-up and data archiving format for computer drives Compatible with DVD R DL drives from leading manufacturers [COL] orig_techdetails [VAL] <ul><li>Shiny silver surface is ideal for silk-screen printing</li> <li>8.5 gigabytes of storage capacity on a single-sided disc</li> <li>Supported by high-speed Double Layer writers, providing up to 6X speed with compatible high speed DL writers</li> <li>Largest compatible DVD back-up and data archiving format for computer drives</li> <li>Compatible with DVD+R DL drives from leading manufacturers</li> </ul> [COL] shortdescr [VAL]  [COL] longdescr [VAL] Verbatim 96732 DataLife Plus 8.5GB 2.4X Dual-Layer DVD R discs continue to set the standard for high-speed disc performance reliability and compatibility. Certified and supported by the industry s high-speed Double Layer writers Verbatim discs are approved for high-speed burning up to 6X speeds. They provide 8.5 gigabytes of storage capacity on a single-sided disc.'),\n",
       " (\"[COL] id [VAL] 11038043 [COL] price [VAL] 8.88 [COL] upc [VAL] 72286871709 [COL] shipweight [VAL] 0.54 [COL] modelno [VAL] F8N132-BLK [COL] brand [VAL] Belkin [COL] dimensions [VAL] 11.22 x 8.07 x 1.57 inches [COL] groupname [VAL] Electronics - General [COL] imageurl [VAL] http://i.walmartimages.com/i/p/00/72/28/68/71/0072286871709_300X300.jpg [COL] title [VAL] Belkin 10.2  Netbook Neoprene Sleeve - Black [COL] shortdescr [VAL] Whether you re traveling to the cafe or across the country this light and durable sleeve protects your laptop from minor scratches en route. Stow it inside your own bag or in a stylish laptop bag. [COL] orig_shortdescr [VAL] Whether you're traveling to the cafe or across the country, this light and durable sleeve protects your laptop from minor scratches en route. Stow it inside your own bag or in a stylish laptop bag. [COL] shelfdescr [VAL] Durable Weather-resistant  Neoprene cushions and protects your computer [COL] orig_shelfdescr [VAL] <UL><LI>Durable<LI>Weather-resistant <LI>Neoprene cushions and protects your computer</UL> [COL] longdescr [VAL] Durable Weather-resistant  Neoprene cushions and protects your computer [COL] orig_longdescr [VAL] <UL><LI>Durable<LI>Weather-resistant <LI>Neoprene cushions and protects your computer</UL>\",\n",
       "  '[COL] listprice [VAL] 49.99 [COL] price [VAL] 14.99 [COL] asin [VAL] B0055OL2J4 [COL] itemweight [VAL]  [COL] shipweight [VAL]  [COL] modelno [VAL]  [COL] category2 [VAL] Cases Sleeves [COL] category1 [VAL] Laptop Netbook Computer Accessories [COL] pcategory1 [VAL] Computer Accessories [COL] pcategory2 [VAL] Touch Screen Tablet Accessories [COL] brand [VAL] SumacLife [COL] dimensions [VAL] 8.0 x 5.0 x 1.0 inches [COL] imageurl [VAL] http://ecx.images-amazon.com/images/I/41zQ9Dx3P2L._SL500_AA300_.jpg [COL] url [VAL] http://www.amazon.com/Accessory-BlackBerry-Protector-SumacLife-Wristband/dp/B0055OL2J4/ [COL] groupname [VAL] Laptop Netbook Computer Accessories Computer Accessories Cases Sleeves Touch Screen Tablet Accessories [COL] title [VAL] Sky Blue Neoprene Sleeve with Accessory Pocket for BlackBerry Playbook Tablet Anti Glare Clear Screen Protector SumacLife TM Wisdom Courage Wristband [COL] orig_prodfeatures [VAL]  [COL] prodfeatures [VAL]  [COL] techdetails [VAL] Stylish Neoprene Protective Carrying Case Designed for Blackberry Playbook Tablet Protects and prevents unnecessary bumps dents and scratches from accumulating Made of Non-Scratch Weather and Water Resistant Neoprene Newly designed with Exterior Accessory Pocket INCLUDES Clear ultra thin durable and dust repelling premium screen protector. [COL] orig_techdetails [VAL] <ul><li>Stylish Neoprene Protective Carrying Case, Designed for Blackberry Playbook Tablet</li> <li>Protects and prevents unnecessary bumps, dents, and scratches from accumulating</li> <li>Made of Non-Scratch Weather and Water Resistant Neoprene</li> <li>Newly designed with Exterior Accessory Pocket</li> <li>INCLUDES!!! Clear, ultra thin, durable and dust repelling premium screen protector.</li> </ul> [COL] shortdescr [VAL]  [COL] longdescr [VAL] Safely carry and protect your Blackberry Playbook Tablet with stylish Neoprene Protective Sleeve. This Neoprene Sleeve has been manufactured to fit and compliment the mold of the BlackBerry Playbook Tablet with a soft-smooth texture. The Neoprene used to create this case is scratch weather and water resistant. It also protects and prevents unnecessary bumps dents and scratches form accumulating on your device. The exterior pocket on the front of the case allows for storage of accessories such as USB data cable Memory Cards Chargers and other accessories. This Neoprene Sleeve makes the perfect travel companion. You ll be impressed with not only the quality but the style and design of this sleeve. BlackBerry Playbook NOT INCLUDED Package also includes a Clear Screen Film Strip. This screen protector will prevent scratches on your LCD display screen without sacrificing visibility. The screen protector comes with a cleaning cloth and a plastic card to help you apply the screen protector. Features Bubble-Free Application free from Fingerprints and dust repelling. INCLUDES SumacLife TM Wisdom Courage Wristband'),\n",
       " (\"[COL] id [VAL] 15061748 [COL] price [VAL] 7.7 [COL] upc [VAL] 5050543336 [COL] shipweight [VAL] 0.36 [COL] modelno [VAL] 43336 [COL] brand [VAL] Wilson Jones [COL] dimensions [VAL]  [COL] groupname [VAL] Stationery &amp; Office Machinery [COL] imageurl [VAL] http://i.walmartimages.com/i/p/00/05/05/05/43/0005050543336_300X300.jpg [COL] title [VAL] Wilson Jones Won t-Stick Flexible Poly Round Ring View Binder [COL] shortdescr [VAL] Nonstick clear overlay keeps your pages pristine by not transferring ink or toner. Includes one inside pocket for loose document storage and a convenient business card slot. [COL] orig_shortdescr [VAL] Nonstick, clear overlay keeps your pages pristine by not transferring ink or toner. Includes one inside pocket for loose document storage and a convenient business card slot.<p> [COL] shelfdescr [VAL] 3-ring binder 1 inside pocket Business card slot [COL] orig_shelfdescr [VAL] <li>3-ring binder<li>1 inside pocket<li>Business card slot [COL] longdescr [VAL] Wilson Jones Won t-Stick Flexible Poly Round Ring View Binder White   3-ring binder 1 inside pocket Business card slot Flexible print-won t-stick cover [COL] orig_longdescr [VAL] <b>Wilson Jones Won't-Stick Flexible Poly Round Ring View Binder, White</b><ul><li>3-ring binder<li>1 inside pocket<li>Business card slot<li>Flexible print-won't-stick cover</ul>\",\n",
       "  '[COL] listprice [VAL]  [COL] price [VAL] 23.0 [COL] asin [VAL] B005D9RY1Q [COL] itemweight [VAL] 2.5 pounds [COL] shipweight [VAL] 2.5 pounds [COL] modelno [VAL]  [COL] category2 [VAL]  [COL] category1 [VAL] Adapter Rings [COL] pcategory1 [VAL] Flash Accessories [COL] pcategory2 [VAL]  [COL] brand [VAL] Wilson Jones [COL] dimensions [VAL]  [COL] imageurl [VAL] http://ecx.images-amazon.com/images/I/31sFlNawujL._SL500_AA300_.jpg [COL] url [VAL] http://www.amazon.com/New-Wilson-Jones-38444B-Heavy-Duty-WLJ38444B/dp/B005D9RY1Q/ [COL] groupname [VAL] Adapter Rings Flash Accessories   [COL] title [VAL] New-Wilson Jones 38444B - Heavy-Duty No-Gap D-Ring Binder With Label Holder 2 Capacity Black - WLJ38444B [COL] orig_prodfeatures [VAL]  [COL] prodfeatures [VAL]  [COL] techdetails [VAL]  [COL] orig_techdetails [VAL]  [COL] shortdescr [VAL]  [COL] longdescr [VAL] Special No-Gap D-ring design keeps sheets from slipping through rings. D-rings hold 40 more sheets than same size round rings. Pocket Guards hold papers securely within binder. Label holder sleeve on spine provides quick and easy identification of contents. Tough long-lasting hinge for added durability. PVC-free. Maximum Capacity Range 2 in Sheet Capacity 540 Color s Black Binder Sheet Size 11 x 8 1 2. 2 inch Capacity Binders D-Ring D-Ring Binder DublLock Label Holder Looseleaf Notebook Ring Ring Binders WILSON JONES Black Notebooks Rings Portfolios Loose-Leaf Schools Education Classrooms'),\n",
       " (\"[COL] id [VAL] 14497462 [COL] price [VAL] 21.0 [COL] upc [VAL] 39800057693 [COL] shipweight [VAL] 1.0 [COL] modelno [VAL] EA92BP-8 [COL] brand [VAL] Energizer [COL] dimensions [VAL] 4.5 x 3.8 x 1.0 inches [COL] groupname [VAL] Electronics - General [COL] imageurl [VAL] http://i.walmartimages.com/i/p/00/39/80/00/57/0039800057693_300X300.jpg [COL] title [VAL] Energizer Lithium AAA Battery [COL] shortdescr [VAL] For the countless electronic gadgets that you can t live without get the latest lithium battery technology that s proven to be the one of the longest lasting AA and AAA batteries in high-tech devices. [COL] orig_shortdescr [VAL] <p>For the countless electronic gadgets that you can't live without, get the latest lithium battery technology that's proven to be the one of the longest lasting AA and AAA batteries in high-tech devices.</p> [COL] shelfdescr [VAL]  [COL] orig_shelfdescr [VAL] <p/> [COL] longdescr [VAL] Key Features Last up to 8x longer in digital cameras Performs in extreme temperatures from -40 degrees F to 140 degrees F Leak resistant construction [COL] orig_longdescr [VAL] Key Features:<ul><li>Last up to 8x longer in digital cameras<li>Performs in extreme temperatures from -40 degrees F to 140 degrees F<li>Leak resistant construction</ul>\",\n",
       "  '[COL] listprice [VAL]  [COL] price [VAL] 4.39 [COL] asin [VAL] B0042A9UXC [COL] itemweight [VAL]  [COL] shipweight [VAL] 0.6 ounces [COL] modelno [VAL] 2032 [COL] category2 [VAL]  [COL] category1 [VAL] Household Batteries [COL] pcategory1 [VAL] Household Supplies [COL] pcategory2 [VAL]  [COL] brand [VAL] Energizer [COL] dimensions [VAL]  [COL] imageurl [VAL] http://ecx.images-amazon.com/images/I/415y1aIO5gL._SL500_AA300_.jpg [COL] url [VAL] http://www.amazon.com/Energizer-2032-Battery-CR2032-Lithium/dp/B0042A9UXC/ [COL] groupname [VAL] Household Batteries Household Supplies   [COL] title [VAL] Energizer 2032 Battery CR2032 Lithium 3v 1 Pack of 5 [COL] orig_prodfeatures [VAL]  [COL] prodfeatures [VAL]  [COL] techdetails [VAL] Lithium battery for long lasting life in remote entry and electronic devices. Comes five to a pack in individually sealed foil backed blister packaging. [COL] orig_techdetails [VAL] <ul><li>Lithium battery for long lasting life in remote entry and electronic devices.</li> <li>Comes five to a pack in individually sealed foil backed blister packaging.</li> </ul> [COL] shortdescr [VAL]  [COL] longdescr [VAL] Energizer 2032 watch battery. Lithium coin cell. Shelf life is 8-10 years.')]"
      ]
     },
     "execution_count": 16,
     "metadata": {},
     "output_type": "execute_result"
    }
   ],
   "source": [
    "X_train = [(table_a_serialized[int(x[0])], table_b_serialized[int(x[1])]) for x in X_train_knn]\n",
    "X_valid = [(table_a_serialized[int(x[0])], table_b_serialized[int(x[1])]) for x in X_valid_knn]\n",
    "X_test = [(table_a_serialized[int(x[0])], table_b_serialized[int(x[1])]) for x in X_test_knn]\n",
    "X_train[:5]"
   ]
  },
  {
   "cell_type": "code",
   "execution_count": 17,
   "metadata": {},
   "outputs": [],
   "source": [
    "final_table_exports = \"\""
   ]
  },
  {
   "cell_type": "code",
   "execution_count": 18,
   "metadata": {},
   "outputs": [],
   "source": [
    "X1_train, X2_train = [x[0] for x in X_train], [x[1] for x in X_train]\n",
    "X1_valid, X2_valid = [x[0] for x in X_valid], [x[1] for x in X_valid]\n",
    "X1_test, X2_test = [x[0] for x in X_test], [x[1] for x in X_test]"
   ]
  },
  {
   "cell_type": "code",
   "execution_count": 19,
   "metadata": {},
   "outputs": [
    {
     "name": "stdout",
     "output_type": "stream",
     "text": [
      "Sample 0:\n",
      "Entity1: [COL] id [VAL] 14929327 [COL] price [VAL] 7.09 [COL] upc [VAL] 7164100931 [COL] shipweight [VAL] 0.1 [COL] modelno [VAL] 1750545 [COL] brand [VAL] Samsill [COL] dimensions [VAL]  [COL] groupname [VAL] Stationery &amp; Office Machinery [COL] imageurl [VAL] http://i.walmartimages.com/i/p/00/07/16/41/00/0007164100931_300X300.jpg [COL] title [VAL] Samsill 4  Non-Stick Round Ring Poly View Binder White [COL] shortdescr [VAL] The Samsill 4  Poly View Binder a great choice for portfolios or educational use. [COL] orig_shortdescr [VAL] The Samsill 4&quot; Non-Stick Round Ring Poly View Binder features a nonstick, clear overlay and two inside pockets for loose documents. Acid-free, archival safe material makes the Samsill 4&quot; Poly View Binder a great choice for portfolios or educational use.<p> [COL] shelfdescr [VAL] 3-ring binder Round rings keeps papers secure 2 inside pockets for loose documents [COL] orig_shelfdescr [VAL] <li>3-ring binder<li>Round rings keeps papers secure<li>2 inside pockets for loose documents [COL] longdescr [VAL] Samsill 4  sheets Round rings keeps papers secure Clear overlay for customized presentations 2 inside pockets for loose documents Made of archival safe polypropylene material [COL] orig_longdescr [VAL] <b>Samsill 4&quot; Non-Stick Round Ring Poly View Binder:</b><ul><li>3-ring binder<li>Holds 8-1/2&quot; x 11&quot; sheets<li>Round rings keeps papers secure<li>Clear overlay for customized presentations<li>2 inside pockets for loose documents<li>Made of archival safe, polypropylene material</ul>\n",
      "Entity2: [COL] listprice [VAL]  [COL] price [VAL] 33.0 [COL] asin [VAL] B005D9ST9W [COL] itemweight [VAL] 3.1 pounds [COL] shipweight [VAL] 3.1 pounds [COL] modelno [VAL]  [COL] category2 [VAL]  [COL] category1 [VAL] Laminating Supplies [COL] pcategory1 [VAL] Office Electronics Accessories [COL] pcategory2 [VAL]  [COL] brand [VAL] Samsill [COL] dimensions [VAL]  [COL] imageurl [VAL] http://ecx.images-amazon.com/images/I/31Q6Y1fwPJL._SL500_AA300_.jpg [COL] url [VAL] http://www.amazon.com/New-Samsill-70810-Professional-Storage-SAM70810/dp/B005D9ST9W/ [COL] groupname [VAL] Laminating Supplies Office Electronics Accessories   [COL] title [VAL] New-Samsill 70810 - Professional Pad Holder Storage Pockets Card Slots Writing Pad Black - SAM70810 [COL] orig_prodfeatures [VAL]  [COL] prodfeatures [VAL]  [COL] techdetails [VAL]  [COL] orig_techdetails [VAL]  [COL] shortdescr [VAL]  [COL] longdescr [VAL] Functional stylish and smartly designed Padded covers look and feel like fine leather. Hand-turned and hand-stitched binding edges. Features a pen loop writing pad document and business card pockets. Width 9 3 4 in Depth 3 4 in Height 13 in Cover Material s Leather-Like. Black Letter Size Organizer Pad Holder Pad Holders SAMSILL Sterling Writing Pad Holder Tablets Notebooks Booklets Covers Organization Meetings\n",
      "Label: 0\n",
      "\n",
      "Sample 1:\n",
      "Entity1: [COL] id [VAL] 13215259 [COL] price [VAL] 84.67 [COL] upc [VAL] 2394295355 [COL] shipweight [VAL] 2.05 [COL] modelno [VAL] 95355 [COL] brand [VAL] Verbatim [COL] dimensions [VAL] 4.5 x 4.5 x 3.37 inches [COL] groupname [VAL] MP3 Accessories [COL] imageurl [VAL] http://i.walmartimages.com/i/p/00/02/39/42/95/0002394295355_300X300.jpg [COL] title [VAL] Verbatim 95355 UltraLife 8x DVD-R Media [COL] shortdescr [VAL] UltraLife gold archival grade 8x DVD-R media is designed to preserve critical corporate data family photos and home movies. Each disc offers 4.7GB and a recording speed of 8X. A hard coating protects recording surface against scratches and rough handling. [COL] orig_shortdescr [VAL] UltraLife gold archival grade 8x DVD-R media is designed to preserve critical corporate data, family photos and home movies. Each disc offers 4.7GB and a recording speed of 8X. A hard coating protects recording surface against scratches and rough handling. [COL] shelfdescr [VAL] DVD-R  8x maximum write speed  4.7 GB 120 minute capacity [COL] orig_shelfdescr [VAL] <ul><li>DVD-R</li><li>8x maximum write speed</li><li>4.7 GB, 120 minute capacity</li></ul> [COL] longdescr [VAL] DVD-R  8x maximum write speed  Metal Azo recording dye optimizes read write performance  4.7 GB 120 minute capacity [COL] orig_longdescr [VAL] <ul><li>DVD-R</li><li>8x maximum write speed</li><li>Metal Azo recording dye optimizes read/write performance</li><li>4.7 GB, 120 minute capacity</li></ul>\n",
      "Entity2: [COL] listprice [VAL] 150.0 [COL] price [VAL] 57.24 [COL] asin [VAL] B001GR909S [COL] itemweight [VAL] 1.9 pounds [COL] shipweight [VAL] 2 pounds [COL] modelno [VAL] 96732 [COL] category2 [VAL]  [COL] category1 [VAL] Blank Media [COL] pcategory1 [VAL] Accessories Supplies [COL] pcategory2 [VAL]  [COL] brand [VAL] Verbatim [COL] dimensions [VAL] 5.4 x 5.4 x 3.6 inches [COL] imageurl [VAL] http://ecx.images-amazon.com/images/I/212XYqT6HNL._SL500_AA300_.jpg [COL] url [VAL] http://www.amazon.com/Verbatim-96732-DataLifePlus-2-4x-6x-Recordable/dp/B001GR909S/ [COL] groupname [VAL] Blank Media Accessories Supplies   [COL] title [VAL] Verbatim 96732 DataLifePlus 8.5 GB 2.4x-6x Double Layer Recordable Shiny Silver Disc DVD R DL 50 Disc Spindle [COL] orig_prodfeatures [VAL]  [COL] prodfeatures [VAL]  [COL] techdetails [VAL] Shiny silver surface is ideal for silk-screen printing 8.5 gigabytes of storage capacity on a single-sided disc Supported by high-speed Double Layer writers providing up to 6X speed with compatible high speed DL writers Largest compatible DVD back-up and data archiving format for computer drives Compatible with DVD R DL drives from leading manufacturers [COL] orig_techdetails [VAL] <ul><li>Shiny silver surface is ideal for silk-screen printing</li> <li>8.5 gigabytes of storage capacity on a single-sided disc</li> <li>Supported by high-speed Double Layer writers, providing up to 6X speed with compatible high speed DL writers</li> <li>Largest compatible DVD back-up and data archiving format for computer drives</li> <li>Compatible with DVD+R DL drives from leading manufacturers</li> </ul> [COL] shortdescr [VAL]  [COL] longdescr [VAL] Verbatim 96732 DataLife Plus 8.5GB 2.4X Dual-Layer DVD R discs continue to set the standard for high-speed disc performance reliability and compatibility. Certified and supported by the industry s high-speed Double Layer writers Verbatim discs are approved for high-speed burning up to 6X speeds. They provide 8.5 gigabytes of storage capacity on a single-sided disc.\n",
      "Label: 0\n",
      "\n",
      "Sample 2:\n",
      "Entity1: [COL] id [VAL] 11038043 [COL] price [VAL] 8.88 [COL] upc [VAL] 72286871709 [COL] shipweight [VAL] 0.54 [COL] modelno [VAL] F8N132-BLK [COL] brand [VAL] Belkin [COL] dimensions [VAL] 11.22 x 8.07 x 1.57 inches [COL] groupname [VAL] Electronics - General [COL] imageurl [VAL] http://i.walmartimages.com/i/p/00/72/28/68/71/0072286871709_300X300.jpg [COL] title [VAL] Belkin 10.2  Netbook Neoprene Sleeve - Black [COL] shortdescr [VAL] Whether you re traveling to the cafe or across the country this light and durable sleeve protects your laptop from minor scratches en route. Stow it inside your own bag or in a stylish laptop bag. [COL] orig_shortdescr [VAL] Whether you're traveling to the cafe or across the country, this light and durable sleeve protects your laptop from minor scratches en route. Stow it inside your own bag or in a stylish laptop bag. [COL] shelfdescr [VAL] Durable Weather-resistant  Neoprene cushions and protects your computer [COL] orig_shelfdescr [VAL] <UL><LI>Durable<LI>Weather-resistant <LI>Neoprene cushions and protects your computer</UL> [COL] longdescr [VAL] Durable Weather-resistant  Neoprene cushions and protects your computer [COL] orig_longdescr [VAL] <UL><LI>Durable<LI>Weather-resistant <LI>Neoprene cushions and protects your computer</UL>\n",
      "Entity2: [COL] listprice [VAL] 49.99 [COL] price [VAL] 14.99 [COL] asin [VAL] B0055OL2J4 [COL] itemweight [VAL]  [COL] shipweight [VAL]  [COL] modelno [VAL]  [COL] category2 [VAL] Cases Sleeves [COL] category1 [VAL] Laptop Netbook Computer Accessories [COL] pcategory1 [VAL] Computer Accessories [COL] pcategory2 [VAL] Touch Screen Tablet Accessories [COL] brand [VAL] SumacLife [COL] dimensions [VAL] 8.0 x 5.0 x 1.0 inches [COL] imageurl [VAL] http://ecx.images-amazon.com/images/I/41zQ9Dx3P2L._SL500_AA300_.jpg [COL] url [VAL] http://www.amazon.com/Accessory-BlackBerry-Protector-SumacLife-Wristband/dp/B0055OL2J4/ [COL] groupname [VAL] Laptop Netbook Computer Accessories Computer Accessories Cases Sleeves Touch Screen Tablet Accessories [COL] title [VAL] Sky Blue Neoprene Sleeve with Accessory Pocket for BlackBerry Playbook Tablet Anti Glare Clear Screen Protector SumacLife TM Wisdom Courage Wristband [COL] orig_prodfeatures [VAL]  [COL] prodfeatures [VAL]  [COL] techdetails [VAL] Stylish Neoprene Protective Carrying Case Designed for Blackberry Playbook Tablet Protects and prevents unnecessary bumps dents and scratches from accumulating Made of Non-Scratch Weather and Water Resistant Neoprene Newly designed with Exterior Accessory Pocket INCLUDES Clear ultra thin durable and dust repelling premium screen protector. [COL] orig_techdetails [VAL] <ul><li>Stylish Neoprene Protective Carrying Case, Designed for Blackberry Playbook Tablet</li> <li>Protects and prevents unnecessary bumps, dents, and scratches from accumulating</li> <li>Made of Non-Scratch Weather and Water Resistant Neoprene</li> <li>Newly designed with Exterior Accessory Pocket</li> <li>INCLUDES!!! Clear, ultra thin, durable and dust repelling premium screen protector.</li> </ul> [COL] shortdescr [VAL]  [COL] longdescr [VAL] Safely carry and protect your Blackberry Playbook Tablet with stylish Neoprene Protective Sleeve. This Neoprene Sleeve has been manufactured to fit and compliment the mold of the BlackBerry Playbook Tablet with a soft-smooth texture. The Neoprene used to create this case is scratch weather and water resistant. It also protects and prevents unnecessary bumps dents and scratches form accumulating on your device. The exterior pocket on the front of the case allows for storage of accessories such as USB data cable Memory Cards Chargers and other accessories. This Neoprene Sleeve makes the perfect travel companion. You ll be impressed with not only the quality but the style and design of this sleeve. BlackBerry Playbook NOT INCLUDED Package also includes a Clear Screen Film Strip. This screen protector will prevent scratches on your LCD display screen without sacrificing visibility. The screen protector comes with a cleaning cloth and a plastic card to help you apply the screen protector. Features Bubble-Free Application free from Fingerprints and dust repelling. INCLUDES SumacLife TM Wisdom Courage Wristband\n",
      "Label: 0\n",
      "\n",
      "Sample 3:\n",
      "Entity1: [COL] id [VAL] 15061748 [COL] price [VAL] 7.7 [COL] upc [VAL] 5050543336 [COL] shipweight [VAL] 0.36 [COL] modelno [VAL] 43336 [COL] brand [VAL] Wilson Jones [COL] dimensions [VAL]  [COL] groupname [VAL] Stationery &amp; Office Machinery [COL] imageurl [VAL] http://i.walmartimages.com/i/p/00/05/05/05/43/0005050543336_300X300.jpg [COL] title [VAL] Wilson Jones Won t-Stick Flexible Poly Round Ring View Binder [COL] shortdescr [VAL] Nonstick clear overlay keeps your pages pristine by not transferring ink or toner. Includes one inside pocket for loose document storage and a convenient business card slot. [COL] orig_shortdescr [VAL] Nonstick, clear overlay keeps your pages pristine by not transferring ink or toner. Includes one inside pocket for loose document storage and a convenient business card slot.<p> [COL] shelfdescr [VAL] 3-ring binder 1 inside pocket Business card slot [COL] orig_shelfdescr [VAL] <li>3-ring binder<li>1 inside pocket<li>Business card slot [COL] longdescr [VAL] Wilson Jones Won t-Stick Flexible Poly Round Ring View Binder White   3-ring binder 1 inside pocket Business card slot Flexible print-won t-stick cover [COL] orig_longdescr [VAL] <b>Wilson Jones Won't-Stick Flexible Poly Round Ring View Binder, White</b><ul><li>3-ring binder<li>1 inside pocket<li>Business card slot<li>Flexible print-won't-stick cover</ul>\n",
      "Entity2: [COL] listprice [VAL]  [COL] price [VAL] 23.0 [COL] asin [VAL] B005D9RY1Q [COL] itemweight [VAL] 2.5 pounds [COL] shipweight [VAL] 2.5 pounds [COL] modelno [VAL]  [COL] category2 [VAL]  [COL] category1 [VAL] Adapter Rings [COL] pcategory1 [VAL] Flash Accessories [COL] pcategory2 [VAL]  [COL] brand [VAL] Wilson Jones [COL] dimensions [VAL]  [COL] imageurl [VAL] http://ecx.images-amazon.com/images/I/31sFlNawujL._SL500_AA300_.jpg [COL] url [VAL] http://www.amazon.com/New-Wilson-Jones-38444B-Heavy-Duty-WLJ38444B/dp/B005D9RY1Q/ [COL] groupname [VAL] Adapter Rings Flash Accessories   [COL] title [VAL] New-Wilson Jones 38444B - Heavy-Duty No-Gap D-Ring Binder With Label Holder 2 Capacity Black - WLJ38444B [COL] orig_prodfeatures [VAL]  [COL] prodfeatures [VAL]  [COL] techdetails [VAL]  [COL] orig_techdetails [VAL]  [COL] shortdescr [VAL]  [COL] longdescr [VAL] Special No-Gap D-ring design keeps sheets from slipping through rings. D-rings hold 40 more sheets than same size round rings. Pocket Guards hold papers securely within binder. Label holder sleeve on spine provides quick and easy identification of contents. Tough long-lasting hinge for added durability. PVC-free. Maximum Capacity Range 2 in Sheet Capacity 540 Color s Black Binder Sheet Size 11 x 8 1 2. 2 inch Capacity Binders D-Ring D-Ring Binder DublLock Label Holder Looseleaf Notebook Ring Ring Binders WILSON JONES Black Notebooks Rings Portfolios Loose-Leaf Schools Education Classrooms\n",
      "Label: 0\n",
      "\n",
      "Sample 4:\n",
      "Entity1: [COL] id [VAL] 14497462 [COL] price [VAL] 21.0 [COL] upc [VAL] 39800057693 [COL] shipweight [VAL] 1.0 [COL] modelno [VAL] EA92BP-8 [COL] brand [VAL] Energizer [COL] dimensions [VAL] 4.5 x 3.8 x 1.0 inches [COL] groupname [VAL] Electronics - General [COL] imageurl [VAL] http://i.walmartimages.com/i/p/00/39/80/00/57/0039800057693_300X300.jpg [COL] title [VAL] Energizer Lithium AAA Battery [COL] shortdescr [VAL] For the countless electronic gadgets that you can t live without get the latest lithium battery technology that s proven to be the one of the longest lasting AA and AAA batteries in high-tech devices. [COL] orig_shortdescr [VAL] <p>For the countless electronic gadgets that you can't live without, get the latest lithium battery technology that's proven to be the one of the longest lasting AA and AAA batteries in high-tech devices.</p> [COL] shelfdescr [VAL]  [COL] orig_shelfdescr [VAL] <p/> [COL] longdescr [VAL] Key Features Last up to 8x longer in digital cameras Performs in extreme temperatures from -40 degrees F to 140 degrees F Leak resistant construction [COL] orig_longdescr [VAL] Key Features:<ul><li>Last up to 8x longer in digital cameras<li>Performs in extreme temperatures from -40 degrees F to 140 degrees F<li>Leak resistant construction</ul>\n",
      "Entity2: [COL] listprice [VAL]  [COL] price [VAL] 4.39 [COL] asin [VAL] B0042A9UXC [COL] itemweight [VAL]  [COL] shipweight [VAL] 0.6 ounces [COL] modelno [VAL] 2032 [COL] category2 [VAL]  [COL] category1 [VAL] Household Batteries [COL] pcategory1 [VAL] Household Supplies [COL] pcategory2 [VAL]  [COL] brand [VAL] Energizer [COL] dimensions [VAL]  [COL] imageurl [VAL] http://ecx.images-amazon.com/images/I/415y1aIO5gL._SL500_AA300_.jpg [COL] url [VAL] http://www.amazon.com/Energizer-2032-Battery-CR2032-Lithium/dp/B0042A9UXC/ [COL] groupname [VAL] Household Batteries Household Supplies   [COL] title [VAL] Energizer 2032 Battery CR2032 Lithium 3v 1 Pack of 5 [COL] orig_prodfeatures [VAL]  [COL] prodfeatures [VAL]  [COL] techdetails [VAL] Lithium battery for long lasting life in remote entry and electronic devices. Comes five to a pack in individually sealed foil backed blister packaging. [COL] orig_techdetails [VAL] <ul><li>Lithium battery for long lasting life in remote entry and electronic devices.</li> <li>Comes five to a pack in individually sealed foil backed blister packaging.</li> </ul> [COL] shortdescr [VAL]  [COL] longdescr [VAL] Energizer 2032 watch battery. Lithium coin cell. Shelf life is 8-10 years.\n",
      "Label: 0\n",
      "\n"
     ]
    }
   ],
   "source": [
    "# Display the first 5 samples of the training set\n",
    "for i in range(5):\n",
    "    print(f'Sample {i}:')\n",
    "    print(f'Entity1: {X1_train[i]}')\n",
    "    print(f'Entity2: {X2_train[i]}')\n",
    "    print(f'Label: {y_train_knn[i]}')\n",
    "    print()"
   ]
  },
  {
   "cell_type": "code",
   "execution_count": 20,
   "metadata": {},
   "outputs": [],
   "source": [
    "train_datasets = [InputExample(texts=[X1_train[i], X2_train[i]], label=y_train_knn[i]) for i in range(len(X_train_knn))]\n",
    "valid_datasets = [InputExample(texts=[X1_valid[i], X2_valid[i]], label=y_valid_knn[i]) for i in range(len(X_valid_knn))]\n",
    "test_datasets = [InputExample(texts=[X1_test[i], X2_test[i]], label=y_test_knn[i]) for i in range(len(X_test_knn))]\n",
    "train_loader = DataLoader(train_datasets, shuffle=True, batch_size=16, num_workers=0)\n",
    "valid_loader = DataLoader(valid_datasets, shuffle=False, batch_size=16, num_workers=0)\n",
    "test_examples = DataLoader(test_datasets, shuffle=False, batch_size=16, num_workers=0)\n",
    "\n",
    "valid_evaluation_set = [(e1, e2) for e1, e2 in zip(X1_valid, X2_valid)]"
   ]
  },
  {
   "cell_type": "code",
   "execution_count": 21,
   "metadata": {},
   "outputs": [],
   "source": [
    "EPOCHS = 3\n",
    "LR = 2e-5\n",
    "WEIGHT_DECAY = 0.01\n",
    "WARMUP_STEPS = 200\n",
    "CLASSIFIER_DROPOUT = None\n",
    "threshold = 0.65\n",
    "\n",
    "loss_fct = BCEWithLogitsLoss()\n",
    "\n",
    "def callback(score, epoch, steps):\n",
    "    print(f'Epoch {epoch} - Score {score} - Steps {steps}')"
   ]
  },
  {
   "cell_type": "code",
   "execution_count": 22,
   "metadata": {},
   "outputs": [],
   "source": [
    "MODEL_NAME = 'cross-encoder/stsb-distilroberta-base'\n",
    "OUTPUT_PATH = os.path.join('results-full', DATA_NAME, MODEL_NAME)\n",
    "os.makedirs(OUTPUT_PATH, exist_ok=True)"
   ]
  },
  {
   "cell_type": "code",
   "execution_count": 23,
   "metadata": {},
   "outputs": [],
   "source": [
    "model = CrossEncoder(MODEL_NAME, num_labels=1, device=device, classifier_dropout=CLASSIFIER_DROPOUT, default_activation_function=nn.Sigmoid())"
   ]
  },
  {
   "cell_type": "code",
   "execution_count": 24,
   "metadata": {},
   "outputs": [
    {
     "data": {
      "application/vnd.jupyter.widget-view+json": {
       "model_id": "ba4a4a7ff7d0412ba0348fd8732275ef",
       "version_major": 2,
       "version_minor": 0
      },
      "text/plain": [
       "Epoch:   0%|          | 0/3 [00:00<?, ?it/s]"
      ]
     },
     "metadata": {},
     "output_type": "display_data"
    },
    {
     "data": {
      "application/vnd.jupyter.widget-view+json": {
       "model_id": "bbd5b5f88b40456bbf66fd3dda4dc15a",
       "version_major": 2,
       "version_minor": 0
      },
      "text/plain": [
       "Iteration:   0%|          | 0/3219 [00:00<?, ?it/s]"
      ]
     },
     "metadata": {},
     "output_type": "display_data"
    },
    {
     "data": {
      "application/vnd.jupyter.widget-view+json": {
       "model_id": "a89423aabade43d3a333d28a086e762b",
       "version_major": 2,
       "version_minor": 0
      },
      "text/plain": [
       "Batches:   0%|          | 0/403 [00:00<?, ?it/s]"
      ]
     },
     "metadata": {},
     "output_type": "display_data"
    },
    {
     "name": "stdout",
     "output_type": "stream",
     "text": [
      "Epoch 0 - Score 0.8179780041456408 - Steps -1\n"
     ]
    },
    {
     "data": {
      "application/vnd.jupyter.widget-view+json": {
       "model_id": "ebc5b2cb878e40a8887559b0ac2933a3",
       "version_major": 2,
       "version_minor": 0
      },
      "text/plain": [
       "Iteration:   0%|          | 0/3219 [00:00<?, ?it/s]"
      ]
     },
     "metadata": {},
     "output_type": "display_data"
    },
    {
     "data": {
      "application/vnd.jupyter.widget-view+json": {
       "model_id": "ad440643ce204250b12d5b5d1f4cb022",
       "version_major": 2,
       "version_minor": 0
      },
      "text/plain": [
       "Batches:   0%|          | 0/403 [00:00<?, ?it/s]"
      ]
     },
     "metadata": {},
     "output_type": "display_data"
    },
    {
     "name": "stdout",
     "output_type": "stream",
     "text": [
      "Epoch 1 - Score 0.9015371390342973 - Steps -1\n"
     ]
    },
    {
     "data": {
      "application/vnd.jupyter.widget-view+json": {
       "model_id": "67f6d2134d7c44fca66358fe89c59086",
       "version_major": 2,
       "version_minor": 0
      },
      "text/plain": [
       "Iteration:   0%|          | 0/3219 [00:00<?, ?it/s]"
      ]
     },
     "metadata": {},
     "output_type": "display_data"
    },
    {
     "data": {
      "application/vnd.jupyter.widget-view+json": {
       "model_id": "44af688475884059817284d42e1ffd83",
       "version_major": 2,
       "version_minor": 0
      },
      "text/plain": [
       "Batches:   0%|          | 0/403 [00:00<?, ?it/s]"
      ]
     },
     "metadata": {},
     "output_type": "display_data"
    },
    {
     "name": "stdout",
     "output_type": "stream",
     "text": [
      "Epoch 2 - Score 0.9092097854625867 - Steps -1\n"
     ]
    }
   ],
   "source": [
    "start_train_time = time.time()\n",
    "model.fit(train_dataloader=train_loader,\n",
    "            loss_fct=loss_fct,\n",
    "            evaluator=CEBinaryClassificationEvaluator(valid_evaluation_set, labels=y_valid_knn, show_progress_bar=True),\n",
    "            epochs=EPOCHS,\n",
    "            warmup_steps=WARMUP_STEPS,\n",
    "            output_path=OUTPUT_PATH,\n",
    "            callback=callback,\n",
    "            optimizer_params={'lr': LR},\n",
    "            weight_decay=WEIGHT_DECAY,\n",
    "            show_progress_bar=True)\n",
    "train_time = time.time() - start_train_time"
   ]
  },
  {
   "cell_type": "code",
   "execution_count": 25,
   "metadata": {},
   "outputs": [
    {
     "name": "stdout",
     "output_type": "stream",
     "text": [
      "Accuracy: 0.9955886921404162\n",
      "              precision    recall  f1-score   support\n",
      "\n",
      "           0       1.00      1.00      1.00     15882\n",
      "           1       0.88      0.77      0.82       213\n",
      "\n",
      "    accuracy                           1.00     16095\n",
      "   macro avg       0.94      0.89      0.91     16095\n",
      "weighted avg       1.00      1.00      1.00     16095\n",
      "\n",
      "Loss: 0.6903184652328491\n"
     ]
    }
   ],
   "source": [
    "logits = model.predict([[e1, e2] for e1, e2 in zip(X1_test, X2_test)], apply_softmax=True)\n",
    "y_pred = logits > threshold\n",
    "accuracy = np.mean(y_pred == y_test_knn)\n",
    "print(f'Accuracy: {accuracy}')\n",
    "print(classification_report(y_test_knn, y_pred))\n",
    "\n",
    "loss_fct = BCEWithLogitsLoss()\n",
    "loss = loss_fct(torch.tensor(logits).float(), torch.tensor(y_test_knn).float())\n",
    "print(f'Loss: {loss.item()}')\n",
    "\n",
    "report = classification_report(y_test_knn, y_pred, output_dict=True)\n",
    "final_table_exports += \"| \" + MODEL_NAME + f\" | {report[\"accuracy\"]:.3f} | {report[\"1\"][\"precision\"]:.3f} | {report[\"1\"][\"recall\"]:.3f} | {report[\"1\"][\"f1-score\"]:.3f} | {loss.item():.6f} |\\n\""
   ]
  },
  {
   "cell_type": "code",
   "execution_count": 26,
   "metadata": {},
   "outputs": [
    {
     "data": {
      "image/png": "[encoded data removed]",
      "text/plain": [
       "<Figure size 700x500 with 2 Axes>"
      ]
     },
     "metadata": {},
     "output_type": "display_data"
    }
   ],
   "source": [
    "# Confusion matrix\n",
    "from sklearn.metrics import confusion_matrix\n",
    "import matplotlib.pyplot as plt\n",
    "import seaborn as sns\n",
    "\n",
    "cm = confusion_matrix(y_test_knn, y_pred)\n",
    "plt.figure(figsize=(7, 5))\n",
    "sns.heatmap(cm, annot=True, fmt='d', cmap='Blues', xticklabels=['0', '1'], yticklabels=['0', '1'])\n",
    "plt.xlabel('Predicted labels')\n",
    "plt.ylabel('True labels')\n",
    "plt.title('Confusion Matrix')\n",
    "plt.show()"
   ]
  },
  {
   "cell_type": "code",
   "execution_count": 27,
   "metadata": {},
   "outputs": [
    {
     "data": {
      "image/png": "[encoded data removed]",
      "text/plain": [
       "<Figure size 300x300 with 1 Axes>"
      ]
     },
     "metadata": {},
     "output_type": "display_data"
    }
   ],
   "source": [
    "# ROC curve\n",
    "from sklearn.metrics import roc_curve, roc_auc_score\n",
    "import matplotlib.pyplot as plt\n",
    "\n",
    "fpr, tpr, thresholds = roc_curve(y_test_knn, logits)\n",
    "roc_auc = roc_auc_score(y_test_knn, logits)\n",
    "\n",
    "plt.figure(figsize=(3, 3))\n",
    "plt.plot(fpr, tpr, color='darkorange', lw=2, label='ROC curve (area = %0.2f)' % roc_auc)\n",
    "plt.plot([0, 1], [0, 1], color='navy', lw=2, linestyle='--')\n",
    "plt.xlim([0.0, 1.0])\n",
    "plt.ylim([0.0, 1.05])\n",
    "plt.xlabel('False Positive Rate')\n",
    "plt.ylabel('True Positive Rate')\n",
    "plt.title('Receiver Operating Characteristic')\n",
    "plt.legend(loc='lower right')\n",
    "plt.show()"
   ]
  }
 ],
 "metadata": {
  "kernelspec": {
   "display_name": "Python 3 (ipykernel)",
   "language": "python",
   "name": "python3"
  }
 },
 "nbformat": 4,
 "nbformat_minor": 2
}

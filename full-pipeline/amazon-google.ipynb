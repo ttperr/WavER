{
 "cells": [
  {
   "cell_type": "markdown",
   "metadata": {},
   "source": [
    "# Entity Resolution project @ Wavestone\n",
    "## Full pipeline Amazon-Google Products Matching\n",
    "\n",
    "> *Datasets information from [here](https://data.dws.informatik.uni-mannheim.de/benchmarkmatchingtasks/index.html)*\n",
    "\n",
    "> **Tristan PERROT**\n"
   ]
  },
  {
   "cell_type": "markdown",
   "metadata": {},
   "source": [
    "## Import libraries"
   ]
  },
  {
   "cell_type": "code",
   "execution_count": null,
   "metadata": {},
   "outputs": [
    {
     "name": "stdout",
     "output_type": "stream",
     "text": [
      "Using device: cuda:1\n"
     ]
    }
   ],
   "source": [
    "import os\n",
    "\n",
    "import pandas as pd\n",
    "import torch\n",
    "import pickle\n",
    "import time\n",
    "\n",
    "device = torch.device('cuda:1' if torch.cuda.is_available() else 'cpu')\n",
    "print(f'Using device: {device}')"
   ]
  },
  {
   "cell_type": "code",
   "execution_count": 33,
   "metadata": {},
   "outputs": [],
   "source": [
    "while 'model' not in os.listdir():\n",
    "    os.chdir('..')\n",
    "\n",
    "from model.utils import load_data"
   ]
  },
  {
   "cell_type": "code",
   "execution_count": null,
   "metadata": {},
   "outputs": [],
   "source": [
    "MODEL_NAME = ''\n",
    "DATA_NAME = 'amazon-google'\n",
    "DATA_DIR = os.path.join('data', DATA_NAME)"
   ]
  },
  {
   "cell_type": "code",
   "execution_count": null,
   "metadata": {},
   "outputs": [
    {
     "name": "stdout",
     "output_type": "stream",
     "text": [
      "Table A columns:\n",
      "    column_name data_example\n",
      "1   description          NaN\n",
      "2  manufacturer   broderbund\n",
      "3         price          0.0 \n",
      "\n",
      "Table B columns:\n",
      "    column_name              data_example\n",
      "1   description  learning quickbooks 2007\n",
      "2  manufacturer                    intuit\n",
      "3         price                     38.99 \n",
      "\n",
      "Serialized entities \n",
      "\n"
     ]
    }
   ],
   "source": [
    "table_a_serialized, table_b_serialized, X_train_ids, y_train, X_valid_ids, y_valid, X_test_ids, y_test = load_data(DATA_DIR, order_cols=False, remove_col_names=True)"
   ]
  },
  {
   "cell_type": "code",
   "execution_count": 5,
   "metadata": {},
   "outputs": [
    {
     "data": {
      "text/plain": [
       "['clickart 950 000 - premier image pack (dvd-rom)  broderbund 0.0',\n",
       " \"noah's ark activity center (jewel case ages 3-8)  victory multimedia 0.0\",\n",
       " \"peachtree by sage premium accounting for nonprofits 2007 peachtree premium accounting for nonprofits 2007 is the affordable easy to use accounting solution that provides you with donor/grantor management. if you're like most nonprofit organizations you're constantly striving to maximize each and every dollar of your annual operating budget. financial reporting by programs and funds advanced operational reporting and the rock-solid core accounting features that have made peachtree the choice of hundreds of thousands of small businesses. the result is an accounting solution tailor-made for the challenges of operating a nonprofit organization. keep an audit trail to record and report on any changes made to your transactions improve data integrity with prior period locking archive your organization's data for snap shots of your data before you closed your year set up individual user profiles with password protection peachtree restore wizard restores all backed-up data files plus web transactions and customized forms includes all standard accounting features - general ledger accounts receivable &accounts payable; payroll solutions; time & billing and job costing; fixed assets; analysis and reporting & customization easily convert from quickbooks sage software 599.99\",\n",
       " 'singing coach unlimited singing coach unlimited - electronic learning products (win me nt 2000 xp) carry-a-tune technologies 99.99',\n",
       " 'adobe after effects professional 6.5 upgrade from standard to professional upgrade only; installation of after effects standard new disk caching tools speed up your interactive work save any combination of animation parameters as presets -- create transformations masks expressions effects and text tighter integration with other adobe tools - import photoshop cs and illustrator cs files with preserved layers and other attributes output to firewire for easier previewing on ntsc and pal video monitors adobe 499.99']"
      ]
     },
     "execution_count": 5,
     "metadata": {},
     "output_type": "execute_result"
    }
   ],
   "source": [
    "table_a_serialized[:5]"
   ]
  },
  {
   "cell_type": "markdown",
   "metadata": {},
   "source": [
    "## Blocking"
   ]
  },
  {
   "cell_type": "code",
   "execution_count": 6,
   "metadata": {},
   "outputs": [],
   "source": [
    "import matplotlib.pyplot as plt\n",
    "import numpy as np\n",
    "from sentence_transformers import SentenceTransformer\n",
    "from sklearn.feature_extraction.text import TfidfVectorizer\n",
    "from sklearn.neighbors import NearestNeighbors\n",
    "from tqdm.notebook import tqdm, trange\n",
    "\n",
    "def perform_blocking_sbert(model_name, table_a_serialized, table_b_serialized, n_neighbors=20, metric='cosine', device='cpu'):\n",
    "    model = SentenceTransformer(model_name, device=device)\n",
    "    table_a_embeddings = model.encode(table_a_serialized)\n",
    "    table_b_embeddings = model.encode(table_b_serialized)\n",
    "\n",
    "    knn = NearestNeighbors(n_neighbors=n_neighbors, metric=metric)\n",
    "    knn.fit(table_b_embeddings)\n",
    "\n",
    "    return knn.kneighbors(table_a_embeddings, return_distance=False)\n",
    "\n",
    "def get_blocking_metrics(indices, all_true_matches, len_table_a, len_table_b):\n",
    "    n_m = len(all_true_matches)\n",
    "    n_n = len_table_a * len_table_b - n_m\n",
    "    s_m = 0\n",
    "    s_n = 0\n",
    "\n",
    "    for i in range(len(indices)):\n",
    "        for j in indices[i]:\n",
    "            if (i, j) in all_true_matches:\n",
    "                s_m += 1\n",
    "            else:\n",
    "                s_n += 1\n",
    "    \n",
    "    reduction_ratio = 1 - (s_m + s_n) / (n_m + n_n)\n",
    "    recall = s_m / n_m\n",
    "    f1 = 2 * (reduction_ratio * recall) / (reduction_ratio + recall)\n",
    "\n",
    "    return reduction_ratio, recall, f1\n",
    "\n",
    "def perform_blocking_tfidf(table_a_serialized, table_b_serialized, n_neighbors=20, metric='cosine'):\n",
    "    vectorizer = TfidfVectorizer()\n",
    "    table_a_tfidf = vectorizer.fit_transform(table_a_serialized)\n",
    "    table_b_tfidf = vectorizer.transform(table_b_serialized)\n",
    "\n",
    "    knn = NearestNeighbors(n_neighbors=n_neighbors, metric=metric)\n",
    "    knn.fit(table_b_tfidf)\n",
    "\n",
    "    return knn.kneighbors(table_a_tfidf, return_distance=False)\n",
    "\n",
    "def merge_indices(indices1, indices2):\n",
    "    merged_indices = []\n",
    "    assert len(indices1) == len(indices2)\n",
    "    for i in range(len(indices1)):\n",
    "        merged_indices.append(list(set(indices1[i]) | set(indices2[i])))\n",
    "    return merged_indices"
   ]
  },
  {
   "cell_type": "code",
   "execution_count": 7,
   "metadata": {},
   "outputs": [],
   "source": [
    "all_true_matches = set()\n",
    "for i in range(len(X_train_ids)):\n",
    "    if y_train[i] == 1:\n",
    "        all_true_matches.add((X_train_ids[i][0], X_train_ids[i][1]))\n",
    "for i in range(len(X_valid_ids)):\n",
    "    if y_valid[i] == 1:\n",
    "        all_true_matches.add((X_valid_ids[i][0], X_valid_ids[i][1]))\n",
    "for i in range(len(X_test_ids)):\n",
    "    if y_test[i] == 1:\n",
    "        all_true_matches.add((X_test_ids[i][0], X_test_ids[i][1]))"
   ]
  },
  {
   "cell_type": "code",
   "execution_count": 8,
   "metadata": {},
   "outputs": [],
   "source": [
    "K_NEIGHBORS = 20\n",
    "MODEL_NAME = 'multi-qa-mpnet-base-dot-v1'\n",
    "\n",
    "sbert_indices = perform_blocking_sbert(MODEL_NAME, table_a_serialized, table_b_serialized, n_neighbors=K_NEIGHBORS, device=device)\n",
    "tfidf = perform_blocking_tfidf(table_a_serialized, table_b_serialized, n_neighbors=K_NEIGHBORS)\n",
    "merged_indices = merge_indices(sbert_indices, tfidf)"
   ]
  },
  {
   "cell_type": "code",
   "execution_count": 9,
   "metadata": {},
   "outputs": [
    {
     "name": "stdout",
     "output_type": "stream",
     "text": [
      "RR: 0.9753, PC: 0.9908, F1: 0.9829\n"
     ]
    }
   ],
   "source": [
    "RR, PC, F1 = get_blocking_metrics(merged_indices, all_true_matches, len(table_a_serialized), len(table_b_serialized))\n",
    "print(f'RR: {RR:.4f}, PC: {PC:.4f}, F1: {F1:.4f}')"
   ]
  },
  {
   "cell_type": "code",
   "execution_count": 15,
   "metadata": {},
   "outputs": [
    {
     "name": "stdout",
     "output_type": "stream",
     "text": [
      "Table A columns:\n",
      "    column_name data_example\n",
      "1   description          NaN\n",
      "2  manufacturer   broderbund\n",
      "3         price          0.0 \n",
      "\n",
      "Table B columns:\n",
      "    column_name              data_example\n",
      "1   description  learning quickbooks 2007\n",
      "2  manufacturer                    intuit\n",
      "3         price                     38.99 \n",
      "\n",
      "Reordering columns\n",
      "Table A columns order before: ['name' 'description' 'manufacturer' 'price']\n",
      "Table B columns order before: ['name' 'description' 'manufacturer' 'price']\n",
      "Table A columns order after: ['price' 'manufacturer' 'name' 'description']\n",
      "Table B columns order after: ['price' 'manufacturer' 'name' 'description']\n",
      "Serialized entities \n",
      "\n"
     ]
    }
   ],
   "source": [
    "table_a_serialized, table_b_serialized, X_train_ids, y_train, X_valid_ids, y_valid, X_test_ids, y_test = load_data(DATA_DIR, order_cols=True, remove_col_names=False)"
   ]
  },
  {
   "cell_type": "code",
   "execution_count": 16,
   "metadata": {},
   "outputs": [],
   "source": [
    "all_matches = []\n",
    "for i in range(len(table_a_serialized)):\n",
    "    for j in merged_indices[i]:\n",
    "        all_matches.append((i, j))\n"
   ]
  },
  {
   "cell_type": "code",
   "execution_count": 17,
   "metadata": {},
   "outputs": [
    {
     "name": "stdout",
     "output_type": "stream",
     "text": [
      "Train size: 22755, Validation size: 5689, Test size: 7111\n"
     ]
    }
   ],
   "source": [
    "# Import train test split\n",
    "from sklearn.model_selection import train_test_split\n",
    "import numpy as np\n",
    "\n",
    "# Split the data into train and test sets\n",
    "X_train_knn, X_test_knn, y_train_knn, y_test_knn = train_test_split(all_matches, [1 if x in all_true_matches else 0 for x in all_matches], test_size=0.2, random_state=42)\n",
    "\n",
    "# Split the train set into train and validation sets\n",
    "X_train_knn, X_valid_knn, y_train_knn, y_valid_knn = train_test_split(X_train_knn, y_train_knn, test_size=0.2, random_state=42)\n",
    "\n",
    "print(f'Train size: {len(X_train_knn)}, Validation size: {len(X_valid_knn)}, Test size: {len(X_test_knn)}')\n"
   ]
  },
  {
   "cell_type": "markdown",
   "metadata": {},
   "source": [
    "## Matching"
   ]
  },
  {
   "cell_type": "code",
   "execution_count": 18,
   "metadata": {},
   "outputs": [],
   "source": [
    "import numpy as np\n",
    "import torch.nn as nn\n",
    "from sentence_transformers import CrossEncoder, InputExample\n",
    "from sentence_transformers.cross_encoder.evaluation import CEBinaryClassificationEvaluator\n",
    "from sklearn.metrics import classification_report\n",
    "from torch.utils.data import DataLoader\n",
    "from torch.nn import BCEWithLogitsLoss"
   ]
  },
  {
   "cell_type": "code",
   "execution_count": 19,
   "metadata": {},
   "outputs": [
    {
     "data": {
      "text/plain": [
       "1113"
      ]
     },
     "execution_count": 19,
     "metadata": {},
     "output_type": "execute_result"
    }
   ],
   "source": [
    "len(table_a_serialized)"
   ]
  },
  {
   "cell_type": "code",
   "execution_count": 20,
   "metadata": {},
   "outputs": [
    {
     "data": {
      "text/plain": [
       "'[COL] price [VAL] 0.0 [COL] manufacturer [VAL] broderbund [COL] name [VAL] clickart 950 000 - premier image pack (dvd-rom) [COL] description [VAL] '"
      ]
     },
     "execution_count": 20,
     "metadata": {},
     "output_type": "execute_result"
    }
   ],
   "source": [
    "table_a_serialized[0]"
   ]
  },
  {
   "cell_type": "code",
   "execution_count": 21,
   "metadata": {},
   "outputs": [
    {
     "data": {
      "text/plain": [
       "[('[COL] price [VAL] 59.95 [COL] manufacturer [VAL] core learning [COL] name [VAL] corefx three level [COL] description [VAL] corefx is suitable for beginners to advanced users of both computers and art and design. right from the opening page users will find the instructions and suggestions intuitive and very easy to use. corefx supplies a comprehensive set of artists tools which can be applied directly onto the page. charcoal felt tips coloring pencils and many more can be used individually or mixed and blended to create a limitless number of effects. it is this blending of colors which is unique and quite frankly dazzling! corefx allows you to work with images from a wide variety of sources. use digital photographs image scans web graphics and many other sources as your starting point. any images you produce in corefx can easily be saved for use on the web (including animations) and other software programs.',\n",
       "  '[COL] price [VAL] 395.99 [COL] manufacturer [VAL]  [COL] name [VAL] corel painter x [COL] description [VAL] system requirements mac os x (version 10.3.9 or higher with latest revision applied) macintosh® computer with a 700 mhz or faster power pc® g4 power pc g5 or intel® processor 256 mb of ram (512 mb recommended) mouse or tablet 24-bit color display ...'),\n",
       " (\"[COL] price [VAL] 0.0 [COL] manufacturer [VAL] riverdeep [COL] name [VAL] riverdeep kissing canines [COL] description [VAL] with kissing canines you can chase away boredom with a set of loveable dogs! they'll lavish your monitor with affection with these video screensaver tools. choose between tilley the labrador libby the shiba inu waldo the daschund -- or 4 different dogs at once! whenever you're away from your screen they'll kiss your monitor clean!\",\n",
       "  '[COL] price [VAL] 12.9 [COL] manufacturer [VAL]  [COL] name [VAL] topics presents:dinosaurs [COL] description [VAL] the most engaging informative and imaginative journey back in time since the mesozoic era. from the albertosaurus to the velociraptor; the triassic period to the cretaceous these 4 cd-roms spirit you to the wondrous time when these ancient ...'),\n",
       " (\"[COL] price [VAL] 99.95 [COL] manufacturer [VAL] palo alto software [COL] name [VAL] palo alto business plan pro 2007 [COL] description [VAL] with palo alto business plan 2007 you get the newest most complete business planning tool available all in one package. business plan pro is more than just software that creates a business plan. business plan pro is a complete business planning package that will help you improve and grow your business for years to come. view the business plan pro 2007 demo. create forecasts visually with a drag and drop graphic forecaster. the graphic forecaster is a simple and powerful tool to streamline the forecasting process. view larger. create a powerpoint presentation quickly and easily. export charts financials and text directly to powerpoint. view larger. you can't get stuck with the automatic row-by-row help system. it provides advice information and answers for every step of every spreadsheet. view larger. search for venture capital firms by location type of funding company stage and funding requirements. view larger. the business plan from start to finish business plan pro is based on a business plan format recognized by leading banks lenders investors and the small business administration (sba). business plan pro walks you through the entire planning process and generates a complete professional and ready-to-distribute plan with a proven formula for success. with the program's proprietary easyplan wizard writing a business plan is easier than ever making it a snap to get started. but creating a business plan is not just for startups. you can take your business to the next level with easy-to-use powerful plan vs. actual financial tools. you can also track your results and manage your business better by comparing your actual numbers to the figures you projected in your plan. these tools help you better manage your profits expenses and cash flow. business plan pro 2007 features an easyplan wizard asks you simple questions then determines the next steps based on your unique answers. not only does business plan pro walk you through the entire planning process with instructions throughout but you also have access to detailed examples from over 500 sample business plans from hundreds of different industries. whether you are planning a new business or simply revising your business strategy the step-by-step guides and resources will make the planning process simple and easy. every page you create is automatically organized and collated to produce a bulletproof business plan in the preferred format of banks investors and the sba that gets results. you can customize your plan by easily importing your own graphics logos photos and even fonts and layouts. once you're done it's easy to distribute your plan by exporting to microsoft word excel or powerpoint or adobe pdf. you can even upload your completed business plan to a secure password-protected web site. 500 sample business plans and 9 000 industry profiles you never have to worry about writer's block with business plan pro. with an extensive library of over 500 sample plans you can select the plan that mirrors your general business concept and use it as a guide to help you write your own. these plans can be viewed from our sample plan browser as an example while you write your plan or can be edited directly using business plan pro. you can also sort the plans by industry type view a summary paragraph of the plan and skim the plan in a printable format. in addition the program includes market research on virtually every industry so you can match your numbers to industry averages for an accurate business plan. this comprehensive collection of data is based on your standard industrial classification code (sic code) and the information is integrated automatically into your plan. need to know what others in your industry are spending? what you should spend on marketing? what is your initial cost per unit? it's all just a click away. forecast growth and get funding once the start-up wizard helps you create a foundation for your cash-flow projections business plan pro can then guide you through completing an accurate cash flow and balance sheet. this lets you make realistic projections and helps you understand when you will break even and when you will start making money. everybody knows you can't get money without a plan. business plan pro has everything you need to create a custom business plan so you can get the money needed to execute on your idea. business plan pro includes a valuable venture capital database friends and family financing guide and many sba resources. with a completely redesigned home page and an embedded business glossary that provides detailed definitions of business terms in just one-click business plan pro couldn't be easier to use. business plan pro even checks for more common errors than ever and suggests solutions. included as bonus materials with the software are two popular books -- the art of the start by best-selling author guy kawasaki and hurdle: the book on business planning by planning expert tim berry.\",\n",
       "  '[COL] price [VAL] 34.9 [COL] manufacturer [VAL]  [COL] name [VAL] printshop 20 pro publisher [COL] description [VAL] overview access powerful images and design tools. the print shop is your creative toolbox filled with an infinite number of projects you can personalize for every occasion. design memorable cards calendars newsletters and more using a variety of ...'),\n",
       " (\"[COL] price [VAL] 49.99 [COL] manufacturer [VAL] punch! software [COL] name [VAL] punch super home suite 3.0 [COL] description [VAL] super home suite combines seven programs for interior and exterior home and landscape design in one package. super home suite includes 3d home design 3d landscaping estimating autoframing floorplan trace 3d furniture design and realmodel. use 3d home exterior & interior design to view your home in thousands of subtle paint color choices or design walk-out basements and split-level designs with the slope tool. when you're ready to landscape your home design just add your plantings to your existing file. the software lets you landscape without redrawing your house plan. your results are rendered in high-resolution 3-d complete with shadows just like a photograph.design the perfect deck for your home plan with ultimate deck. multilevel or multistory decks with 3-d photorealistic textures stairs railings object placement and color capabilities give you the ability to design exactly the deck you want. deck wizards walk you through railings baluster options and more. and create objects from scratch or modify furniture from the included library. change colors fabrics patterns textures and more then use your creations to furnish your home plan. and get an idea of what your finished home will look like with the autoframing and realmodel software.\",\n",
       "  '[COL] price [VAL] 45.99 [COL] manufacturer [VAL] punch software [COL] name [VAL] punch software 26100 punch! master landscape and home design (small box) [COL] description [VAL] punch! master landscape & home design offers an extensive plantings database deck topography and new technology integrating your actual home photos into infinite 3d views. punch! master landscape & home design includes an extensive sortable ...'),\n",
       " ('[COL] price [VAL] 99.99 [COL] manufacturer [VAL] efrontier [COL] name [VAL] poser figure artist [COL] description [VAL] poser figure artist win 2000 - xp/mac os 10.2 or later',\n",
       "  '[COL] price [VAL] 89.99 [COL] manufacturer [VAL]  [COL] name [VAL] corel corporation ptr9engpcma ae painter ix win/mac [COL] description [VAL] corel painter 9 ( now in dvd case) unleashes your creative power increases your productivity and enhances your compatiblity with adobe photoshop.blend paint colors using the mixer design custom brushes with the brush creator and work more ...')]"
      ]
     },
     "execution_count": 21,
     "metadata": {},
     "output_type": "execute_result"
    }
   ],
   "source": [
    "X_train = [(table_a_serialized[int(x[0])], table_b_serialized[int(x[1])]) for x in X_train_knn]\n",
    "X_valid = [(table_a_serialized[int(x[0])], table_b_serialized[int(x[1])]) for x in X_valid_knn]\n",
    "X_test = [(table_a_serialized[int(x[0])], table_b_serialized[int(x[1])]) for x in X_test_knn]\n",
    "X_train[:5]"
   ]
  },
  {
   "cell_type": "code",
   "execution_count": 22,
   "metadata": {},
   "outputs": [],
   "source": [
    "final_table_exports = \"\""
   ]
  },
  {
   "cell_type": "code",
   "execution_count": 23,
   "metadata": {},
   "outputs": [],
   "source": [
    "X1_train, X2_train = [x[0] for x in X_train], [x[1] for x in X_train]\n",
    "X1_valid, X2_valid = [x[0] for x in X_valid], [x[1] for x in X_valid]\n",
    "X1_test, X2_test = [x[0] for x in X_test], [x[1] for x in X_test]"
   ]
  },
  {
   "cell_type": "code",
   "execution_count": 24,
   "metadata": {},
   "outputs": [
    {
     "name": "stdout",
     "output_type": "stream",
     "text": [
      "Sample 0:\n",
      "Entity1: [COL] price [VAL] 59.95 [COL] manufacturer [VAL] core learning [COL] name [VAL] corefx three level [COL] description [VAL] corefx is suitable for beginners to advanced users of both computers and art and design. right from the opening page users will find the instructions and suggestions intuitive and very easy to use. corefx supplies a comprehensive set of artists tools which can be applied directly onto the page. charcoal felt tips coloring pencils and many more can be used individually or mixed and blended to create a limitless number of effects. it is this blending of colors which is unique and quite frankly dazzling! corefx allows you to work with images from a wide variety of sources. use digital photographs image scans web graphics and many other sources as your starting point. any images you produce in corefx can easily be saved for use on the web (including animations) and other software programs.\n",
      "Entity2: [COL] price [VAL] 395.99 [COL] manufacturer [VAL]  [COL] name [VAL] corel painter x [COL] description [VAL] system requirements mac os x (version 10.3.9 or higher with latest revision applied) macintosh® computer with a 700 mhz or faster power pc® g4 power pc g5 or intel® processor 256 mb of ram (512 mb recommended) mouse or tablet 24-bit color display ...\n",
      "Label: 0\n",
      "\n",
      "Sample 1:\n",
      "Entity1: [COL] price [VAL] 0.0 [COL] manufacturer [VAL] riverdeep [COL] name [VAL] riverdeep kissing canines [COL] description [VAL] with kissing canines you can chase away boredom with a set of loveable dogs! they'll lavish your monitor with affection with these video screensaver tools. choose between tilley the labrador libby the shiba inu waldo the daschund -- or 4 different dogs at once! whenever you're away from your screen they'll kiss your monitor clean!\n",
      "Entity2: [COL] price [VAL] 12.9 [COL] manufacturer [VAL]  [COL] name [VAL] topics presents:dinosaurs [COL] description [VAL] the most engaging informative and imaginative journey back in time since the mesozoic era. from the albertosaurus to the velociraptor; the triassic period to the cretaceous these 4 cd-roms spirit you to the wondrous time when these ancient ...\n",
      "Label: 0\n",
      "\n",
      "Sample 2:\n",
      "Entity1: [COL] price [VAL] 99.95 [COL] manufacturer [VAL] palo alto software [COL] name [VAL] palo alto business plan pro 2007 [COL] description [VAL] with palo alto business plan 2007 you get the newest most complete business planning tool available all in one package. business plan pro is more than just software that creates a business plan. business plan pro is a complete business planning package that will help you improve and grow your business for years to come. view the business plan pro 2007 demo. create forecasts visually with a drag and drop graphic forecaster. the graphic forecaster is a simple and powerful tool to streamline the forecasting process. view larger. create a powerpoint presentation quickly and easily. export charts financials and text directly to powerpoint. view larger. you can't get stuck with the automatic row-by-row help system. it provides advice information and answers for every step of every spreadsheet. view larger. search for venture capital firms by location type of funding company stage and funding requirements. view larger. the business plan from start to finish business plan pro is based on a business plan format recognized by leading banks lenders investors and the small business administration (sba). business plan pro walks you through the entire planning process and generates a complete professional and ready-to-distribute plan with a proven formula for success. with the program's proprietary easyplan wizard writing a business plan is easier than ever making it a snap to get started. but creating a business plan is not just for startups. you can take your business to the next level with easy-to-use powerful plan vs. actual financial tools. you can also track your results and manage your business better by comparing your actual numbers to the figures you projected in your plan. these tools help you better manage your profits expenses and cash flow. business plan pro 2007 features an easyplan wizard asks you simple questions then determines the next steps based on your unique answers. not only does business plan pro walk you through the entire planning process with instructions throughout but you also have access to detailed examples from over 500 sample business plans from hundreds of different industries. whether you are planning a new business or simply revising your business strategy the step-by-step guides and resources will make the planning process simple and easy. every page you create is automatically organized and collated to produce a bulletproof business plan in the preferred format of banks investors and the sba that gets results. you can customize your plan by easily importing your own graphics logos photos and even fonts and layouts. once you're done it's easy to distribute your plan by exporting to microsoft word excel or powerpoint or adobe pdf. you can even upload your completed business plan to a secure password-protected web site. 500 sample business plans and 9 000 industry profiles you never have to worry about writer's block with business plan pro. with an extensive library of over 500 sample plans you can select the plan that mirrors your general business concept and use it as a guide to help you write your own. these plans can be viewed from our sample plan browser as an example while you write your plan or can be edited directly using business plan pro. you can also sort the plans by industry type view a summary paragraph of the plan and skim the plan in a printable format. in addition the program includes market research on virtually every industry so you can match your numbers to industry averages for an accurate business plan. this comprehensive collection of data is based on your standard industrial classification code (sic code) and the information is integrated automatically into your plan. need to know what others in your industry are spending? what you should spend on marketing? what is your initial cost per unit? it's all just a click away. forecast growth and get funding once the start-up wizard helps you create a foundation for your cash-flow projections business plan pro can then guide you through completing an accurate cash flow and balance sheet. this lets you make realistic projections and helps you understand when you will break even and when you will start making money. everybody knows you can't get money without a plan. business plan pro has everything you need to create a custom business plan so you can get the money needed to execute on your idea. business plan pro includes a valuable venture capital database friends and family financing guide and many sba resources. with a completely redesigned home page and an embedded business glossary that provides detailed definitions of business terms in just one-click business plan pro couldn't be easier to use. business plan pro even checks for more common errors than ever and suggests solutions. included as bonus materials with the software are two popular books -- the art of the start by best-selling author guy kawasaki and hurdle: the book on business planning by planning expert tim berry.\n",
      "Entity2: [COL] price [VAL] 34.9 [COL] manufacturer [VAL]  [COL] name [VAL] printshop 20 pro publisher [COL] description [VAL] overview access powerful images and design tools. the print shop is your creative toolbox filled with an infinite number of projects you can personalize for every occasion. design memorable cards calendars newsletters and more using a variety of ...\n",
      "Label: 0\n",
      "\n",
      "Sample 3:\n",
      "Entity1: [COL] price [VAL] 49.99 [COL] manufacturer [VAL] punch! software [COL] name [VAL] punch super home suite 3.0 [COL] description [VAL] super home suite combines seven programs for interior and exterior home and landscape design in one package. super home suite includes 3d home design 3d landscaping estimating autoframing floorplan trace 3d furniture design and realmodel. use 3d home exterior & interior design to view your home in thousands of subtle paint color choices or design walk-out basements and split-level designs with the slope tool. when you're ready to landscape your home design just add your plantings to your existing file. the software lets you landscape without redrawing your house plan. your results are rendered in high-resolution 3-d complete with shadows just like a photograph.design the perfect deck for your home plan with ultimate deck. multilevel or multistory decks with 3-d photorealistic textures stairs railings object placement and color capabilities give you the ability to design exactly the deck you want. deck wizards walk you through railings baluster options and more. and create objects from scratch or modify furniture from the included library. change colors fabrics patterns textures and more then use your creations to furnish your home plan. and get an idea of what your finished home will look like with the autoframing and realmodel software.\n",
      "Entity2: [COL] price [VAL] 45.99 [COL] manufacturer [VAL] punch software [COL] name [VAL] punch software 26100 punch! master landscape and home design (small box) [COL] description [VAL] punch! master landscape & home design offers an extensive plantings database deck topography and new technology integrating your actual home photos into infinite 3d views. punch! master landscape & home design includes an extensive sortable ...\n",
      "Label: 0\n",
      "\n",
      "Sample 4:\n",
      "Entity1: [COL] price [VAL] 99.99 [COL] manufacturer [VAL] efrontier [COL] name [VAL] poser figure artist [COL] description [VAL] poser figure artist win 2000 - xp/mac os 10.2 or later\n",
      "Entity2: [COL] price [VAL] 89.99 [COL] manufacturer [VAL]  [COL] name [VAL] corel corporation ptr9engpcma ae painter ix win/mac [COL] description [VAL] corel painter 9 ( now in dvd case) unleashes your creative power increases your productivity and enhances your compatiblity with adobe photoshop.blend paint colors using the mixer design custom brushes with the brush creator and work more ...\n",
      "Label: 0\n",
      "\n"
     ]
    }
   ],
   "source": [
    "# Display the first 5 samples of the training set\n",
    "for i in range(5):\n",
    "    print(f'Sample {i}:')\n",
    "    print(f'Entity1: {X1_train[i]}')\n",
    "    print(f'Entity2: {X2_train[i]}')\n",
    "    print(f'Label: {y_train_knn[i]}')\n",
    "    print()"
   ]
  },
  {
   "cell_type": "code",
   "execution_count": 25,
   "metadata": {},
   "outputs": [],
   "source": [
    "train_datasets = [InputExample(texts=[X1_train[i], X2_train[i]], label=y_train_knn[i]) for i in range(len(X_train_knn))]\n",
    "valid_datasets = [InputExample(texts=[X1_valid[i], X2_valid[i]], label=y_valid_knn[i]) for i in range(len(X_valid_knn))]\n",
    "test_datasets = [InputExample(texts=[X1_test[i], X2_test[i]], label=y_test_knn[i]) for i in range(len(X_test_knn))]\n",
    "train_loader = DataLoader(train_datasets, shuffle=True, batch_size=16, num_workers=0)\n",
    "valid_loader = DataLoader(valid_datasets, shuffle=False, batch_size=16, num_workers=0)\n",
    "test_examples = DataLoader(test_datasets, shuffle=False, batch_size=16, num_workers=0)\n",
    "\n",
    "valid_evaluation_set = [(e1, e2) for e1, e2 in zip(X1_valid, X2_valid)]"
   ]
  },
  {
   "cell_type": "code",
   "execution_count": 26,
   "metadata": {},
   "outputs": [],
   "source": [
    "EPOCHS = 3\n",
    "LR = 2e-5\n",
    "WEIGHT_DECAY = 0.01\n",
    "WARMUP_STEPS = 200\n",
    "CLASSIFIER_DROPOUT = None\n",
    "threshold = 0.65\n",
    "\n",
    "loss_fct = BCEWithLogitsLoss()\n",
    "\n",
    "def callback(score, epoch, steps):\n",
    "    print(f'Epoch {epoch} - Score {score} - Steps {steps}')"
   ]
  },
  {
   "cell_type": "code",
   "execution_count": 30,
   "metadata": {},
   "outputs": [],
   "source": [
    "MODEL_NAME = 'cross-encoder/stsb-distilroberta-base'\n",
    "OUTPUT_PATH = os.path.join('results-full', DATA_NAME, MODEL_NAME)\n",
    "os.makedirs(OUTPUT_PATH, exist_ok=True)"
   ]
  },
  {
   "cell_type": "code",
   "execution_count": 31,
   "metadata": {},
   "outputs": [],
   "source": [
    "model = CrossEncoder(MODEL_NAME, num_labels=1, device=device, classifier_dropout=CLASSIFIER_DROPOUT, default_activation_function=nn.Sigmoid())"
   ]
  },
  {
   "cell_type": "code",
   "execution_count": 32,
   "metadata": {},
   "outputs": [
    {
     "data": {
      "application/vnd.jupyter.widget-view+json": {
       "model_id": "624cf7c6d927443e8910a27076de0b66",
       "version_major": 2,
       "version_minor": 0
      },
      "text/plain": [
       "Epoch:   0%|          | 0/3 [00:00<?, ?it/s]"
      ]
     },
     "metadata": {},
     "output_type": "display_data"
    },
    {
     "data": {
      "application/vnd.jupyter.widget-view+json": {
       "model_id": "a3c8895bf6f24c7db4a1f239c39cb54d",
       "version_major": 2,
       "version_minor": 0
      },
      "text/plain": [
       "Iteration:   0%|          | 0/1423 [00:00<?, ?it/s]"
      ]
     },
     "metadata": {},
     "output_type": "display_data"
    },
    {
     "data": {
      "application/vnd.jupyter.widget-view+json": {
       "model_id": "fb97b6dd1b4f418491f855060738415f",
       "version_major": 2,
       "version_minor": 0
      },
      "text/plain": [
       "Batches:   0%|          | 0/178 [00:00<?, ?it/s]"
      ]
     },
     "metadata": {},
     "output_type": "display_data"
    },
    {
     "name": "stdout",
     "output_type": "stream",
     "text": [
      "Epoch 0 - Score 0.8274470569343297 - Steps -1\n"
     ]
    },
    {
     "data": {
      "application/vnd.jupyter.widget-view+json": {
       "model_id": "d3ed39f83d7d4c61acc2471619ef7aa5",
       "version_major": 2,
       "version_minor": 0
      },
      "text/plain": [
       "Iteration:   0%|          | 0/1423 [00:00<?, ?it/s]"
      ]
     },
     "metadata": {},
     "output_type": "display_data"
    },
    {
     "data": {
      "application/vnd.jupyter.widget-view+json": {
       "model_id": "86dd5ff669dc4a6abe17f3d7dbc3c036",
       "version_major": 2,
       "version_minor": 0
      },
      "text/plain": [
       "Batches:   0%|          | 0/178 [00:00<?, ?it/s]"
      ]
     },
     "metadata": {},
     "output_type": "display_data"
    },
    {
     "name": "stdout",
     "output_type": "stream",
     "text": [
      "Epoch 1 - Score 0.8522203907937723 - Steps -1\n"
     ]
    },
    {
     "data": {
      "application/vnd.jupyter.widget-view+json": {
       "model_id": "53bf936ceb884912b81bcacafd21c764",
       "version_major": 2,
       "version_minor": 0
      },
      "text/plain": [
       "Iteration:   0%|          | 0/1423 [00:00<?, ?it/s]"
      ]
     },
     "metadata": {},
     "output_type": "display_data"
    },
    {
     "data": {
      "application/vnd.jupyter.widget-view+json": {
       "model_id": "ec21f870660b495a93a5ec3901ce20f3",
       "version_major": 2,
       "version_minor": 0
      },
      "text/plain": [
       "Batches:   0%|          | 0/178 [00:00<?, ?it/s]"
      ]
     },
     "metadata": {},
     "output_type": "display_data"
    },
    {
     "name": "stdout",
     "output_type": "stream",
     "text": [
      "Epoch 2 - Score 0.8822163214119554 - Steps -1\n"
     ]
    }
   ],
   "source": [
    "start_train_time = time.time()\n",
    "model.fit(train_dataloader=train_loader,\n",
    "            loss_fct=loss_fct,\n",
    "            evaluator=CEBinaryClassificationEvaluator(valid_evaluation_set, labels=y_valid_knn, show_progress_bar=True),\n",
    "            epochs=EPOCHS,\n",
    "            warmup_steps=WARMUP_STEPS,\n",
    "            output_path=OUTPUT_PATH,\n",
    "            callback=callback,\n",
    "            optimizer_params={'lr': LR},\n",
    "            weight_decay=WEIGHT_DECAY,\n",
    "            show_progress_bar=True)\n",
    "train_time = time.time() - start_train_time"
   ]
  },
  {
   "cell_type": "code",
   "execution_count": 33,
   "metadata": {},
   "outputs": [
    {
     "name": "stdout",
     "output_type": "stream",
     "text": [
      "Accuracy: 0.9845310082970047\n",
      "              precision    recall  f1-score   support\n",
      "\n",
      "           0       0.99      0.99      0.99      6860\n",
      "           1       0.76      0.81      0.79       251\n",
      "\n",
      "    accuracy                           0.98      7111\n",
      "   macro avg       0.88      0.90      0.89      7111\n",
      "weighted avg       0.99      0.98      0.98      7111\n",
      "\n",
      "Loss: 0.6881652474403381\n"
     ]
    }
   ],
   "source": [
    "logits = model.predict([[e1, e2] for e1, e2 in zip(X1_test, X2_test)], apply_softmax=True)\n",
    "y_pred = logits > threshold\n",
    "accuracy = np.mean(y_pred == y_test_knn)\n",
    "print(f'Accuracy: {accuracy}')\n",
    "print(classification_report(y_test_knn, y_pred))\n",
    "\n",
    "loss_fct = BCEWithLogitsLoss()\n",
    "loss = loss_fct(torch.tensor(logits).float(), torch.tensor(y_test_knn).float())\n",
    "print(f'Loss: {loss.item()}')\n",
    "\n",
    "report = classification_report(y_test_knn, y_pred, output_dict=True)\n",
    "final_table_exports += \"| \" + MODEL_NAME + f\" | {report[\"accuracy\"]:.3f} | {report[\"1\"][\"precision\"]:.3f} | {report[\"1\"][\"recall\"]:.3f} | {report[\"1\"][\"f1-score\"]:.3f} | {loss.item():.6f} |\\n\""
   ]
  },
  {
   "cell_type": "code",
   "execution_count": 41,
   "metadata": {},
   "outputs": [
    {
     "data": {
      "image/png": "[encoded data removed]",
      "text/plain": [
       "<Figure size 700x500 with 2 Axes>"
      ]
     },
     "metadata": {},
     "output_type": "display_data"
    }
   ],
   "source": [
    "# Confusion matrix\n",
    "from sklearn.metrics import confusion_matrix\n",
    "import matplotlib.pyplot as plt\n",
    "import seaborn as sns\n",
    "\n",
    "cm = confusion_matrix(y_test_knn, y_pred)\n",
    "plt.figure(figsize=(7, 5))\n",
    "sns.heatmap(cm, annot=True, fmt='d', cmap='Blues', xticklabels=['0', '1'], yticklabels=['0', '1'])\n",
    "plt.xlabel('Predicted labels')\n",
    "plt.ylabel('True labels')\n",
    "plt.title('Confusion Matrix')\n",
    "plt.show()"
   ]
  },
  {
   "cell_type": "code",
   "execution_count": 38,
   "metadata": {},
   "outputs": [
    {
     "data": {
      "image/png": "[encoded data removed]",
      "text/plain": [
       "<Figure size 300x300 with 1 Axes>"
      ]
     },
     "metadata": {},
     "output_type": "display_data"
    }
   ],
   "source": [
    "# ROC curve\n",
    "from sklearn.metrics import roc_curve, roc_auc_score\n",
    "import matplotlib.pyplot as plt\n",
    "\n",
    "fpr, tpr, thresholds = roc_curve(y_test_knn, logits)\n",
    "roc_auc = roc_auc_score(y_test_knn, logits)\n",
    "\n",
    "plt.figure(figsize=(3, 3))\n",
    "plt.plot(fpr, tpr, color='darkorange', lw=2, label='ROC curve (area = %0.2f)' % roc_auc)\n",
    "plt.plot([0, 1], [0, 1], color='navy', lw=2, linestyle='--')\n",
    "plt.xlim([0.0, 1.0])\n",
    "plt.ylim([0.0, 1.05])\n",
    "plt.xlabel('False Positive Rate')\n",
    "plt.ylabel('True Positive Rate')\n",
    "plt.title('Receiver Operating Characteristic')\n",
    "plt.legend(loc='lower right')\n",
    "plt.show()"
   ]
  }
 ],
 "metadata": {
  "kernelspec": {
   "display_name": "Python 3 (ipykernel)",
   "language": "python",
   "name": "python3"
  }
 },
 "nbformat": 4,
 "nbformat_minor": 2
}

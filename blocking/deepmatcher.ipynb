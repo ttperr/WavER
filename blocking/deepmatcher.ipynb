{
 "cells": [
  {
   "cell_type": "markdown",
   "metadata": {},
   "source": [
    "# Entity Resolution project @ Wavestone\n",
    "## Blocking with sentence embeddings\n",
    "\n",
    "> **Tristan PERROT**\n"
   ]
  },
  {
   "cell_type": "code",
   "execution_count": 1,
   "metadata": {
    "ExecuteTime": {
     "end_time": "2024-11-22T14:07:28.522765Z",
     "start_time": "2024-11-22T14:07:28.455890Z"
    }
   },
   "outputs": [],
   "source": [
    "%load_ext autoreload\n",
    "%autoreload 2"
   ]
  },
  {
   "cell_type": "code",
   "execution_count": 2,
   "metadata": {
    "ExecuteTime": {
     "end_time": "2024-11-22T14:07:28.622383Z",
     "start_time": "2024-11-22T14:07:28.574616Z"
    }
   },
   "outputs": [
    {
     "name": "stdout",
     "output_type": "stream",
     "text": [
      "Using device: cuda:2\n"
     ]
    }
   ],
   "source": [
    "import os\n",
    "\n",
    "import torch\n",
    "\n",
    "device = torch.device('cuda:2' if torch.cuda.is_available() else 'cpu')\n",
    "print(f'Using device: {device}')"
   ]
  },
  {
   "cell_type": "code",
   "execution_count": 3,
   "metadata": {
    "ExecuteTime": {
     "end_time": "2024-11-22T14:07:28.705783Z",
     "start_time": "2024-11-22T14:07:28.651188Z"
    }
   },
   "outputs": [],
   "source": [
    "while 'model' not in os.listdir():\n",
    "    os.chdir('..')"
   ]
  },
  {
   "cell_type": "code",
   "execution_count": 4,
   "metadata": {},
   "outputs": [
    {
     "name": "stdout",
     "output_type": "stream",
     "text": [
      "Requirement already satisfied: deepmatcher in ./venv/lib/python3.12/site-packages (0.1.2.post2)\n",
      "Requirement already satisfied: torch>=1.0 in ./venv/lib/python3.12/site-packages (from deepmatcher) (2.5.1)\n",
      "Requirement already satisfied: tqdm in ./venv/lib/python3.12/site-packages (from deepmatcher) (4.67.1)\n",
      "Requirement already satisfied: pyprind in ./venv/lib/python3.12/site-packages (from deepmatcher) (2.11.3)\n",
      "Requirement already satisfied: six in ./venv/lib/python3.12/site-packages (from deepmatcher) (1.16.0)\n",
      "Requirement already satisfied: Cython in ./venv/lib/python3.12/site-packages (from deepmatcher) (3.0.11)\n",
      "Requirement already satisfied: torchtext>=0.9 in ./venv/lib/python3.12/site-packages (from deepmatcher) (0.18.0)\n",
      "Requirement already satisfied: nltk>=3.2.5 in ./venv/lib/python3.12/site-packages (from deepmatcher) (3.9.1)\n",
      "Requirement already satisfied: fasttext in ./venv/lib/python3.12/site-packages (from deepmatcher) (0.9.3)\n",
      "Requirement already satisfied: pandas in ./venv/lib/python3.12/site-packages (from deepmatcher) (2.2.3)\n",
      "Requirement already satisfied: dill in ./venv/lib/python3.12/site-packages (from deepmatcher) (0.3.8)\n",
      "Requirement already satisfied: scikit-learn in ./venv/lib/python3.12/site-packages (from deepmatcher) (1.5.2)\n",
      "Requirement already satisfied: click in ./venv/lib/python3.12/site-packages (from nltk>=3.2.5->deepmatcher) (8.1.7)\n",
      "Requirement already satisfied: joblib in ./venv/lib/python3.12/site-packages (from nltk>=3.2.5->deepmatcher) (1.4.2)\n",
      "Requirement already satisfied: regex>=2021.8.3 in ./venv/lib/python3.12/site-packages (from nltk>=3.2.5->deepmatcher) (2024.11.6)\n",
      "Requirement already satisfied: filelock in ./venv/lib/python3.12/site-packages (from torch>=1.0->deepmatcher) (3.16.1)\n",
      "Requirement already satisfied: typing-extensions>=4.8.0 in ./venv/lib/python3.12/site-packages (from torch>=1.0->deepmatcher) (4.12.2)\n",
      "Requirement already satisfied: networkx in ./venv/lib/python3.12/site-packages (from torch>=1.0->deepmatcher) (3.4.2)\n",
      "Requirement already satisfied: jinja2 in ./venv/lib/python3.12/site-packages (from torch>=1.0->deepmatcher) (3.1.4)\n",
      "Requirement already satisfied: fsspec in ./venv/lib/python3.12/site-packages (from torch>=1.0->deepmatcher) (2024.9.0)\n",
      "Requirement already satisfied: nvidia-cuda-nvrtc-cu12==12.4.127 in ./venv/lib/python3.12/site-packages (from torch>=1.0->deepmatcher) (12.4.127)\n",
      "Requirement already satisfied: nvidia-cuda-runtime-cu12==12.4.127 in ./venv/lib/python3.12/site-packages (from torch>=1.0->deepmatcher) (12.4.127)\n",
      "Requirement already satisfied: nvidia-cuda-cupti-cu12==12.4.127 in ./venv/lib/python3.12/site-packages (from torch>=1.0->deepmatcher) (12.4.127)\n",
      "Requirement already satisfied: nvidia-cudnn-cu12==9.1.0.70 in ./venv/lib/python3.12/site-packages (from torch>=1.0->deepmatcher) (9.1.0.70)\n",
      "Requirement already satisfied: nvidia-cublas-cu12==12.4.5.8 in ./venv/lib/python3.12/site-packages (from torch>=1.0->deepmatcher) (12.4.5.8)\n",
      "Requirement already satisfied: nvidia-cufft-cu12==11.2.1.3 in ./venv/lib/python3.12/site-packages (from torch>=1.0->deepmatcher) (11.2.1.3)\n",
      "Requirement already satisfied: nvidia-curand-cu12==10.3.5.147 in ./venv/lib/python3.12/site-packages (from torch>=1.0->deepmatcher) (10.3.5.147)\n",
      "Requirement already satisfied: nvidia-cusolver-cu12==11.6.1.9 in ./venv/lib/python3.12/site-packages (from torch>=1.0->deepmatcher) (11.6.1.9)\n",
      "Requirement already satisfied: nvidia-cusparse-cu12==12.3.1.170 in ./venv/lib/python3.12/site-packages (from torch>=1.0->deepmatcher) (12.3.1.170)\n",
      "Requirement already satisfied: nvidia-nccl-cu12==2.21.5 in ./venv/lib/python3.12/site-packages (from torch>=1.0->deepmatcher) (2.21.5)\n",
      "Requirement already satisfied: nvidia-nvtx-cu12==12.4.127 in ./venv/lib/python3.12/site-packages (from torch>=1.0->deepmatcher) (12.4.127)\n",
      "Requirement already satisfied: nvidia-nvjitlink-cu12==12.4.127 in ./venv/lib/python3.12/site-packages (from torch>=1.0->deepmatcher) (12.4.127)\n",
      "Requirement already satisfied: triton==3.1.0 in ./venv/lib/python3.12/site-packages (from torch>=1.0->deepmatcher) (3.1.0)\n",
      "Requirement already satisfied: setuptools in ./venv/lib/python3.12/site-packages (from torch>=1.0->deepmatcher) (75.6.0)\n",
      "Requirement already satisfied: sympy==1.13.1 in ./venv/lib/python3.12/site-packages (from torch>=1.0->deepmatcher) (1.13.1)\n",
      "Requirement already satisfied: mpmath<1.4,>=1.1.0 in ./venv/lib/python3.12/site-packages (from sympy==1.13.1->torch>=1.0->deepmatcher) (1.3.0)\n",
      "Requirement already satisfied: requests in ./venv/lib/python3.12/site-packages (from torchtext>=0.9->deepmatcher) (2.32.3)\n",
      "Requirement already satisfied: numpy in ./venv/lib/python3.12/site-packages (from torchtext>=0.9->deepmatcher) (2.0.2)\n",
      "Requirement already satisfied: pybind11>=2.2 in ./venv/lib/python3.12/site-packages (from fasttext->deepmatcher) (2.13.6)\n",
      "Requirement already satisfied: python-dateutil>=2.8.2 in ./venv/lib/python3.12/site-packages (from pandas->deepmatcher) (2.9.0.post0)\n",
      "Requirement already satisfied: pytz>=2020.1 in ./venv/lib/python3.12/site-packages (from pandas->deepmatcher) (2024.2)\n",
      "Requirement already satisfied: tzdata>=2022.7 in ./venv/lib/python3.12/site-packages (from pandas->deepmatcher) (2024.2)\n",
      "Requirement already satisfied: scipy>=1.6.0 in ./venv/lib/python3.12/site-packages (from scikit-learn->deepmatcher) (1.14.1)\n",
      "Requirement already satisfied: threadpoolctl>=3.1.0 in ./venv/lib/python3.12/site-packages (from scikit-learn->deepmatcher) (3.5.0)\n",
      "Requirement already satisfied: MarkupSafe>=2.0 in ./venv/lib/python3.12/site-packages (from jinja2->torch>=1.0->deepmatcher) (3.0.2)\n",
      "Requirement already satisfied: charset-normalizer<4,>=2 in ./venv/lib/python3.12/site-packages (from requests->torchtext>=0.9->deepmatcher) (3.4.0)\n",
      "Requirement already satisfied: idna<4,>=2.5 in ./venv/lib/python3.12/site-packages (from requests->torchtext>=0.9->deepmatcher) (3.10)\n",
      "Requirement already satisfied: urllib3<3,>=1.21.1 in ./venv/lib/python3.12/site-packages (from requests->torchtext>=0.9->deepmatcher) (2.2.3)\n",
      "Requirement already satisfied: certifi>=2017.4.17 in ./venv/lib/python3.12/site-packages (from requests->torchtext>=0.9->deepmatcher) (2024.8.30)\n",
      "Note: you may need to restart the kernel to use updated packages.\n"
     ]
    }
   ],
   "source": [
    "%pip install deepmatcher"
   ]
  },
  {
   "cell_type": "code",
   "execution_count": 5,
   "metadata": {
    "ExecuteTime": {
     "end_time": "2024-11-22T14:07:28.797701Z",
     "start_time": "2024-11-22T14:07:28.742391Z"
    }
   },
   "outputs": [
    {
     "name": "stderr",
     "output_type": "stream",
     "text": [
      "/home/infres/tperrot-21/venv/lib/python3.12/site-packages/torchtext/__init__.py:7: SyntaxWarning: invalid escape sequence '\\ '\n",
      "  \"\\n/!\\ IMPORTANT WARNING ABOUT TORCHTEXT STATUS /!\\ \\n\"\n"
     ]
    },
    {
     "ename": "OSError",
     "evalue": "/home/infres/tperrot-21/venv/lib/python3.12/site-packages/torchtext/lib/libtorchtext.so: undefined symbol: _ZN5torch3jit17parseSchemaOrNameERKSs",
     "output_type": "error",
     "traceback": [
      "\u001b[0;31m---------------------------------------------------------------------------\u001b[0m",
      "\u001b[0;31mOSError\u001b[0m                                   Traceback (most recent call last)",
      "Cell \u001b[0;32mIn[5], line 2\u001b[0m\n\u001b[1;32m      1\u001b[0m \u001b[38;5;28;01mfrom\u001b[39;00m \u001b[38;5;21;01mmodel\u001b[39;00m\u001b[38;5;21;01m.\u001b[39;00m\u001b[38;5;21;01mutils\u001b[39;00m \u001b[38;5;28;01mimport\u001b[39;00m load_data\n\u001b[0;32m----> 2\u001b[0m \u001b[38;5;28;01mimport\u001b[39;00m \u001b[38;5;21;01mdeepmatcher\u001b[39;00m \u001b[38;5;28;01mas\u001b[39;00m \u001b[38;5;21;01mdm\u001b[39;00m\n",
      "File \u001b[0;32m~/venv/lib/python3.12/site-packages/deepmatcher/__init__.py:10\u001b[0m\n\u001b[1;32m      7\u001b[0m \u001b[38;5;28;01mimport\u001b[39;00m \u001b[38;5;21;01mwarnings\u001b[39;00m\n\u001b[1;32m      8\u001b[0m \u001b[38;5;28;01mimport\u001b[39;00m \u001b[38;5;21;01msys\u001b[39;00m\n\u001b[0;32m---> 10\u001b[0m \u001b[38;5;28;01mfrom\u001b[39;00m \u001b[38;5;21;01m.\u001b[39;00m\u001b[38;5;21;01mdata\u001b[39;00m \u001b[38;5;28;01mimport\u001b[39;00m process \u001b[38;5;28;01mas\u001b[39;00m data_process\n\u001b[1;32m     11\u001b[0m \u001b[38;5;28;01mfrom\u001b[39;00m \u001b[38;5;21;01m.\u001b[39;00m\u001b[38;5;21;01mmodels\u001b[39;00m \u001b[38;5;28;01mimport\u001b[39;00m modules\n\u001b[1;32m     12\u001b[0m \u001b[38;5;28;01mfrom\u001b[39;00m \u001b[38;5;21;01m.\u001b[39;00m\u001b[38;5;21;01mmodels\u001b[39;00m\u001b[38;5;21;01m.\u001b[39;00m\u001b[38;5;21;01mcore\u001b[39;00m \u001b[38;5;28;01mimport\u001b[39;00m (MatchingModel, AttrSummarizer, WordContextualizer,\n\u001b[1;32m     13\u001b[0m                           WordComparator, WordAggregator, Classifier)\n",
      "File \u001b[0;32m~/venv/lib/python3.12/site-packages/deepmatcher/data/__init__.py:1\u001b[0m\n\u001b[0;32m----> 1\u001b[0m \u001b[38;5;28;01mfrom\u001b[39;00m \u001b[38;5;21;01m.\u001b[39;00m\u001b[38;5;21;01mfield\u001b[39;00m \u001b[38;5;28;01mimport\u001b[39;00m MatchingField, reset_vector_cache\n\u001b[1;32m      2\u001b[0m \u001b[38;5;28;01mfrom\u001b[39;00m \u001b[38;5;21;01m.\u001b[39;00m\u001b[38;5;21;01mdataset\u001b[39;00m \u001b[38;5;28;01mimport\u001b[39;00m MatchingDataset\n\u001b[1;32m      3\u001b[0m \u001b[38;5;28;01mfrom\u001b[39;00m \u001b[38;5;21;01m.\u001b[39;00m\u001b[38;5;21;01miterator\u001b[39;00m \u001b[38;5;28;01mimport\u001b[39;00m MatchingIterator\n",
      "File \u001b[0;32m~/venv/lib/python3.12/site-packages/deepmatcher/data/field.py:13\u001b[0m\n\u001b[1;32m     11\u001b[0m \u001b[38;5;28;01mimport\u001b[39;00m \u001b[38;5;21;01mfasttext\u001b[39;00m\n\u001b[1;32m     12\u001b[0m \u001b[38;5;28;01mimport\u001b[39;00m \u001b[38;5;21;01mtorch\u001b[39;00m\n\u001b[0;32m---> 13\u001b[0m \u001b[38;5;28;01mfrom\u001b[39;00m \u001b[38;5;21;01mtorchtext\u001b[39;00m\u001b[38;5;21;01m.\u001b[39;00m\u001b[38;5;21;01mlegacy\u001b[39;00m \u001b[38;5;28;01mimport\u001b[39;00m data, vocab\n\u001b[1;32m     14\u001b[0m \u001b[38;5;28;01mfrom\u001b[39;00m \u001b[38;5;21;01mtorchtext\u001b[39;00m\u001b[38;5;21;01m.\u001b[39;00m\u001b[38;5;21;01mutils\u001b[39;00m \u001b[38;5;28;01mimport\u001b[39;00m download_from_url\n\u001b[1;32m     15\u001b[0m \u001b[38;5;28;01mfrom\u001b[39;00m \u001b[38;5;21;01murllib\u001b[39;00m\u001b[38;5;21;01m.\u001b[39;00m\u001b[38;5;21;01mrequest\u001b[39;00m \u001b[38;5;28;01mimport\u001b[39;00m urlretrieve\n",
      "File \u001b[0;32m~/venv/lib/python3.12/site-packages/torchtext/__init__.py:18\u001b[0m\n\u001b[1;32m     15\u001b[0m     _WARN \u001b[38;5;241m=\u001b[39m \u001b[38;5;28;01mFalse\u001b[39;00m\n\u001b[1;32m     17\u001b[0m \u001b[38;5;66;03m# the following import has to happen first in order to load the torchtext C++ library\u001b[39;00m\n\u001b[0;32m---> 18\u001b[0m \u001b[38;5;28;01mfrom\u001b[39;00m \u001b[38;5;21;01mtorchtext\u001b[39;00m \u001b[38;5;28;01mimport\u001b[39;00m _extension  \u001b[38;5;66;03m# noqa: F401\u001b[39;00m\n\u001b[1;32m     20\u001b[0m _TEXT_BUCKET \u001b[38;5;241m=\u001b[39m \u001b[38;5;124m\"\u001b[39m\u001b[38;5;124mhttps://download.pytorch.org/models/text/\u001b[39m\u001b[38;5;124m\"\u001b[39m\n\u001b[1;32m     22\u001b[0m _CACHE_DIR \u001b[38;5;241m=\u001b[39m os\u001b[38;5;241m.\u001b[39mpath\u001b[38;5;241m.\u001b[39mexpanduser(os\u001b[38;5;241m.\u001b[39mpath\u001b[38;5;241m.\u001b[39mjoin(_get_torch_home(), \u001b[38;5;124m\"\u001b[39m\u001b[38;5;124mtext\u001b[39m\u001b[38;5;124m\"\u001b[39m))\n",
      "File \u001b[0;32m~/venv/lib/python3.12/site-packages/torchtext/_extension.py:64\u001b[0m\n\u001b[1;32m     59\u001b[0m     \u001b[38;5;66;03m# This import is for initializing the methods registered via PyBind11\u001b[39;00m\n\u001b[1;32m     60\u001b[0m     \u001b[38;5;66;03m# This has to happen after the base library is loaded\u001b[39;00m\n\u001b[1;32m     61\u001b[0m     \u001b[38;5;28;01mfrom\u001b[39;00m \u001b[38;5;21;01mtorchtext\u001b[39;00m \u001b[38;5;28;01mimport\u001b[39;00m _torchtext  \u001b[38;5;66;03m# noqa\u001b[39;00m\n\u001b[0;32m---> 64\u001b[0m \u001b[43m_init_extension\u001b[49m\u001b[43m(\u001b[49m\u001b[43m)\u001b[49m\n",
      "File \u001b[0;32m~/venv/lib/python3.12/site-packages/torchtext/_extension.py:58\u001b[0m, in \u001b[0;36m_init_extension\u001b[0;34m()\u001b[0m\n\u001b[1;32m     55\u001b[0m \u001b[38;5;28;01mif\u001b[39;00m \u001b[38;5;129;01mnot\u001b[39;00m _mod_utils\u001b[38;5;241m.\u001b[39mis_module_available(\u001b[38;5;124m\"\u001b[39m\u001b[38;5;124mtorchtext._torchtext\u001b[39m\u001b[38;5;124m\"\u001b[39m):\n\u001b[1;32m     56\u001b[0m     \u001b[38;5;28;01mraise\u001b[39;00m \u001b[38;5;167;01mImportError\u001b[39;00m(\u001b[38;5;124m\"\u001b[39m\u001b[38;5;124mtorchtext C++ Extension is not found.\u001b[39m\u001b[38;5;124m\"\u001b[39m)\n\u001b[0;32m---> 58\u001b[0m \u001b[43m_load_lib\u001b[49m\u001b[43m(\u001b[49m\u001b[38;5;124;43m\"\u001b[39;49m\u001b[38;5;124;43mlibtorchtext\u001b[39;49m\u001b[38;5;124;43m\"\u001b[39;49m\u001b[43m)\u001b[49m\n\u001b[1;32m     59\u001b[0m \u001b[38;5;66;03m# This import is for initializing the methods registered via PyBind11\u001b[39;00m\n\u001b[1;32m     60\u001b[0m \u001b[38;5;66;03m# This has to happen after the base library is loaded\u001b[39;00m\n\u001b[1;32m     61\u001b[0m \u001b[38;5;28;01mfrom\u001b[39;00m \u001b[38;5;21;01mtorchtext\u001b[39;00m \u001b[38;5;28;01mimport\u001b[39;00m _torchtext\n",
      "File \u001b[0;32m~/venv/lib/python3.12/site-packages/torchtext/_extension.py:50\u001b[0m, in \u001b[0;36m_load_lib\u001b[0;34m(lib)\u001b[0m\n\u001b[1;32m     48\u001b[0m \u001b[38;5;28;01mif\u001b[39;00m \u001b[38;5;129;01mnot\u001b[39;00m path\u001b[38;5;241m.\u001b[39mexists():\n\u001b[1;32m     49\u001b[0m     \u001b[38;5;28;01mreturn\u001b[39;00m \u001b[38;5;28;01mFalse\u001b[39;00m\n\u001b[0;32m---> 50\u001b[0m \u001b[43mtorch\u001b[49m\u001b[38;5;241;43m.\u001b[39;49m\u001b[43mops\u001b[49m\u001b[38;5;241;43m.\u001b[39;49m\u001b[43mload_library\u001b[49m\u001b[43m(\u001b[49m\u001b[43mpath\u001b[49m\u001b[43m)\u001b[49m\n\u001b[1;32m     51\u001b[0m \u001b[38;5;28;01mreturn\u001b[39;00m \u001b[38;5;28;01mTrue\u001b[39;00m\n",
      "File \u001b[0;32m~/venv/lib/python3.12/site-packages/torch/_ops.py:1350\u001b[0m, in \u001b[0;36m_Ops.load_library\u001b[0;34m(self, path)\u001b[0m\n\u001b[1;32m   1345\u001b[0m path \u001b[38;5;241m=\u001b[39m _utils_internal\u001b[38;5;241m.\u001b[39mresolve_library_path(path)\n\u001b[1;32m   1346\u001b[0m \u001b[38;5;28;01mwith\u001b[39;00m dl_open_guard():\n\u001b[1;32m   1347\u001b[0m     \u001b[38;5;66;03m# Import the shared library into the process, thus running its\u001b[39;00m\n\u001b[1;32m   1348\u001b[0m     \u001b[38;5;66;03m# static (global) initialization code in order to register custom\u001b[39;00m\n\u001b[1;32m   1349\u001b[0m     \u001b[38;5;66;03m# operators with the JIT.\u001b[39;00m\n\u001b[0;32m-> 1350\u001b[0m     \u001b[43mctypes\u001b[49m\u001b[38;5;241;43m.\u001b[39;49m\u001b[43mCDLL\u001b[49m\u001b[43m(\u001b[49m\u001b[43mpath\u001b[49m\u001b[43m)\u001b[49m\n\u001b[1;32m   1351\u001b[0m \u001b[38;5;28mself\u001b[39m\u001b[38;5;241m.\u001b[39mloaded_libraries\u001b[38;5;241m.\u001b[39madd(path)\n",
      "File \u001b[0;32m/usr/lib/python3.12/ctypes/__init__.py:379\u001b[0m, in \u001b[0;36mCDLL.__init__\u001b[0;34m(self, name, mode, handle, use_errno, use_last_error, winmode)\u001b[0m\n\u001b[1;32m    376\u001b[0m \u001b[38;5;28mself\u001b[39m\u001b[38;5;241m.\u001b[39m_FuncPtr \u001b[38;5;241m=\u001b[39m _FuncPtr\n\u001b[1;32m    378\u001b[0m \u001b[38;5;28;01mif\u001b[39;00m handle \u001b[38;5;129;01mis\u001b[39;00m \u001b[38;5;28;01mNone\u001b[39;00m:\n\u001b[0;32m--> 379\u001b[0m     \u001b[38;5;28mself\u001b[39m\u001b[38;5;241m.\u001b[39m_handle \u001b[38;5;241m=\u001b[39m \u001b[43m_dlopen\u001b[49m\u001b[43m(\u001b[49m\u001b[38;5;28;43mself\u001b[39;49m\u001b[38;5;241;43m.\u001b[39;49m\u001b[43m_name\u001b[49m\u001b[43m,\u001b[49m\u001b[43m \u001b[49m\u001b[43mmode\u001b[49m\u001b[43m)\u001b[49m\n\u001b[1;32m    380\u001b[0m \u001b[38;5;28;01melse\u001b[39;00m:\n\u001b[1;32m    381\u001b[0m     \u001b[38;5;28mself\u001b[39m\u001b[38;5;241m.\u001b[39m_handle \u001b[38;5;241m=\u001b[39m handle\n",
      "\u001b[0;31mOSError\u001b[0m: /home/infres/tperrot-21/venv/lib/python3.12/site-packages/torchtext/lib/libtorchtext.so: undefined symbol: _ZN5torch3jit17parseSchemaOrNameERKSs"
     ]
    }
   ],
   "source": [
    "from model.utils import load_data\n",
    "import deepmatcher as dm"
   ]
  },
  {
   "cell_type": "code",
   "execution_count": 146,
   "metadata": {
    "ExecuteTime": {
     "end_time": "2024-11-22T14:07:28.880915Z",
     "start_time": "2024-11-22T14:07:28.826082Z"
    }
   },
   "outputs": [],
   "source": [
    "MODEL_NAME = ''\n",
    "DATA_NAME = 'amazon-google'\n",
    "COMPUTER = 'gpu4.enst.fr:' + str(device)[-1:]\n",
    "DATA_DIR = os.path.join('data', DATA_NAME)"
   ]
  },
  {
   "cell_type": "code",
   "execution_count": 147,
   "metadata": {
    "ExecuteTime": {
     "end_time": "2024-11-22T14:07:29.462528Z",
     "start_time": "2024-11-22T14:07:28.915526Z"
    }
   },
   "outputs": [
    {
     "name": "stdout",
     "output_type": "stream",
     "text": [
      "Table A columns:\n",
      "    column_name data_example\n",
      "1   description          NaN\n",
      "2  manufacturer   broderbund\n",
      "3         price          0.0 \n",
      "\n",
      "Table B columns:\n",
      "    column_name              data_example\n",
      "1   description  learning quickbooks 2007\n",
      "2  manufacturer                    intuit\n",
      "3         price                     38.99 \n",
      "\n",
      "Serialized entities \n",
      "\n"
     ]
    },
    {
     "data": {
      "text/plain": [
       "['clickart 950 000 - premier image pack (dvd-rom)  broderbund 0.0',\n",
       " \"noah's ark activity center (jewel case ages 3-8)  victory multimedia 0.0\",\n",
       " \"peachtree by sage premium accounting for nonprofits 2007 peachtree premium accounting for nonprofits 2007 is the affordable easy to use accounting solution that provides you with donor/grantor management. if you're like most nonprofit organizations you're constantly striving to maximize each and every dollar of your annual operating budget. financial reporting by programs and funds advanced operational reporting and the rock-solid core accounting features that have made peachtree the choice of hundreds of thousands of small businesses. the result is an accounting solution tailor-made for the challenges of operating a nonprofit organization. keep an audit trail to record and report on any changes made to your transactions improve data integrity with prior period locking archive your organization's data for snap shots of your data before you closed your year set up individual user profiles with password protection peachtree restore wizard restores all backed-up data files plus web transactions and customized forms includes all standard accounting features - general ledger accounts receivable &accounts payable; payroll solutions; time & billing and job costing; fixed assets; analysis and reporting & customization easily convert from quickbooks sage software 599.99\",\n",
       " 'singing coach unlimited singing coach unlimited - electronic learning products (win me nt 2000 xp) carry-a-tune technologies 99.99',\n",
       " 'adobe after effects professional 6.5 upgrade from standard to professional upgrade only; installation of after effects standard new disk caching tools speed up your interactive work save any combination of animation parameters as presets -- create transformations masks expressions effects and text tighter integration with other adobe tools - import photoshop cs and illustrator cs files with preserved layers and other attributes output to firewire for easier previewing on ntsc and pal video monitors adobe 499.99']"
      ]
     },
     "execution_count": 147,
     "metadata": {},
     "output_type": "execute_result"
    }
   ],
   "source": [
    "table_a_serialized, table_b_serialized, X_train_ids, y_train, X_valid_ids, y_valid, X_test_ids, y_test = load_data(DATA_DIR, remove_col_names=True)\n",
    "table_a_serialized[:5]"
   ]
  },
  {
   "cell_type": "code",
   "execution_count": 148,
   "metadata": {
    "ExecuteTime": {
     "end_time": "2024-11-22T14:07:29.540746Z",
     "start_time": "2024-11-22T14:07:29.491999Z"
    }
   },
   "outputs": [],
   "source": [
    "all_true_matches = set()\n",
    "for i in range(len(X_train_ids)):\n",
    "    if y_train[i] == 1:\n",
    "        all_true_matches.add((X_train_ids[i][0], X_train_ids[i][1]))\n",
    "for i in range(len(X_valid_ids)):\n",
    "    if y_valid[i] == 1:\n",
    "        all_true_matches.add((X_valid_ids[i][0], X_valid_ids[i][1]))\n",
    "for i in range(len(X_test_ids)):\n",
    "    if y_test[i] == 1:\n",
    "        all_true_matches.add((X_test_ids[i][0], X_test_ids[i][1]))"
   ]
  },
  {
   "cell_type": "markdown",
   "metadata": {},
   "source": [
    "## Pre-processing"
   ]
  },
  {
   "cell_type": "code",
   "execution_count": 149,
   "metadata": {
    "ExecuteTime": {
     "end_time": "2024-11-22T14:07:29.624487Z",
     "start_time": "2024-11-22T14:07:29.572946Z"
    }
   },
   "outputs": [],
   "source": [
    "import numpy as np\n",
    "from sentence_transformers import SentenceTransformer"
   ]
  },
  {
   "cell_type": "code",
   "execution_count": 150,
   "metadata": {
    "ExecuteTime": {
     "end_time": "2024-11-22T14:07:31.067809Z",
     "start_time": "2024-11-22T14:07:29.721046Z"
    }
   },
   "outputs": [
    {
     "name": "stderr",
     "output_type": "stream",
     "text": [
      "/home/infres/tperrot-21/venv/lib/python3.12/site-packages/transformers/tokenization_utils_base.py:1617: FutureWarning: `clean_up_tokenization_spaces` was not set. It will be set to `True` by default. This behavior will be deprecated in transformers v4.45, and will be then set to `False` by default. For more details check this issue: https://github.com/huggingface/transformers/issues/31884\n",
      "  warnings.warn(\n"
     ]
    }
   ],
   "source": [
    "MODEL_NAME = 'all-mpnet-base-v2'\n",
    "\n",
    "model = SentenceTransformer(MODEL_NAME, device=device)"
   ]
  },
  {
   "cell_type": "code",
   "execution_count": 151,
   "metadata": {
    "ExecuteTime": {
     "end_time": "2024-11-22T14:07:41.367134Z",
     "start_time": "2024-11-22T14:07:31.096229Z"
    }
   },
   "outputs": [],
   "source": [
    "embedding_a = model.encode(table_a_serialized)\n",
    "embedding_b = model.encode(table_b_serialized)"
   ]
  },
  {
   "cell_type": "code",
   "execution_count": 152,
   "metadata": {
    "ExecuteTime": {
     "end_time": "2024-11-22T14:07:41.509212Z",
     "start_time": "2024-11-22T14:07:41.450847Z"
    }
   },
   "outputs": [
    {
     "name": "stdout",
     "output_type": "stream",
     "text": [
      "max length of a sentence: 19318\n"
     ]
    }
   ],
   "source": [
    "print('max length of a sentence:', max([len(x) for x in table_a_serialized]))"
   ]
  },
  {
   "cell_type": "markdown",
   "metadata": {},
   "source": [
    "## Training"
   ]
  },
  {
   "cell_type": "markdown",
   "metadata": {},
   "source": [
    "### KNN"
   ]
  },
  {
   "cell_type": "code",
   "execution_count": 153,
   "metadata": {
    "ExecuteTime": {
     "end_time": "2024-11-22T14:07:41.808555Z",
     "start_time": "2024-11-22T14:07:41.551124Z"
    }
   },
   "outputs": [
    {
     "name": "stdout",
     "output_type": "stream",
     "text": [
      "Embedding table a shape: (1113, 768)\n",
      "Embedding table b shape: (1291, 768)\n",
      "Distances shape: (1113, 20)\n",
      "Indices shape: (1113, 20)\n"
     ]
    }
   ],
   "source": [
    "# Perform KNN to find the nearest neighbors with embeddings\n",
    "from sklearn.neighbors import NearestNeighbors\n",
    "\n",
    "knn_sbert = NearestNeighbors(n_neighbors=20, metric='cosine')\n",
    "knn_sbert.fit(embedding_b)\n",
    "\n",
    "distances_sbert, indices_sbert = knn_sbert.kneighbors(embedding_a)\n",
    "\n",
    "print(f'Embedding table a shape: {embedding_a.shape}')\n",
    "print(f'Embedding table b shape: {embedding_b.shape}')\n",
    "print(f'Distances shape: {distances_sbert.shape}')\n",
    "print(f'Indices shape: {indices_sbert.shape}')"
   ]
  },
  {
   "cell_type": "code",
   "execution_count": 154,
   "metadata": {
    "ExecuteTime": {
     "end_time": "2024-11-22T14:07:41.908510Z",
     "start_time": "2024-11-22T14:07:41.852021Z"
    }
   },
   "outputs": [
    {
     "name": "stdout",
     "output_type": "stream",
     "text": [
      "[[ 739  628 1244 ...  946   20  228]\n",
      " [ 741  663   43 ... 1006  109 1161]\n",
      " [ 740  443  573 ...  329  983  367]\n",
      " ...\n",
      " [ 312   19  188 ...  843  183  996]\n",
      " [ 448  308  519 ...  178  644  757]\n",
      " [ 310   88  469 ... 1253 1110  314]]\n"
     ]
    }
   ],
   "source": [
    "print(indices_sbert)"
   ]
  },
  {
   "cell_type": "code",
   "execution_count": 155,
   "metadata": {
    "ExecuteTime": {
     "end_time": "2024-11-22T14:07:42.007544Z",
     "start_time": "2024-11-22T14:07:41.944717Z"
    }
   },
   "outputs": [
    {
     "name": "stdout",
     "output_type": "stream",
     "text": [
      "Reduction ratio: 0.9845081332300543, matches found: 1239, matches not found: 59\n",
      "Pair completeness: 0.9545454545454546\n",
      "F1 score: 0.9692952989668259\n"
     ]
    }
   ],
   "source": [
    "n_m = len(all_true_matches)\n",
    "n_n = len(table_a_serialized) * len(table_b_serialized) - n_m\n",
    "s_m = 0\n",
    "s_n = 0\n",
    "\n",
    "for i in range(len(table_a_serialized)):\n",
    "    for j in indices_sbert[i]:\n",
    "        if (i, j) in all_true_matches:\n",
    "            s_m += 1\n",
    "        else:\n",
    "            s_n += 1\n",
    "\n",
    "RR = 1 - (s_m + s_n) / (n_m + n_n)\n",
    "PC = s_m / n_m\n",
    "print(f'Reduction ratio: {RR}, matches found: {s_m}, matches not found: {n_m - s_m}')\n",
    "print(f'Pair completeness: {PC}')\n",
    "print(f'F1 score: {2 * RR * PC / (RR + PC)}')\n"
   ]
  },
  {
   "cell_type": "markdown",
   "metadata": {},
   "source": [
    "> Non ordered version \\\n",
    "Reduction ratio: 0.9845081332300543 \\\n",
    "Pair completeness: 0.9422187981510015 \\\n",
    "F1 score: 0.962899365710323"
   ]
  },
  {
   "cell_type": "code",
   "execution_count": 156,
   "metadata": {
    "ExecuteTime": {
     "end_time": "2024-11-22T14:07:42.272861Z",
     "start_time": "2024-11-22T14:07:42.044335Z"
    }
   },
   "outputs": [],
   "source": [
    "from sklearn.feature_extraction.text import TfidfVectorizer\n",
    "\n",
    "vectorizer = TfidfVectorizer()\n",
    "X = vectorizer.fit_transform(table_a_serialized)\n",
    "Y = vectorizer.transform(table_b_serialized)"
   ]
  },
  {
   "cell_type": "code",
   "execution_count": 157,
   "metadata": {
    "ExecuteTime": {
     "end_time": "2024-11-22T14:07:42.435367Z",
     "start_time": "2024-11-22T14:07:42.304376Z"
    }
   },
   "outputs": [
    {
     "name": "stdout",
     "output_type": "stream",
     "text": [
      "Distances shape: (1113, 20)\n",
      "Indices shape: (1113, 20)\n"
     ]
    }
   ],
   "source": [
    "knn_sbert = NearestNeighbors(n_neighbors=20)\n",
    "knn_sbert.fit(Y)\n",
    "distances_tfidf, indices_tfidf = knn_sbert.kneighbors(X)\n",
    "\n",
    "print(f'Distances shape: {distances_tfidf.shape}')\n",
    "print(f'Indices shape: {indices_tfidf.shape}')"
   ]
  },
  {
   "cell_type": "code",
   "execution_count": 159,
   "metadata": {
    "ExecuteTime": {
     "end_time": "2024-11-22T14:07:48.533046Z",
     "start_time": "2024-11-22T14:07:48.464152Z"
    }
   },
   "outputs": [
    {
     "name": "stdout",
     "output_type": "stream",
     "text": [
      "Reduction ratio: 0.9845081332300543, matches found: 1221, matches not found: 77\n",
      "Pair completeness: 0.940677966101695\n",
      "F1 score: 0.9620941151599672\n"
     ]
    }
   ],
   "source": [
    "n_m = len(all_true_matches)\n",
    "n_n = len(table_a_serialized) * len(table_b_serialized) - n_m\n",
    "s_m = 0\n",
    "s_n = 0\n",
    "\n",
    "for i in range(len(table_a_serialized)):\n",
    "    for j in indices_tfidf[i]:\n",
    "        if (i, j) in all_true_matches:\n",
    "            s_m += 1\n",
    "        else:\n",
    "            s_n += 1\n",
    "\n",
    "RR = 1 - (s_m + s_n) / (n_m + n_n)\n",
    "PC = s_m / n_m\n",
    "print(f'Reduction ratio: {RR}, matches found: {s_m}, matches not found: {n_m - s_m}')\n",
    "print(f'Pair completeness: {PC}')\n",
    "print(f'F1 score: {2 * RR * PC / (RR + PC)}')"
   ]
  },
  {
   "cell_type": "code",
   "execution_count": 166,
   "metadata": {
    "ExecuteTime": {
     "end_time": "2024-11-22T14:11:11.916475Z",
     "start_time": "2024-11-22T14:11:11.847239Z"
    }
   },
   "outputs": [],
   "source": [
    "# Merge both indices without duplicates\n",
    "indices = []\n",
    "for i in range(len(table_a_serialized)):\n",
    "    indices.append(list(set(list(indices_sbert[i]) + list(indices_tfidf[i]))))"
   ]
  },
  {
   "cell_type": "code",
   "execution_count": 167,
   "metadata": {
    "ExecuteTime": {
     "end_time": "2024-11-22T14:11:12.932189Z",
     "start_time": "2024-11-22T14:11:12.860799Z"
    }
   },
   "outputs": [
    {
     "name": "stdout",
     "output_type": "stream",
     "text": [
      "Reduction ratio: 0.9750278902318421, matches found: 1271, matches not found: 27\n",
      "Pair completeness: 0.9791987673343605\n",
      "F1 score: 0.9771088778623913\n"
     ]
    }
   ],
   "source": [
    "n_m = len(all_true_matches)\n",
    "n_n = len(table_a_serialized) * len(table_b_serialized) - n_m\n",
    "s_m = 0\n",
    "s_n = 0\n",
    "\n",
    "for i in range(len(table_a_serialized)):\n",
    "    for j in indices[i]:\n",
    "        if (i, j) in all_true_matches:\n",
    "            s_m += 1\n",
    "        else:\n",
    "            s_n += 1\n",
    "\n",
    "RR = 1 - (s_m + s_n) / (n_m + n_n)\n",
    "PC = s_m / n_m\n",
    "print(f'Reduction ratio: {RR}, matches found: {s_m}, matches not found: {n_m - s_m}')\n",
    "print(f'Pair completeness: {PC}')\n",
    "print(f'F1 score: {2 * RR * PC / (RR + PC)}')"
   ]
  },
  {
   "cell_type": "code",
   "execution_count": 168,
   "metadata": {
    "ExecuteTime": {
     "end_time": "2024-11-22T14:12:28.703905Z",
     "start_time": "2024-11-22T14:12:28.329069Z"
    }
   },
   "outputs": [
    {
     "name": "stdout",
     "output_type": "stream",
     "text": [
      "Average number of neighbors: 32.23899371069182\n"
     ]
    }
   ],
   "source": [
    "# Average number of neighbors\n",
    "n_neighbors = [len(i) for i in indices]\n",
    "print(f'Average number of neighbors: {np.mean(n_neighbors)}')"
   ]
  },
  {
   "cell_type": "markdown",
   "metadata": {},
   "source": [
    "#### Plot"
   ]
  },
  {
   "cell_type": "code",
   "execution_count": 169,
   "metadata": {
    "ExecuteTime": {
     "end_time": "2024-11-22T14:14:37.870850Z",
     "start_time": "2024-11-22T14:14:37.395551Z"
    }
   },
   "outputs": [],
   "source": [
    "import matplotlib.pyplot as plt\n",
    "from tqdm.notebook import tqdm, trange"
   ]
  },
  {
   "cell_type": "code",
   "execution_count": 170,
   "metadata": {
    "ExecuteTime": {
     "end_time": "2024-11-22T14:14:51.676795Z",
     "start_time": "2024-11-22T14:14:44.117518Z"
    }
   },
   "outputs": [
    {
     "data": {
      "application/vnd.jupyter.widget-view+json": {
       "model_id": "042c026f5c474f7bb8775f2871dbeaca",
       "version_major": 2,
       "version_minor": 0
      },
      "text/plain": [
       "  0%|          | 0/29 [00:00<?, ?it/s]"
      ]
     },
     "metadata": {},
     "output_type": "display_data"
    }
   ],
   "source": [
    "f1_scores = []\n",
    "k_s = list(range(1,30))\n",
    "for k in tqdm(k_s):\n",
    "    knn_sbert = NearestNeighbors(n_neighbors=k, metric='cosine')\n",
    "    knn_tfidf = NearestNeighbors(n_neighbors=k)\n",
    "    knn_sbert.fit(embedding_b)\n",
    "    knn_tfidf.fit(Y)\n",
    "\n",
    "    distances_sbert, indices_sbert = knn_sbert.kneighbors(embedding_a)\n",
    "    distances_tfidf, indices_tfidf = knn_tfidf.kneighbors(X)\n",
    "\n",
    "    indices = []\n",
    "    for i in range(len(table_a_serialized)):\n",
    "        indices.append(list(set(list(indices_sbert[i]) + list(indices_tfidf[i]))))\n",
    "\n",
    "    s_m = 0\n",
    "    s_n = 0\n",
    "\n",
    "    for i in range(len(table_a_serialized)):\n",
    "        for j in indices[i]:\n",
    "            if (i, j) in all_true_matches:\n",
    "                s_m += 1\n",
    "            else:\n",
    "                s_n += 1\n",
    "\n",
    "    RR = 1 - (s_m + s_n) / (n_m + n_n)\n",
    "    PC = s_m / n_m\n",
    "    f1_scores.append(2 * RR * PC / (RR + PC))"
   ]
  },
  {
   "cell_type": "code",
   "execution_count": 171,
   "metadata": {
    "ExecuteTime": {
     "end_time": "2024-11-22T14:14:55.525939Z",
     "start_time": "2024-11-22T14:14:55.293679Z"
    }
   },
   "outputs": [
    {
     "data": {
      "image/png": "[encoded data removed]",
      "text/plain": [
       "<Figure size 640x480 with 1 Axes>"
      ]
     },
     "metadata": {},
     "output_type": "display_data"
    }
   ],
   "source": [
    "reduction_n_comparaison =[len(table_a_serialized) * len(table_b_serialized) - k * len(table_a_serialized) for k in k_s]\n",
    "\n",
    "plt.plot(k_s, f1_scores)\n",
    "\n",
    "plt.title('F1 score of KNN vs number of neighbors')\n",
    "plt.xlabel('k neighbors')\n",
    "plt.ylabel('F1 score')\n",
    "plt.show()"
   ]
  }
 ],
 "metadata": {
  "kernelspec": {
   "display_name": "Python 3 (ipykernel)",
   "language": "python",
   "name": "python3"
  }
 },
 "nbformat": 4,
 "nbformat_minor": 2
}

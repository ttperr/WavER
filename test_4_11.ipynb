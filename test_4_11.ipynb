{
 "cells": [
  {
   "cell_type": "markdown",
   "metadata": {},
   "source": [
    "# Entity Resolution project @ Wavestone\n",
    "## Test generation for the ER project presented at Wavestone the 04/11/2024\n",
    "\n",
    "> *Datasets information from [here](https://data.dws.informatik.uni-mannheim.de/benchmarkmatchingtasks/index.html)*\n",
    "\n",
    "> **Tristan PERROT**"
   ]
  },
  {
   "cell_type": "code",
   "execution_count": 65,
   "metadata": {},
   "outputs": [
    {
     "name": "stdout",
     "output_type": "stream",
     "text": [
      "Using device: cuda:1\n"
     ]
    }
   ],
   "source": [
    "import os\n",
    "\n",
    "import pandas as pd\n",
    "import torch\n",
    "import pickle\n",
    "\n",
    "device = torch.device('cuda:1' if torch.cuda.is_available() else 'cpu')\n",
    "print(f'Using device: {device}')"
   ]
  },
  {
   "cell_type": "code",
   "execution_count": 66,
   "metadata": {},
   "outputs": [],
   "source": [
    "import numpy as np\n",
    "import torch.nn as nn\n",
    "from sentence_transformers import CrossEncoder, InputExample\n",
    "from sentence_transformers.cross_encoder.evaluation import CEBinaryClassificationEvaluator\n",
    "from sklearn.metrics import classification_report\n",
    "from torch.utils.data import DataLoader\n",
    "from torch.nn import BCEWithLogitsLoss"
   ]
  },
  {
   "cell_type": "code",
   "execution_count": 67,
   "metadata": {},
   "outputs": [],
   "source": [
    "while 'model' not in os.listdir():\n",
    "    os.chdir('..')\n",
    "\n",
    "from model.utils import load_data\n",
    "from model.BertModel import BertModel"
   ]
  },
  {
   "cell_type": "code",
   "execution_count": 68,
   "metadata": {},
   "outputs": [],
   "source": [
    "COMPUTER = 'gpu4.enst.fr:' + str(device.index)\n",
    "final_table_exports = \"\""
   ]
  },
  {
   "cell_type": "code",
   "execution_count": 69,
   "metadata": {},
   "outputs": [],
   "source": [
    "SET_1 = 'walmart'\n",
    "SET_2 = 'amazon'\n",
    "DATA_NAME = f'{SET_1}-{SET_2}'\n",
    "DATA_DIR = os.path.join('data', DATA_NAME)"
   ]
  },
  {
   "cell_type": "code",
   "execution_count": 70,
   "metadata": {},
   "outputs": [
    {
     "name": "stdout",
     "output_type": "stream",
     "text": [
      "Downloaded dataset: walmart-amazon \n",
      "\n",
      "Loaded dataset: walmart-amazon \n",
      "\n",
      "Table A:\n",
      "   subject_id        id  ...  shipweight                dimensions\n",
      "0           1  14249992  ...        2.00                       NaN\n",
      "1           2  10928662  ...        0.95  6.75 x 5.75 x 5.5 inches\n",
      "2           3  11961447  ...        0.05                       NaN\n",
      "3           4  13044637  ...         NaN                       NaN\n",
      "4           5  13214131  ...        5.25   72.5 x 2.5 x 1.5 inches\n",
      "\n",
      "[5 rows x 17 columns] \n",
      "\n",
      "Table B:\n",
      "   subject_id  ...                                          groupname\n",
      "0           1  ...  Headphone Accessories Accessories Supplies Equ...\n",
      "1           2  ...             Inkjet Printer Ink Printer Ink Toner  \n",
      "2           3  ...                Computers Accessories Electronics  \n",
      "3           4  ...                Mice Keyboards Mice Input Devices  \n",
      "4           5  ...                Mice Keyboards Mice Input Devices  \n",
      "\n",
      "[5 rows x 23 columns] \n",
      "\n",
      "Pairs train:\n",
      "   source_id  target_id  matching\n",
      "0        624       2862     False\n",
      "1       1510      16351     False\n",
      "2        102       9859     False\n",
      "3        839      13024     False\n",
      "4        971       5512     False \n",
      "\n",
      "Removed columns from A: ['id', 'upc']\n",
      "Removed columns from B: ['url', 'asin'] \n",
      "\n",
      "Renamed indices:\n",
      "  source_id target_id  matching\n",
      "0      a623     b2861     False\n",
      "1     a1509    b16350     False\n",
      "2      a101     b9858     False\n",
      "3      a838    b13023     False\n",
      "4      a970     b5511     False \n",
      "\n",
      "Serialized entities \n",
      "\n",
      "Saved serialized entities \n",
      "\n"
     ]
    }
   ],
   "source": [
    "!python3 -u import-data.py --dataset walmart-amazon -ca-rm 'id,upc' -cb-rm 'url,asin'"
   ]
  },
  {
   "cell_type": "code",
   "execution_count": 71,
   "metadata": {},
   "outputs": [],
   "source": [
    "X_train_ids, y_train, X_valid_ids, y_valid, X_test_ids, y_test = load_data(DATA_DIR, comp_er=True)\n",
    "with open(os.path.join(DATA_DIR, 'table_a.pkl'), 'rb') as f:\n",
    "    table_a_serialized = pickle.load(f)\n",
    "with open(os.path.join(DATA_DIR, 'table_b.pkl'), 'rb') as f:\n",
    "    table_b_serialized = pickle.load(f)"
   ]
  },
  {
   "cell_type": "code",
   "execution_count": 72,
   "metadata": {},
   "outputs": [
    {
     "data": {
      "text/plain": [
       "[\"[COL] brand [VAL] Draper [COL] groupname [VAL] Electronics - General [COL] title [VAL] Draper Infrared Remote Transmitter [COL] price [VAL] 58.45 [COL] shelfdescr [VAL] Infrared transmitter. 3-button operation for instant access to up  down and stop functions. Fully compatible with learnable IR master control systems. Receiver sold seperately plugs into the Draper low-voltage control unit LVC-III sold separately . [COL] shortdescr [VAL]  [COL] longdescr [VAL] DR1143Infrared transmitter. 3-button operation for instant access to up  down and stop functions. Fully compatible with learnable IR master control systems. Receiver sold seperately plugs into the Draper low-voltage control unit LVC-III sold separately . [COL] imageurl [VAL] http://i.walmartimages.com/i/mp/00/64/10/92/16/0064109216245_P255045_300X300.jpg [COL] orig_shelfdescr [VAL] Infrared transmitter. 3-button operation for instant access to ''up'', ''down'', and ''stop'' functions. Fully compatible with ''learnable'' IR master control systems. Receiver (sold seperately) plugs into the Draper low-voltage control unit, LVC-III (sold separately). [COL] orig_shortdescr [VAL]  [COL] orig_longdescr [VAL] DR1143Infrared transmitter. 3-button operation for instant access to ''up'', ''down'', and ''stop'' functions. Fully compatible with ''learnable'' IR master control systems. Receiver (sold seperately) plugs into the Draper low-voltage control unit, LVC-III (sold separately). [COL] modelno [VAL] 121066 [COL] shipweight [VAL] 2.0 [COL] dimensions [VAL] \",\n",
       " '[COL] brand [VAL] Epson [COL] groupname [VAL] Monitors [COL] title [VAL] Epson 1500 Hours 200W UHE Projector Lamp ELPLP12 [COL] price [VAL] 438.84 [COL] shelfdescr [VAL]  [COL] shortdescr [VAL] Epson ELPLP12  Replacement Lamp [COL] longdescr [VAL] EPSON ELPLP12 1500HRS 200V REPL LAMP FOR LAMP POWERLITE FOR 7700P 5600P 7600 Features Lamp Life 1500 Hour Manufacturer Epson Corporation Compatible Devices LCD Manufacturer Part Number ELPLP12 Manufacturer Website Address www.epson.com Product Name Replacement Lamp Package Type Retail Product Type 200W UHE Projector Lamp Tech Specs Manufacturer Epson Corporation Manufacturer Part Number ELPLP12 Shipping Dimensions 5.25  Depth Manufacturer Website Address www.epson.com Lamp Life 1500 Hour Compatibility Epson Powerlite 7700P Projector Epson Powerlite 7600P Projector Epson Powerlite 5600P Projector Compatible Devices LCD Product Name Replacement Lamp Shipping Weight 1 lb Package Type Retail Product Type 200W UHE Projector Lamp [COL] imageurl [VAL] http://i.walmartimages.com/i/p/00/01/03/43/83/0001034383417_300X300.jpg [COL] orig_shelfdescr [VAL]  [COL] orig_shortdescr [VAL] Epson ELPLP12  Replacement Lamp [COL] orig_longdescr [VAL] EPSON ELPLP12 1500HRS 200V REPL LAMP FOR LAMP POWERLITE FOR 7700P 5600P 7600 Features Lamp Life 1500 Hour Manufacturer Epson Corporation Compatible Devices LCD Manufacturer Part Number ELPLP12 Manufacturer Website Address www.epson.com Product Name Replacement Lamp Package Type Retail Product Type 200W UHE Projector Lamp Tech Specs Manufacturer Epson Corporation Manufacturer Part Number ELPLP12 Shipping Dimensions 5.25&quot; Height x 5.75&quot; Width x 6.75&quot; Depth Manufacturer Website Address www.epson.com Lamp Life 1500 Hour Compatibility Epson Powerlite 7700P Projector Epson Powerlite 7600P Projector Epson Powerlite 5600P Projector Compatible Devices LCD Product Name Replacement Lamp Shipping Weight 1 lb Package Type Retail Product Type 200W UHE Projector Lamp [COL] modelno [VAL] ELPLP12 [COL] shipweight [VAL] 0.95 [COL] dimensions [VAL] 6.75 x 5.75 x 5.5 inches',\n",
       " \"[COL] brand [VAL] Comprehensive [COL] groupname [VAL] TV Accessories [COL] title [VAL] Comprehensive Two-Piece 75 Precision BNC Jack for RG-59 Set of 25 [COL] price [VAL] 59.25 [COL] shelfdescr [VAL] Comprehensive s True 75 connectors eliminate impedance mismatching and distortion that can be caused by using 50 connectors on 75 cable. True 75 BNC connectors are a must for all digital high bandwidth applications above 300 MHz and recommended for all analog applications. A lifetime warranty makes Comprehensive connectors the preferred choice of video multimedia consultants and engineers worldwide. Specifications Electrical -Impedance 75 ohm -Freq. Range 0-4 GHZ w low reflection 500V peak 1.3 max. -Thermal limits Usable to 11 GHZ -Voltage Rating PE insulators -55 degrees C to 85 degrees C Mechanical -Mating 2-stud bayonet lock coupling per m39012 -Center Contact Captivated center contact -Cable Retention Crimps 20 to 50 lbs Material -Center contacts Male Female Brass beryllium copper -Body Brass astroplate finish -Crimp Ferrule Copper -Insulators TFE Teflon 75 all crimps rexolite -Derlin 50 glass IFE hermetically sealed -Clamp Gaskets Synthetic rubber silicone rubber -Boots O ring crimp silicone rubber -Heat Shrink Tubing All other crimps thermofit plastic  Comprehensive offers a lifetime warranty on all products [COL] shortdescr [VAL]  [COL] longdescr [VAL] CH1151Comprehensive s True 75 connectors eliminate impedance mismatching and distortion that can be caused by using 50 connectors on 75 cable. True 75 BNC connectors are a must for all digital high bandwidth applications above 300 MHz and recommended for all analog applications. A lifetime warranty makes Comprehensive connectors the preferred choice of video multimedia consultants and engineers worldwide. Specifications Electrical   Impedance 75 ohm Freq. Range 0-4 GHZ w low reflection 500V peak 1.3 max. Thermal limits Usable to 11 GHZ Voltage Rating PE insulators -55 degrees C to 85 degrees C Mechanical   Mating 2-stud bayonet lock coupling per m39012 Center Contact Captivated center contact Cable Retention Crimps 20 to 50 lbs   Material   Center contacts Male Female Brass beryllium copper Body Brass astroplate finish Crimp Ferrule Copper Insulators TFE Teflon 75 all crimps rexolite Derlin 50 glass IFE hermetically sealed Clamp Gaskets Synthetic rubber silicone rubber Boots O ring crimp silicone rubber Heat Shrink Tubing All other crimps thermofit plastic   Comprehensive offers a lifetime warranty on all products [COL] imageurl [VAL] http://i.walmartimages.com/i/mp/00/80/84/47/00/0080844700031_P255045_300X300.jpg [COL] orig_shelfdescr [VAL] Comprehensive's True 75 connectors eliminate impedance mismatching and distortion that can be caused by using 50 connectors on 75 cable. True 75 BNC connectors are a must for all digital/high bandwidth applications above 300 MHz and recommended for all analog applications. A lifetime warranty makes Comprehensive connectors the preferred choice of video/multimedia consultants and engineers worldwide. Specifications: Electrical -Impedance: 75 ohm -Freq. Range: 0-4, GHZ w/low reflection, 500V peak, 1.3 max. -Thermal limits: Usable to 11 GHZ -Voltage Rating: PE insulators (-55 degrees C to +85 degrees C) Mechanical -Mating: 2-stud bayonet lock coupling per m39012 -Center Contact: Captivated center contact -Cable Retention: Crimps: 20 to 50 lbs Material -Center contacts: Male/Female: Brass beryllium copper -Body: Brass astroplate finish -Crimp Ferrule: Copper -Insulators: TFE Teflon (75) all crimps rexolite -Derlin (50) glass, IFE (hermetically sealed) -Clamp Gaskets: Synthetic rubber; silicone rubber -Boots: O ring crimp silicone rubber -Heat Shrink Tubing: All other crimps: thermofit plastic  Comprehensive offers a lifetime warranty on all products [COL] orig_shortdescr [VAL]  [COL] orig_longdescr [VAL] CH1151Comprehensive's True 75 connectors eliminate impedance mismatching and distortion that can be caused by using 50 connectors on 75 cable. True 75 BNC connectors are a must for all digital/high bandwidth applications above 300 MHz and recommended for all analog applications. A lifetime warranty makes Comprehensive connectors the preferred choice of video/multimedia consultants and engineers worldwide.<p>Specifications:<p><b>Electrical</B><ul><li>Impedance: 75 ohm<li>Freq. Range: 0-4, GHZ w/low reflection, 500V peak, 1.3 max.<li>Thermal limits: Usable to 11 GHZ<li>Voltage Rating: PE insulators (-55 degrees C to +85 degrees C)<p><b>Mechanical</b><ul><li>Mating: 2-stud bayonet lock coupling per m39012<li>Center Contact: Captivated center contact<li>Cable Retention: Crimps: 20 to 50 lbs</ul><p><b>Material</b><ul><li>Center contacts: Male/Female: Brass beryllium copper<li>Body: Brass astroplate finish<li>Crimp Ferrule: Copper<li>Insulators: TFE Teflon (75) all crimps rexolite<li>Derlin (50) glass, IFE (hermetically sealed)<li>Clamp Gaskets: Synthetic rubber; silicone rubber<li>Boots: O ring crimp silicone rubber<li>Heat Shrink Tubing: All other crimps: thermofit plastic</ul> <p>Comprehensive offers a lifetime warranty on all products [COL] modelno [VAL] BJ-2C7559 [COL] shipweight [VAL] 0.05 [COL] dimensions [VAL] \",\n",
       " '[COL] brand [VAL] D-Link [COL] groupname [VAL] Garden - General [COL] title [VAL] D-Link DCS-1100 Network Camera [COL] price [VAL] 99.82 [COL] shelfdescr [VAL] Surveillance Network Camera  Built-in Omni-directional Microphone  Supports 4 profiles simultaneously [COL] shortdescr [VAL] The D-Link DCS-1100 Network Camera comes with everything you need to quickly add a surveillance camera to your home or small office network. It works right out of the box. Simply connect the cables plug in the camera run the short installation wizard and setup is complete. To view what the camera is seeing simply log on to mydlink.com choose your device and start viewing there is no need to configure your router to open up ports or remember hard-to-memorize Internet addresses. [COL] longdescr [VAL] Surveillance Network Camera  Built-in Omni-directional Microphone  Supports 4 profiles simultaneously  Adjustable image size and quality  Time stamp and text overlay  Three configurable motion detection windows  Flip and Mirror [COL] imageurl [VAL] http://i.walmartimages.com/i/p/00/79/00/69/32/0079006932160_300X300.jpg [COL] orig_shelfdescr [VAL] <UL><LI>Surveillance/Network Camera</LI><LI>Built-in Omni-directional Microphone</LI><LI>Supports 4 profiles simultaneously</LI></UL> [COL] orig_shortdescr [VAL] The D-Link DCS-1100 Network Camera comes with everything you need to quickly add a surveillance camera to your home or small office network. It works right out of the box. Simply connect the cables, plug in the camera, run the short installation wizard and setup is complete. To view what the camera is seeing, simply log on to mydlink.com, choose your device, and start viewing there is no need to configure your router to open up ports or remember hard-to-memorize Internet addresses. [COL] orig_longdescr [VAL] <UL><LI>Surveillance/Network Camera</LI><LI>Built-in Omni-directional Microphone</LI><LI>Supports 4 profiles simultaneously</LI><LI>Adjustable image size and quality</LI><LI>Time stamp and text overlay</LI><LI>Three configurable motion detection windows</LI><LI>Flip and Mirror</LI></UL> [COL] modelno [VAL] DCS-1100 [COL] shipweight [VAL]  [COL] dimensions [VAL] ',\n",
       " '[COL] brand [VAL] StarTech [COL] groupname [VAL] Electronics - General [COL] title [VAL] StarTech.com RKPW247015 24 Outlet Power Strip [COL] price [VAL] 59.0 [COL] shelfdescr [VAL] Fits most 42U racks and equipment cabinets  10 ft. power cord provides plenty of reach to power outlets  24 evenly spaced outlets help keep power cabling clean [COL] shortdescr [VAL] The StarTech.com RKPW247015 24 Outlet Power Strip provides a 0U solution for your rackmount equipment and fits most 42U racks and equipment cabinets. The 10 ft. power cord provides plenty of reach to power outlets and the 24 evenly spaced outlets help keep power cabling clean and efficiently routed. [COL] longdescr [VAL] 24 Outlet Power Strip solution for your rackmount equipment  Fits most 42U racks and equipment cabinets  10 ft. power cord provides plenty of reach to power outlets  24 evenly spaced outlets help keep power cabling clean and efficiently routed [COL] imageurl [VAL] http://i.walmartimages.com/i/p/00/06/50/30/81/0006503081691_300X300.jpg [COL] orig_shelfdescr [VAL] <ul><li>Fits most 42U racks and equipment cabinets</li><li>10 ft. power cord provides plenty of reach to power outlets</li><li>24 evenly spaced outlets help keep power cabling clean</li></ul> [COL] orig_shortdescr [VAL] The StarTech.com RKPW247015 24 Outlet Power Strip provides a 0U solution for your rackmount equipment and fits most 42U racks and equipment cabinets. The 10 ft. power cord provides plenty of reach to power outlets, and the 24 evenly spaced outlets help keep power cabling clean and efficiently routed. [COL] orig_longdescr [VAL] <ul><li>24 Outlet Power Strip solution for your rackmount equipment</li><li>Fits most 42U racks and equipment cabinets</li><li>10 ft. power cord provides plenty of reach to power outlets</li><li>24 evenly spaced outlets help keep power cabling clean and efficiently routed</li></ul> [COL] modelno [VAL] RKPW247015 [COL] shipweight [VAL] 5.25 [COL] dimensions [VAL] 72.5 x 2.5 x 1.5 inches']"
      ]
     },
     "execution_count": 72,
     "metadata": {},
     "output_type": "execute_result"
    }
   ],
   "source": [
    "table_a_serialized[:5]"
   ]
  },
  {
   "cell_type": "code",
   "execution_count": 73,
   "metadata": {},
   "outputs": [],
   "source": [
    "all_true_matches = set()\n",
    "for i in range(len(X_train_ids)):\n",
    "    if y_train[i] == 1:\n",
    "        all_true_matches.add((X_train_ids[i][0], X_train_ids[i][1]))\n",
    "for i in range(len(X_valid_ids)):\n",
    "    if y_valid[i] == 1:\n",
    "        all_true_matches.add((X_valid_ids[i][0], X_valid_ids[i][1]))\n",
    "for i in range(len(X_test_ids)):\n",
    "    if y_test[i] == 1:\n",
    "        all_true_matches.add((X_test_ids[i][0], X_test_ids[i][1]))"
   ]
  },
  {
   "cell_type": "code",
   "execution_count": 74,
   "metadata": {},
   "outputs": [
    {
     "data": {
      "text/plain": [
       "[(\"[COL] brand [VAL] LaCie [COL] groupname [VAL] Electronics - General [COL] title [VAL] LaCie Portable 8x DVD-RW Drive with LightScribe [COL] price [VAL] 57.6 [COL] shelfdescr [VAL] LightScribe labeling software USB bus-powered Includes USB cable [COL] shortdescr [VAL] With the LaCie Portable 8x DVD- RW Drive with LightScribe you can easily create your own music video and photo CDs or DVDs wherever you go. It can conveniently record to double layer DVD-R RW DVD R RW and CD-R RW and it s USB bus powered so you only need one cable to start burning CDs and DVDs. An easy-to-use interface allows you to piece together sophisticated full-featured DVD movies in a matter of minutes complete with menus thumbnails and backgrounds for a totally customized DVD. It is equipped with LightScribe an innovative technology that allows you to burn silkscreen-quality labels directly onto CDs and DVDs with a laser instead of a printer. [COL] longdescr [VAL] LaCie Portable 8x DVD-RW Drive with LightScribe Write Speed 8x Read Speed 8x Formats DVD-R RW DVD R RW CD-R RW LightScribe labeling software USB bus-powered Stylish mobile design Includes USB cable [COL] imageurl [VAL] http://i.walmartimages.com/i/p/00/09/30/53/79/0009305379947_300X300.jpg [COL] orig_shelfdescr [VAL] <li>LightScribe labeling software<li>USB bus-powered<li>Includes USB cable [COL] orig_shortdescr [VAL] With the LaCie Portable 8x DVD-/+RW Drive with LightScribe, you can easily create your own music, video and photo CDs or DVDs wherever you go. It can conveniently record to double layer DVD-R/RW, DVD+R/RW, and CD-R/RW, and it's USB bus powered, so you only need one cable to start burning CDs and DVDs. An easy-to-use interface allows you to piece together sophisticated, full-featured DVD movies in a matter of minutes complete with menus, thumbnails and backgrounds for a totally customized DVD. It is equipped with LightScribe, an innovative technology that allows you to burn silkscreen-quality labels directly onto CDs and DVDs with a laser instead of a printer.<p> [COL] orig_longdescr [VAL] <b>LaCie Portable 8x DVD-RW Drive with LightScribe:</b><ul><li>Write Speed: 8x<li>Read Speed: 8x<li>Formats: DVD-R/RW, DVD+R/RW, CD-R/RW<li>LightScribe labeling software<li>USB bus-powered<li>Stylish, mobile design<li>Includes USB cable</ul> [COL] modelno [VAL] 301910 [COL] shipweight [VAL] 1.04 [COL] dimensions [VAL] 7.5 x 7.0 x 2.5 inches\",\n",
       "  '[COL] brand [VAL] LaCie [COL] modelno [VAL] 130980 [COL] category1 [VAL] Computers Accessories [COL] pcategory1 [VAL] Electronics [COL] category2 [VAL]  [COL] pcategory2 [VAL]  [COL] title [VAL] LaCie FastKey 120 GB USB 3.0 Solid State Drive 130980 [COL] listprice [VAL]  [COL] price [VAL] 418.59 [COL] prodfeatures [VAL]  [COL] techdetails [VAL] Lightning-fast speed up to 260MB s The best technology in a tiny size USB 3.0 SSD with DRAM cache Ultra-secure AES 256-bit encryption Stylish an sturdy metal casing Impressive 120GB storage capacity [COL] shortdescr [VAL]  [COL] longdescr [VAL] The LaCie FastKey isn t just another USB key-it s a real mobile SSD. It s one of the speediest most robust choices on the market for portable data storage. Featuring a solid-state drive and DRAM cache it also offers up to 120GB of capacity. With the FastKey s USB 3.0 interface you can store and transfer your files faster than ever before no matter how large they are. USB 3.0 represents an enormous speed increase from USB 2.0 and best of all since it s backward compatible with USB 2.0 and USB 1.1 there s never any worry about connectivity. AES 256-bit encryption is included in the FastKey along with LaCie s Private-Public software which allows you to create a private partition on your key. This way it s simple to keep private data and public data separate-letting you use your FastKey any time anywhere. System Requirements Computer with a USB port high-speed Internet for online storage latest version of Windows XP Windows Vista Windows 7 Mac OS X 10.5 10.6 compatible with Mac and LaCie USB 3.0 cards only Mac Intel only for LaCie Private-Public software minimum free disk space of 600MB recommended. Box Contents LaCie FastKey and string for keyring. [COL] dimensions [VAL] 4.1 x 1.1 x 0.4 inches [COL] imageurl [VAL] http://ecx.images-amazon.com/images/I/416Hb%2BCAMcL._AA300_.jpg [COL] itemweight [VAL] 2.6 ounces [COL] shipweight [VAL] 1 pounds [COL] orig_prodfeatures [VAL]  [COL] orig_techdetails [VAL] <ul><li>Lightning-fast speed up to 260MB/s</li> <li>The best technology in a tiny size: USB 3.0 SSD with DRAM cache</li> <li>Ultra-secure AES 256-bit encryption</li> <li>Stylish an sturdy metal casing</li> <li>Impressive 120GB storage capacity</li> </ul> [COL] groupname [VAL] Computers Accessories Electronics  '),\n",
       " ('[COL] brand [VAL] Imation [COL] groupname [VAL] USB Drives [COL] title [VAL] Imation 16GB Pocket Flash Drive [COL] price [VAL] 58.88 [COL] shelfdescr [VAL] Compact design easily slips into your pocket or onto a keychain No software installation required Quick-release neck strap [COL] shortdescr [VAL] Featuring a professional design the Imation 16GB Pocket Flash Drive makes it easy to manage and transfer digital files. This lightweight drive easily slips into your pocket onto a keychain or around your neck with the included lanyard. Combined with password protection and drive partitioning software the Imation 16GB Pocket Flash Drive is an affordable way to safely transfer data music photos or video. [COL] longdescr [VAL] Imation 16GB Pocket Flash Drive Compact design easily slips into your pocket or onto a keychain Password protection software included No software installation required No additional power supply or cables required Quick-release neck strap included [COL] imageurl [VAL] http://i.walmartimages.com/i/p/00/05/11/22/27/0005112227861_300X300.jpg [COL] orig_shelfdescr [VAL] <li>Compact design easily slips into your pocket or onto a keychain<li>No software installation required<li>Quick-release neck strap [COL] orig_shortdescr [VAL] Featuring a professional design, the Imation 16GB Pocket Flash Drive makes it easy to manage and transfer digital files. This lightweight drive easily slips into your pocket, onto a keychain or around your neck with the included lanyard. Combined with password protection and drive partitioning software, the Imation 16GB Pocket Flash Drive is an affordable way to safely transfer data, music, photos or video. [COL] orig_longdescr [VAL] <b>Imation 16GB Pocket Flash Drive:</b><ul><li>Compact design easily slips into your pocket or onto a keychain<li>Password protection software included<li>No software installation required<li>No additional power supply or cables required<li>Quick-release neck strap included</ul> [COL] modelno [VAL] 27861 [COL] shipweight [VAL] 1.4 [COL] dimensions [VAL] 10.9 x 5.4 x 4.0 inches',\n",
       "  '[COL] brand [VAL] Xerox [COL] modelno [VAL]  [COL] category1 [VAL] Home Security Systems [COL] pcategory1 [VAL] Security Surveillance [COL] category2 [VAL]  [COL] pcategory2 [VAL]  [COL] title [VAL] Xerox 108R00579 - 108R00579 Transfer Roller [COL] listprice [VAL]  [COL] price [VAL]  [COL] prodfeatures [VAL]  [COL] techdetails [VAL]  [COL] shortdescr [VAL]  [COL] longdescr [VAL] Get consistent performance high-quality output. Reliability saves time and increases productivity. Supplies are easy to install and maintain. Device Types N A OEM Compatible OEM Page-Yield 100000 Supply Type Transfer Roller. [COL] dimensions [VAL]  [COL] imageurl [VAL] http://ecx.images-amazon.com/images/I/21xdC0ImTKL._SL500_AA300_.jpg [COL] itemweight [VAL] 8.8 pounds [COL] shipweight [VAL] 8.8 pounds [COL] orig_prodfeatures [VAL]  [COL] orig_techdetails [VAL]  [COL] groupname [VAL] Home Security Systems Security Surveillance  '),\n",
       " ('[COL] brand [VAL] Case Logic [COL] groupname [VAL] MP3 Accessories [COL] title [VAL] Case Logic SLR Camera Backpack [COL] price [VAL] 79.99 [COL] shelfdescr [VAL] Case Logic SLR Camera Backpack This SLR backpack combines practicality and style with customizable organization and sleek lines. Carry everythingSLR camera lenses flash and laptopcomfortably on your back. Designed to fit SLR camera with lens up to 70-200mm attached Adjustable divider system provides customizable organization for 2-3 additional lenses flash and other camera accessories 15 inch MacBook Pro  or 14 inch PC fit in the padded laptop compartment  Unzip side pocket slide your tripod inside and secure it at the top with the adjustable buckle serves as additional accessory storage when not using a tripod Weather hood fits snugly over the bag to protect from the elements when not in use roll into its stuff sack for storage Front pocket provides storage for any non-camera items you require A padded front panel ensures your camera and accessories are protected from impact Convenient mesh water bottle pouch  Innovative strap management system eliminates messy hanging straps [COL] shortdescr [VAL]  [COL] longdescr [VAL] This SLR backpack combines practicality and style with customizable organization and sleek lines. Carry everythingSLR camera lenses flash and laptopcomfortably on your back.    Product Material Nylon   Product Weight 3.39 lbs.   Laptop Compartment Dimensions 14.9  or 14 inch PC fit in the padded laptop compartment   Unzip side pocket slide your tripod inside and secure it at the top with the adjustable buckle serves as additional accessory storage when not using a tripod Weather hood fits snugly over the bag to protect from the elements when not in use roll into its stuff sack for storage Front pocket provides storage for any non-camera items you require  A padded front panel ensures your camera and accessories are protected from impact  Convenient mesh water bottle pouch   Innovative strap management system eliminates messy hanging straps [COL] imageurl [VAL] http://i.walmartimages.com/i/p/00/08/58/54/22/0008585422148_300X300.jpg [COL] orig_shelfdescr [VAL] Case Logic SLR Camera Backpack This SLR backpack combines practicality and style with customizable organization and sleek lines. Carry everythingSLR camera, lenses, flash and laptopcomfortably on your back. Designed to fit SLR camera with lens (up to 70-200mm) attached Adjustable divider system provides customizable organization for 2-3 additional lenses, flash, and other camera accessories 15 inch MacBook Pro&amp;reg; or 14 inch PC fit in the padded laptop compartment  Unzip side pocket, slide your tripod inside, and secure it at the top with the adjustable buckle (serves as additional accessory storage when not using a tripod)    Weather hood fits snugly over the bag to protect from the elements (when not in use, roll into its stuff sack for storage) Front pocket provides storage for any non-camera items you require A padded front panel ensures your camera and accessories are protected from impact Convenient mesh water bottle pouch  Innovative strap management system eliminates messy, hanging straps [COL] orig_shortdescr [VAL]  [COL] orig_longdescr [VAL] This SLR backpack combines practicality and style with customizable organization and sleek lines. Carry everythingSLR camera, lenses, flash and laptopcomfortably on your back.<br /><ul><li><b>Product Material:</b> Nylon</li><li><b>Product Weight:</b> 3.39 lbs.</li><li><b>Laptop Compartment Dimensions:</b> 14.9&amp;quot; x 10.7&amp;quot; x 3&amp;quot;</li><li>Designed to fit SLR camera with lens (up to 70-200mm) attached</li><li>Adjustable divider system provides customizable organization for 2-3 additional lenses, flash, and other camera accessories</li><li>15 inch MacBook Pro&amp;reg; or 14 inch PC fit in the padded laptop compartment</li><li> Unzip side pocket, slide your tripod inside, and secure it at the top with the adjustable buckle (serves as additional accessory storage when not using a tripod)   </li><li>Weather hood fits snugly over the bag to protect from the elements (when not in use, roll into its stuff sack for storage)</li><li>Front pocket provides storage for any non-camera items you require</li><li>A padded front panel ensures your camera and accessories are protected from impact</li><li>Convenient mesh water bottle pouch</li><li> Innovative strap management system eliminates messy, hanging straps</li></ul> [COL] modelno [VAL] DCB-309BLACK [COL] shipweight [VAL] 4.0 [COL] dimensions [VAL] 17.3 x 11.4 x 8.4 inches',\n",
       "  '[COL] brand [VAL] Nikon [COL] modelno [VAL] D3000 18-55mm Kit [COL] category1 [VAL] Digital SLR Cameras [COL] pcategory1 [VAL] Digital Cameras [COL] category2 [VAL]  [COL] pcategory2 [VAL]  [COL] title [VAL] Nikon D3000 10.2MP Digital SLR Camera with 18-55mm f 3.5-5.6G AF-S DX VR Nikkor Zoom Lens [COL] listprice [VAL] 549.95 [COL] price [VAL]  [COL] prodfeatures [VAL]  [COL] techdetails [VAL] 10.2-megapixel DX-format imaging sensor for prints up to 20 x 30 inches Includes 3x 18-55mm Zoom-Nikkor VR Image Stabilization lens Nikon EXPEED image processing in-camera image editing and Active D-Lighting 3.0-inch color LCD screen 170-degree wide-angle viewing Capture images to SD SDHC memory cards not included 3.0-inch color LCD screen 170-degree wide-angle viewing Nikon EXPEED image processing in-camera image editing and Active D-Lighting [COL] shortdescr [VAL] Nikon D3000 10.2MP Digital SLR Camera with 18-55mm f 3.5-5.6G AF-S DX VR Nikkor Zoom Lens 25462 [COL] longdescr [VAL] Breathtaking digital SLR image quality and easy operation highlight the 10.2-megapixel D3000--Nikon s friendliest DSLR ever. Compact and capable the D3000 is compatible with a broad range of world-famous Nikkor lenses and includes the versatile 3x 18-55mm Zoom-Nikkor with Silent-Wave Motor autofocusing and Nikon VR image stabilization to combat picture blur caused by camera shake for sharper handheld pictures. Special moments are captured faithfully at up to 3 frames-per-second and displayed on a bright 3-inch LCD monitor. The D3000 s split-second shutter response eliminates the annoyance of shutter lag. To further simplify picture-taking in special situations such as portraits sports landscapes and more the D3000 features icon-identified Scene Modes that deliver beautiful results automatically in otherwise complex situations. [COL] dimensions [VAL] 5.0 x 3.8 x 2.6 inches [COL] imageurl [VAL] http://ecx.images-amazon.com/images/I/517%2BbpHK4HL._SL500_AA300_.jpg [COL] itemweight [VAL] 1.1 pounds [COL] shipweight [VAL] 4.4 pounds [COL] orig_prodfeatures [VAL]  [COL] orig_techdetails [VAL] <ul><li>10.2-megapixel DX-format imaging sensor for prints up to 20 x 30 inches</li> <li>Includes 3x 18-55mm Zoom-Nikkor VR Image Stabilization lens</li> <li>Nikon EXPEED image processing; in-camera image editing and Active D-Lighting</li> <li>3.0-inch color LCD screen; 170-degree wide-angle viewing</li> <li>Capture images to SD/SDHC memory cards (not included)</li> <li>3.0-inch color LCD screen , 170-degree wide-angle viewing</li> <li>Nikon EXPEED image processing , in-camera image editing and Active D-Lighting</li> </ul> [COL] groupname [VAL] Digital SLR Cameras Digital Cameras  '),\n",
       " ('[COL] brand [VAL] Motorola [COL] groupname [VAL] Phones [COL] title [VAL] Motorola Dect 6.0 Cordless Care [COL] price [VAL] 30.84 [COL] shelfdescr [VAL] Hearing aid compatible  3 dedicated emergency keys  Extra loud ringer   earpiece [COL] shortdescr [VAL] Motorola designed the Motorola Care phone system with your loved ones in mind. With features like louder volume extra-large buttons and a large display this phone system is ideal for homes with senior citizens or those with special needs. Plus with 3 dedicated emergency keys help is just one button push away. [COL] longdescr [VAL] 3 dedicated emergency keys  Hearing aid compatible  Visual incoming call alert  Volume booster for the hard of hearing  DECT 6.0 technology provides optimal range and clarity for clear telephone conversations  Easy-to-see extra-large buttons  Large Caller ID display  Extra loud ringer and earpiece  Hands-free speakerphone  30 name   number phonebook  Up to 12 hours talk time 18 hours standby [COL] imageurl [VAL] http://i.walmartimages.com/i/p/00/89/97/05/00/0089970500223_300X300.jpg [COL] orig_shelfdescr [VAL] <ul><li>Hearing aid compatible</li><li>3 dedicated emergency keys</li><li>Extra loud ringer &amp; earpiece</li></ul> [COL] orig_shortdescr [VAL] Motorola designed the Motorola Care phone system with your loved ones in mind. With features like louder volume, extra-large buttons and a large display, this phone system is ideal for homes with senior citizens or those with special needs. Plus, with 3 dedicated emergency keys, help is just one button push away. [COL] orig_longdescr [VAL] <ul><li>3 dedicated emergency keys</li><li>Hearing aid compatible</li><li>Visual incoming call alert</li><li>Volume booster for the hard of hearing</li><li>DECT 6.0 technology provides optimal range and clarity for clear telephone conversations</li><li>Easy-to-see, extra-large buttons</li><li>Large Caller ID display</li><li>Extra loud ringer and earpiece</li><li>Hands-free speakerphone</li><li>30 name &amp; number phonebook</li><li>Up to 12 hours talk time, 18 hours standby</li></ul> [COL] modelno [VAL] K301 [COL] shipweight [VAL] 1.75 [COL] dimensions [VAL] 7.09 x 4.33 x 4.0 inches',\n",
       "  \"[COL] brand [VAL] HP [COL] modelno [VAL] C6567B [COL] category1 [VAL] Roll Paper [COL] pcategory1 [VAL] Paper [COL] category2 [VAL]  [COL] pcategory2 [VAL]  [COL] title [VAL] HP Coated Paper 42 Inches x 150 Feet Roll [COL] listprice [VAL] 89.99 [COL] price [VAL] 51.96 [COL] prodfeatures [VAL]  [COL] techdetails [VAL] HP Designjet Large Format Paper for Ink Jet Printers. To ensure the quality of your output from start to finish rely on HP printing material for Designjet printers. HP s specially coated papers are engineered to work with HP Designjet print cartridges ink systems and HP Designjet printers to deliver sharper print quality and colors that stay true and vivid. The result - a total printing solution designed to fit your needs. The result - a total printing solution designed to fit your needs. HP s specially coated papers are engineered to work with HP Designjet print cartridges ink systems. HP Designjet printers to deliver sharper print quality and colors that stay true and vivid. [COL] shortdescr [VAL]  [COL] longdescr [VAL] To ensure the quality of your output from start to finish rely on HP printing material for Designjet printers. HP s specially coated papers are engineered to work with HP Designjet print cartridges ink systems and HP Designjet printers to deliver sha. [COL] dimensions [VAL] 43.5 x 4.2 x 4.0 inches [COL] imageurl [VAL] http://ecx.images-amazon.com/images/I/41wY63q-XkL._SL500_AA300_.jpg [COL] itemweight [VAL] 11.3 pounds [COL] shipweight [VAL] 12 pounds [COL] orig_prodfeatures [VAL]  [COL] orig_techdetails [VAL] <ul><li>HP Designjet Large Format Paper for Ink Jet Printers.</li> <li>To ensure the quality of your output from start to finish, rely on HP printing material for Designjet printers.</li> <li>HP's specially coated papers are engineered to work with HP Designjet print cartridges, ink systems, and HP Designjet printers to deliver sharper print quality and colors that stay true and vivid.</li> <li>The result - a total printing solution designed to fit your needs.</li> <li>The result - a total printing solution designed to fit your needs.</li> <li>HP's specially coated papers are engineered to work with HP Designjet print cartridges, ink systems.</li> <li>HP Designjet printers to deliver sharper print quality and colors that stay true and vivid.</li> </ul> [COL] groupname [VAL] Roll Paper Paper  \"),\n",
       " ('[COL] brand [VAL] iLuv [COL] groupname [VAL] MP3 Accessories [COL] title [VAL] iLuv Clear Screen Protective Film for iPad 2 [COL] price [VAL] 14.88 [COL] shelfdescr [VAL] Clear scratch-resistant film designed to protect the display screen Cleaning cloth removes dirt without streaking or scratching Includes cleaning cloth [COL] shortdescr [VAL] The iLuv Clear Screen Protective Film is a specially formulated clear scratch-resistant film designed to protect the display screen on your iPad 2. [COL] longdescr [VAL] iLuv Clear Screen Protective Film for iPad 2 Clear scratch-resistant film designed to protect the display screen Cleaning cloth removes dirt without streaking or scratching Includes cleaning cloth [COL] imageurl [VAL] http://i.walmartimages.com/i/p/00/63/92/47/78/0063924778732_300X300.jpg [COL] orig_shelfdescr [VAL] <li>Clear, scratch-resistant film designed to protect the display screen<li>Cleaning cloth removes dirt without streaking or scratching<li>Includes cleaning cloth [COL] orig_shortdescr [VAL] The iLuv Clear Screen Protective Film is a specially formulated clear, scratch-resistant film designed to protect the display screen on your iPad 2. [COL] orig_longdescr [VAL] <p><b>iLuv Clear Screen Protective Film for iPad 2:</b><ul><li>Clear, scratch-resistant film designed to protect the display screen<li>Cleaning cloth removes dirt without streaking or scratching<li>Includes cleaning cloth</ul> [COL] modelno [VAL] ICC1193 [COL] shipweight [VAL] 0.14 [COL] dimensions [VAL] 11.0 x 8.5 x 0.1 inches',\n",
       "  '[COL] brand [VAL] Simplism [COL] modelno [VAL] TR-SCIPAD-BR/EN [COL] category1 [VAL] Cases Sleeves [COL] pcategory1 [VAL] Touch Screen Tablet Accessories [COL] category2 [VAL]  [COL] pcategory2 [VAL]  [COL] title [VAL] Simplism Silicone Case Set for iPad Brown [COL] listprice [VAL] 29.99 [COL] price [VAL] 19.71 [COL] prodfeatures [VAL]  [COL] techdetails [VAL] Glare film for iPad Protects display from scratches Shiny and invisible glare film Non-adhesive film that can be applied repeatedly Leveler to squeeze out air bubbles in the film. [COL] shortdescr [VAL]  [COL] longdescr [VAL] Simplism Silicone Case Set for iPad is a thin silicone case that protects your iPad from dust and scratches. The great selection of colors brightens up cool toned iPad.Direct access to all buttons and connectors including audio jack volume control button sleep wake switch screen rotation lock and dock connector without removing from the case. 4 silicone feet on back support rounded back of iPad when placed on a desk.Additionally they cushion the impact by typing movement and maintains smooth typing and pinch in out.The silicone feet give a comfortable grip and reduce strain on arms. The window is widely opened for a multi-touch display. The protector film in the kit guards the display without loosing smooth controls. A microfiber cleaning cloth is included for wiping off fingerprints on the display and the body of iPad. Due to the nature of silicone material ordinary silicone case easily get dirty. This product has anti-dust coasting on it so it has silky smooth touch without being dusty.Glare type of Display Protector Film is included. It is very clear and practically invisible. It does not affect the brightness and the contrast of display and keeps clear view. The PET material film with adequate thickness makes it easier to apply. [COL] dimensions [VAL]  [COL] imageurl [VAL] http://ecx.images-amazon.com/images/I/31hlMXolODL._SL500_AA300_.jpg [COL] itemweight [VAL] 11.2 ounces [COL] shipweight [VAL] 1 pounds [COL] orig_prodfeatures [VAL]  [COL] orig_techdetails [VAL] <ul><li>Glare film for iPad</li> <li>Protects display from scratches</li> <li>Shiny and invisible glare film</li> <li>Non-adhesive film that can be applied repeatedly</li> <li>Leveler to squeeze out air bubbles in the film.</li> </ul> [COL] groupname [VAL] Cases Sleeves Touch Screen Tablet Accessories  ')]"
      ]
     },
     "execution_count": 74,
     "metadata": {},
     "output_type": "execute_result"
    }
   ],
   "source": [
    "X_train = [(table_a_serialized[int(x[0])], table_b_serialized[int(x[1])]) for x in X_train_ids]\n",
    "X_valid = [(table_a_serialized[int(x[0])], table_b_serialized[int(x[1])]) for x in X_valid_ids]\n",
    "X_test = [(table_a_serialized[int(x[0])], table_b_serialized[int(x[1])]) for x in X_test_ids]\n",
    "X_train[:5]"
   ]
  },
  {
   "cell_type": "code",
   "execution_count": 75,
   "metadata": {},
   "outputs": [],
   "source": [
    "X_train = [table_a_serialized[i[0]] + ' [SEP] ' + table_b_serialized[i[1]] for i in X_train_ids]\n",
    "X_valid = [table_a_serialized[i[0]] + ' [SEP] ' + table_b_serialized[i[1]] for i in X_valid_ids]\n",
    "X_test = [table_a_serialized[i[0]] + ' [SEP] ' + table_b_serialized[i[1]] for i in X_test_ids]"
   ]
  },
  {
   "cell_type": "code",
   "execution_count": 76,
   "metadata": {},
   "outputs": [],
   "source": [
    "MODEL_NAME = 'distilroberta-base'"
   ]
  },
  {
   "cell_type": "code",
   "execution_count": 77,
   "metadata": {},
   "outputs": [
    {
     "name": "stderr",
     "output_type": "stream",
     "text": [
      "Some weights of RobertaForSequenceClassification were not initialized from the model checkpoint at distilroberta-base and are newly initialized: ['classifier.dense.bias', 'classifier.dense.weight', 'classifier.out_proj.bias', 'classifier.out_proj.weight']\n",
      "You should probably TRAIN this model on a down-stream task to be able to use it for predictions and inference.\n"
     ]
    },
    {
     "name": "stdout",
     "output_type": "stream",
     "text": [
      "Model initialized\n",
      "Device: cuda:1\n",
      "Model: distilroberta-base\n",
      "Study name: walmart-amazon/distilroberta-base@gpu4.enst.fr:1\n",
      "Epoch 1/10\n"
     ]
    },
    {
     "name": "stderr",
     "output_type": "stream",
     "text": [
      "Training: 100%|█████████████| 341/341 [01:48<00:00,  3.14batch/s]\n",
      "Validation: 100%|█████████████| 98/98 [00:10<00:00,  9.33batch/s]\n",
      "/home/infres/tperrot-21/venv/lib/python3.12/site-packages/sklearn/metrics/_classification.py:1531: UndefinedMetricWarning: Precision is ill-defined and being set to 0.0 in labels with no predicted samples. Use `zero_division` parameter to control this behavior.\n",
      "  _warn_prf(average, modifier, f\"{metric.capitalize()} is\", len(result))\n",
      "/home/infres/tperrot-21/venv/lib/python3.12/site-packages/sklearn/metrics/_classification.py:1531: UndefinedMetricWarning: Precision is ill-defined and being set to 0.0 in labels with no predicted samples. Use `zero_division` parameter to control this behavior.\n",
      "  _warn_prf(average, modifier, f\"{metric.capitalize()} is\", len(result))\n",
      "/home/infres/tperrot-21/venv/lib/python3.12/site-packages/sklearn/metrics/_classification.py:1531: UndefinedMetricWarning: Precision is ill-defined and being set to 0.0 in labels with no predicted samples. Use `zero_division` parameter to control this behavior.\n",
      "  _warn_prf(average, modifier, f\"{metric.capitalize()} is\", len(result))\n"
     ]
    },
    {
     "name": "stdout",
     "output_type": "stream",
     "text": [
      "Train loss: 0.2726\n",
      "Val loss: 0.2634\n",
      "              precision    recall  f1-score   support\n",
      "\n",
      "           0       0.93      1.00      0.96      2899\n",
      "           1       0.00      0.00      0.00       232\n",
      "\n",
      "    accuracy                           0.93      3131\n",
      "   macro avg       0.46      0.50      0.48      3131\n",
      "weighted avg       0.86      0.93      0.89      3131\n",
      "\n",
      "Epoch 2/10\n"
     ]
    },
    {
     "name": "stderr",
     "output_type": "stream",
     "text": [
      "Training: 100%|█████████████| 341/341 [01:50<00:00,  3.09batch/s]\n",
      "Validation: 100%|█████████████| 98/98 [00:10<00:00,  9.27batch/s]\n",
      "/home/infres/tperrot-21/venv/lib/python3.12/site-packages/sklearn/metrics/_classification.py:1531: UndefinedMetricWarning: Precision is ill-defined and being set to 0.0 in labels with no predicted samples. Use `zero_division` parameter to control this behavior.\n",
      "  _warn_prf(average, modifier, f\"{metric.capitalize()} is\", len(result))\n",
      "/home/infres/tperrot-21/venv/lib/python3.12/site-packages/sklearn/metrics/_classification.py:1531: UndefinedMetricWarning: Precision is ill-defined and being set to 0.0 in labels with no predicted samples. Use `zero_division` parameter to control this behavior.\n",
      "  _warn_prf(average, modifier, f\"{metric.capitalize()} is\", len(result))\n",
      "/home/infres/tperrot-21/venv/lib/python3.12/site-packages/sklearn/metrics/_classification.py:1531: UndefinedMetricWarning: Precision is ill-defined and being set to 0.0 in labels with no predicted samples. Use `zero_division` parameter to control this behavior.\n",
      "  _warn_prf(average, modifier, f\"{metric.capitalize()} is\", len(result))\n"
     ]
    },
    {
     "name": "stdout",
     "output_type": "stream",
     "text": [
      "Train loss: 0.2585\n",
      "Val loss: 0.2181\n",
      "              precision    recall  f1-score   support\n",
      "\n",
      "           0       0.93      1.00      0.96      2899\n",
      "           1       0.00      0.00      0.00       232\n",
      "\n",
      "    accuracy                           0.93      3131\n",
      "   macro avg       0.46      0.50      0.48      3131\n",
      "weighted avg       0.86      0.93      0.89      3131\n",
      "\n",
      "Epoch 3/10\n"
     ]
    },
    {
     "name": "stderr",
     "output_type": "stream",
     "text": [
      "Training: 100%|█████████████| 341/341 [01:50<00:00,  3.09batch/s]\n",
      "Validation: 100%|█████████████| 98/98 [00:10<00:00,  9.25batch/s]\n"
     ]
    },
    {
     "name": "stdout",
     "output_type": "stream",
     "text": [
      "Train loss: 0.1919\n",
      "Val loss: 0.1950\n",
      "              precision    recall  f1-score   support\n",
      "\n",
      "           0       0.94      1.00      0.97      2899\n",
      "           1       0.89      0.25      0.40       232\n",
      "\n",
      "    accuracy                           0.94      3131\n",
      "   macro avg       0.92      0.63      0.68      3131\n",
      "weighted avg       0.94      0.94      0.93      3131\n",
      "\n",
      "Epoch 4/10\n"
     ]
    },
    {
     "name": "stderr",
     "output_type": "stream",
     "text": [
      "Training: 100%|█████████████| 341/341 [01:51<00:00,  3.06batch/s]\n",
      "Validation: 100%|█████████████| 98/98 [00:10<00:00,  8.93batch/s]\n"
     ]
    },
    {
     "name": "stdout",
     "output_type": "stream",
     "text": [
      "Train loss: 0.1546\n",
      "Val loss: 0.1760\n",
      "              precision    recall  f1-score   support\n",
      "\n",
      "           0       0.95      0.99      0.97      2899\n",
      "           1       0.82      0.36      0.50       232\n",
      "\n",
      "    accuracy                           0.95      3131\n",
      "   macro avg       0.88      0.68      0.74      3131\n",
      "weighted avg       0.94      0.95      0.94      3131\n",
      "\n",
      "Epoch 5/10\n"
     ]
    },
    {
     "name": "stderr",
     "output_type": "stream",
     "text": [
      "Training: 100%|█████████████| 341/341 [01:52<00:00,  3.04batch/s]\n",
      "Validation: 100%|█████████████| 98/98 [00:11<00:00,  8.81batch/s]\n"
     ]
    },
    {
     "name": "stdout",
     "output_type": "stream",
     "text": [
      "Train loss: 0.1382\n",
      "Val loss: 0.1818\n",
      "              precision    recall  f1-score   support\n",
      "\n",
      "           0       0.96      0.98      0.97      2899\n",
      "           1       0.66      0.43      0.52       232\n",
      "\n",
      "    accuracy                           0.94      3131\n",
      "   macro avg       0.81      0.71      0.74      3131\n",
      "weighted avg       0.93      0.94      0.94      3131\n",
      "\n",
      "Epoch 6/10\n"
     ]
    },
    {
     "name": "stderr",
     "output_type": "stream",
     "text": [
      "Training: 100%|█████████████| 341/341 [01:51<00:00,  3.05batch/s]\n",
      "Validation: 100%|█████████████| 98/98 [00:11<00:00,  8.84batch/s]\n"
     ]
    },
    {
     "name": "stdout",
     "output_type": "stream",
     "text": [
      "Train loss: 0.1286\n",
      "Val loss: 0.2004\n",
      "              precision    recall  f1-score   support\n",
      "\n",
      "           0       0.95      0.99      0.97      2899\n",
      "           1       0.80      0.38      0.52       232\n",
      "\n",
      "    accuracy                           0.95      3131\n",
      "   macro avg       0.88      0.69      0.75      3131\n",
      "weighted avg       0.94      0.95      0.94      3131\n",
      "\n",
      "Epoch 7/10\n"
     ]
    },
    {
     "name": "stderr",
     "output_type": "stream",
     "text": [
      "Training: 100%|█████████████| 341/341 [01:51<00:00,  3.05batch/s]\n",
      "Validation: 100%|█████████████| 98/98 [00:11<00:00,  8.81batch/s]"
     ]
    },
    {
     "name": "stdout",
     "output_type": "stream",
     "text": [
      "Train loss: 0.1256\n",
      "Val loss: 0.1763\n",
      "              precision    recall  f1-score   support\n",
      "\n",
      "           0       0.96      0.99      0.97      2899\n",
      "           1       0.77      0.42      0.55       232\n",
      "\n",
      "    accuracy                           0.95      3131\n",
      "   macro avg       0.86      0.71      0.76      3131\n",
      "weighted avg       0.94      0.95      0.94      3131\n",
      "\n",
      "Early stopping triggered\n",
      "Best weights restored\n",
      "Mean time per epoch: 121.62\n"
     ]
    },
    {
     "name": "stderr",
     "output_type": "stream",
     "text": [
      "\n"
     ]
    }
   ],
   "source": [
    "model = BertModel(model_name=MODEL_NAME, study_name=DATA_NAME + \"/\" + MODEL_NAME + \"@\" + COMPUTER, device=device)\n",
    "train_loader, val_loader, test_loader = model.prepare_data(X_train, y_train, X_valid, y_valid, X_test, y_test, batch_size=32, num_workers=4)\n",
    "model.fit(train_loader, val_loader, epochs=10, lr=2e-5, weight_decay=0.01, early_stopping=True, patience=3)"
   ]
  },
  {
   "cell_type": "code",
   "execution_count": 78,
   "metadata": {},
   "outputs": [
    {
     "name": "stderr",
     "output_type": "stream",
     "text": [
      "Testing: 100%|████████████████| 49/49 [00:05<00:00,  8.44batch/s]"
     ]
    },
    {
     "name": "stdout",
     "output_type": "stream",
     "text": [
      "              precision    recall  f1-score   support\n",
      "\n",
      "           0       0.95      0.99      0.97      1429\n",
      "           1       0.78      0.39      0.52       114\n",
      "\n",
      "    accuracy                           0.95      1543\n",
      "   macro avg       0.86      0.69      0.75      1543\n",
      "weighted avg       0.94      0.95      0.94      1543\n",
      "\n",
      "Test loss: 0.19140\n"
     ]
    },
    {
     "name": "stderr",
     "output_type": "stream",
     "text": [
      "\n"
     ]
    }
   ],
   "source": [
    "y_pred = model.evaluate(test_loader)\n"
   ]
  }
 ],
 "metadata": {
  "kernelspec": {
   "display_name": "Python 3 (ipykernel)",
   "language": "python",
   "name": "python3"
  },
  "language_info": {
   "codemirror_mode": {
    "name": "ipython",
    "version": 3
   },
   "file_extension": ".py",
   "mimetype": "text/x-python",
   "name": "python",
   "nbconvert_exporter": "python",
   "pygments_lexer": "ipython3",
   "version": "3.12.3"
  }
 },
 "nbformat": 4,
 "nbformat_minor": 2
}

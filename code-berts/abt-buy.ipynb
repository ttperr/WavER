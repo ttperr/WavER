{
	"cells": [
		{
			"cell_type": "markdown",
			"metadata": {},
			"source": [
				"# Entity Resolution project @ Wavestone\n",
				"## Abt-Buy Products Matching\n",
				"\n",
				"> *Datasets information from [here](Datasets.md) \\\n",
				"> Description to do but only take the raw data because the not raw data was already pre-processed*\n",
				"\n",
				"> **Tristan PERROT**\n"
			]
		},
		{
			"cell_type": "markdown",
			"metadata": {},
			"source": [
				"## Import libraries\n"
			]
		},
		{
			"cell_type": "code",
			"execution_count": 1,
			"metadata": {},
			"outputs": [
				{
					"name": "stdout",
					"output_type": "stream",
					"text": [
						"Using device: cpu\n"
					]
				}
			],
			"source": [
				"import os\n",
				"\n",
				"import torch\n",
				"import pickle\n",
				"\n",
				"device = torch.device('cuda:0' if torch.cuda.is_available() else 'cpu')\n",
				"print(f'Using device: {device}')"
			]
		},
		{
			"cell_type": "code",
			"execution_count": 2,
			"metadata": {},
			"outputs": [],
			"source": [
				"while 'model' not in os.listdir():\n",
				"    os.chdir('..')"
			]
		},
		{
			"cell_type": "code",
			"execution_count": 3,
			"metadata": {},
			"outputs": [],
			"source": [
				"MODEL_NAME = ''\n",
				"DATA_NAME = 'abt-buy'\n",
				"COMPUTER = 'gpu4.enst.fr:0'\n",
				"DATA_DIR = os.path.join('data', DATA_NAME)"
			]
		},
		{
			"cell_type": "markdown",
			"metadata": {},
			"source": [
				"## Load data"
			]
		},
		{
			"cell_type": "code",
			"execution_count": 4,
			"metadata": {},
			"outputs": [],
			"source": [
				"import numpy as np\n",
				"\n",
				"from model.BertModel import BertModel\n",
				"from model.utils import deserialize_entities, load_data"
			]
		},
		{
			"cell_type": "code",
			"execution_count": 8,
			"metadata": {},
			"outputs": [],
			"source": [
				"X_train_ids, y_train, X_valid_ids, y_valid, X_test_ids, y_test = load_data(DATA_DIR, comp_er=False)\n",
				"with open(os.path.join(DATA_DIR, '1_serialized.pkl'), 'rb') as f:\n",
				"    table_a_serialized = pickle.load(f)\n",
				"with open(os.path.join(DATA_DIR, '2_serialized.pkl'), 'rb') as f:\n",
				"    table_b_serialized = pickle.load(f)"
			]
		},
		{
			"cell_type": "code",
			"execution_count": 9,
			"metadata": {},
			"outputs": [],
			"source": [
				"X_train = [table_a_serialized[i[0]] + ' [SEP] ' + table_b_serialized[i[1]] for i in X_train_ids]\n",
				"X_valid = [table_a_serialized[i[0]] + ' [SEP] ' + table_b_serialized[i[1]] for i in X_valid_ids]\n",
				"X_test = [table_a_serialized[i[0]] + ' [SEP] ' + table_b_serialized[i[1]] for i in X_test_ids]"
			]
		},
		{
			"cell_type": "code",
			"execution_count": 10,
			"metadata": {},
			"outputs": [
				{
					"name": "stdout",
					"output_type": "stream",
					"text": [
						"Sample 0:\n",
						"[COL] name [VAL] Sony Silver Cyber-Shot Digital Camera - DSCS750 [COL] description [VAL] Sony Silver Cyber-Shot Digital Camera - DSCS750/ 7.2 Megapixel Super HAD CCD/ 2.5' LCD Display/ 3x Optical Zoom/ High Sensitivity Mode/ Auto Focus/ 22 MB Internal Memory/ Face Detection/ Burst Mode/ Convenient Photo Modes/ Beginner-Friendly Function Guide/ Silver Finish [COL] price [VAL]  [SEP] [COL] name [VAL] OmniMount Ultra Low Profile ULPT-L Flat Panel Wall Mount - ULPT-L A [COL] description [VAL] 200 lb - Anthracite [COL] manufacturer [VAL] OMNIMOUNT SYSTEMS, INC [COL] price [VAL] 278.95\n",
						"Label: 0\n",
						"\n",
						"Sample 1:\n",
						"[COL] name [VAL] Canon Black EOS Rebel XSi Digital SLR Camera - XSIREB1855 [COL] description [VAL] Canon Black EOS Rebel XSi Digital SLR Camera - XSIREB1855/ 12.2 Megapixel/ DIGIC III Image Processor/ Extensive Noise Reduction Technology/ Auto Optimization/ 3.0' LCD Monitor/ Compatible With Compact SD And SDHC Memory Cards/ EOS Integrated Cleaning System/ 18-55MM Lens Included/ 2756B003/ Black Finish [COL] price [VAL]  [SEP] [COL] name [VAL] Canon PowerShot A590 IS Digital Camera - 2462B001 [COL] description [VAL] Canon PowerShot A590 IS 8 Megapixels, 4x Optical Zoom, 2.5' LCD, ISO 1600 Digital Camera [COL] manufacturer [VAL] Canon [COL] price [VAL] \n",
						"Label: 1\n",
						"\n",
						"Sample 2:\n",
						"[COL] name [VAL] Olympus PS-BLS1 Lithium Ion Rechargeable Battery - LIIONPSBLS1 [COL] description [VAL] Olympus PS-BLS1 Lithium Ion Rechargeable Battery - LIIONPSBLS1/ Double Your Shooting Time With A Spare Battery For The Evolt E-410 [COL] price [VAL]  [SEP] [COL] name [VAL] Toshiba Lithium Ion Portable DVD Player Battery - MEDB05LX [COL] description [VAL] Lithium Ion (Li-Ion) - 7.4V DC - Portable DVD Player Battery [COL] manufacturer [VAL] Toshiba [COL] price [VAL] 149.99\n",
						"Label: 1\n",
						"\n",
						"Sample 3:\n",
						"[COL] name [VAL] Sony Silver Cyber-Shot 7.2 Megapixel Digital Camera - DSCW120 [COL] description [VAL] Sony Silver Cyber-Shot 7.2 Megapixel Digital Camera - DSCW120/ 7.2 Megapixel/ 4X Optical Zoom/ 2.5' TFT LCD/ 15 MB Internal Memory/ Face Detection/ Super SteadyShot Image Stabilization/ Smile Shutter Mode/ Smart Zoom/ Silver Finish [COL] price [VAL]  [SEP] [COL] name [VAL] Nikon 55-200mm f/4-5.6G ED IF AF-S DX VR Zoom Telephoto Nikkor Lens - Niko_216687518 [COL] description [VAL]  [COL] manufacturer [VAL] Nikon [COL] price [VAL] 189.95\n",
						"Label: 0\n",
						"\n",
						"Sample 4:\n",
						"[COL] name [VAL] Samsung 61' Black DLP Projection HDTV - HL61A650 [COL] description [VAL] Samsung 61' Black Series 6 DLP HDTV - HL61A650/ 1920 x 1080p Resolution/ 2,500:1 Contrast Ratio/ Cinema Smooth Light Engine/ 3D Movie Viewing And Gaming/ DNIe Technology/ 3 HDMI Inputs/ Wiselink USB Connection/ TruSurround XT/ NTSC/ATSC/Clear QAM Tuner/ Black Finish [COL] price [VAL]  [SEP] [COL] name [VAL] Samsung HL-67A750 - 67' Widescreen 1080p DLP HDTV - 10,000:1 Contrast Ratio - HL67A750 [COL] description [VAL]  [COL] manufacturer [VAL] Samsung [COL] price [VAL] 1729.58\n",
						"Label: 1\n",
						"\n"
					]
				}
			],
			"source": [
				"# Display the first 5 samples of the training set\n",
				"for i in range(5):\n",
				"    print(f'Sample {i}:')\n",
				"    print(X_train[i])\n",
				"    print(f'Label: {y_train[i]}')\n",
				"    print()"
			]
		},
		{
			"cell_type": "markdown",
			"metadata": {},
			"source": [
				"### RoBERTa Base\n",
				"- Architecture: Transformer-based model\n",
				"- Parameters: ~125 million\n",
				"- Layers: 12 Transformer layers\n",
				"- Hidden Size: 768\n",
				"- Attention Heads: 12"
			]
		},
		{
			"cell_type": "code",
			"execution_count": 26,
			"metadata": {},
			"outputs": [],
			"source": [
				"MODEL_NAME = 'roberta-base'"
			]
		},
		{
			"cell_type": "code",
			"execution_count": null,
			"metadata": {},
			"outputs": [],
			"source": [
				"model = BertModel(model_name=MODEL_NAME, study_name=DATA_NAME + \"/\" + MODEL_NAME + \"@\" + COMPUTER, device=device)\n",
				"train_loader, val_loader, test_loader = model.prepare_data(X_train, y_train, X_valid, y_valid, X_test, y_test, batch_size=32, num_workers=4)\n",
				"model.fit(train_loader, val_loader, epochs=3, lr=2e-5, weight_decay=0.01, early_stopping=True, patience=3)"
			]
		},
		{
			"cell_type": "code",
			"execution_count": 24,
			"metadata": {},
			"outputs": [
				{
					"name": "stderr",
					"output_type": "stream",
					"text": [
						"Testing: 100%|██████████████████████████████████████████████████████████████| 11/11 [00:02<00:00,  4.64batch/s]"
					]
				},
				{
					"name": "stdout",
					"output_type": "stream",
					"text": [
						"              precision    recall  f1-score   support\n",
						"\n",
						"           0       1.00      0.99      1.00       166\n",
						"           1       0.99      1.00      1.00       166\n",
						"\n",
						"    accuracy                           1.00       332\n",
						"   macro avg       1.00      1.00      1.00       332\n",
						"weighted avg       1.00      1.00      1.00       332\n",
						"\n",
						"Test loss: 0.01014\n"
					]
				},
				{
					"name": "stderr",
					"output_type": "stream",
					"text": [
						"\n"
					]
				}
			],
			"source": [
				"y_pred = model.evaluate(test_loader)"
			]
		},
		{
			"cell_type": "code",
			"execution_count": 25,
			"metadata": {},
			"outputs": [
				{
					"name": "stdout",
					"output_type": "stream",
					"text": [
						"Prediction: 0\n",
						"Label: 0\n",
						"Sample: <col>name<val>LaCie 500GB d2 Quadra External Hard Drive - 301825U <col>description<val>LaCie 500GB d2 Quadra External Hard Drive - 301825U/ Quadruple Interface For Full PC And Mac Compatibility/ Interface Bandwidth Up To 3Gbits/s (eSATA)/ Advanced Aluminum Heat Sink Design Cooling System For Quiet Operation/ 7200 Rotational Speed (rpm)/ 16MB Cache/ Compatible With Time Machine <col>price<val>$159.00<sep><col>name<val>Canon EF 75-300mm f/4-5.6 III Telephoto Zoom Lens - 6473A003 <col>description<val>f/4 to 5.6 <col>manufacturer<val>Canon <col>price<val>$159.95\n"
					]
				}
			],
			"source": [
				"# Exemple of prediction\n",
				"print(f'Prediction: {y_pred[0]}')\n",
				"print(f'Label: {y_test[0]}')\n",
				"print(f'Sample: {X_test[0]}')"
			]
		},
		{
			"cell_type": "code",
			"execution_count": 26,
			"metadata": {},
			"outputs": [
				{
					"name": "stdout",
					"output_type": "stream",
					"text": [
						"Entity 1:\n"
					]
				},
				{
					"data": {
						"text/html": [
							"<div>\n",
							"<style scoped>\n",
							"    .dataframe tbody tr th:only-of-type {\n",
							"        vertical-align: middle;\n",
							"    }\n",
							"\n",
							"    .dataframe tbody tr th {\n",
							"        vertical-align: top;\n",
							"    }\n",
							"\n",
							"    .dataframe thead th {\n",
							"        text-align: right;\n",
							"    }\n",
							"</style>\n",
							"<table border=\"1\" class=\"dataframe\">\n",
							"  <thead>\n",
							"    <tr style=\"text-align: right;\">\n",
							"      <th>column</th>\n",
							"      <th>name</th>\n",
							"      <th>description</th>\n",
							"      <th>price</th>\n",
							"    </tr>\n",
							"  </thead>\n",
							"  <tbody>\n",
							"    <tr>\n",
							"      <th>0</th>\n",
							"      <td>Sony Black 1080p Upscaling DVD Player - DVPNS7...</td>\n",
							"      <td>Sony Black 1080p Upscaling DVD Player - DVPNS7...</td>\n",
							"      <td></td>\n",
							"    </tr>\n",
							"  </tbody>\n",
							"</table>\n",
							"</div>"
						],
						"text/plain": [
							"column                                               name  \\\n",
							"0       Sony Black 1080p Upscaling DVD Player - DVPNS7...   \n",
							"\n",
							"column                                        description price  \n",
							"0       Sony Black 1080p Upscaling DVD Player - DVPNS7...        "
						]
					},
					"metadata": {},
					"output_type": "display_data"
				},
				{
					"name": "stdout",
					"output_type": "stream",
					"text": [
						"Entity 2:\n"
					]
				},
				{
					"data": {
						"text/html": [
							"<div>\n",
							"<style scoped>\n",
							"    .dataframe tbody tr th:only-of-type {\n",
							"        vertical-align: middle;\n",
							"    }\n",
							"\n",
							"    .dataframe tbody tr th {\n",
							"        vertical-align: top;\n",
							"    }\n",
							"\n",
							"    .dataframe thead th {\n",
							"        text-align: right;\n",
							"    }\n",
							"</style>\n",
							"<table border=\"1\" class=\"dataframe\">\n",
							"  <thead>\n",
							"    <tr style=\"text-align: right;\">\n",
							"      <th>column</th>\n",
							"      <th>name</th>\n",
							"      <th>description</th>\n",
							"      <th>manufacturer</th>\n",
							"      <th>price</th>\n",
							"    </tr>\n",
							"  </thead>\n",
							"  <tbody>\n",
							"    <tr>\n",
							"      <th>0</th>\n",
							"      <td>Sony DVP-NS700H/B DVD Player</td>\n",
							"      <td>DVD-RW, DVD+RW, DVD-R, DVD+R, CD-RW - DVD Vide...</td>\n",
							"      <td>Sony</td>\n",
							"      <td></td>\n",
							"    </tr>\n",
							"  </tbody>\n",
							"</table>\n",
							"</div>"
						],
						"text/plain": [
							"column                           name  \\\n",
							"0       Sony DVP-NS700H/B DVD Player    \n",
							"\n",
							"column                                        description manufacturer price  \n",
							"0       DVD-RW, DVD+RW, DVD-R, DVD+R, CD-RW - DVD Vide...        Sony         "
						]
					},
					"metadata": {},
					"output_type": "display_data"
				},
				{
					"name": "stdout",
					"output_type": "stream",
					"text": [
						"Label: 1\n",
						"Prediction: 1\n"
					]
				}
			],
			"source": [
				"e1_df, e2_df = deserialize_entities(X_test[np.nonzero(y_test)[0][0]])\n",
				"print('Entity 1:')\n",
				"display(e1_df)\n",
				"print('Entity 2:')\n",
				"display(e2_df)\n",
				"print(f'Label: {y_test[np.nonzero(y_test)[0][0]]}')\n",
				"print(f'Prediction: {y_pred[np.nonzero(y_test)[0][0]]}')"
			]
		},
		{
			"cell_type": "markdown",
			"metadata": {},
			"source": [
				"### DistilRoBERTa\n",
				"- Parameters: ~82 million\n",
				"- Layers: 6 Transformer layers (half of RoBERTa-base)\n",
				"- Hidden Size: 768 (same as RoBERTa-base)\n",
				"- Attention Heads: 12 (same as RoBERTa-base)\n",
				"- It’s 60% faster than RoBERTa base.\n",
				"- Has 40% fewer parameters while retaining over 95% of the performance on most tasks."
			]
		},
		{
			"cell_type": "code",
			"execution_count": 27,
			"metadata": {},
			"outputs": [],
			"source": [
				"MODEL_NAME = 'distilroberta-base'"
			]
		},
		{
			"cell_type": "code",
			"execution_count": 28,
			"metadata": {},
			"outputs": [
				{
					"name": "stderr",
					"output_type": "stream",
					"text": [
						"Some weights of RobertaForSequenceClassification were not initialized from the model checkpoint at distilroberta-base and are newly initialized: ['classifier.dense.bias', 'classifier.dense.weight', 'classifier.out_proj.bias', 'classifier.out_proj.weight']\n",
						"You should probably TRAIN this model on a down-stream task to be able to use it for predictions and inference.\n"
					]
				},
				{
					"name": "stdout",
					"output_type": "stream",
					"text": [
						"Model initialized\n",
						"Device: cuda:0\n",
						"Model: distilroberta-base\n",
						"Study name: Abt-Buy/distilroberta-base@gpu6.enst.fr:0\n",
						"Epoch 1/10\n"
					]
				},
				{
					"name": "stderr",
					"output_type": "stream",
					"text": [
						"Training: 100%|█████████████████████████████████████████████████████████████| 48/48 [00:15<00:00,  3.09batch/s]\n",
						"Validation: 100%|███████████████████████████████████████████████████████████| 11/11 [00:01<00:00,  7.97batch/s]\n"
					]
				},
				{
					"name": "stdout",
					"output_type": "stream",
					"text": [
						"Train loss: 0.4401\n",
						"Val loss: 0.0743\n",
						"              precision    recall  f1-score   support\n",
						"\n",
						"           0       1.00      0.96      0.98       166\n",
						"           1       0.97      1.00      0.98       166\n",
						"\n",
						"    accuracy                           0.98       332\n",
						"   macro avg       0.98      0.98      0.98       332\n",
						"weighted avg       0.98      0.98      0.98       332\n",
						"\n",
						"Epoch 2/10\n"
					]
				},
				{
					"name": "stderr",
					"output_type": "stream",
					"text": [
						"Training: 100%|█████████████████████████████████████████████████████████████| 48/48 [00:15<00:00,  3.09batch/s]\n",
						"Validation: 100%|███████████████████████████████████████████████████████████| 11/11 [00:01<00:00,  8.16batch/s]\n"
					]
				},
				{
					"name": "stdout",
					"output_type": "stream",
					"text": [
						"Train loss: 0.0536\n",
						"Val loss: 0.0253\n",
						"              precision    recall  f1-score   support\n",
						"\n",
						"           0       1.00      0.99      0.99       166\n",
						"           1       0.99      1.00      0.99       166\n",
						"\n",
						"    accuracy                           0.99       332\n",
						"   macro avg       0.99      0.99      0.99       332\n",
						"weighted avg       0.99      0.99      0.99       332\n",
						"\n",
						"Epoch 3/10\n"
					]
				},
				{
					"name": "stderr",
					"output_type": "stream",
					"text": [
						"Training: 100%|█████████████████████████████████████████████████████████████| 48/48 [00:15<00:00,  3.09batch/s]\n",
						"Validation: 100%|███████████████████████████████████████████████████████████| 11/11 [00:01<00:00,  8.11batch/s]\n"
					]
				},
				{
					"name": "stdout",
					"output_type": "stream",
					"text": [
						"Train loss: 0.0196\n",
						"Val loss: 0.0113\n",
						"              precision    recall  f1-score   support\n",
						"\n",
						"           0       1.00      0.99      0.99       166\n",
						"           1       0.99      1.00      0.99       166\n",
						"\n",
						"    accuracy                           0.99       332\n",
						"   macro avg       0.99      0.99      0.99       332\n",
						"weighted avg       0.99      0.99      0.99       332\n",
						"\n",
						"Epoch 4/10\n"
					]
				},
				{
					"name": "stderr",
					"output_type": "stream",
					"text": [
						"Training: 100%|█████████████████████████████████████████████████████████████| 48/48 [00:15<00:00,  3.09batch/s]\n",
						"Validation: 100%|███████████████████████████████████████████████████████████| 11/11 [00:01<00:00,  8.20batch/s]\n"
					]
				},
				{
					"name": "stdout",
					"output_type": "stream",
					"text": [
						"Train loss: 0.0158\n",
						"Val loss: 0.0619\n",
						"              precision    recall  f1-score   support\n",
						"\n",
						"           0       0.97      1.00      0.99       166\n",
						"           1       1.00      0.97      0.98       166\n",
						"\n",
						"    accuracy                           0.98       332\n",
						"   macro avg       0.99      0.98      0.98       332\n",
						"weighted avg       0.99      0.98      0.98       332\n",
						"\n",
						"Epoch 5/10\n"
					]
				},
				{
					"name": "stderr",
					"output_type": "stream",
					"text": [
						"Training: 100%|█████████████████████████████████████████████████████████████| 48/48 [00:15<00:00,  3.09batch/s]\n",
						"Validation: 100%|███████████████████████████████████████████████████████████| 11/11 [00:01<00:00,  7.73batch/s]\n"
					]
				},
				{
					"name": "stdout",
					"output_type": "stream",
					"text": [
						"Train loss: 0.0422\n",
						"Val loss: 0.0157\n",
						"              precision    recall  f1-score   support\n",
						"\n",
						"           0       1.00      0.99      1.00       166\n",
						"           1       0.99      1.00      1.00       166\n",
						"\n",
						"    accuracy                           1.00       332\n",
						"   macro avg       1.00      1.00      1.00       332\n",
						"weighted avg       1.00      1.00      1.00       332\n",
						"\n",
						"Epoch 6/10\n"
					]
				},
				{
					"name": "stderr",
					"output_type": "stream",
					"text": [
						"Training: 100%|█████████████████████████████████████████████████████████████| 48/48 [00:15<00:00,  3.09batch/s]\n",
						"Validation: 100%|███████████████████████████████████████████████████████████| 11/11 [00:01<00:00,  8.17batch/s]"
					]
				},
				{
					"name": "stdout",
					"output_type": "stream",
					"text": [
						"Train loss: 0.0140\n",
						"Val loss: 0.0131\n",
						"              precision    recall  f1-score   support\n",
						"\n",
						"           0       0.99      0.99      0.99       166\n",
						"           1       0.99      0.99      0.99       166\n",
						"\n",
						"    accuracy                           0.99       332\n",
						"   macro avg       0.99      0.99      0.99       332\n",
						"weighted avg       0.99      0.99      0.99       332\n",
						"\n",
						"Early stopping triggered\n",
						"Best weights restored\n",
						"Mean time per epoch: 16.91\n"
					]
				},
				{
					"name": "stderr",
					"output_type": "stream",
					"text": [
						"\n"
					]
				}
			],
			"source": [
				"model = BertModel(model_name=MODEL_NAME, study_name=DATA_NAME + \"/\" + MODEL_NAME + \"@\" + COMPUTER, device=device)\n",
				"train_loader, val_loader, test_loader = model.prepare_data(X_train, y_train, X_valid, y_valid, X_test, y_test, batch_size=32, num_workers=4)\n",
				"model.fit(train_loader, val_loader, epochs=3, lr=2e-5, weight_decay=0.01, early_stopping=True, patience=3)"
			]
		},
		{
			"cell_type": "code",
			"execution_count": 29,
			"metadata": {},
			"outputs": [
				{
					"name": "stderr",
					"output_type": "stream",
					"text": [
						"Testing: 100%|██████████████████████████████████████████████████████████████| 11/11 [00:01<00:00,  8.12batch/s]"
					]
				},
				{
					"name": "stdout",
					"output_type": "stream",
					"text": [
						"              precision    recall  f1-score   support\n",
						"\n",
						"           0       0.98      0.99      0.99       166\n",
						"           1       0.99      0.98      0.98       166\n",
						"\n",
						"    accuracy                           0.98       332\n",
						"   macro avg       0.99      0.98      0.98       332\n",
						"weighted avg       0.99      0.98      0.98       332\n",
						"\n",
						"Test loss: 0.02789\n"
					]
				},
				{
					"name": "stderr",
					"output_type": "stream",
					"text": [
						"\n"
					]
				}
			],
			"source": [
				"y_pred_disti = model.evaluate(test_loader)"
			]
		},
		{
			"cell_type": "markdown",
			"metadata": {},
			"source": [
				"### BERT Base\n",
				"- Parameters: ~110 million\n",
				"- Layers: 12 Transformer layers\n",
				"- Hidden Size: 768\n",
				"- Attention Heads: 12"
			]
		},
		{
			"cell_type": "code",
			"execution_count": 30,
			"metadata": {},
			"outputs": [],
			"source": [
				"MODEL_NAME = 'bert-base-uncased'"
			]
		},
		{
			"cell_type": "code",
			"execution_count": 31,
			"metadata": {},
			"outputs": [
				{
					"name": "stderr",
					"output_type": "stream",
					"text": [
						"Some weights of BertForSequenceClassification were not initialized from the model checkpoint at bert-base-uncased and are newly initialized: ['classifier.bias', 'classifier.weight']\n",
						"You should probably TRAIN this model on a down-stream task to be able to use it for predictions and inference.\n"
					]
				},
				{
					"name": "stdout",
					"output_type": "stream",
					"text": [
						"Model initialized\n",
						"Device: cuda:0\n",
						"Model: bert-base-uncased\n",
						"Study name: Abt-Buy/bert-base-uncased@gpu6.enst.fr:0\n",
						"Epoch 1/10\n"
					]
				},
				{
					"name": "stderr",
					"output_type": "stream",
					"text": [
						"Training: 100%|█████████████████████████████████████████████████████████████| 48/48 [00:30<00:00,  1.58batch/s]\n",
						"Validation: 100%|███████████████████████████████████████████████████████████| 11/11 [00:02<00:00,  4.43batch/s]\n"
					]
				},
				{
					"name": "stdout",
					"output_type": "stream",
					"text": [
						"Train loss: 0.4517\n",
						"Val loss: 0.1832\n",
						"              precision    recall  f1-score   support\n",
						"\n",
						"           0       1.00      0.87      0.93       166\n",
						"           1       0.88      1.00      0.94       166\n",
						"\n",
						"    accuracy                           0.93       332\n",
						"   macro avg       0.94      0.93      0.93       332\n",
						"weighted avg       0.94      0.93      0.93       332\n",
						"\n",
						"Epoch 2/10\n"
					]
				},
				{
					"name": "stderr",
					"output_type": "stream",
					"text": [
						"Training: 100%|█████████████████████████████████████████████████████████████| 48/48 [00:30<00:00,  1.58batch/s]\n",
						"Validation: 100%|███████████████████████████████████████████████████████████| 11/11 [00:02<00:00,  4.40batch/s]\n"
					]
				},
				{
					"name": "stdout",
					"output_type": "stream",
					"text": [
						"Train loss: 0.0784\n",
						"Val loss: 0.0632\n",
						"              precision    recall  f1-score   support\n",
						"\n",
						"           0       1.00      0.97      0.98       166\n",
						"           1       0.97      1.00      0.99       166\n",
						"\n",
						"    accuracy                           0.98       332\n",
						"   macro avg       0.99      0.98      0.98       332\n",
						"weighted avg       0.99      0.98      0.98       332\n",
						"\n",
						"Epoch 3/10\n"
					]
				},
				{
					"name": "stderr",
					"output_type": "stream",
					"text": [
						"Training: 100%|█████████████████████████████████████████████████████████████| 48/48 [00:30<00:00,  1.58batch/s]\n",
						"Validation: 100%|███████████████████████████████████████████████████████████| 11/11 [00:02<00:00,  4.41batch/s]\n"
					]
				},
				{
					"name": "stdout",
					"output_type": "stream",
					"text": [
						"Train loss: 0.0349\n",
						"Val loss: 0.0169\n",
						"              precision    recall  f1-score   support\n",
						"\n",
						"           0       1.00      0.99      0.99       166\n",
						"           1       0.99      1.00      0.99       166\n",
						"\n",
						"    accuracy                           0.99       332\n",
						"   macro avg       0.99      0.99      0.99       332\n",
						"weighted avg       0.99      0.99      0.99       332\n",
						"\n",
						"Epoch 4/10\n"
					]
				},
				{
					"name": "stderr",
					"output_type": "stream",
					"text": [
						"Training: 100%|█████████████████████████████████████████████████████████████| 48/48 [00:30<00:00,  1.58batch/s]\n",
						"Validation: 100%|███████████████████████████████████████████████████████████| 11/11 [00:02<00:00,  4.42batch/s]\n"
					]
				},
				{
					"name": "stdout",
					"output_type": "stream",
					"text": [
						"Train loss: 0.0181\n",
						"Val loss: 0.0172\n",
						"              precision    recall  f1-score   support\n",
						"\n",
						"           0       1.00      0.99      0.99       166\n",
						"           1       0.99      1.00      0.99       166\n",
						"\n",
						"    accuracy                           0.99       332\n",
						"   macro avg       0.99      0.99      0.99       332\n",
						"weighted avg       0.99      0.99      0.99       332\n",
						"\n",
						"Epoch 5/10\n"
					]
				},
				{
					"name": "stderr",
					"output_type": "stream",
					"text": [
						"Training: 100%|█████████████████████████████████████████████████████████████| 48/48 [00:30<00:00,  1.58batch/s]\n",
						"Validation: 100%|███████████████████████████████████████████████████████████| 11/11 [00:02<00:00,  4.44batch/s]\n"
					]
				},
				{
					"name": "stdout",
					"output_type": "stream",
					"text": [
						"Train loss: 0.0288\n",
						"Val loss: 0.0322\n",
						"              precision    recall  f1-score   support\n",
						"\n",
						"           0       1.00      0.98      0.99       166\n",
						"           1       0.98      1.00      0.99       166\n",
						"\n",
						"    accuracy                           0.99       332\n",
						"   macro avg       0.99      0.99      0.99       332\n",
						"weighted avg       0.99      0.99      0.99       332\n",
						"\n",
						"Epoch 6/10\n"
					]
				},
				{
					"name": "stderr",
					"output_type": "stream",
					"text": [
						"Training: 100%|█████████████████████████████████████████████████████████████| 48/48 [00:30<00:00,  1.58batch/s]\n",
						"Validation: 100%|███████████████████████████████████████████████████████████| 11/11 [00:02<00:00,  4.44batch/s]"
					]
				},
				{
					"name": "stdout",
					"output_type": "stream",
					"text": [
						"Train loss: 0.0165\n",
						"Val loss: 0.0227\n",
						"              precision    recall  f1-score   support\n",
						"\n",
						"           0       1.00      0.99      0.99       166\n",
						"           1       0.99      1.00      0.99       166\n",
						"\n",
						"    accuracy                           0.99       332\n",
						"   macro avg       0.99      0.99      0.99       332\n",
						"weighted avg       0.99      0.99      0.99       332\n",
						"\n",
						"Early stopping triggered\n",
						"Best weights restored\n",
						"Mean time per epoch: 32.90\n"
					]
				},
				{
					"name": "stderr",
					"output_type": "stream",
					"text": [
						"\n"
					]
				}
			],
			"source": [
				"model = BertModel(model_name=MODEL_NAME, study_name=DATA_NAME + \"/\" + MODEL_NAME + \"@\" + COMPUTER, device=device)\n",
				"train_loader, val_loader, test_loader = model.prepare_data(X_train, y_train, X_valid, y_valid, X_test, y_test, batch_size=32, num_workers=4)\n",
				"model.fit(train_loader, val_loader, epochs=3, lr=2e-5, weight_decay=0.01, early_stopping=True, patience=3)"
			]
		},
		{
			"cell_type": "code",
			"execution_count": 32,
			"metadata": {},
			"outputs": [
				{
					"name": "stderr",
					"output_type": "stream",
					"text": [
						"Testing: 100%|██████████████████████████████████████████████████████████████| 11/11 [00:02<00:00,  4.39batch/s]"
					]
				},
				{
					"name": "stdout",
					"output_type": "stream",
					"text": [
						"              precision    recall  f1-score   support\n",
						"\n",
						"           0       1.00      0.99      1.00       166\n",
						"           1       0.99      1.00      1.00       166\n",
						"\n",
						"    accuracy                           1.00       332\n",
						"   macro avg       1.00      1.00      1.00       332\n",
						"weighted avg       1.00      1.00      1.00       332\n",
						"\n",
						"Test loss: 0.01531\n"
					]
				},
				{
					"name": "stderr",
					"output_type": "stream",
					"text": [
						"\n"
					]
				}
			],
			"source": [
				"y_pred_bert = model.evaluate(test_loader)"
			]
		},
		{
			"cell_type": "markdown",
			"metadata": {},
			"source": [
				"### Electra\n",
				"- Parameters: ~110 million\n",
				"- Layers: 12 Transformer layers\n",
				"- Hidden Size: 768\n",
				"- Attention Heads: 12"
			]
		},
		{
			"cell_type": "code",
			"execution_count": 33,
			"metadata": {},
			"outputs": [],
			"source": [
				"MODEL_NAME = 'google/electra-base-discriminator'"
			]
		},
		{
			"cell_type": "code",
			"execution_count": 34,
			"metadata": {},
			"outputs": [
				{
					"name": "stderr",
					"output_type": "stream",
					"text": [
						"Some weights of ElectraForSequenceClassification were not initialized from the model checkpoint at google/electra-base-discriminator and are newly initialized: ['classifier.dense.bias', 'classifier.dense.weight', 'classifier.out_proj.bias', 'classifier.out_proj.weight']\n",
						"You should probably TRAIN this model on a down-stream task to be able to use it for predictions and inference.\n"
					]
				},
				{
					"name": "stdout",
					"output_type": "stream",
					"text": [
						"Model initialized\n",
						"Device: cuda:0\n",
						"Model: google/electra-base-discriminator\n",
						"Study name: Abt-Buy/google/electra-base-discriminator@gpu6.enst.fr:0\n",
						"Epoch 1/10\n"
					]
				},
				{
					"name": "stderr",
					"output_type": "stream",
					"text": [
						"Training: 100%|█████████████████████████████████████████████████████████████| 48/48 [00:34<00:00,  1.37batch/s]\n",
						"Validation: 100%|███████████████████████████████████████████████████████████| 11/11 [00:02<00:00,  3.94batch/s]\n"
					]
				},
				{
					"name": "stdout",
					"output_type": "stream",
					"text": [
						"Train loss: 0.4390\n",
						"Val loss: 0.2168\n",
						"              precision    recall  f1-score   support\n",
						"\n",
						"           0       1.00      0.84      0.92       166\n",
						"           1       0.86      1.00      0.93       166\n",
						"\n",
						"    accuracy                           0.92       332\n",
						"   macro avg       0.93      0.92      0.92       332\n",
						"weighted avg       0.93      0.92      0.92       332\n",
						"\n",
						"Epoch 2/10\n"
					]
				},
				{
					"name": "stderr",
					"output_type": "stream",
					"text": [
						"Training: 100%|█████████████████████████████████████████████████████████████| 48/48 [00:35<00:00,  1.37batch/s]\n",
						"Validation: 100%|███████████████████████████████████████████████████████████| 11/11 [00:02<00:00,  3.92batch/s]\n"
					]
				},
				{
					"name": "stdout",
					"output_type": "stream",
					"text": [
						"Train loss: 0.0514\n",
						"Val loss: 0.0411\n",
						"              precision    recall  f1-score   support\n",
						"\n",
						"           0       1.00      0.98      0.99       166\n",
						"           1       0.98      1.00      0.99       166\n",
						"\n",
						"    accuracy                           0.99       332\n",
						"   macro avg       0.99      0.99      0.99       332\n",
						"weighted avg       0.99      0.99      0.99       332\n",
						"\n",
						"Epoch 3/10\n"
					]
				},
				{
					"name": "stderr",
					"output_type": "stream",
					"text": [
						"Training: 100%|█████████████████████████████████████████████████████████████| 48/48 [00:35<00:00,  1.37batch/s]\n",
						"Validation: 100%|███████████████████████████████████████████████████████████| 11/11 [00:02<00:00,  3.92batch/s]\n"
					]
				},
				{
					"name": "stdout",
					"output_type": "stream",
					"text": [
						"Train loss: 0.0407\n",
						"Val loss: 0.0462\n",
						"              precision    recall  f1-score   support\n",
						"\n",
						"           0       1.00      0.98      0.99       166\n",
						"           1       0.98      1.00      0.99       166\n",
						"\n",
						"    accuracy                           0.99       332\n",
						"   macro avg       0.99      0.99      0.99       332\n",
						"weighted avg       0.99      0.99      0.99       332\n",
						"\n",
						"Epoch 4/10\n"
					]
				},
				{
					"name": "stderr",
					"output_type": "stream",
					"text": [
						"Training: 100%|█████████████████████████████████████████████████████████████| 48/48 [00:35<00:00,  1.37batch/s]\n",
						"Validation: 100%|███████████████████████████████████████████████████████████| 11/11 [00:02<00:00,  3.89batch/s]\n"
					]
				},
				{
					"name": "stdout",
					"output_type": "stream",
					"text": [
						"Train loss: 0.0241\n",
						"Val loss: 0.0233\n",
						"              precision    recall  f1-score   support\n",
						"\n",
						"           0       1.00      0.98      0.99       166\n",
						"           1       0.98      1.00      0.99       166\n",
						"\n",
						"    accuracy                           0.99       332\n",
						"   macro avg       0.99      0.99      0.99       332\n",
						"weighted avg       0.99      0.99      0.99       332\n",
						"\n",
						"Epoch 5/10\n"
					]
				},
				{
					"name": "stderr",
					"output_type": "stream",
					"text": [
						"Training: 100%|█████████████████████████████████████████████████████████████| 48/48 [00:34<00:00,  1.37batch/s]\n",
						"Validation: 100%|███████████████████████████████████████████████████████████| 11/11 [00:02<00:00,  3.89batch/s]\n"
					]
				},
				{
					"name": "stdout",
					"output_type": "stream",
					"text": [
						"Train loss: 0.0213\n",
						"Val loss: 0.0268\n",
						"              precision    recall  f1-score   support\n",
						"\n",
						"           0       1.00      0.98      0.99       166\n",
						"           1       0.98      1.00      0.99       166\n",
						"\n",
						"    accuracy                           0.99       332\n",
						"   macro avg       0.99      0.99      0.99       332\n",
						"weighted avg       0.99      0.99      0.99       332\n",
						"\n",
						"Epoch 6/10\n"
					]
				},
				{
					"name": "stderr",
					"output_type": "stream",
					"text": [
						"Training: 100%|█████████████████████████████████████████████████████████████| 48/48 [00:35<00:00,  1.37batch/s]\n",
						"Validation: 100%|███████████████████████████████████████████████████████████| 11/11 [00:02<00:00,  3.90batch/s]\n"
					]
				},
				{
					"name": "stdout",
					"output_type": "stream",
					"text": [
						"Train loss: 0.0138\n",
						"Val loss: 0.0239\n",
						"              precision    recall  f1-score   support\n",
						"\n",
						"           0       1.00      0.98      0.99       166\n",
						"           1       0.98      1.00      0.99       166\n",
						"\n",
						"    accuracy                           0.99       332\n",
						"   macro avg       0.99      0.99      0.99       332\n",
						"weighted avg       0.99      0.99      0.99       332\n",
						"\n",
						"Epoch 7/10\n"
					]
				},
				{
					"name": "stderr",
					"output_type": "stream",
					"text": [
						"Training: 100%|█████████████████████████████████████████████████████████████| 48/48 [00:35<00:00,  1.37batch/s]\n",
						"Validation: 100%|███████████████████████████████████████████████████████████| 11/11 [00:02<00:00,  3.90batch/s]\n"
					]
				},
				{
					"name": "stdout",
					"output_type": "stream",
					"text": [
						"Train loss: 0.0122\n",
						"Val loss: 0.0301\n",
						"              precision    recall  f1-score   support\n",
						"\n",
						"           0       1.00      0.98      0.99       166\n",
						"           1       0.98      1.00      0.99       166\n",
						"\n",
						"    accuracy                           0.99       332\n",
						"   macro avg       0.99      0.99      0.99       332\n",
						"weighted avg       0.99      0.99      0.99       332\n",
						"\n",
						"Early stopping triggered\n",
						"Best weights restored\n",
						"Mean time per epoch: 37.85\n"
					]
				}
			],
			"source": [
				"model = BertModel(model_name=MODEL_NAME, study_name=DATA_NAME + \"/\" + MODEL_NAME + \"@\" + COMPUTER, device=device)\n",
				"train_loader, val_loader, test_loader = model.prepare_data(X_train, y_train, X_valid, y_valid, X_test, y_test, batch_size=32, num_workers=4)\n",
				"model.fit(train_loader, val_loader, epochs=3, lr=2e-5, weight_decay=0.01, early_stopping=True, patience=3)"
			]
		},
		{
			"cell_type": "code",
			"execution_count": 35,
			"metadata": {},
			"outputs": [
				{
					"name": "stderr",
					"output_type": "stream",
					"text": [
						"Testing: 100%|██████████████████████████████████████████████████████████████| 11/11 [00:02<00:00,  3.88batch/s]"
					]
				},
				{
					"name": "stdout",
					"output_type": "stream",
					"text": [
						"              precision    recall  f1-score   support\n",
						"\n",
						"           0       1.00      0.99      0.99       166\n",
						"           1       0.99      1.00      0.99       166\n",
						"\n",
						"    accuracy                           0.99       332\n",
						"   macro avg       0.99      0.99      0.99       332\n",
						"weighted avg       0.99      0.99      0.99       332\n",
						"\n",
						"Test loss: 0.01888\n"
					]
				},
				{
					"name": "stderr",
					"output_type": "stream",
					"text": [
						"\n"
					]
				}
			],
			"source": [
				"y_pred_electra = model.evaluate(test_loader)"
			]
		}
	],
	"metadata": {
		"kernelspec": {
			"display_name": "Python 3",
			"language": "python",
			"name": "python3"
		},
		"language_info": {
			"codemirror_mode": {
				"name": "ipython",
				"version": 3
			},
			"file_extension": ".py",
			"mimetype": "text/x-python",
			"name": "python",
			"nbconvert_exporter": "python",
			"pygments_lexer": "ipython3",
			"version": "3.12.4"
		}
	},
	"nbformat": 4,
	"nbformat_minor": 2
}

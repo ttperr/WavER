{
	"cells": [
		{
			"cell_type": "markdown",
			"metadata": {},
			"source": [
				"# Entity Resolution project @ Wavestone\n",
				"## Fodors-Zagats Restaurant Matching\n",
				"\n",
				"> *Datasets information from [here](Datasets.md) \\\n",
				"> Description to do but only take the raw data because the not raw data was already pre-processed*\n",
				"\n",
				"> **Tristan PERROT**\n"
			]
		},
		{
			"cell_type": "markdown",
			"metadata": {},
			"source": [
				"## Import libraries\n"
			]
		},
		{
			"cell_type": "code",
			"execution_count": 1,
			"metadata": {},
			"outputs": [
				{
					"name": "stdout",
					"output_type": "stream",
					"text": [
						"Using device: cpu\n"
					]
				}
			],
			"source": [
				"import os\n",
				"\n",
				"import torch\n",
				"import pickle\n",
				"\n",
				"device = torch.device('cuda:0' if torch.cuda.is_available() else 'cpu')\n",
				"print(f'Using device: {device}')"
			]
		},
		{
			"cell_type": "code",
			"execution_count": 2,
			"metadata": {},
			"outputs": [],
			"source": [
				"while 'model' not in os.listdir():\n",
				"    os.chdir('..')"
			]
		},
		{
			"cell_type": "code",
			"execution_count": 3,
			"metadata": {},
			"outputs": [],
			"source": [
				"MODEL_NAME = 'bert-base-uncased'\n",
				"DATA_NAME = 'fodors-zagats'\n",
				"COMPUTER = 'gpu4.enst.fr:0'\n",
				"DATA_DIR = os.path.join('data', DATA_NAME)"
			]
		},
		{
			"cell_type": "markdown",
			"metadata": {},
			"source": [
				"## Load data"
			]
		},
		{
			"cell_type": "code",
			"execution_count": 4,
			"metadata": {},
			"outputs": [],
			"source": [
				"import numpy as np\n",
				"\n",
				"from model.BertModel import BertModel\n",
				"from model.utils import deserialize_entities, load_data"
			]
		},
		{
			"cell_type": "code",
			"execution_count": 5,
			"metadata": {},
			"outputs": [],
			"source": [
				"X_train_ids, y_train, X_valid_ids, y_valid, X_test_ids, y_test = load_data(DATA_DIR, comp_er=False)\n",
				"with open(os.path.join(DATA_DIR, '1_serialized.pkl'), 'rb') as f:\n",
				"    table_a_serialized = pickle.load(f)\n",
				"with open(os.path.join(DATA_DIR, '2_serialized.pkl'), 'rb') as f:\n",
				"    table_b_serialized = pickle.load(f)"
			]
		},
		{
			"cell_type": "code",
			"execution_count": 6,
			"metadata": {},
			"outputs": [],
			"source": [
				"X_train = [table_a_serialized[i[0]] + ' [SEP] ' + table_b_serialized[i[1]] for i in X_train_ids]\n",
				"X_valid = [table_a_serialized[i[0]] + ' [SEP] ' + table_b_serialized[i[1]] for i in X_valid_ids]\n",
				"X_test = [table_a_serialized[i[0]] + ' [SEP] ' + table_b_serialized[i[1]] for i in X_test_ids]"
			]
		},
		{
			"cell_type": "code",
			"execution_count": 7,
			"metadata": {},
			"outputs": [
				{
					"name": "stdout",
					"output_type": "stream",
					"text": [
						"Sample 0:\n",
						"[COL] name [VAL] 'georgia grille' [COL] addr [VAL] '2290 peachtree rd.  peachtree square shopping center' [COL] city [VAL] atlanta [COL] phone [VAL] 404/352-3517 [COL] type [VAL] american [SEP] [COL] name [VAL] 'union square cafe' [COL] addr [VAL] '21 e. 16th st.' [COL] city [VAL] 'new york city' [COL] phone [VAL] 212-243-4020 [COL] type [VAL] 'american (new)'\n",
						"Label: 0\n",
						"\n",
						"Sample 1:\n",
						"[COL] name [VAL] 'georgia grille' [COL] addr [VAL] '2290 peachtree rd.  peachtree square shopping center' [COL] city [VAL] atlanta [COL] phone [VAL] 404/352-3517 [COL] type [VAL] american [SEP] [COL] name [VAL] 'gotham bar & grill' [COL] addr [VAL] '12 e. 12th st.' [COL] city [VAL] 'new york city' [COL] phone [VAL] 212-620-4020 [COL] type [VAL] 'american (new)'\n",
						"Label: 1\n",
						"\n",
						"Sample 2:\n",
						"[COL] name [VAL] 'four seasons grill room' [COL] addr [VAL] '99 e. 52nd st.' [COL] city [VAL] 'new york' [COL] phone [VAL] 212/754-9494 [COL] type [VAL] american [SEP] [COL] name [VAL] delectables [COL] addr [VAL] '1 margaret mitchell sq.' [COL] city [VAL] atlanta [COL] phone [VAL] 404-681-2909 [COL] type [VAL] cafeterias\n",
						"Label: 0\n",
						"\n",
						"Sample 3:\n",
						"[COL] name [VAL] 'mesa grill' [COL] addr [VAL] '102 5th ave.  between 15th and 16th sts.' [COL] city [VAL] 'new york' [COL] phone [VAL] 212/807-7400 [COL] type [VAL] american [SEP] [COL] name [VAL] 'grill  the' [COL] addr [VAL] '9560 dayton way' [COL] city [VAL] 'beverly hills' [COL] phone [VAL] 310-276-0615 [COL] type [VAL] 'american (traditional)'\n",
						"Label: 1\n",
						"\n",
						"Sample 4:\n",
						"[COL] name [VAL] 'le montrachet' [COL] addr [VAL] '3000 w. paradise rd.' [COL] city [VAL] 'las vegas' [COL] phone [VAL] 702/732-5111 [COL] type [VAL] continental [SEP] [COL] name [VAL] 'le chardonnay (los angeles)' [COL] addr [VAL] '8284 melrose ave.' [COL] city [VAL] 'los angeles' [COL] phone [VAL] 213-655-8880 [COL] type [VAL] 'french bistro'\n",
						"Label: 1\n",
						"\n"
					]
				}
			],
			"source": [
				"# Display the first 5 samples of the training set\n",
				"for i in range(5):\n",
				"    print(f'Sample {i}:')\n",
				"    print(X_train[i])\n",
				"    print(f'Label: {y_train[i]}')\n",
				"    print()"
			]
		},
		{
			"cell_type": "markdown",
			"metadata": {},
			"source": [
				"### RoBERTa Base\n",
				"- Architecture: Transformer-based model\n",
				"- Parameters: ~125 million\n",
				"- Layers: 12 Transformer layers\n",
				"- Hidden Size: 768\n",
				"- Attention Heads: 12"
			]
		},
		{
			"cell_type": "code",
			"execution_count": 22,
			"metadata": {},
			"outputs": [],
			"source": [
				"MODEL_NAME = 'roberta-base'"
			]
		},
		{
			"cell_type": "code",
			"execution_count": 23,
			"metadata": {},
			"outputs": [
				{
					"name": "stderr",
					"output_type": "stream",
					"text": [
						"Some weights of RobertaForSequenceClassification were not initialized from the model checkpoint at roberta-base and are newly initialized: ['classifier.dense.bias', 'classifier.dense.weight', 'classifier.out_proj.bias', 'classifier.out_proj.weight']\n",
						"You should probably TRAIN this model on a down-stream task to be able to use it for predictions and inference.\n"
					]
				},
				{
					"name": "stdout",
					"output_type": "stream",
					"text": [
						"Model initialized\n",
						"Device: cuda:0\n",
						"Model: roberta-base\n",
						"Study name: Fodors-Zagats/roberta-base@gpu6.enst.fr:0\n",
						"Epoch 1/10\n"
					]
				},
				{
					"name": "stderr",
					"output_type": "stream",
					"text": [
						"Training: 100%|███████████████████████████████████████████████████████████████| 5/5 [00:03<00:00,  1.41batch/s]\n",
						"Validation: 100%|█████████████████████████████████████████████████████████████| 1/1 [00:00<00:00,  2.20batch/s]\n"
					]
				},
				{
					"name": "stdout",
					"output_type": "stream",
					"text": [
						"Train loss: 0.6839\n",
						"Val loss: 0.6630\n",
						"              precision    recall  f1-score   support\n",
						"\n",
						"           0       0.62      1.00      0.76        16\n",
						"           1       1.00      0.38      0.55        16\n",
						"\n",
						"    accuracy                           0.69        32\n",
						"   macro avg       0.81      0.69      0.65        32\n",
						"weighted avg       0.81      0.69      0.65        32\n",
						"\n",
						"Epoch 2/10\n"
					]
				},
				{
					"name": "stderr",
					"output_type": "stream",
					"text": [
						"Training: 100%|███████████████████████████████████████████████████████████████| 5/5 [00:03<00:00,  1.54batch/s]\n",
						"Validation: 100%|█████████████████████████████████████████████████████████████| 1/1 [00:00<00:00,  2.15batch/s]\n"
					]
				},
				{
					"name": "stdout",
					"output_type": "stream",
					"text": [
						"Train loss: 0.5746\n",
						"Val loss: 0.4454\n",
						"              precision    recall  f1-score   support\n",
						"\n",
						"           0       1.00      1.00      1.00        16\n",
						"           1       1.00      1.00      1.00        16\n",
						"\n",
						"    accuracy                           1.00        32\n",
						"   macro avg       1.00      1.00      1.00        32\n",
						"weighted avg       1.00      1.00      1.00        32\n",
						"\n",
						"Epoch 3/10\n"
					]
				},
				{
					"name": "stderr",
					"output_type": "stream",
					"text": [
						"Training: 100%|███████████████████████████████████████████████████████████████| 5/5 [00:03<00:00,  1.53batch/s]\n",
						"Validation: 100%|█████████████████████████████████████████████████████████████| 1/1 [00:00<00:00,  1.58batch/s]\n"
					]
				},
				{
					"name": "stdout",
					"output_type": "stream",
					"text": [
						"Train loss: 0.3127\n",
						"Val loss: 0.1251\n",
						"              precision    recall  f1-score   support\n",
						"\n",
						"           0       1.00      1.00      1.00        16\n",
						"           1       1.00      1.00      1.00        16\n",
						"\n",
						"    accuracy                           1.00        32\n",
						"   macro avg       1.00      1.00      1.00        32\n",
						"weighted avg       1.00      1.00      1.00        32\n",
						"\n",
						"Epoch 4/10\n"
					]
				},
				{
					"name": "stderr",
					"output_type": "stream",
					"text": [
						"Training: 100%|███████████████████████████████████████████████████████████████| 5/5 [00:03<00:00,  1.52batch/s]\n",
						"Validation: 100%|█████████████████████████████████████████████████████████████| 1/1 [00:00<00:00,  2.17batch/s]\n"
					]
				},
				{
					"name": "stdout",
					"output_type": "stream",
					"text": [
						"Train loss: 0.1151\n",
						"Val loss: 0.0153\n",
						"              precision    recall  f1-score   support\n",
						"\n",
						"           0       1.00      1.00      1.00        16\n",
						"           1       1.00      1.00      1.00        16\n",
						"\n",
						"    accuracy                           1.00        32\n",
						"   macro avg       1.00      1.00      1.00        32\n",
						"weighted avg       1.00      1.00      1.00        32\n",
						"\n",
						"Epoch 5/10\n"
					]
				},
				{
					"name": "stderr",
					"output_type": "stream",
					"text": [
						"Training: 100%|███████████████████████████████████████████████████████████████| 5/5 [00:03<00:00,  1.53batch/s]\n",
						"Validation: 100%|█████████████████████████████████████████████████████████████| 1/1 [00:00<00:00,  2.27batch/s]\n"
					]
				},
				{
					"name": "stdout",
					"output_type": "stream",
					"text": [
						"Train loss: 0.0278\n",
						"Val loss: 0.0057\n",
						"              precision    recall  f1-score   support\n",
						"\n",
						"           0       1.00      1.00      1.00        16\n",
						"           1       1.00      1.00      1.00        16\n",
						"\n",
						"    accuracy                           1.00        32\n",
						"   macro avg       1.00      1.00      1.00        32\n",
						"weighted avg       1.00      1.00      1.00        32\n",
						"\n",
						"Epoch 6/10\n"
					]
				},
				{
					"name": "stderr",
					"output_type": "stream",
					"text": [
						"Training: 100%|███████████████████████████████████████████████████████████████| 5/5 [00:03<00:00,  1.53batch/s]\n",
						"Validation: 100%|█████████████████████████████████████████████████████████████| 1/1 [00:00<00:00,  2.28batch/s]\n"
					]
				},
				{
					"name": "stdout",
					"output_type": "stream",
					"text": [
						"Train loss: 0.0351\n",
						"Val loss: 0.0030\n",
						"              precision    recall  f1-score   support\n",
						"\n",
						"           0       1.00      1.00      1.00        16\n",
						"           1       1.00      1.00      1.00        16\n",
						"\n",
						"    accuracy                           1.00        32\n",
						"   macro avg       1.00      1.00      1.00        32\n",
						"weighted avg       1.00      1.00      1.00        32\n",
						"\n",
						"Epoch 7/10\n"
					]
				},
				{
					"name": "stderr",
					"output_type": "stream",
					"text": [
						"Training: 100%|███████████████████████████████████████████████████████████████| 5/5 [00:03<00:00,  1.52batch/s]\n",
						"Validation: 100%|█████████████████████████████████████████████████████████████| 1/1 [00:00<00:00,  2.20batch/s]\n"
					]
				},
				{
					"name": "stdout",
					"output_type": "stream",
					"text": [
						"Train loss: 0.0090\n",
						"Val loss: 0.0092\n",
						"              precision    recall  f1-score   support\n",
						"\n",
						"           0       1.00      1.00      1.00        16\n",
						"           1       1.00      1.00      1.00        16\n",
						"\n",
						"    accuracy                           1.00        32\n",
						"   macro avg       1.00      1.00      1.00        32\n",
						"weighted avg       1.00      1.00      1.00        32\n",
						"\n",
						"Epoch 8/10\n"
					]
				},
				{
					"name": "stderr",
					"output_type": "stream",
					"text": [
						"Training: 100%|███████████████████████████████████████████████████████████████| 5/5 [00:03<00:00,  1.53batch/s]\n",
						"Validation: 100%|█████████████████████████████████████████████████████████████| 1/1 [00:00<00:00,  2.22batch/s]\n"
					]
				},
				{
					"name": "stdout",
					"output_type": "stream",
					"text": [
						"Train loss: 0.0066\n",
						"Val loss: 0.0019\n",
						"              precision    recall  f1-score   support\n",
						"\n",
						"           0       1.00      1.00      1.00        16\n",
						"           1       1.00      1.00      1.00        16\n",
						"\n",
						"    accuracy                           1.00        32\n",
						"   macro avg       1.00      1.00      1.00        32\n",
						"weighted avg       1.00      1.00      1.00        32\n",
						"\n",
						"Epoch 9/10\n"
					]
				},
				{
					"name": "stderr",
					"output_type": "stream",
					"text": [
						"Training: 100%|███████████████████████████████████████████████████████████████| 5/5 [00:03<00:00,  1.53batch/s]\n",
						"Validation: 100%|█████████████████████████████████████████████████████████████| 1/1 [00:00<00:00,  2.34batch/s]\n"
					]
				},
				{
					"name": "stdout",
					"output_type": "stream",
					"text": [
						"Train loss: 0.0030\n",
						"Val loss: 0.1142\n",
						"              precision    recall  f1-score   support\n",
						"\n",
						"           0       0.94      1.00      0.97        16\n",
						"           1       1.00      0.94      0.97        16\n",
						"\n",
						"    accuracy                           0.97        32\n",
						"   macro avg       0.97      0.97      0.97        32\n",
						"weighted avg       0.97      0.97      0.97        32\n",
						"\n",
						"Epoch 10/10\n"
					]
				},
				{
					"name": "stderr",
					"output_type": "stream",
					"text": [
						"Training: 100%|███████████████████████████████████████████████████████████████| 5/5 [00:03<00:00,  1.51batch/s]\n",
						"Validation: 100%|█████████████████████████████████████████████████████████████| 1/1 [00:00<00:00,  2.15batch/s]"
					]
				},
				{
					"name": "stdout",
					"output_type": "stream",
					"text": [
						"Train loss: 0.0082\n",
						"Val loss: 0.0010\n",
						"              precision    recall  f1-score   support\n",
						"\n",
						"           0       1.00      1.00      1.00        16\n",
						"           1       1.00      1.00      1.00        16\n",
						"\n",
						"    accuracy                           1.00        32\n",
						"   macro avg       1.00      1.00      1.00        32\n",
						"weighted avg       1.00      1.00      1.00        32\n",
						"\n",
						"Training completed\n",
						"Best weights restored\n",
						"Mean time per epoch: 3.79\n"
					]
				},
				{
					"name": "stderr",
					"output_type": "stream",
					"text": [
						"\n"
					]
				}
			],
			"source": [
				"model = BertModel(model_name=MODEL_NAME, study_name=DATA_NAME + \"/\" + MODEL_NAME + \"@\" + COMPUTER, device=device)\n",
				"train_loader, val_loader, test_loader = model.prepare_data(X_train, y_train, X_valid, y_valid, X_test, y_test, batch_size=32, num_workers=4)\n",
				"model.fit(train_loader, val_loader, epochs=10, lr=2e-5, weight_decay=0.01, early_stopping=True, patience=3)"
			]
		},
		{
			"cell_type": "code",
			"execution_count": 24,
			"metadata": {},
			"outputs": [
				{
					"name": "stderr",
					"output_type": "stream",
					"text": [
						"Testing: 100%|████████████████████████████████████████████████████████████████| 2/2 [00:00<00:00,  4.12batch/s]"
					]
				},
				{
					"name": "stdout",
					"output_type": "stream",
					"text": [
						"              precision    recall  f1-score   support\n",
						"\n",
						"           0       1.00      1.00      1.00        18\n",
						"           1       1.00      1.00      1.00        18\n",
						"\n",
						"    accuracy                           1.00        36\n",
						"   macro avg       1.00      1.00      1.00        36\n",
						"weighted avg       1.00      1.00      1.00        36\n",
						"\n",
						"Test loss: 0.00093\n"
					]
				},
				{
					"name": "stderr",
					"output_type": "stream",
					"text": [
						"\n"
					]
				}
			],
			"source": [
				"y_pred = model.evaluate(test_loader)"
			]
		},
		{
			"cell_type": "code",
			"execution_count": 25,
			"metadata": {},
			"outputs": [
				{
					"name": "stdout",
					"output_type": "stream",
					"text": [
						"Prediction: 1\n",
						"Label: 1\n",
						"Sample: <col>name<val>'le montrachet' <col>addr<val>'3000 w. paradise rd.' <col>city<val>'las vegas' <col>phone<val>702/732-5111 <col>type<val>continental <col>class<val>69<sep><col>name<val>'le montrachet bistro' <col>addr<val>'3000 paradise rd.' <col>city<val>'las vegas' <col>phone<val>702-732-5651 <col>type<val>'french bistro' <col>class<val>69\n"
					]
				}
			],
			"source": [
				"# Exemple of prediction\n",
				"print(f'Prediction: {y_pred[0]}')\n",
				"print(f'Label: {y_test[0]}')\n",
				"print(f'Sample: {X_test[0]}')"
			]
		},
		{
			"cell_type": "code",
			"execution_count": 26,
			"metadata": {},
			"outputs": [
				{
					"name": "stdout",
					"output_type": "stream",
					"text": [
						"Entity 1:\n"
					]
				},
				{
					"data": {
						"text/html": [
							"<div>\n",
							"<style scoped>\n",
							"    .dataframe tbody tr th:only-of-type {\n",
							"        vertical-align: middle;\n",
							"    }\n",
							"\n",
							"    .dataframe tbody tr th {\n",
							"        vertical-align: top;\n",
							"    }\n",
							"\n",
							"    .dataframe thead th {\n",
							"        text-align: right;\n",
							"    }\n",
							"</style>\n",
							"<table border=\"1\" class=\"dataframe\">\n",
							"  <thead>\n",
							"    <tr style=\"text-align: right;\">\n",
							"      <th>column</th>\n",
							"      <th>name</th>\n",
							"      <th>addr</th>\n",
							"      <th>city</th>\n",
							"      <th>phone</th>\n",
							"      <th>type</th>\n",
							"      <th>class</th>\n",
							"    </tr>\n",
							"  </thead>\n",
							"  <tbody>\n",
							"    <tr>\n",
							"      <th>0</th>\n",
							"      <td>'le montrachet'</td>\n",
							"      <td>'3000 w. paradise rd.'</td>\n",
							"      <td>'las vegas'</td>\n",
							"      <td>702/732-5111</td>\n",
							"      <td>continental</td>\n",
							"      <td>69</td>\n",
							"    </tr>\n",
							"  </tbody>\n",
							"</table>\n",
							"</div>"
						],
						"text/plain": [
							"column              name                     addr          city  \\\n",
							"0       'le montrachet'   '3000 w. paradise rd.'   'las vegas'    \n",
							"\n",
							"column          phone          type class  \n",
							"0       702/732-5111   continental     69  "
						]
					},
					"metadata": {},
					"output_type": "display_data"
				},
				{
					"name": "stdout",
					"output_type": "stream",
					"text": [
						"Entity 2:\n"
					]
				},
				{
					"data": {
						"text/html": [
							"<div>\n",
							"<style scoped>\n",
							"    .dataframe tbody tr th:only-of-type {\n",
							"        vertical-align: middle;\n",
							"    }\n",
							"\n",
							"    .dataframe tbody tr th {\n",
							"        vertical-align: top;\n",
							"    }\n",
							"\n",
							"    .dataframe thead th {\n",
							"        text-align: right;\n",
							"    }\n",
							"</style>\n",
							"<table border=\"1\" class=\"dataframe\">\n",
							"  <thead>\n",
							"    <tr style=\"text-align: right;\">\n",
							"      <th>column</th>\n",
							"      <th>name</th>\n",
							"      <th>addr</th>\n",
							"      <th>city</th>\n",
							"      <th>phone</th>\n",
							"      <th>type</th>\n",
							"      <th>class</th>\n",
							"    </tr>\n",
							"  </thead>\n",
							"  <tbody>\n",
							"    <tr>\n",
							"      <th>0</th>\n",
							"      <td>'le montrachet bistro'</td>\n",
							"      <td>'3000 paradise rd.'</td>\n",
							"      <td>'las vegas'</td>\n",
							"      <td>702-732-5651</td>\n",
							"      <td>'french bistro'</td>\n",
							"      <td>69</td>\n",
							"    </tr>\n",
							"  </tbody>\n",
							"</table>\n",
							"</div>"
						],
						"text/plain": [
							"column                     name                  addr          city  \\\n",
							"0       'le montrachet bistro'   '3000 paradise rd.'   'las vegas'    \n",
							"\n",
							"column          phone              type class  \n",
							"0       702-732-5651   'french bistro'     69  "
						]
					},
					"metadata": {},
					"output_type": "display_data"
				},
				{
					"name": "stdout",
					"output_type": "stream",
					"text": [
						"Label: 1\n",
						"Prediction: 1\n"
					]
				}
			],
			"source": [
				"e1_df, e2_df = deserialize_entities(X_test[np.nonzero(y_test)[0][0]])\n",
				"print('Entity 1:')\n",
				"display(e1_df)\n",
				"print('Entity 2:')\n",
				"display(e2_df)\n",
				"print(f'Label: {y_test[np.nonzero(y_test)[0][0]]}')\n",
				"print(f'Prediction: {y_pred[np.nonzero(y_test)[0][0]]}')"
			]
		},
		{
			"cell_type": "markdown",
			"metadata": {},
			"source": [
				"### DistilRoBERTa\n",
				"- Parameters: ~82 million\n",
				"- Layers: 6 Transformer layers (half of RoBERTa-base)\n",
				"- Hidden Size: 768 (same as RoBERTa-base)\n",
				"- Attention Heads: 12 (same as RoBERTa-base)\n",
				"- It’s 60% faster than RoBERTa base.\n",
				"- Has 40% fewer parameters while retaining over 95% of the performance on most tasks."
			]
		},
		{
			"cell_type": "code",
			"execution_count": 27,
			"metadata": {},
			"outputs": [],
			"source": [
				"MODEL_NAME = 'distilroberta-base'"
			]
		},
		{
			"cell_type": "code",
			"execution_count": 28,
			"metadata": {},
			"outputs": [
				{
					"name": "stderr",
					"output_type": "stream",
					"text": [
						"Some weights of RobertaForSequenceClassification were not initialized from the model checkpoint at distilroberta-base and are newly initialized: ['classifier.dense.bias', 'classifier.dense.weight', 'classifier.out_proj.bias', 'classifier.out_proj.weight']\n",
						"You should probably TRAIN this model on a down-stream task to be able to use it for predictions and inference.\n"
					]
				},
				{
					"name": "stdout",
					"output_type": "stream",
					"text": [
						"Model initialized\n",
						"Device: cuda:0\n",
						"Model: distilroberta-base\n",
						"Study name: Fodors-Zagats/distilroberta-base@gpu6.enst.fr:0\n",
						"Epoch 1/10\n"
					]
				},
				{
					"name": "stderr",
					"output_type": "stream",
					"text": [
						"Training: 100%|███████████████████████████████████████████████████████████████| 5/5 [00:01<00:00,  2.77batch/s]\n",
						"Validation: 100%|█████████████████████████████████████████████████████████████| 1/1 [00:00<00:00,  2.64batch/s]\n"
					]
				},
				{
					"name": "stdout",
					"output_type": "stream",
					"text": [
						"Train loss: 0.6894\n",
						"Val loss: 0.6678\n",
						"              precision    recall  f1-score   support\n",
						"\n",
						"           0       0.94      1.00      0.97        16\n",
						"           1       1.00      0.94      0.97        16\n",
						"\n",
						"    accuracy                           0.97        32\n",
						"   macro avg       0.97      0.97      0.97        32\n",
						"weighted avg       0.97      0.97      0.97        32\n",
						"\n",
						"Epoch 2/10\n"
					]
				},
				{
					"name": "stderr",
					"output_type": "stream",
					"text": [
						"Training: 100%|███████████████████████████████████████████████████████████████| 5/5 [00:01<00:00,  2.74batch/s]\n",
						"Validation: 100%|█████████████████████████████████████████████████████████████| 1/1 [00:00<00:00,  2.64batch/s]\n"
					]
				},
				{
					"name": "stdout",
					"output_type": "stream",
					"text": [
						"Train loss: 0.6450\n",
						"Val loss: 0.5565\n",
						"              precision    recall  f1-score   support\n",
						"\n",
						"           0       1.00      1.00      1.00        16\n",
						"           1       1.00      1.00      1.00        16\n",
						"\n",
						"    accuracy                           1.00        32\n",
						"   macro avg       1.00      1.00      1.00        32\n",
						"weighted avg       1.00      1.00      1.00        32\n",
						"\n",
						"Epoch 3/10\n"
					]
				},
				{
					"name": "stderr",
					"output_type": "stream",
					"text": [
						"Training: 100%|███████████████████████████████████████████████████████████████| 5/5 [00:01<00:00,  2.72batch/s]\n",
						"Validation: 100%|█████████████████████████████████████████████████████████████| 1/1 [00:00<00:00,  2.42batch/s]\n"
					]
				},
				{
					"name": "stdout",
					"output_type": "stream",
					"text": [
						"Train loss: 0.4771\n",
						"Val loss: 0.2963\n",
						"              precision    recall  f1-score   support\n",
						"\n",
						"           0       1.00      1.00      1.00        16\n",
						"           1       1.00      1.00      1.00        16\n",
						"\n",
						"    accuracy                           1.00        32\n",
						"   macro avg       1.00      1.00      1.00        32\n",
						"weighted avg       1.00      1.00      1.00        32\n",
						"\n",
						"Epoch 4/10\n"
					]
				},
				{
					"name": "stderr",
					"output_type": "stream",
					"text": [
						"Training: 100%|███████████████████████████████████████████████████████████████| 5/5 [00:01<00:00,  2.69batch/s]\n",
						"Validation: 100%|█████████████████████████████████████████████████████████████| 1/1 [00:00<00:00,  2.44batch/s]\n"
					]
				},
				{
					"name": "stdout",
					"output_type": "stream",
					"text": [
						"Train loss: 0.2384\n",
						"Val loss: 0.1643\n",
						"              precision    recall  f1-score   support\n",
						"\n",
						"           0       0.94      1.00      0.97        16\n",
						"           1       1.00      0.94      0.97        16\n",
						"\n",
						"    accuracy                           0.97        32\n",
						"   macro avg       0.97      0.97      0.97        32\n",
						"weighted avg       0.97      0.97      0.97        32\n",
						"\n",
						"Epoch 5/10\n"
					]
				},
				{
					"name": "stderr",
					"output_type": "stream",
					"text": [
						"Training: 100%|███████████████████████████████████████████████████████████████| 5/5 [00:01<00:00,  2.74batch/s]\n",
						"Validation: 100%|█████████████████████████████████████████████████████████████| 1/1 [00:00<00:00,  2.37batch/s]\n"
					]
				},
				{
					"name": "stdout",
					"output_type": "stream",
					"text": [
						"Train loss: 0.0598\n",
						"Val loss: 0.0148\n",
						"              precision    recall  f1-score   support\n",
						"\n",
						"           0       1.00      1.00      1.00        16\n",
						"           1       1.00      1.00      1.00        16\n",
						"\n",
						"    accuracy                           1.00        32\n",
						"   macro avg       1.00      1.00      1.00        32\n",
						"weighted avg       1.00      1.00      1.00        32\n",
						"\n",
						"Epoch 6/10\n"
					]
				},
				{
					"name": "stderr",
					"output_type": "stream",
					"text": [
						"Training: 100%|███████████████████████████████████████████████████████████████| 5/5 [00:01<00:00,  2.67batch/s]\n",
						"Validation: 100%|█████████████████████████████████████████████████████████████| 1/1 [00:00<00:00,  2.47batch/s]\n"
					]
				},
				{
					"name": "stdout",
					"output_type": "stream",
					"text": [
						"Train loss: 0.0212\n",
						"Val loss: 0.0338\n",
						"              precision    recall  f1-score   support\n",
						"\n",
						"           0       0.94      1.00      0.97        16\n",
						"           1       1.00      0.94      0.97        16\n",
						"\n",
						"    accuracy                           0.97        32\n",
						"   macro avg       0.97      0.97      0.97        32\n",
						"weighted avg       0.97      0.97      0.97        32\n",
						"\n",
						"Epoch 7/10\n"
					]
				},
				{
					"name": "stderr",
					"output_type": "stream",
					"text": [
						"Training: 100%|███████████████████████████████████████████████████████████████| 5/5 [00:01<00:00,  2.73batch/s]\n",
						"Validation: 100%|█████████████████████████████████████████████████████████████| 1/1 [00:00<00:00,  2.51batch/s]\n"
					]
				},
				{
					"name": "stdout",
					"output_type": "stream",
					"text": [
						"Train loss: 0.0083\n",
						"Val loss: 0.1792\n",
						"              precision    recall  f1-score   support\n",
						"\n",
						"           0       0.94      1.00      0.97        16\n",
						"           1       1.00      0.94      0.97        16\n",
						"\n",
						"    accuracy                           0.97        32\n",
						"   macro avg       0.97      0.97      0.97        32\n",
						"weighted avg       0.97      0.97      0.97        32\n",
						"\n",
						"Epoch 8/10\n"
					]
				},
				{
					"name": "stderr",
					"output_type": "stream",
					"text": [
						"Training: 100%|███████████████████████████████████████████████████████████████| 5/5 [00:01<00:00,  2.73batch/s]\n",
						"Validation: 100%|█████████████████████████████████████████████████████████████| 1/1 [00:00<00:00,  2.61batch/s]\n"
					]
				},
				{
					"name": "stdout",
					"output_type": "stream",
					"text": [
						"Train loss: 0.0042\n",
						"Val loss: 0.0021\n",
						"              precision    recall  f1-score   support\n",
						"\n",
						"           0       1.00      1.00      1.00        16\n",
						"           1       1.00      1.00      1.00        16\n",
						"\n",
						"    accuracy                           1.00        32\n",
						"   macro avg       1.00      1.00      1.00        32\n",
						"weighted avg       1.00      1.00      1.00        32\n",
						"\n",
						"Epoch 9/10\n"
					]
				},
				{
					"name": "stderr",
					"output_type": "stream",
					"text": [
						"Training: 100%|███████████████████████████████████████████████████████████████| 5/5 [00:01<00:00,  2.70batch/s]\n",
						"Validation: 100%|█████████████████████████████████████████████████████████████| 1/1 [00:00<00:00,  2.61batch/s]\n"
					]
				},
				{
					"name": "stdout",
					"output_type": "stream",
					"text": [
						"Train loss: 0.0021\n",
						"Val loss: 0.0008\n",
						"              precision    recall  f1-score   support\n",
						"\n",
						"           0       1.00      1.00      1.00        16\n",
						"           1       1.00      1.00      1.00        16\n",
						"\n",
						"    accuracy                           1.00        32\n",
						"   macro avg       1.00      1.00      1.00        32\n",
						"weighted avg       1.00      1.00      1.00        32\n",
						"\n",
						"Epoch 10/10\n"
					]
				},
				{
					"name": "stderr",
					"output_type": "stream",
					"text": [
						"Training: 100%|███████████████████████████████████████████████████████████████| 5/5 [00:01<00:00,  2.68batch/s]\n",
						"Validation: 100%|█████████████████████████████████████████████████████████████| 1/1 [00:00<00:00,  2.47batch/s]"
					]
				},
				{
					"name": "stdout",
					"output_type": "stream",
					"text": [
						"Train loss: 0.0021\n",
						"Val loss: 0.0007\n",
						"              precision    recall  f1-score   support\n",
						"\n",
						"           0       1.00      1.00      1.00        16\n",
						"           1       1.00      1.00      1.00        16\n",
						"\n",
						"    accuracy                           1.00        32\n",
						"   macro avg       1.00      1.00      1.00        32\n",
						"weighted avg       1.00      1.00      1.00        32\n",
						"\n",
						"Training completed\n",
						"Best weights restored\n",
						"Mean time per epoch: 2.25\n"
					]
				},
				{
					"name": "stderr",
					"output_type": "stream",
					"text": [
						"\n"
					]
				}
			],
			"source": [
				"model = BertModel(model_name=MODEL_NAME, study_name=DATA_NAME + \"/\" + MODEL_NAME + \"@\" + COMPUTER, device=device)\n",
				"train_loader, val_loader, test_loader = model.prepare_data(X_train, y_train, X_valid, y_valid, X_test, y_test, batch_size=32, num_workers=4)\n",
				"model.fit(train_loader, val_loader, epochs=10, lr=2e-5, weight_decay=0.01, early_stopping=True, patience=3)"
			]
		},
		{
			"cell_type": "code",
			"execution_count": 29,
			"metadata": {},
			"outputs": [
				{
					"name": "stderr",
					"output_type": "stream",
					"text": [
						"Testing: 100%|████████████████████████████████████████████████████████████████| 2/2 [00:00<00:00,  4.75batch/s]"
					]
				},
				{
					"name": "stdout",
					"output_type": "stream",
					"text": [
						"              precision    recall  f1-score   support\n",
						"\n",
						"           0       1.00      1.00      1.00        18\n",
						"           1       1.00      1.00      1.00        18\n",
						"\n",
						"    accuracy                           1.00        36\n",
						"   macro avg       1.00      1.00      1.00        36\n",
						"weighted avg       1.00      1.00      1.00        36\n",
						"\n",
						"Test loss: 0.00064\n"
					]
				},
				{
					"name": "stderr",
					"output_type": "stream",
					"text": [
						"\n"
					]
				}
			],
			"source": [
				"y_pred_disti = model.evaluate(test_loader)"
			]
		},
		{
			"cell_type": "markdown",
			"metadata": {},
			"source": [
				"### BERT Base\n",
				"- Parameters: ~110 million\n",
				"- Layers: 12 Transformer layers\n",
				"- Hidden Size: 768\n",
				"- Attention Heads: 12"
			]
		},
		{
			"cell_type": "code",
			"execution_count": 30,
			"metadata": {},
			"outputs": [],
			"source": [
				"MODEL_NAME = 'bert-base-uncased'"
			]
		},
		{
			"cell_type": "code",
			"execution_count": 31,
			"metadata": {},
			"outputs": [
				{
					"name": "stderr",
					"output_type": "stream",
					"text": [
						"Some weights of BertForSequenceClassification were not initialized from the model checkpoint at bert-base-uncased and are newly initialized: ['classifier.bias', 'classifier.weight']\n",
						"You should probably TRAIN this model on a down-stream task to be able to use it for predictions and inference.\n"
					]
				},
				{
					"name": "stdout",
					"output_type": "stream",
					"text": [
						"Model initialized\n",
						"Device: cuda:0\n",
						"Model: bert-base-uncased\n",
						"Study name: Fodors-Zagats/bert-base-uncased@gpu6.enst.fr:0\n",
						"Epoch 1/10\n"
					]
				},
				{
					"name": "stderr",
					"output_type": "stream",
					"text": [
						"Training: 100%|███████████████████████████████████████████████████████████████| 5/5 [00:03<00:00,  1.48batch/s]\n",
						"Validation: 100%|█████████████████████████████████████████████████████████████| 1/1 [00:00<00:00,  2.04batch/s]\n"
					]
				},
				{
					"name": "stdout",
					"output_type": "stream",
					"text": [
						"Train loss: 0.7211\n",
						"Val loss: 0.6102\n",
						"              precision    recall  f1-score   support\n",
						"\n",
						"           0       0.89      1.00      0.94        16\n",
						"           1       1.00      0.88      0.93        16\n",
						"\n",
						"    accuracy                           0.94        32\n",
						"   macro avg       0.94      0.94      0.94        32\n",
						"weighted avg       0.94      0.94      0.94        32\n",
						"\n",
						"Epoch 2/10\n"
					]
				},
				{
					"name": "stderr",
					"output_type": "stream",
					"text": [
						"Training: 100%|███████████████████████████████████████████████████████████████| 5/5 [00:03<00:00,  1.48batch/s]\n",
						"Validation: 100%|█████████████████████████████████████████████████████████████| 1/1 [00:00<00:00,  1.95batch/s]\n"
					]
				},
				{
					"name": "stdout",
					"output_type": "stream",
					"text": [
						"Train loss: 0.5918\n",
						"Val loss: 0.4691\n",
						"              precision    recall  f1-score   support\n",
						"\n",
						"           0       0.94      1.00      0.97        16\n",
						"           1       1.00      0.94      0.97        16\n",
						"\n",
						"    accuracy                           0.97        32\n",
						"   macro avg       0.97      0.97      0.97        32\n",
						"weighted avg       0.97      0.97      0.97        32\n",
						"\n",
						"Epoch 3/10\n"
					]
				},
				{
					"name": "stderr",
					"output_type": "stream",
					"text": [
						"Training: 100%|███████████████████████████████████████████████████████████████| 5/5 [00:03<00:00,  1.47batch/s]\n",
						"Validation: 100%|█████████████████████████████████████████████████████████████| 1/1 [00:00<00:00,  1.90batch/s]\n"
					]
				},
				{
					"name": "stdout",
					"output_type": "stream",
					"text": [
						"Train loss: 0.4013\n",
						"Val loss: 0.2965\n",
						"              precision    recall  f1-score   support\n",
						"\n",
						"           0       0.94      1.00      0.97        16\n",
						"           1       1.00      0.94      0.97        16\n",
						"\n",
						"    accuracy                           0.97        32\n",
						"   macro avg       0.97      0.97      0.97        32\n",
						"weighted avg       0.97      0.97      0.97        32\n",
						"\n",
						"Epoch 4/10\n"
					]
				},
				{
					"name": "stderr",
					"output_type": "stream",
					"text": [
						"Training: 100%|███████████████████████████████████████████████████████████████| 5/5 [00:03<00:00,  1.46batch/s]\n",
						"Validation: 100%|█████████████████████████████████████████████████████████████| 1/1 [00:00<00:00,  2.07batch/s]\n"
					]
				},
				{
					"name": "stdout",
					"output_type": "stream",
					"text": [
						"Train loss: 0.2312\n",
						"Val loss: 0.1970\n",
						"              precision    recall  f1-score   support\n",
						"\n",
						"           0       0.94      1.00      0.97        16\n",
						"           1       1.00      0.94      0.97        16\n",
						"\n",
						"    accuracy                           0.97        32\n",
						"   macro avg       0.97      0.97      0.97        32\n",
						"weighted avg       0.97      0.97      0.97        32\n",
						"\n",
						"Epoch 5/10\n"
					]
				},
				{
					"name": "stderr",
					"output_type": "stream",
					"text": [
						"Training: 100%|███████████████████████████████████████████████████████████████| 5/5 [00:03<00:00,  1.49batch/s]\n",
						"Validation: 100%|█████████████████████████████████████████████████████████████| 1/1 [00:00<00:00,  1.71batch/s]\n"
					]
				},
				{
					"name": "stdout",
					"output_type": "stream",
					"text": [
						"Train loss: 0.1263\n",
						"Val loss: 0.1686\n",
						"              precision    recall  f1-score   support\n",
						"\n",
						"           0       0.94      1.00      0.97        16\n",
						"           1       1.00      0.94      0.97        16\n",
						"\n",
						"    accuracy                           0.97        32\n",
						"   macro avg       0.97      0.97      0.97        32\n",
						"weighted avg       0.97      0.97      0.97        32\n",
						"\n",
						"Epoch 6/10\n"
					]
				},
				{
					"name": "stderr",
					"output_type": "stream",
					"text": [
						"Training: 100%|███████████████████████████████████████████████████████████████| 5/5 [00:03<00:00,  1.48batch/s]\n",
						"Validation: 100%|█████████████████████████████████████████████████████████████| 1/1 [00:00<00:00,  1.75batch/s]\n"
					]
				},
				{
					"name": "stdout",
					"output_type": "stream",
					"text": [
						"Train loss: 0.0955\n",
						"Val loss: 0.1397\n",
						"              precision    recall  f1-score   support\n",
						"\n",
						"           0       0.94      1.00      0.97        16\n",
						"           1       1.00      0.94      0.97        16\n",
						"\n",
						"    accuracy                           0.97        32\n",
						"   macro avg       0.97      0.97      0.97        32\n",
						"weighted avg       0.97      0.97      0.97        32\n",
						"\n",
						"Epoch 7/10\n"
					]
				},
				{
					"name": "stderr",
					"output_type": "stream",
					"text": [
						"Training: 100%|███████████████████████████████████████████████████████████████| 5/5 [00:03<00:00,  1.46batch/s]\n",
						"Validation: 100%|█████████████████████████████████████████████████████████████| 1/1 [00:00<00:00,  1.72batch/s]\n"
					]
				},
				{
					"name": "stdout",
					"output_type": "stream",
					"text": [
						"Train loss: 0.0577\n",
						"Val loss: 0.2328\n",
						"              precision    recall  f1-score   support\n",
						"\n",
						"           0       0.89      1.00      0.94        16\n",
						"           1       1.00      0.88      0.93        16\n",
						"\n",
						"    accuracy                           0.94        32\n",
						"   macro avg       0.94      0.94      0.94        32\n",
						"weighted avg       0.94      0.94      0.94        32\n",
						"\n",
						"Epoch 8/10\n"
					]
				},
				{
					"name": "stderr",
					"output_type": "stream",
					"text": [
						"Training: 100%|███████████████████████████████████████████████████████████████| 5/5 [00:03<00:00,  1.47batch/s]\n",
						"Validation: 100%|█████████████████████████████████████████████████████████████| 1/1 [00:00<00:00,  1.66batch/s]\n"
					]
				},
				{
					"name": "stdout",
					"output_type": "stream",
					"text": [
						"Train loss: 0.0431\n",
						"Val loss: 0.2551\n",
						"              precision    recall  f1-score   support\n",
						"\n",
						"           0       0.89      1.00      0.94        16\n",
						"           1       1.00      0.88      0.93        16\n",
						"\n",
						"    accuracy                           0.94        32\n",
						"   macro avg       0.94      0.94      0.94        32\n",
						"weighted avg       0.94      0.94      0.94        32\n",
						"\n",
						"Epoch 9/10\n"
					]
				},
				{
					"name": "stderr",
					"output_type": "stream",
					"text": [
						"Training: 100%|███████████████████████████████████████████████████████████████| 5/5 [00:03<00:00,  1.39batch/s]\n",
						"Validation: 100%|█████████████████████████████████████████████████████████████| 1/1 [00:00<00:00,  1.89batch/s]"
					]
				},
				{
					"name": "stdout",
					"output_type": "stream",
					"text": [
						"Train loss: 0.0265\n",
						"Val loss: 0.2512\n",
						"              precision    recall  f1-score   support\n",
						"\n",
						"           0       0.89      1.00      0.94        16\n",
						"           1       1.00      0.88      0.93        16\n",
						"\n",
						"    accuracy                           0.94        32\n",
						"   macro avg       0.94      0.94      0.94        32\n",
						"weighted avg       0.94      0.94      0.94        32\n",
						"\n",
						"Early stopping triggered\n",
						"Best weights restored\n",
						"Mean time per epoch: 3.96\n"
					]
				},
				{
					"name": "stderr",
					"output_type": "stream",
					"text": [
						"\n"
					]
				}
			],
			"source": [
				"model = BertModel(model_name=MODEL_NAME, study_name=DATA_NAME + \"/\" + MODEL_NAME + \"@\" + COMPUTER, device=device)\n",
				"train_loader, val_loader, test_loader = model.prepare_data(X_train, y_train, X_valid, y_valid, X_test, y_test, batch_size=32, num_workers=4)\n",
				"model.fit(train_loader, val_loader, epochs=10, lr=2e-5, weight_decay=0.01, early_stopping=True, patience=3)"
			]
		},
		{
			"cell_type": "code",
			"execution_count": 32,
			"metadata": {},
			"outputs": [
				{
					"name": "stderr",
					"output_type": "stream",
					"text": [
						"Testing: 100%|████████████████████████████████████████████████████████████████| 2/2 [00:00<00:00,  3.43batch/s]"
					]
				},
				{
					"name": "stdout",
					"output_type": "stream",
					"text": [
						"              precision    recall  f1-score   support\n",
						"\n",
						"           0       1.00      1.00      1.00        18\n",
						"           1       1.00      1.00      1.00        18\n",
						"\n",
						"    accuracy                           1.00        36\n",
						"   macro avg       1.00      1.00      1.00        36\n",
						"weighted avg       1.00      1.00      1.00        36\n",
						"\n",
						"Test loss: 0.02167\n"
					]
				},
				{
					"name": "stderr",
					"output_type": "stream",
					"text": [
						"\n"
					]
				}
			],
			"source": [
				"y_pred_bert = model.evaluate(test_loader)"
			]
		},
		{
			"cell_type": "markdown",
			"metadata": {},
			"source": [
				"### Electra\n",
				"- Parameters: ~110 million\n",
				"- Layers: 12 Transformer layers\n",
				"- Hidden Size: 768\n",
				"- Attention Heads: 12"
			]
		},
		{
			"cell_type": "code",
			"execution_count": 33,
			"metadata": {},
			"outputs": [],
			"source": [
				"MODEL_NAME = 'google/electra-base-discriminator'"
			]
		},
		{
			"cell_type": "code",
			"execution_count": 34,
			"metadata": {},
			"outputs": [
				{
					"name": "stderr",
					"output_type": "stream",
					"text": [
						"Some weights of ElectraForSequenceClassification were not initialized from the model checkpoint at google/electra-base-discriminator and are newly initialized: ['classifier.dense.bias', 'classifier.dense.weight', 'classifier.out_proj.bias', 'classifier.out_proj.weight']\n",
						"You should probably TRAIN this model on a down-stream task to be able to use it for predictions and inference.\n"
					]
				},
				{
					"name": "stdout",
					"output_type": "stream",
					"text": [
						"Model initialized\n",
						"Device: cuda:0\n",
						"Model: google/electra-base-discriminator\n",
						"Study name: Fodors-Zagats/google/electra-base-discriminator@gpu6.enst.fr:0\n",
						"Epoch 1/10\n"
					]
				},
				{
					"name": "stderr",
					"output_type": "stream",
					"text": [
						"Training: 100%|███████████████████████████████████████████████████████████████| 5/5 [00:04<00:00,  1.25batch/s]\n",
						"Validation: 100%|█████████████████████████████████████████████████████████████| 1/1 [00:00<00:00,  1.82batch/s]\n"
					]
				},
				{
					"name": "stdout",
					"output_type": "stream",
					"text": [
						"Train loss: 0.6532\n",
						"Val loss: 0.5538\n",
						"              precision    recall  f1-score   support\n",
						"\n",
						"           0       1.00      0.88      0.93        16\n",
						"           1       0.89      1.00      0.94        16\n",
						"\n",
						"    accuracy                           0.94        32\n",
						"   macro avg       0.94      0.94      0.94        32\n",
						"weighted avg       0.94      0.94      0.94        32\n",
						"\n",
						"Epoch 2/10\n"
					]
				},
				{
					"name": "stderr",
					"output_type": "stream",
					"text": [
						"Training: 100%|███████████████████████████████████████████████████████████████| 5/5 [00:03<00:00,  1.27batch/s]\n",
						"Validation: 100%|█████████████████████████████████████████████████████████████| 1/1 [00:00<00:00,  1.74batch/s]\n"
					]
				},
				{
					"name": "stdout",
					"output_type": "stream",
					"text": [
						"Train loss: 0.4855\n",
						"Val loss: 0.3889\n",
						"              precision    recall  f1-score   support\n",
						"\n",
						"           0       1.00      0.94      0.97        16\n",
						"           1       0.94      1.00      0.97        16\n",
						"\n",
						"    accuracy                           0.97        32\n",
						"   macro avg       0.97      0.97      0.97        32\n",
						"weighted avg       0.97      0.97      0.97        32\n",
						"\n",
						"Epoch 3/10\n"
					]
				},
				{
					"name": "stderr",
					"output_type": "stream",
					"text": [
						"Training: 100%|███████████████████████████████████████████████████████████████| 5/5 [00:03<00:00,  1.29batch/s]\n",
						"Validation: 100%|█████████████████████████████████████████████████████████████| 1/1 [00:00<00:00,  1.87batch/s]\n"
					]
				},
				{
					"name": "stdout",
					"output_type": "stream",
					"text": [
						"Train loss: 0.3274\n",
						"Val loss: 0.2367\n",
						"              precision    recall  f1-score   support\n",
						"\n",
						"           0       1.00      1.00      1.00        16\n",
						"           1       1.00      1.00      1.00        16\n",
						"\n",
						"    accuracy                           1.00        32\n",
						"   macro avg       1.00      1.00      1.00        32\n",
						"weighted avg       1.00      1.00      1.00        32\n",
						"\n",
						"Epoch 4/10\n"
					]
				},
				{
					"name": "stderr",
					"output_type": "stream",
					"text": [
						"Training: 100%|███████████████████████████████████████████████████████████████| 5/5 [00:03<00:00,  1.31batch/s]\n",
						"Validation: 100%|█████████████████████████████████████████████████████████████| 1/1 [00:00<00:00,  1.95batch/s]\n"
					]
				},
				{
					"name": "stdout",
					"output_type": "stream",
					"text": [
						"Train loss: 0.2136\n",
						"Val loss: 0.1476\n",
						"              precision    recall  f1-score   support\n",
						"\n",
						"           0       1.00      1.00      1.00        16\n",
						"           1       1.00      1.00      1.00        16\n",
						"\n",
						"    accuracy                           1.00        32\n",
						"   macro avg       1.00      1.00      1.00        32\n",
						"weighted avg       1.00      1.00      1.00        32\n",
						"\n",
						"Epoch 5/10\n"
					]
				},
				{
					"name": "stderr",
					"output_type": "stream",
					"text": [
						"Training: 100%|███████████████████████████████████████████████████████████████| 5/5 [00:03<00:00,  1.31batch/s]\n",
						"Validation: 100%|█████████████████████████████████████████████████████████████| 1/1 [00:00<00:00,  1.98batch/s]\n"
					]
				},
				{
					"name": "stdout",
					"output_type": "stream",
					"text": [
						"Train loss: 0.1386\n",
						"Val loss: 0.0938\n",
						"              precision    recall  f1-score   support\n",
						"\n",
						"           0       1.00      1.00      1.00        16\n",
						"           1       1.00      1.00      1.00        16\n",
						"\n",
						"    accuracy                           1.00        32\n",
						"   macro avg       1.00      1.00      1.00        32\n",
						"weighted avg       1.00      1.00      1.00        32\n",
						"\n",
						"Epoch 6/10\n"
					]
				},
				{
					"name": "stderr",
					"output_type": "stream",
					"text": [
						"Training: 100%|███████████████████████████████████████████████████████████████| 5/5 [00:03<00:00,  1.32batch/s]\n",
						"Validation: 100%|█████████████████████████████████████████████████████████████| 1/1 [00:00<00:00,  1.96batch/s]\n"
					]
				},
				{
					"name": "stdout",
					"output_type": "stream",
					"text": [
						"Train loss: 0.0933\n",
						"Val loss: 0.0580\n",
						"              precision    recall  f1-score   support\n",
						"\n",
						"           0       1.00      1.00      1.00        16\n",
						"           1       1.00      1.00      1.00        16\n",
						"\n",
						"    accuracy                           1.00        32\n",
						"   macro avg       1.00      1.00      1.00        32\n",
						"weighted avg       1.00      1.00      1.00        32\n",
						"\n",
						"Epoch 7/10\n"
					]
				},
				{
					"name": "stderr",
					"output_type": "stream",
					"text": [
						"Training: 100%|███████████████████████████████████████████████████████████████| 5/5 [00:03<00:00,  1.31batch/s]\n",
						"Validation: 100%|█████████████████████████████████████████████████████████████| 1/1 [00:00<00:00,  1.95batch/s]\n"
					]
				},
				{
					"name": "stdout",
					"output_type": "stream",
					"text": [
						"Train loss: 0.0610\n",
						"Val loss: 0.0394\n",
						"              precision    recall  f1-score   support\n",
						"\n",
						"           0       1.00      1.00      1.00        16\n",
						"           1       1.00      1.00      1.00        16\n",
						"\n",
						"    accuracy                           1.00        32\n",
						"   macro avg       1.00      1.00      1.00        32\n",
						"weighted avg       1.00      1.00      1.00        32\n",
						"\n",
						"Epoch 8/10\n"
					]
				},
				{
					"name": "stderr",
					"output_type": "stream",
					"text": [
						"Training: 100%|███████████████████████████████████████████████████████████████| 5/5 [00:03<00:00,  1.32batch/s]\n",
						"Validation: 100%|█████████████████████████████████████████████████████████████| 1/1 [00:00<00:00,  1.99batch/s]\n"
					]
				},
				{
					"name": "stdout",
					"output_type": "stream",
					"text": [
						"Train loss: 0.0446\n",
						"Val loss: 0.0279\n",
						"              precision    recall  f1-score   support\n",
						"\n",
						"           0       1.00      1.00      1.00        16\n",
						"           1       1.00      1.00      1.00        16\n",
						"\n",
						"    accuracy                           1.00        32\n",
						"   macro avg       1.00      1.00      1.00        32\n",
						"weighted avg       1.00      1.00      1.00        32\n",
						"\n",
						"Epoch 9/10\n"
					]
				},
				{
					"name": "stderr",
					"output_type": "stream",
					"text": [
						"Training: 100%|███████████████████████████████████████████████████████████████| 5/5 [00:03<00:00,  1.31batch/s]\n",
						"Validation: 100%|█████████████████████████████████████████████████████████████| 1/1 [00:00<00:00,  1.88batch/s]\n"
					]
				},
				{
					"name": "stdout",
					"output_type": "stream",
					"text": [
						"Train loss: 0.0323\n",
						"Val loss: 0.0211\n",
						"              precision    recall  f1-score   support\n",
						"\n",
						"           0       1.00      1.00      1.00        16\n",
						"           1       1.00      1.00      1.00        16\n",
						"\n",
						"    accuracy                           1.00        32\n",
						"   macro avg       1.00      1.00      1.00        32\n",
						"weighted avg       1.00      1.00      1.00        32\n",
						"\n",
						"Epoch 10/10\n"
					]
				},
				{
					"name": "stderr",
					"output_type": "stream",
					"text": [
						"Training: 100%|███████████████████████████████████████████████████████████████| 5/5 [00:03<00:00,  1.33batch/s]\n",
						"Validation: 100%|█████████████████████████████████████████████████████████████| 1/1 [00:00<00:00,  1.96batch/s]"
					]
				},
				{
					"name": "stdout",
					"output_type": "stream",
					"text": [
						"Train loss: 0.0258\n",
						"Val loss: 0.0165\n",
						"              precision    recall  f1-score   support\n",
						"\n",
						"           0       1.00      1.00      1.00        16\n",
						"           1       1.00      1.00      1.00        16\n",
						"\n",
						"    accuracy                           1.00        32\n",
						"   macro avg       1.00      1.00      1.00        32\n",
						"weighted avg       1.00      1.00      1.00        32\n",
						"\n",
						"Training completed\n",
						"Best weights restored\n",
						"Mean time per epoch: 4.39\n"
					]
				},
				{
					"name": "stderr",
					"output_type": "stream",
					"text": [
						"\n"
					]
				}
			],
			"source": [
				"model = BertModel(model_name=MODEL_NAME, study_name=DATA_NAME + \"/\" + MODEL_NAME + \"@\" + COMPUTER, device=device)\n",
				"train_loader, val_loader, test_loader = model.prepare_data(X_train, y_train, X_valid, y_valid, X_test, y_test, batch_size=32, num_workers=4)\n",
				"model.fit(train_loader, val_loader, epochs=10, lr=2e-5, weight_decay=0.01, early_stopping=True, patience=3)"
			]
		},
		{
			"cell_type": "code",
			"execution_count": 35,
			"metadata": {},
			"outputs": [
				{
					"name": "stderr",
					"output_type": "stream",
					"text": [
						"Testing: 100%|████████████████████████████████████████████████████████████████| 2/2 [00:00<00:00,  3.53batch/s]"
					]
				},
				{
					"name": "stdout",
					"output_type": "stream",
					"text": [
						"              precision    recall  f1-score   support\n",
						"\n",
						"           0       1.00      1.00      1.00        18\n",
						"           1       1.00      1.00      1.00        18\n",
						"\n",
						"    accuracy                           1.00        36\n",
						"   macro avg       1.00      1.00      1.00        36\n",
						"weighted avg       1.00      1.00      1.00        36\n",
						"\n",
						"Test loss: 0.01513\n"
					]
				},
				{
					"name": "stderr",
					"output_type": "stream",
					"text": [
						"\n"
					]
				}
			],
			"source": [
				"y_pred_electra = model.evaluate(test_loader)"
			]
		}
	],
	"metadata": {
		"kernelspec": {
			"display_name": "Python 3",
			"language": "python",
			"name": "python3"
		},
		"language_info": {
			"codemirror_mode": {
				"name": "ipython",
				"version": 3
			},
			"file_extension": ".py",
			"mimetype": "text/x-python",
			"name": "python",
			"nbconvert_exporter": "python",
			"pygments_lexer": "ipython3",
			"version": "3.12.4"
		}
	},
	"nbformat": 4,
	"nbformat_minor": 2
}

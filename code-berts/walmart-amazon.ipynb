{
	"cells": [
		{
			"cell_type": "markdown",
			"metadata": {},
			"source": [
				"# Entity Resolution project @ Wavestone\n",
				"## Walmart-Amazon Products Matching\n",
				"\n",
				"> *Datasets information from [here](Datasets.md) \\\n",
				"> Description to do but only take the raw data because the not raw data was already pre-processed*\n",
				"\n",
				"> **Tristan PERROT**\n"
			]
		},
		{
			"cell_type": "markdown",
			"metadata": {},
			"source": [
				"## Import libraries\n"
			]
		},
		{
			"cell_type": "code",
			"execution_count": 13,
			"metadata": {},
			"outputs": [
				{
					"name": "stdout",
					"output_type": "stream",
					"text": [
						"Using device: cpu\n"
					]
				}
			],
			"source": [
				"import os\n",
				"\n",
				"import torch\n",
				"import pickle\n",
				"\n",
				"device = torch.device('cuda:0' if torch.cuda.is_available() else 'cpu')\n",
				"print(f'Using device: {device}')"
			]
		},
		{
			"cell_type": "code",
			"execution_count": 14,
			"metadata": {},
			"outputs": [],
			"source": [
				"while 'model' not in os.listdir():\n",
				"    os.chdir('..')"
			]
		},
		{
			"cell_type": "code",
			"execution_count": 15,
			"metadata": {},
			"outputs": [],
			"source": [
				"MODEL_NAME = 'bert-base-uncased'\n",
				"DATA_NAME = 'walmart-amazon'\n",
				"COMPUTER = 'gpu6.enst.fr:0'\n",
				"DATA_DIR = os.path.join('data', DATA_NAME)"
			]
		},
		{
			"cell_type": "markdown",
			"metadata": {},
			"source": [
				"## Load data"
			]
		},
		{
			"cell_type": "code",
			"execution_count": 16,
			"metadata": {},
			"outputs": [],
			"source": [
				"import numpy as np\n",
				"\n",
				"from model.BertModel import BertModel\n",
				"from model.utils import deserialize_entities, load_data"
			]
		},
		{
			"cell_type": "code",
			"execution_count": 17,
			"metadata": {},
			"outputs": [],
			"source": [
				"X_train_ids, y_train, X_valid_ids, y_valid, X_test_ids, y_test = load_data(DATA_DIR, comp_er=False)\n",
				"with open(os.path.join(DATA_DIR, '1_serialized.pkl'), 'rb') as f:\n",
				"    table_a_serialized = pickle.load(f)\n",
				"with open(os.path.join(DATA_DIR, '2_serialized.pkl'), 'rb') as f:\n",
				"    table_b_serialized = pickle.load(f)"
			]
		},
		{
			"cell_type": "code",
			"execution_count": 18,
			"metadata": {},
			"outputs": [],
			"source": [
				"X_train = [table_a_serialized[i[0]] + ' [SEP] ' + table_b_serialized[i[1]] for i in X_train_ids]\n",
				"X_valid = [table_a_serialized[i[0]] + ' [SEP] ' + table_b_serialized[i[1]] for i in X_valid_ids]\n",
				"X_test = [table_a_serialized[i[0]] + ' [SEP] ' + table_b_serialized[i[1]] for i in X_test_ids]"
			]
		},
		{
			"cell_type": "code",
			"execution_count": 19,
			"metadata": {},
			"outputs": [
				{
					"name": "stdout",
					"output_type": "stream",
					"text": [
						"Sample 0:\n",
						"[COL] brand [VAL] Creative Labs [COL] groupname [VAL] Electronics - General [COL] title [VAL] Creative Labs Sound Blaster Tactic3D Alpha [COL] price [VAL] 59.99 [COL] shelfdescr [VAL] Dual mode analog or USB THX TruStudio Pro technology VoiceFX technology [COL] shortdescr [VAL] Experience the evolution of 3D gaming audio with the Sound Blaster Tactic3D Alpha gaming headset. Acoustically optimized 40mm drivers combine with THX TruStudio Pro technology to transform everyday audio into a mind-blowing cinematic experience. Touchscreen software and Tactic Profiles allow you to save and share your favorite settings including THX TruStudio Pro Surround for immersive 360-degree headphone surround and VoiceFX voice morphing technology. The dual mode design allows you to connect via standard minijacks or use the Dual Mode adapter to connect to your PC or Mac s USB port for the full THX TruStudio Pro experience. [COL] longdescr [VAL] Creative Labs Sound Blaster Tactic3D Alpha Dual mode analog or USB THX TruStudio Pro technology Touchscreen controls TacticProfile technology VoiceFX technology [COL] imageurl [VAL] http://i.walmartimages.com/i/p/00/05/46/51/17/0005465117400_300X300.jpg [COL] orig_shelfdescr [VAL] <li>Dual mode, analog or USB<li>THX TruStudio Pro technology<li>VoiceFX technology [COL] orig_shortdescr [VAL] Experience the evolution of 3D gaming audio with the Sound Blaster Tactic3D Alpha gaming headset. Acoustically optimized 40mm drivers combine with THX TruStudio Pro technology to transform everyday audio into a mind-blowing cinematic experience. Touchscreen software and Tactic Profiles allow you to save and share your favorite settings including THX TruStudio Pro Surround for immersive 360-degree headphone surround and VoiceFX voice morphing technology. The dual mode design allows you to connect via standard minijacks or use the Dual Mode adapter to connect to your PC or Mac's USB port for the full THX TruStudio Pro experience. [COL] orig_longdescr [VAL] <b>Creative Labs Sound Blaster Tactic3D Alpha:</b><ul><li>Dual mode, analog or USB<li>THX TruStudio Pro technology<li>Touchscreen controls<li>TacticProfile technology<li>VoiceFX technology</ul> [COL] modelno [VAL] GH012000003 [COL] shipweight [VAL] 1.45 [COL] dimensions [VAL] 13.2 x 10.9 x 5.8 inches [SEP] [COL] brand [VAL] Inland [COL] modelno [VAL] 05302 [COL] category1 [VAL] Shredders [COL] pcategory1 [VAL] Other Office Equipment [COL] category2 [VAL]  [COL] pcategory2 [VAL]  [COL] title [VAL] Inland Pro 8-Sheet Paper Shredder 05302 [COL] listprice [VAL] 59.99 [COL] price [VAL] 47.54 [COL] prodfeatures [VAL]  [COL] techdetails [VAL] Safely shreds up to 8 sheets of paper at one time Perfect for destroying personal financial and confidential papers and your old CD archives Small and compact. Fits nearly anywhere Shreds paper photos CD DVD and credit cards [COL] shortdescr [VAL]  [COL] longdescr [VAL] Cross cut with basket - shreds Paper Photos CD DVD and Credit Cards [COL] dimensions [VAL] 17.5 x 10.0 x 6.5 inches [COL] imageurl [VAL] http://ecx.images-amazon.com/images/I/31oZHJWnvoL._SL500_AA300_.jpg [COL] itemweight [VAL] 10 pounds [COL] shipweight [VAL] 11 pounds [COL] orig_prodfeatures [VAL]  [COL] orig_techdetails [VAL] <ul><li>Safely shreds up to 8 sheets of paper at one time</li> <li>Perfect for destroying personal, financial and confidential papers and your old CD archives</li> <li>Small and compact. Fits nearly anywhere</li> <li>Shreds paper, photos, CD/DVD, and credit cards</li> </ul> [COL] groupname [VAL] Shredders Other Office Equipment  \n",
						"Label: 1\n",
						"\n",
						"Sample 1:\n",
						"[COL] brand [VAL] NETGEAR [COL] groupname [VAL] Networking [COL] title [VAL] NETGEAR Powerline AV 500 Adapter [COL] price [VAL] 79.82 [COL] shelfdescr [VAL] Up to 500Mbps Plug and play Push and Secure secures network with button [COL] shortdescr [VAL] The NETGEAR Powerline AV 500 extends your Internet access to any electrical outlet. With speeds up to 500Mbps it is the highest performing consumer networking technology available. It is ideal for the most demanding users and applications. Perfect for connecting HDTV s Blu-ray players DVR s PC s and game consoles to your home network and the Internet. Sets up in minutes no need to configure or install any software simply plug and play. Push and Secure encrypts your network connection at the touch of a button. [COL] longdescr [VAL] NETGEAR Powerline AV 500 Adapter Up to 500Mbps Plug and play Push and Secure secures network with button Automatically test connection at any electrical outlet Cable Length 6.5 [COL] imageurl [VAL] http://i.walmartimages.com/i/p/00/60/64/49/07/0060644907423_300X300.jpg [COL] orig_shelfdescr [VAL] <li>Up to 500Mbps<li>Plug and play<li>Push and Secure secures network with button [COL] orig_shortdescr [VAL] The NETGEAR Powerline AV 500 extends your Internet access to any electrical outlet. With speeds up to 500Mbps, it is the highest performing consumer networking technology available. It is ideal for the most demanding users and applications. Perfect for connecting HDTV's, Blu-ray players, DVR's, PC's and game consoles to your home network and the Internet. Sets up in minutes, no need to configure or install any software; simply plug and play. Push and Secure encrypts your network connection at the touch of a button. [COL] orig_longdescr [VAL] <b>NETGEAR Powerline AV 500 Adapter:</b><ul><li>Up to 500Mbps<li>Plug and play<li>Push and Secure secures network with button<li>Automatically test connection at any electrical outlet<li>Cable Length: 6.5'</ul> [COL] modelno [VAL] XAV5001100NAS [COL] shipweight [VAL] 0.88 [COL] dimensions [VAL] 7.3 x 4.7 x 3.2 inches [SEP] [COL] brand [VAL] Netgear [COL] modelno [VAL] WN511B-100NAS [COL] category1 [VAL] Chargers Adapters [COL] pcategory1 [VAL] Laptop Netbook Computer Accessories [COL] category2 [VAL]  [COL] pcategory2 [VAL]  [COL] title [VAL] NETGEAR WN511B RangeMax Wireless-N Notebook Adapter [COL] listprice [VAL] 96.0 [COL] price [VAL] 11.99 [COL] prodfeatures [VAL]  [COL] techdetails [VAL] Wireless-N PC Card delivers exceptional speed and range Delivers up to 270 Mbps of wireless throughput Provides up to ten times the range of 802.11g networ Backwards compatible with 802.11g b wireless networks Device measures 4.85 x 0.33 x 2.13 inches WxHxD [COL] shortdescr [VAL] RangeMax NEXT extends the possibilities of your wireless home network by providing a Steady-Stream of up to 270 Mbps and is compliant with draft 802.11n. This next generation wireless standard utilizes advanced MIMO Multi-In Multi-Out technology which delivers incredible speed and range and for the first time provides wireless interoperability at the highest speeds with other products with Intensi-fi. A RangeMax NEXT wireless network creates and maintains stable connection and enough bandwidth to surf the Internet download MP3s make Internet phone calls share files play network games and stream high-definition videos simultaneously at any distance or location in the home or office. Because RangeMax NEXT is compatible with all legacy b and g wireless products you are sure to be connected. Preset internal antennas and 11n True -Test high-performance testing and tuning provides maximum performance and high-quality streaming every time. Touchless WiFi Security makes creating the highest level of network security easy and includes WEP WPA-PSK or WPA2-PSK. Setup is simple thanks to NETGEAR s Smart Wizard and 24 7 technical support. [COL] longdescr [VAL] The NETGEAR WN511B RangeMax Next Wireless-N Notebook Adapter offers Wireless-N protocol for up to 270 Mbps throughput.   Up to 10 times more range than an 802.11g network.   Backwards compatibility with 802.11g and 802.11b wireless networks.                The NETGEAR WN511B RangeMax Next Wireless-N Notebook Adapter makes it easy for you to provide blazing-speed wireless internet access to your notebook computer letting you surf the web check email stream music make internet phone calls and get a leg up on opponents when playing online games.              The WN511B has up to 10 times more range than an 802.11g device.  View larger .       Easy Setup   The WN511B is a PC Card and requires a Pentium 3 class PC with an available PC Card slot for installation. It supports Windows Vista and is also compatible with Windows XP and 2000 SP4. Setup is as simple as inserting the card into the slot and installing the included software. A built-in stub antenna helps you receive a strong signal for the fastest possible speeds.    Fast Backwards Compatible and Secure   The NETGEAR WN511B uses the Wireless-N protocol based on 802.11n draft for speeds up to 270 Mbps and a range ten times that of 802.11g adapters. With this much speed and bandwidth you can easily download large files place Internet phone calls download MP3s stream video and play online games -- all at the same time without hiccups and from farther away. You ll notice the difference immediately.    The WN511B is backwards compatible with 802.11g and 802.11b wireless networks so you ll be able to connect to any hotspot and it improves network performance up to 50 percent when used with the older 802.11b g networks.    You can feel secure about your information as the adapter supports Wi-Fi protected access WPA2-PSK WPA-PSK and 64-bit and 128-bit WEP encryption for IEEE 082.11b and IEEE 802.11g. The included software makes managing different WEP passwords a breeze as you can set up different profiles for each location you frequent saving yourself the trouble of having to type in encryption keys each time you connect to a hotspot you ve already used.    The NETGEAR WN511B RangeMax Next Wireless-N Notebook Adapter is backed by a 1-year warranty.     What s in the Box   WN511B RangeMax Next Wireless-N Notebook Adapter setup CD warranty support information card. [COL] dimensions [VAL] 9.0 x 6.5 x 2.0 inches [COL] imageurl [VAL] http://ecx.images-amazon.com/images/I/51YQRYSR0NL._SL500_AA300_.jpg [COL] itemweight [VAL] 4 ounces [COL] shipweight [VAL] 1 pounds [COL] orig_prodfeatures [VAL]  [COL] orig_techdetails [VAL] <ul><li>Wireless-N PC Card delivers exceptional speed and range</li> <li>Delivers up to 270 Mbps of wireless throughput</li> <li>Provides up to ten times the range of 802.11g networ</li> <li>Backwards compatible with 802.11g/b wireless networks</li> <li>Device measures 4.85 x 0.33 x 2.13 inches (WxHxD)</li> </ul> [COL] groupname [VAL] Chargers Adapters Laptop Netbook Computer Accessories  \n",
						"Label: 1\n",
						"\n",
						"Sample 2:\n",
						"[COL] brand [VAL] Igo [COL] groupname [VAL] Phone Accessories [COL] title [VAL] IGO PS00291-0001 KeyJuice Micro Mini USB Cable [COL] price [VAL] 7.88 [COL] shelfdescr [VAL] Charge and sync capability in a compact portable unit No need to carry extra cables Fits in purse pocket or laptop bag [COL] shortdescr [VAL] Charge and sync your smartphone and other devices with this sleek handy cable that folds and fits on your keychain. KeyJuice gives you charge and sync capability in one compact portable unit. No need to carry extra cables. [COL] longdescr [VAL] IGO PS00291-0001 KeyJuice Micro Mini USB Cable Charge and sync capability in a compact portable unit No need to carry extra cables Fits in purse pocket or laptop bag Attaches to keychain or backpack with built-in key ring Integrated full-size USB 2.0 port [COL] imageurl [VAL] http://i.walmartimages.com/i/p/00/76/38/10/02/0076381002049_300X300.jpg [COL] orig_shelfdescr [VAL] <li>Charge and sync capability in a compact, portable unit<li>No need to carry extra cables<li>Fits in purse, pocket or laptop bag [COL] orig_shortdescr [VAL] Charge and sync your smartphone and other devices with this sleek, handy cable that folds and fits on your keychain. KeyJuice gives you charge and sync capability in one compact, portable unit. No need to carry extra cables. [COL] orig_longdescr [VAL] <p><b>IGO PS00291-0001 KeyJuice Micro/Mini USB Cable:</b><ul><li>Charge and sync capability in a compact, portable unit<li>No need to carry extra cables<li>Fits in purse, pocket or laptop bag<li>Attaches to keychain or backpack with built-in key ring<li>Integrated full-size USB 2.0 port</ul> [COL] modelno [VAL] PS00291-0001 [COL] shipweight [VAL] 1.5 [COL] dimensions [VAL] 6.5 x 4.5 x 0.5 inches [SEP] [COL] brand [VAL] Epson [COL] modelno [VAL]  [COL] category1 [VAL] Computers Accessories [COL] pcategory1 [VAL] Electronics [COL] category2 [VAL]  [COL] pcategory2 [VAL]  [COL] title [VAL] Epson Amer Matte Presentation Paper 27 Lbs. Matte 8-1 2 X 11 100 Sheets Pack [COL] listprice [VAL]  [COL] price [VAL] 20.45 [COL] prodfeatures [VAL]  [COL] techdetails [VAL] Brightness Rating International - 90 Catalog Publishing Type - Photo Paper-Sheets GL09 Page Number - 1239 Global Product Type - Photo Paper-Sheets Machine Compatibility - Inkjet Printers [COL] shortdescr [VAL]  [COL] longdescr [VAL] Epson Presentation Paper Matte is a smooth non-glare instant-drying paper for scrapbooks newsletters and graphical presentations. Mil Thickness 4.9. Weight 27lb. ISO Brightness 90. Opacity 90 . [COL] dimensions [VAL]  [COL] imageurl [VAL] http://ecx.images-amazon.com/images/I/418DUweUeqL._SL500_AA300_.jpg [COL] itemweight [VAL] 3.5 pounds [COL] shipweight [VAL] 2 pounds [COL] orig_prodfeatures [VAL]  [COL] orig_techdetails [VAL] <ul><li>Brightness Rating (International) - 90</li> <li>Catalog Publishing Type - Photo Paper-Sheets</li> <li>GL09 Page Number - 1239</li> <li>Global Product Type - Photo Paper-Sheets</li> <li>Machine Compatibility - Inkjet Printers</li> </ul> [COL] groupname [VAL] Computers Accessories Electronics  \n",
						"Label: 0\n",
						"\n",
						"Sample 3:\n",
						"[COL] brand [VAL] NZXT [COL] groupname [VAL] Electronics - General [COL] title [VAL] NZXT Phantom Crafted Series ATX Full Tower Steel Chassis Black [COL] price [VAL] 139.82 [COL] shelfdescr [VAL] High-performance cooling advantages Dual radiator support Quad watercooling cutouts [COL] shortdescr [VAL] The NZXT Phantom Crafted Series ATX Full Tower Steel Chassis delivers high-performance cooling advantages with seven fan cooling options dual radiator support quad watercooling cutouts and five 20W per channel fan controls. Designed with sleek pristine contours this chassis radiates personality and quality. [COL] longdescr [VAL] NZXT Phantom Crafted Series ATX Full Tower Steel Chassis High-performance cooling advantages 7 fan cooling options with dual 200mm single side 230 200mm triple 120mm and front 140mm fans Dual radiator support Quad watercooling cutouts Integrated fan controller with up to five 20W channels Meticulous wire management is easily attainable The innovative all-new 5.25  screwless rails make installing and swapping HDDs an effortless process Rubber grommets dampens vibration during operation Color Black [COL] imageurl [VAL] http://i.walmartimages.com/i/p/00/89/55/62/00/0089556200276_300X300.jpg [COL] orig_shelfdescr [VAL] <li>High-performance cooling advantages<li>Dual radiator support<li>Quad watercooling cutouts [COL] orig_shortdescr [VAL] The NZXT Phantom Crafted Series ATX Full Tower Steel Chassis delivers high-performance cooling advantages with seven fan cooling options, dual radiator support, quad watercooling cutouts, and five 20W per channel fan controls. Designed with sleek, pristine contours, this chassis radiates personality and quality. [COL] orig_longdescr [VAL] <b>NZXT Phantom Crafted Series ATX Full Tower Steel Chassis:</b><ul><li>High-performance cooling advantages<li>7 fan cooling options with dual 200mm, single side 230/200mm, triple 120mm, and front 140mm fans<li>Dual radiator support<li>Quad watercooling cutouts<li>Integrated fan controller with up to five 20W channels<li>Meticulous wire management is easily attainable<li>The innovative all-new 5.25&quot; screwless rails make installing and swapping HDDs an effortless process<li>Rubber grommets dampens vibration during operation<li>Color: Black</ul> [COL] modelno [VAL] NZXT Phantom [COL] shipweight [VAL] 29.0 [COL] dimensions [VAL] 24.53 x 21.26 x 8.75 inches [SEP] [COL] brand [VAL] Sony [COL] modelno [VAL] MDR-XB40EX [COL] category1 [VAL] Headphones [COL] pcategory1 [VAL] Accessories Supplies [COL] category2 [VAL] Headsets Microphones [COL] pcategory2 [VAL] Computer Accessories [COL] title [VAL] Sony MDR-XB40EX 13.5mm High Sensitivity Driver Extra Bass EX Earbuds [COL] listprice [VAL]  [COL] price [VAL]  [COL] prodfeatures [VAL]  [COL] techdetails [VAL] Power handling capacity 100mW Vertical in-the-ear style Hybrid silicone earbuds S M L Cord 1.2m flat cord Y-type Carrying case [COL] shortdescr [VAL]  [COL] longdescr [VAL] Experience deep bass sound with Sony s MDR-XB40EX High Sensitivity Driver Extra Bass EX Earbuds-perfect for enjoying upbeat music. Enjoy features that include high sensitivity driver units that reproduce a powerful bass acoustic and a vertical in-the-ear design which delivers exceptional audio quality for an overall enhanced sound experience.        Vertical in-the-ear design delivers comfort and superior audio quality         High sensitivity driver units that produce powerful acoustics     13.5mm Driver Unit    Engineered by Sony the wide 13.5mm Extra Bass high sensitivity driver unit accurately reproduces powerful dynamic booming bass sound. Premium Sound Quality   The MDR-XB40EX earphones have a tightly sealed acoustic design that reduce sound leakage allowing you to experience the dynamic bass.      In-The-Ear Design   Featuring a closed type vertical in-the-ear design and stylish hairline-finished aluminum the MDR-XB40EX earphones deliver exceptional audio quality and reduces ineffective sound passages.     Hybrid Silicone Earbuds   Maximize comfort and enhanced audio quality with a double layer of silicone that fit the uniquely shaped earphones.      Flat Y-type Cord   Minimize tangles with the flat yet durable Y-type 3.9ft 1.2m cord.        MDR-XB40EX Specs      Driver Unit 13.5mm dome type      Magnet Type Neodymium      Frequency Response 4Hz - 24 000Hz     Impedance 16 ohms     Sensitivity db 105dB mW     Power Handling Capacity 100mW     Cord Length 3.9ft 1.2m What s in the Box  MDR-XB40EX Headphones Carrying case Earbuds [COL] dimensions [VAL] 7.0 x 4.2 x 2.4 inches [COL] imageurl [VAL] http://ecx.images-amazon.com/images/I/21ovqjBO0jL._SL500_AA300_.jpg [COL] itemweight [VAL] 3.2 ounces [COL] shipweight [VAL] 1 pounds [COL] orig_prodfeatures [VAL]  [COL] orig_techdetails [VAL] <ul><li>Power handling capacity: 100mW</li> <li>Vertical in-the-ear style</li> <li>Hybrid silicone earbuds (S,M,L)</li> <li>Cord: 1.2m flat cord, Y-type</li> <li>Carrying case</li> </ul> [COL] groupname [VAL] Headphones Accessories Supplies Headsets Microphones Computer Accessories\n",
						"Label: 0\n",
						"\n",
						"Sample 4:\n",
						"[COL] brand [VAL] HP [COL] groupname [VAL] Printers [COL] title [VAL] HP Q6511A HP 11A Toner 6000 Page-Yield Black [COL] price [VAL] 191.03 [COL] shelfdescr [VAL] Get your printing right the first time and every time [COL] shortdescr [VAL] Get your printing right the first time and every time [COL] longdescr [VAL] Approximate cartridge yield 6 000 standard pages declared yield value in accordance with ISO IEC 19752  Compatibility HP LaserJet 2420 and 2430 printers [COL] imageurl [VAL] http://i.walmartimages.com/i/p/00/82/91/60/12/0082916012622_300X300.jpg [COL] orig_shelfdescr [VAL] <li>Get your printing right the first time and every time [COL] orig_shortdescr [VAL] <li>Get your printing right the first time and every time [COL] orig_longdescr [VAL] <ul><li>Approximate cartridge yield: 6,000 standard pages; declared yield value in accordance with ISO/IEC 19752</li><li>Compatibility: HP LaserJet 2420 and 2430 printers</li></ul> [COL] modelno [VAL] Q6511A [COL] shipweight [VAL] 4.19 [COL] dimensions [VAL]  [SEP] [COL] brand [VAL] Cooler Master [COL] modelno [VAL] SGC-6000-KXN1-GP [COL] category1 [VAL] Computer Cases [COL] pcategory1 [VAL] Computer Components [COL] category2 [VAL]  [COL] pcategory2 [VAL]  [COL] title [VAL] Cooler Master SGC-6000-KXN1-GP Storm Sniper ATX Mid Tower Gaming Case Black [COL] listprice [VAL] 149.99 [COL] price [VAL] 142.77 [COL] prodfeatures [VAL]  [COL] techdetails [VAL] Fierce exterior design inspired by military weapons. Unprecedented airflow from up to 3 huge fans. Next generation control center for tuning your lights and fans. StormGuard - ground-breaking security system for safeguarding your gaming peripherals. Convenient handle and foot stand for fast and efficient mobilization and relocation. [COL] shortdescr [VAL] Sniper protection with pinpoint accuracy [COL] longdescr [VAL] From the Manufacturer          Storm Sniper - gaming grade ultra mid tower PC chassis.   Storm Tactics - guarantees unbeatable secure reliability that is completely tuned to gamers needs. With a total dedication to Strength Security and Control Storm Tactics will keep your most vital gear fortified and well tuned at all times.   StormGuard - groundbreaking security prevents your high-end gaming gear from being stolen.                               Fierce exterior design inspired by military weapons.   Unprecedented airflow from up to 3 huge fans.   Next generation control center for tuning your lights and fans.   StormGuard - ground-breaking security system for safeguarding your gaming peripherals.   Convenient handle and foot stand for fast and efficient mobilization and relocation.   Screw-less design for quick upgrades and maintenance.                      Model    SGC-6000-KKN1-GP           Available Color    Black           Material    Steel ABS Plastic Mesh bezel           Dimension L 22.3 x W 10 x H 21.7 inches  or L 566.6 x W 254.6 X H 551 mm           Weight    23.42 lbs  or  10.6 kg           M B Type    Micro-ATX ATX           5.25 Drive Bay    5 Exposed without the use of exposed 3.5 inch Drive Bay 3.5 Drive Bay    5 Hidden 1 Exposed converted from one 5.25 inch Drive Bay Cooling System    Front 200x30mm Blue LED Fan x 1 500 - 1000rpm 17 - 23 dBA Top 200x30mm Blue LED Fan x 1 500 - 1000rpm 17 - 23 dBA  can be swapped for two 120mm fans or 120x240mm Radiator Rear 120x25mm Standard Fan x 1 1200rpm 17 dBA  can be swapped for 90mm fan or 80mm fan Bottom Supports 140mm Fan x 1 or 120mm Fan x 1 w Dust Filter optional Side Supports 200x30mm Fan x 1 optional 120x25mm Fan x 2 optional Expansion Slots    Standard x 7 Special x 1           I O Panel    USB2.0 x 4 IEEE1394 x 1 eSATA x 1 Mic x 1 HD Audio AC 97 x 1           Power Supply    Standard ATX PS2 EPS 12V optional UPC Code    884102003752 [COL] dimensions [VAL] 22.3 x 21.7 x 10.0 inches [COL] imageurl [VAL] http://ecx.images-amazon.com/images/I/51yLP5FQxZL._SL500_AA300_.jpg [COL] itemweight [VAL] 23.4 pounds [COL] shipweight [VAL] 31 pounds [COL] orig_prodfeatures [VAL]  [COL] orig_techdetails [VAL] <ul><li>Fierce exterior design inspired by military weapons.</li> <li>Unprecedented airflow from up to 3 huge fans.</li> <li>Next generation control center for tuning your lights and fans.</li> <li>StormGuard - ground-breaking security system for safeguarding your gaming peripherals.</li> <li>Convenient handle and foot stand for fast and efficient mobilization and relocation.</li> </ul> [COL] groupname [VAL] Computer Cases Computer Components  \n",
						"Label: 1\n",
						"\n"
					]
				}
			],
			"source": [
				"# Display the first 5 samples of the training set\n",
				"for i in range(5):\n",
				"    print(f'Sample {i}:')\n",
				"    print(X_train[i])\n",
				"    print(f'Label: {y_train[i]}')\n",
				"    print()"
			]
		},
		{
			"cell_type": "markdown",
			"metadata": {},
			"source": [
				"### RoBERTa Base\n",
				"- Architecture: Transformer-based model\n",
				"- Parameters: ~125 million\n",
				"- Layers: 12 Transformer layers\n",
				"- Hidden Size: 768\n",
				"- Attention Heads: 12"
			]
		},
		{
			"cell_type": "code",
			"execution_count": 24,
			"metadata": {},
			"outputs": [],
			"source": [
				"MODEL_NAME = 'roberta-base'"
			]
		},
		{
			"cell_type": "code",
			"execution_count": 25,
			"metadata": {},
			"outputs": [
				{
					"name": "stderr",
					"output_type": "stream",
					"text": [
						"Some weights of RobertaForSequenceClassification were not initialized from the model checkpoint at roberta-base and are newly initialized: ['classifier.dense.bias', 'classifier.dense.weight', 'classifier.out_proj.bias', 'classifier.out_proj.weight']\n",
						"You should probably TRAIN this model on a down-stream task to be able to use it for predictions and inference.\n"
					]
				},
				{
					"name": "stdout",
					"output_type": "stream",
					"text": [
						"Model initialized\n",
						"Device: cuda:0\n",
						"Model: roberta-base\n",
						"Study name: Walmart-Amazon/roberta-base@gpu6.enst.fr:0\n",
						"Epoch 1/10\n"
					]
				},
				{
					"name": "stderr",
					"output_type": "stream",
					"text": [
						"Training: 100%|█████████████████████████████████████████████████████████████| 51/51 [00:32<00:00,  1.55batch/s]\n",
						"Validation: 100%|███████████████████████████████████████████████████████████| 11/11 [00:02<00:00,  4.37batch/s]\n"
					]
				},
				{
					"name": "stdout",
					"output_type": "stream",
					"text": [
						"Train loss: 0.6963\n",
						"Val loss: 0.6887\n",
						"              precision    recall  f1-score   support\n",
						"\n",
						"           0       0.75      0.52      0.61       169\n",
						"           1       0.63      0.82      0.71       169\n",
						"\n",
						"    accuracy                           0.67       338\n",
						"   macro avg       0.69      0.67      0.66       338\n",
						"weighted avg       0.69      0.67      0.66       338\n",
						"\n",
						"Epoch 2/10\n"
					]
				},
				{
					"name": "stderr",
					"output_type": "stream",
					"text": [
						"Training: 100%|█████████████████████████████████████████████████████████████| 51/51 [00:32<00:00,  1.56batch/s]\n",
						"Validation: 100%|███████████████████████████████████████████████████████████| 11/11 [00:02<00:00,  4.43batch/s]\n"
					]
				},
				{
					"name": "stdout",
					"output_type": "stream",
					"text": [
						"Train loss: 0.5500\n",
						"Val loss: 0.3507\n",
						"              precision    recall  f1-score   support\n",
						"\n",
						"           0       0.92      0.75      0.83       169\n",
						"           1       0.79      0.93      0.86       169\n",
						"\n",
						"    accuracy                           0.84       338\n",
						"   macro avg       0.86      0.84      0.84       338\n",
						"weighted avg       0.86      0.84      0.84       338\n",
						"\n",
						"Epoch 3/10\n"
					]
				},
				{
					"name": "stderr",
					"output_type": "stream",
					"text": [
						"Training: 100%|█████████████████████████████████████████████████████████████| 51/51 [00:32<00:00,  1.55batch/s]\n",
						"Validation: 100%|███████████████████████████████████████████████████████████| 11/11 [00:02<00:00,  4.39batch/s]\n"
					]
				},
				{
					"name": "stdout",
					"output_type": "stream",
					"text": [
						"Train loss: 0.2897\n",
						"Val loss: 0.2949\n",
						"              precision    recall  f1-score   support\n",
						"\n",
						"           0       0.90      0.79      0.84       169\n",
						"           1       0.81      0.92      0.86       169\n",
						"\n",
						"    accuracy                           0.85       338\n",
						"   macro avg       0.86      0.85      0.85       338\n",
						"weighted avg       0.86      0.85      0.85       338\n",
						"\n",
						"Epoch 4/10\n"
					]
				},
				{
					"name": "stderr",
					"output_type": "stream",
					"text": [
						"Training: 100%|█████████████████████████████████████████████████████████████| 51/51 [00:32<00:00,  1.55batch/s]\n",
						"Validation: 100%|███████████████████████████████████████████████████████████| 11/11 [00:02<00:00,  4.38batch/s]\n"
					]
				},
				{
					"name": "stdout",
					"output_type": "stream",
					"text": [
						"Train loss: 0.2477\n",
						"Val loss: 0.2920\n",
						"              precision    recall  f1-score   support\n",
						"\n",
						"           0       0.93      0.77      0.84       169\n",
						"           1       0.80      0.94      0.87       169\n",
						"\n",
						"    accuracy                           0.86       338\n",
						"   macro avg       0.87      0.86      0.85       338\n",
						"weighted avg       0.87      0.86      0.85       338\n",
						"\n",
						"Epoch 5/10\n"
					]
				},
				{
					"name": "stderr",
					"output_type": "stream",
					"text": [
						"Training: 100%|█████████████████████████████████████████████████████████████| 51/51 [00:33<00:00,  1.54batch/s]\n",
						"Validation: 100%|███████████████████████████████████████████████████████████| 11/11 [00:02<00:00,  4.35batch/s]\n"
					]
				},
				{
					"name": "stdout",
					"output_type": "stream",
					"text": [
						"Train loss: 0.2417\n",
						"Val loss: 0.3369\n",
						"              precision    recall  f1-score   support\n",
						"\n",
						"           0       0.86      0.81      0.84       169\n",
						"           1       0.82      0.87      0.84       169\n",
						"\n",
						"    accuracy                           0.84       338\n",
						"   macro avg       0.84      0.84      0.84       338\n",
						"weighted avg       0.84      0.84      0.84       338\n",
						"\n",
						"Epoch 6/10\n"
					]
				},
				{
					"name": "stderr",
					"output_type": "stream",
					"text": [
						"Training: 100%|█████████████████████████████████████████████████████████████| 51/51 [00:33<00:00,  1.54batch/s]\n",
						"Validation: 100%|███████████████████████████████████████████████████████████| 11/11 [00:02<00:00,  4.33batch/s]\n"
					]
				},
				{
					"name": "stdout",
					"output_type": "stream",
					"text": [
						"Train loss: 0.2273\n",
						"Val loss: 0.2789\n",
						"              precision    recall  f1-score   support\n",
						"\n",
						"           0       0.94      0.78      0.85       169\n",
						"           1       0.81      0.95      0.87       169\n",
						"\n",
						"    accuracy                           0.86       338\n",
						"   macro avg       0.87      0.86      0.86       338\n",
						"weighted avg       0.87      0.86      0.86       338\n",
						"\n",
						"Epoch 7/10\n"
					]
				},
				{
					"name": "stderr",
					"output_type": "stream",
					"text": [
						"Training: 100%|█████████████████████████████████████████████████████████████| 51/51 [00:33<00:00,  1.54batch/s]\n",
						"Validation: 100%|███████████████████████████████████████████████████████████| 11/11 [00:02<00:00,  4.24batch/s]\n"
					]
				},
				{
					"name": "stdout",
					"output_type": "stream",
					"text": [
						"Train loss: 0.2200\n",
						"Val loss: 0.2975\n",
						"              precision    recall  f1-score   support\n",
						"\n",
						"           0       0.89      0.82      0.85       169\n",
						"           1       0.83      0.89      0.86       169\n",
						"\n",
						"    accuracy                           0.86       338\n",
						"   macro avg       0.86      0.86      0.86       338\n",
						"weighted avg       0.86      0.86      0.86       338\n",
						"\n",
						"Epoch 8/10\n"
					]
				},
				{
					"name": "stderr",
					"output_type": "stream",
					"text": [
						"Training: 100%|█████████████████████████████████████████████████████████████| 51/51 [00:33<00:00,  1.53batch/s]\n",
						"Validation: 100%|███████████████████████████████████████████████████████████| 11/11 [00:02<00:00,  4.07batch/s]\n"
					]
				},
				{
					"name": "stdout",
					"output_type": "stream",
					"text": [
						"Train loss: 0.2258\n",
						"Val loss: 0.2760\n",
						"              precision    recall  f1-score   support\n",
						"\n",
						"           0       0.92      0.79      0.85       169\n",
						"           1       0.81      0.93      0.87       169\n",
						"\n",
						"    accuracy                           0.86       338\n",
						"   macro avg       0.87      0.86      0.86       338\n",
						"weighted avg       0.87      0.86      0.86       338\n",
						"\n",
						"Epoch 9/10\n"
					]
				},
				{
					"name": "stderr",
					"output_type": "stream",
					"text": [
						"Training: 100%|█████████████████████████████████████████████████████████████| 51/51 [00:33<00:00,  1.52batch/s]\n",
						"Validation: 100%|███████████████████████████████████████████████████████████| 11/11 [00:02<00:00,  4.30batch/s]\n"
					]
				},
				{
					"name": "stdout",
					"output_type": "stream",
					"text": [
						"Train loss: 0.2185\n",
						"Val loss: 0.2716\n",
						"              precision    recall  f1-score   support\n",
						"\n",
						"           0       0.90      0.79      0.84       169\n",
						"           1       0.81      0.92      0.86       169\n",
						"\n",
						"    accuracy                           0.85       338\n",
						"   macro avg       0.86      0.85      0.85       338\n",
						"weighted avg       0.86      0.85      0.85       338\n",
						"\n",
						"Epoch 10/10\n"
					]
				},
				{
					"name": "stderr",
					"output_type": "stream",
					"text": [
						"Training: 100%|█████████████████████████████████████████████████████████████| 51/51 [00:33<00:00,  1.54batch/s]\n",
						"Validation: 100%|███████████████████████████████████████████████████████████| 11/11 [00:02<00:00,  4.12batch/s]"
					]
				},
				{
					"name": "stdout",
					"output_type": "stream",
					"text": [
						"Train loss: 0.2238\n",
						"Val loss: 0.2983\n",
						"              precision    recall  f1-score   support\n",
						"\n",
						"           0       0.88      0.80      0.84       169\n",
						"           1       0.82      0.89      0.86       169\n",
						"\n",
						"    accuracy                           0.85       338\n",
						"   macro avg       0.85      0.85      0.85       338\n",
						"weighted avg       0.85      0.85      0.85       338\n",
						"\n",
						"Training completed\n",
						"Best weights restored\n",
						"Mean time per epoch: 35.62\n"
					]
				},
				{
					"name": "stderr",
					"output_type": "stream",
					"text": [
						"\n"
					]
				}
			],
			"source": [
				"model = BertModel(model_name=MODEL_NAME, study_name=DATA_NAME + \"/\" + MODEL_NAME + \"@\" + COMPUTER, device=device)\n",
				"train_loader, val_loader, test_loader = model.prepare_data(X_train, y_train, X_valid, y_valid, X_test, y_test, batch_size=32, num_workers=4)\n",
				"model.fit(train_loader, val_loader, epochs=10, lr=2e-5, weight_decay=0.01, early_stopping=True, patience=3)"
			]
		},
		{
			"cell_type": "code",
			"execution_count": 26,
			"metadata": {},
			"outputs": [
				{
					"name": "stderr",
					"output_type": "stream",
					"text": [
						"Testing: 100%|██████████████████████████████████████████████████████████████| 12/12 [00:02<00:00,  4.11batch/s]"
					]
				},
				{
					"name": "stdout",
					"output_type": "stream",
					"text": [
						"              precision    recall  f1-score   support\n",
						"\n",
						"           0       0.86      0.84      0.85       180\n",
						"           1       0.84      0.87      0.85       180\n",
						"\n",
						"    accuracy                           0.85       360\n",
						"   macro avg       0.85      0.85      0.85       360\n",
						"weighted avg       0.85      0.85      0.85       360\n",
						"\n",
						"Test loss: 0.22031\n"
					]
				},
				{
					"name": "stderr",
					"output_type": "stream",
					"text": [
						"\n"
					]
				}
			],
			"source": [
				"y_pred = model.evaluate(test_loader)"
			]
		},
		{
			"cell_type": "code",
			"execution_count": 27,
			"metadata": {},
			"outputs": [
				{
					"name": "stdout",
					"output_type": "stream",
					"text": [
						"Prediction: 0\n",
						"Label: 0\n",
						"Sample: <col>brand<val>Asus <col>groupname<val>Electronics - General <col>title<val>Asus F1A75-M Pro AMD A75 Micro ATX Motherboard <col>price<val>112.0 <col>shelfdescr<val>Dual intelligent processors 2 with DIGI VRM- digital power design UEFI BIOS EZ Mode Auto Tuning <col>shortdescr<val>Enjoy precise digital power design and excellent graphics performance with the Asus F1A75-M Pro AMD A75 Micro ATX Motherboard. The AI Suite II provides one-stop access to innovative ASUS features. <col>longdescr<val>Asus F1A75-M Pro AMD A75 Micro ATX Motherboard Dual intelligent processors 2 with DIGI VRM- digital power design UEFI BIOS EZ Mode Auto Tuning Native USB 3.0 SATA 6Gb s support AI Suite II Quad USB 3.0 SATA 6Gb s Support Multi-GPU CrossFireX support <col>orig_shelfdescr<val><li>Dual intelligent processors 2 with DIGI+ VRM- digital power design<li>UEFI BIOS EZ Mode<li>Auto Tuning <col>orig_shortdescr<val>Enjoy precise digital power design and excellent graphics performance with the Asus F1A75-M Pro AMD A75 Micro ATX Motherboard. The AI Suite II provides one-stop access to innovative ASUS features. <col>orig_longdescr<val><p><b>Asus F1A75-M Pro AMD A75 Micro ATX Motherboard:</b><ul><li>Dual intelligent processors 2 with DIGI+ VRM- digital power design<li>UEFI BIOS EZ Mode<li>Auto Tuning<li>Native USB 3.0/SATA 6Gb/s support<li>AI Suite II<li>Quad USB 3.0/SATA 6Gb/s Support<li>Multi-GPU CrossFireX support</ul> <col>modelno<val>F1A75-M PRO <col>shipweight<val>2.4 <col>dimensions<val>11.0 x 10.0 x 2.5 inches<sep><col>brand<val>Quality Park <col>modelno<val> <col>category1<val>Binding Machine Supplies <col>pcategory1<val>Presentation Supplies <col>category2<val> <col>pcategory2<val> <col>title<val>Quality Park 36226 - Classic Style Invitation Envelope Contemporary  5 1 2 White 500 Box <col>listprice<val> <col>price<val> <col>prodfeatures<val> <col>techdetails<val> <col>proddescrshort<val> <col>proddescrlong<val>Ideal for formal or computer-generated announcements and invitations. Classic styling and square flap adds an element of tasteful elegance. Wove finish resists print smearing. Envelope Size 4 3 8 x 5 3 4 Envelope Mailer Type Invitation and Colored Closure Gummed Flap Trade Size  5 1 2. <col>dimensions<val> <col>itemweight<val>11 pounds <col>shipweight<val>11 pounds <col>orig_prodfeatures<val> <col>orig_techdetails<val>\n"
					]
				}
			],
			"source": [
				"# Exemple of prediction\n",
				"print(f'Prediction: {y_pred[0]}')\n",
				"print(f'Label: {y_test[0]}')\n",
				"print(f'Sample: {X_test[0]}')"
			]
		},
		{
			"cell_type": "code",
			"execution_count": 28,
			"metadata": {},
			"outputs": [
				{
					"name": "stdout",
					"output_type": "stream",
					"text": [
						"Entity 1:\n"
					]
				},
				{
					"data": {
						"text/html": [
							"<div>\n",
							"<style scoped>\n",
							"    .dataframe tbody tr th:only-of-type {\n",
							"        vertical-align: middle;\n",
							"    }\n",
							"\n",
							"    .dataframe tbody tr th {\n",
							"        vertical-align: top;\n",
							"    }\n",
							"\n",
							"    .dataframe thead th {\n",
							"        text-align: right;\n",
							"    }\n",
							"</style>\n",
							"<table border=\"1\" class=\"dataframe\">\n",
							"  <thead>\n",
							"    <tr style=\"text-align: right;\">\n",
							"      <th>column</th>\n",
							"      <th>brand</th>\n",
							"      <th>groupname</th>\n",
							"      <th>title</th>\n",
							"      <th>price</th>\n",
							"      <th>shelfdescr</th>\n",
							"      <th>shortdescr</th>\n",
							"      <th>longdescr</th>\n",
							"      <th>orig_shelfdescr</th>\n",
							"      <th>orig_shortdescr</th>\n",
							"      <th>orig_longdescr</th>\n",
							"      <th>modelno</th>\n",
							"      <th>shipweight</th>\n",
							"      <th>dimensions</th>\n",
							"    </tr>\n",
							"  </thead>\n",
							"  <tbody>\n",
							"    <tr>\n",
							"      <th>0</th>\n",
							"      <td>HP</td>\n",
							"      <td>MP3 Accessories</td>\n",
							"      <td>HP C7973W Ultrium 800 GB WORM Data Cartridge</td>\n",
							"      <td>29.42</td>\n",
							"      <td>Storage Capacity 400 GB Native 800 GB Compress...</td>\n",
							"      <td>Ultrium 800GB WORM Data Cartridges offer 800GB...</td>\n",
							"      <td>Storage Capacity 400 GB Native 800 GB Compress...</td>\n",
							"      <td>&lt;ul&gt;&lt;li&gt;Storage Capacity: 400 GB Native, 800 G...</td>\n",
							"      <td>Ultrium 800GB WORM Data Cartridges offer 800GB...</td>\n",
							"      <td>&lt;ul&gt;&lt;li&gt;Storage Capacity: 400 GB Native, 800 G...</td>\n",
							"      <td>C7973W</td>\n",
							"      <td>0.58</td>\n",
							"      <td>4.5 x 4.05 x 0.9 inches</td>\n",
							"    </tr>\n",
							"  </tbody>\n",
							"</table>\n",
							"</div>"
						],
						"text/plain": [
							"column brand         groupname                                          title  \\\n",
							"0        HP   MP3 Accessories   HP C7973W Ultrium 800 GB WORM Data Cartridge    \n",
							"\n",
							"column   price                                         shelfdescr  \\\n",
							"0       29.42   Storage Capacity 400 GB Native 800 GB Compress...   \n",
							"\n",
							"column                                         shortdescr  \\\n",
							"0       Ultrium 800GB WORM Data Cartridges offer 800GB...   \n",
							"\n",
							"column                                          longdescr  \\\n",
							"0       Storage Capacity 400 GB Native 800 GB Compress...   \n",
							"\n",
							"column                                    orig_shelfdescr  \\\n",
							"0       <ul><li>Storage Capacity: 400 GB Native, 800 G...   \n",
							"\n",
							"column                                    orig_shortdescr  \\\n",
							"0       Ultrium 800GB WORM Data Cartridges offer 800GB...   \n",
							"\n",
							"column                                     orig_longdescr  modelno shipweight  \\\n",
							"0       <ul><li>Storage Capacity: 400 GB Native, 800 G...  C7973W       0.58    \n",
							"\n",
							"column               dimensions  \n",
							"0       4.5 x 4.05 x 0.9 inches  "
						]
					},
					"metadata": {},
					"output_type": "display_data"
				},
				{
					"name": "stdout",
					"output_type": "stream",
					"text": [
						"Entity 2:\n"
					]
				},
				{
					"data": {
						"text/html": [
							"<div>\n",
							"<style scoped>\n",
							"    .dataframe tbody tr th:only-of-type {\n",
							"        vertical-align: middle;\n",
							"    }\n",
							"\n",
							"    .dataframe tbody tr th {\n",
							"        vertical-align: top;\n",
							"    }\n",
							"\n",
							"    .dataframe thead th {\n",
							"        text-align: right;\n",
							"    }\n",
							"</style>\n",
							"<table border=\"1\" class=\"dataframe\">\n",
							"  <thead>\n",
							"    <tr style=\"text-align: right;\">\n",
							"      <th>column</th>\n",
							"      <th>brand</th>\n",
							"      <th>modelno</th>\n",
							"      <th>category1</th>\n",
							"      <th>pcategory1</th>\n",
							"      <th>category2</th>\n",
							"      <th>pcategory2</th>\n",
							"      <th>title</th>\n",
							"      <th>listprice</th>\n",
							"      <th>price</th>\n",
							"      <th>prodfeatures</th>\n",
							"      <th>techdetails</th>\n",
							"      <th>proddescrshort</th>\n",
							"      <th>proddescrlong</th>\n",
							"      <th>dimensions</th>\n",
							"      <th>itemweight</th>\n",
							"      <th>shipweight</th>\n",
							"      <th>orig_prodfeatures</th>\n",
							"      <th>orig_techdetails</th>\n",
							"    </tr>\n",
							"  </thead>\n",
							"  <tbody>\n",
							"    <tr>\n",
							"      <th>0</th>\n",
							"      <td>HP</td>\n",
							"      <td>C7973W</td>\n",
							"      <td>Data Cartridges</td>\n",
							"      <td>Blank Media</td>\n",
							"      <td></td>\n",
							"      <td></td>\n",
							"      <td>HP LTO Ultrium WORM x 1 - 800 GB - storage med...</td>\n",
							"      <td>58.16</td>\n",
							"      <td>28.54</td>\n",
							"      <td></td>\n",
							"      <td>Genuine HP LTO Ultrium Tape New Product</td>\n",
							"      <td></td>\n",
							"      <td>Data Cartridge - LTO Ultrium LTO-3 - 400 GB Na...</td>\n",
							"      <td>4.5 x 4.2 x 1.0 inches</td>\n",
							"      <td>3.2 ounces</td>\n",
							"      <td>1 pounds</td>\n",
							"      <td></td>\n",
							"      <td>&lt;ul&gt;&lt;li&gt;Genuine HP LTO / Ultrium Tape&lt;/li&gt; &lt;li...</td>\n",
							"    </tr>\n",
							"  </tbody>\n",
							"</table>\n",
							"</div>"
						],
						"text/plain": [
							"column brand  modelno         category1    pcategory1 category2 pcategory2  \\\n",
							"0        HP   C7973W   Data Cartridges   Blank Media                         \n",
							"\n",
							"column                                              title listprice   price  \\\n",
							"0       HP LTO Ultrium WORM x 1 - 800 GB - storage med...    58.16   28.54    \n",
							"\n",
							"column prodfeatures                               techdetails proddescrshort  \\\n",
							"0                    Genuine HP LTO Ultrium Tape New Product                   \n",
							"\n",
							"column                                      proddescrlong  \\\n",
							"0       Data Cartridge - LTO Ultrium LTO-3 - 400 GB Na...   \n",
							"\n",
							"column               dimensions   itemweight shipweight orig_prodfeatures  \\\n",
							"0       4.5 x 4.2 x 1.0 inches   3.2 ounces   1 pounds                      \n",
							"\n",
							"column                                   orig_techdetails  \n",
							"0       <ul><li>Genuine HP LTO / Ultrium Tape</li> <li...  "
						]
					},
					"metadata": {},
					"output_type": "display_data"
				},
				{
					"name": "stdout",
					"output_type": "stream",
					"text": [
						"Label: 1\n",
						"Prediction: 1\n"
					]
				}
			],
			"source": [
				"e1_df, e2_df = deserialize_entities(X_test[np.nonzero(y_test)[0][0]])\n",
				"print('Entity 1:')\n",
				"display(e1_df)\n",
				"print('Entity 2:')\n",
				"display(e2_df)\n",
				"print(f'Label: {y_test[np.nonzero(y_test)[0][0]]}')\n",
				"print(f'Prediction: {y_pred[np.nonzero(y_test)[0][0]]}')"
			]
		},
		{
			"cell_type": "markdown",
			"metadata": {},
			"source": [
				"### DistilRoBERTa\n",
				"- Parameters: ~82 million\n",
				"- Layers: 6 Transformer layers (half of RoBERTa-base)\n",
				"- Hidden Size: 768 (same as RoBERTa-base)\n",
				"- Attention Heads: 12 (same as RoBERTa-base)\n",
				"- It’s 60% faster than RoBERTa base.\n",
				"- Has 40% fewer parameters while retaining over 95% of the performance on most tasks."
			]
		},
		{
			"cell_type": "code",
			"execution_count": 29,
			"metadata": {},
			"outputs": [],
			"source": [
				"MODEL_NAME = 'distilroberta-base'"
			]
		},
		{
			"cell_type": "code",
			"execution_count": 30,
			"metadata": {},
			"outputs": [
				{
					"name": "stderr",
					"output_type": "stream",
					"text": [
						"Some weights of RobertaForSequenceClassification were not initialized from the model checkpoint at distilroberta-base and are newly initialized: ['classifier.dense.bias', 'classifier.dense.weight', 'classifier.out_proj.bias', 'classifier.out_proj.weight']\n",
						"You should probably TRAIN this model on a down-stream task to be able to use it for predictions and inference.\n"
					]
				},
				{
					"name": "stdout",
					"output_type": "stream",
					"text": [
						"Model initialized\n",
						"Device: cuda:0\n",
						"Model: distilroberta-base\n",
						"Study name: Walmart-Amazon/distilroberta-base@gpu6.enst.fr:0\n",
						"Epoch 1/10\n"
					]
				},
				{
					"name": "stderr",
					"output_type": "stream",
					"text": [
						"Training: 100%|█████████████████████████████████████████████████████████████| 51/51 [00:17<00:00,  2.99batch/s]\n",
						"Validation: 100%|███████████████████████████████████████████████████████████| 11/11 [00:01<00:00,  6.57batch/s]\n"
					]
				},
				{
					"name": "stdout",
					"output_type": "stream",
					"text": [
						"Train loss: 0.6882\n",
						"Val loss: 0.7176\n",
						"              precision    recall  f1-score   support\n",
						"\n",
						"           0       0.50      0.87      0.63       169\n",
						"           1       0.49      0.12      0.20       169\n",
						"\n",
						"    accuracy                           0.50       338\n",
						"   macro avg       0.49      0.50      0.42       338\n",
						"weighted avg       0.49      0.50      0.42       338\n",
						"\n",
						"Epoch 2/10\n"
					]
				},
				{
					"name": "stderr",
					"output_type": "stream",
					"text": [
						"Training: 100%|█████████████████████████████████████████████████████████████| 51/51 [00:16<00:00,  3.01batch/s]\n",
						"Validation: 100%|███████████████████████████████████████████████████████████| 11/11 [00:01<00:00,  7.11batch/s]\n"
					]
				},
				{
					"name": "stdout",
					"output_type": "stream",
					"text": [
						"Train loss: 0.5634\n",
						"Val loss: 0.3389\n",
						"              precision    recall  f1-score   support\n",
						"\n",
						"           0       0.79      0.87      0.83       169\n",
						"           1       0.86      0.77      0.81       169\n",
						"\n",
						"    accuracy                           0.82       338\n",
						"   macro avg       0.82      0.82      0.82       338\n",
						"weighted avg       0.82      0.82      0.82       338\n",
						"\n",
						"Epoch 3/10\n"
					]
				},
				{
					"name": "stderr",
					"output_type": "stream",
					"text": [
						"Training: 100%|█████████████████████████████████████████████████████████████| 51/51 [00:16<00:00,  3.02batch/s]\n",
						"Validation: 100%|███████████████████████████████████████████████████████████| 11/11 [00:01<00:00,  7.37batch/s]\n"
					]
				},
				{
					"name": "stdout",
					"output_type": "stream",
					"text": [
						"Train loss: 0.2694\n",
						"Val loss: 0.2953\n",
						"              precision    recall  f1-score   support\n",
						"\n",
						"           0       0.79      0.93      0.85       169\n",
						"           1       0.92      0.75      0.82       169\n",
						"\n",
						"    accuracy                           0.84       338\n",
						"   macro avg       0.85      0.84      0.84       338\n",
						"weighted avg       0.85      0.84      0.84       338\n",
						"\n",
						"Epoch 4/10\n"
					]
				},
				{
					"name": "stderr",
					"output_type": "stream",
					"text": [
						"Training: 100%|█████████████████████████████████████████████████████████████| 51/51 [00:16<00:00,  3.02batch/s]\n",
						"Validation: 100%|███████████████████████████████████████████████████████████| 11/11 [00:01<00:00,  7.28batch/s]\n"
					]
				},
				{
					"name": "stdout",
					"output_type": "stream",
					"text": [
						"Train loss: 0.2545\n",
						"Val loss: 0.2908\n",
						"              precision    recall  f1-score   support\n",
						"\n",
						"           0       0.90      0.76      0.82       169\n",
						"           1       0.79      0.91      0.85       169\n",
						"\n",
						"    accuracy                           0.84       338\n",
						"   macro avg       0.84      0.84      0.84       338\n",
						"weighted avg       0.84      0.84      0.84       338\n",
						"\n",
						"Epoch 5/10\n"
					]
				},
				{
					"name": "stderr",
					"output_type": "stream",
					"text": [
						"Training: 100%|█████████████████████████████████████████████████████████████| 51/51 [00:16<00:00,  3.02batch/s]\n",
						"Validation: 100%|███████████████████████████████████████████████████████████| 11/11 [00:01<00:00,  6.92batch/s]\n"
					]
				},
				{
					"name": "stdout",
					"output_type": "stream",
					"text": [
						"Train loss: 0.2326\n",
						"Val loss: 0.2744\n",
						"              precision    recall  f1-score   support\n",
						"\n",
						"           0       0.82      0.83      0.83       169\n",
						"           1       0.83      0.82      0.82       169\n",
						"\n",
						"    accuracy                           0.83       338\n",
						"   macro avg       0.83      0.83      0.83       338\n",
						"weighted avg       0.83      0.83      0.83       338\n",
						"\n",
						"Epoch 6/10\n"
					]
				},
				{
					"name": "stderr",
					"output_type": "stream",
					"text": [
						"Training: 100%|█████████████████████████████████████████████████████████████| 51/51 [00:16<00:00,  3.02batch/s]\n",
						"Validation: 100%|███████████████████████████████████████████████████████████| 11/11 [00:01<00:00,  7.35batch/s]\n"
					]
				},
				{
					"name": "stdout",
					"output_type": "stream",
					"text": [
						"Train loss: 0.2367\n",
						"Val loss: 0.2934\n",
						"              precision    recall  f1-score   support\n",
						"\n",
						"           0       0.96      0.72      0.82       169\n",
						"           1       0.78      0.97      0.86       169\n",
						"\n",
						"    accuracy                           0.85       338\n",
						"   macro avg       0.87      0.85      0.84       338\n",
						"weighted avg       0.87      0.85      0.84       338\n",
						"\n",
						"Epoch 7/10\n"
					]
				},
				{
					"name": "stderr",
					"output_type": "stream",
					"text": [
						"Training: 100%|█████████████████████████████████████████████████████████████| 51/51 [00:16<00:00,  3.02batch/s]\n",
						"Validation: 100%|███████████████████████████████████████████████████████████| 11/11 [00:01<00:00,  7.27batch/s]\n"
					]
				},
				{
					"name": "stdout",
					"output_type": "stream",
					"text": [
						"Train loss: 0.2242\n",
						"Val loss: 0.3029\n",
						"              precision    recall  f1-score   support\n",
						"\n",
						"           0       0.79      0.89      0.84       169\n",
						"           1       0.88      0.76      0.82       169\n",
						"\n",
						"    accuracy                           0.83       338\n",
						"   macro avg       0.83      0.83      0.83       338\n",
						"weighted avg       0.83      0.83      0.83       338\n",
						"\n",
						"Epoch 8/10\n"
					]
				},
				{
					"name": "stderr",
					"output_type": "stream",
					"text": [
						"Training: 100%|█████████████████████████████████████████████████████████████| 51/51 [00:16<00:00,  3.01batch/s]\n",
						"Validation: 100%|███████████████████████████████████████████████████████████| 11/11 [00:01<00:00,  7.25batch/s]"
					]
				},
				{
					"name": "stdout",
					"output_type": "stream",
					"text": [
						"Train loss: 0.2171\n",
						"Val loss: 0.3092\n",
						"              precision    recall  f1-score   support\n",
						"\n",
						"           0       0.89      0.78      0.83       169\n",
						"           1       0.80      0.91      0.85       169\n",
						"\n",
						"    accuracy                           0.84       338\n",
						"   macro avg       0.85      0.84      0.84       338\n",
						"weighted avg       0.85      0.84      0.84       338\n",
						"\n",
						"Early stopping triggered\n",
						"Best weights restored\n",
						"Mean time per epoch: 18.49\n"
					]
				},
				{
					"name": "stderr",
					"output_type": "stream",
					"text": [
						"\n"
					]
				}
			],
			"source": [
				"model = BertModel(model_name=MODEL_NAME, study_name=DATA_NAME + \"/\" + MODEL_NAME + \"@\" + COMPUTER, device=device)\n",
				"train_loader, val_loader, test_loader = model.prepare_data(X_train, y_train, X_valid, y_valid, X_test, y_test, batch_size=32, num_workers=4)\n",
				"model.fit(train_loader, val_loader, epochs=10, lr=2e-5, weight_decay=0.01, early_stopping=True, patience=3)"
			]
		},
		{
			"cell_type": "code",
			"execution_count": 31,
			"metadata": {},
			"outputs": [
				{
					"name": "stderr",
					"output_type": "stream",
					"text": [
						"Testing: 100%|██████████████████████████████████████████████████████████████| 12/12 [00:01<00:00,  7.48batch/s]\n"
					]
				},
				{
					"name": "stdout",
					"output_type": "stream",
					"text": [
						"              precision    recall  f1-score   support\n",
						"\n",
						"           0       0.90      0.78      0.84       180\n",
						"           1       0.81      0.92      0.86       180\n",
						"\n",
						"    accuracy                           0.85       360\n",
						"   macro avg       0.86      0.85      0.85       360\n",
						"weighted avg       0.86      0.85      0.85       360\n",
						"\n",
						"Test loss: 0.21455\n"
					]
				}
			],
			"source": [
				"y_pred_disti = model.evaluate(test_loader)"
			]
		},
		{
			"cell_type": "markdown",
			"metadata": {},
			"source": [
				"### BERT Base\n",
				"- Parameters: ~110 million\n",
				"- Layers: 12 Transformer layers\n",
				"- Hidden Size: 768\n",
				"- Attention Heads: 12"
			]
		},
		{
			"cell_type": "code",
			"execution_count": 32,
			"metadata": {},
			"outputs": [],
			"source": [
				"MODEL_NAME = 'bert-base-uncased'"
			]
		},
		{
			"cell_type": "code",
			"execution_count": 33,
			"metadata": {},
			"outputs": [
				{
					"name": "stderr",
					"output_type": "stream",
					"text": [
						"Some weights of BertForSequenceClassification were not initialized from the model checkpoint at bert-base-uncased and are newly initialized: ['classifier.bias', 'classifier.weight']\n",
						"You should probably TRAIN this model on a down-stream task to be able to use it for predictions and inference.\n"
					]
				},
				{
					"name": "stdout",
					"output_type": "stream",
					"text": [
						"Model initialized\n",
						"Device: cuda:0\n",
						"Model: bert-base-uncased\n",
						"Study name: Walmart-Amazon/bert-base-uncased@gpu6.enst.fr:0\n",
						"Epoch 1/10\n"
					]
				},
				{
					"name": "stderr",
					"output_type": "stream",
					"text": [
						"Training: 100%|█████████████████████████████████████████████████████████████| 51/51 [00:33<00:00,  1.54batch/s]\n",
						"Validation: 100%|███████████████████████████████████████████████████████████| 11/11 [00:02<00:00,  4.28batch/s]\n"
					]
				},
				{
					"name": "stdout",
					"output_type": "stream",
					"text": [
						"Train loss: 0.6581\n",
						"Val loss: 0.5018\n",
						"              precision    recall  f1-score   support\n",
						"\n",
						"           0       0.84      0.64      0.73       169\n",
						"           1       0.71      0.88      0.79       169\n",
						"\n",
						"    accuracy                           0.76       338\n",
						"   macro avg       0.78      0.76      0.76       338\n",
						"weighted avg       0.78      0.76      0.76       338\n",
						"\n",
						"Epoch 2/10\n"
					]
				},
				{
					"name": "stderr",
					"output_type": "stream",
					"text": [
						"Training: 100%|█████████████████████████████████████████████████████████████| 51/51 [00:33<00:00,  1.54batch/s]\n",
						"Validation: 100%|███████████████████████████████████████████████████████████| 11/11 [00:03<00:00,  3.56batch/s]\n"
					]
				},
				{
					"name": "stdout",
					"output_type": "stream",
					"text": [
						"Train loss: 0.4212\n",
						"Val loss: 0.3032\n",
						"              precision    recall  f1-score   support\n",
						"\n",
						"           0       0.93      0.75      0.83       169\n",
						"           1       0.79      0.95      0.86       169\n",
						"\n",
						"    accuracy                           0.85       338\n",
						"   macro avg       0.86      0.85      0.84       338\n",
						"weighted avg       0.86      0.85      0.84       338\n",
						"\n",
						"Epoch 3/10\n"
					]
				},
				{
					"name": "stderr",
					"output_type": "stream",
					"text": [
						"Training: 100%|█████████████████████████████████████████████████████████████| 51/51 [00:33<00:00,  1.53batch/s]\n",
						"Validation: 100%|███████████████████████████████████████████████████████████| 11/11 [00:02<00:00,  4.24batch/s]\n"
					]
				},
				{
					"name": "stdout",
					"output_type": "stream",
					"text": [
						"Train loss: 0.2617\n",
						"Val loss: 0.2683\n",
						"              precision    recall  f1-score   support\n",
						"\n",
						"           0       0.77      0.98      0.86       169\n",
						"           1       0.97      0.71      0.82       169\n",
						"\n",
						"    accuracy                           0.84       338\n",
						"   macro avg       0.87      0.84      0.84       338\n",
						"weighted avg       0.87      0.84      0.84       338\n",
						"\n",
						"Epoch 4/10\n"
					]
				},
				{
					"name": "stderr",
					"output_type": "stream",
					"text": [
						"Training: 100%|█████████████████████████████████████████████████████████████| 51/51 [00:33<00:00,  1.54batch/s]\n",
						"Validation: 100%|███████████████████████████████████████████████████████████| 11/11 [00:02<00:00,  4.18batch/s]\n"
					]
				},
				{
					"name": "stdout",
					"output_type": "stream",
					"text": [
						"Train loss: 0.2336\n",
						"Val loss: 0.2511\n",
						"              precision    recall  f1-score   support\n",
						"\n",
						"           0       0.87      0.84      0.86       169\n",
						"           1       0.85      0.88      0.86       169\n",
						"\n",
						"    accuracy                           0.86       338\n",
						"   macro avg       0.86      0.86      0.86       338\n",
						"weighted avg       0.86      0.86      0.86       338\n",
						"\n",
						"Epoch 5/10\n"
					]
				},
				{
					"name": "stderr",
					"output_type": "stream",
					"text": [
						"Training: 100%|█████████████████████████████████████████████████████████████| 51/51 [00:33<00:00,  1.54batch/s]\n",
						"Validation: 100%|███████████████████████████████████████████████████████████| 11/11 [00:02<00:00,  4.20batch/s]\n"
					]
				},
				{
					"name": "stdout",
					"output_type": "stream",
					"text": [
						"Train loss: 0.2506\n",
						"Val loss: 0.2558\n",
						"              precision    recall  f1-score   support\n",
						"\n",
						"           0       0.99      0.73      0.84       169\n",
						"           1       0.79      0.99      0.88       169\n",
						"\n",
						"    accuracy                           0.86       338\n",
						"   macro avg       0.89      0.86      0.86       338\n",
						"weighted avg       0.89      0.86      0.86       338\n",
						"\n",
						"Epoch 6/10\n"
					]
				},
				{
					"name": "stderr",
					"output_type": "stream",
					"text": [
						"Training: 100%|█████████████████████████████████████████████████████████████| 51/51 [00:33<00:00,  1.54batch/s]\n",
						"Validation: 100%|███████████████████████████████████████████████████████████| 11/11 [00:02<00:00,  4.03batch/s]\n"
					]
				},
				{
					"name": "stdout",
					"output_type": "stream",
					"text": [
						"Train loss: 0.2181\n",
						"Val loss: 0.2566\n",
						"              precision    recall  f1-score   support\n",
						"\n",
						"           0       0.85      0.83      0.84       169\n",
						"           1       0.83      0.86      0.85       169\n",
						"\n",
						"    accuracy                           0.84       338\n",
						"   macro avg       0.84      0.84      0.84       338\n",
						"weighted avg       0.84      0.84      0.84       338\n",
						"\n",
						"Epoch 7/10\n"
					]
				},
				{
					"name": "stderr",
					"output_type": "stream",
					"text": [
						"Training: 100%|█████████████████████████████████████████████████████████████| 51/51 [00:33<00:00,  1.54batch/s]\n",
						"Validation: 100%|███████████████████████████████████████████████████████████| 11/11 [00:02<00:00,  4.19batch/s]\n"
					]
				},
				{
					"name": "stdout",
					"output_type": "stream",
					"text": [
						"Train loss: 0.2072\n",
						"Val loss: 0.2693\n",
						"              precision    recall  f1-score   support\n",
						"\n",
						"           0       0.98      0.73      0.84       169\n",
						"           1       0.79      0.98      0.87       169\n",
						"\n",
						"    accuracy                           0.86       338\n",
						"   macro avg       0.88      0.86      0.86       338\n",
						"weighted avg       0.88      0.86      0.86       338\n",
						"\n",
						"Early stopping triggered\n",
						"Best weights restored\n",
						"Mean time per epoch: 35.86\n"
					]
				}
			],
			"source": [
				"model = BertModel(model_name=MODEL_NAME, study_name=DATA_NAME + \"/\" + MODEL_NAME + \"@\" + COMPUTER, device=device)\n",
				"train_loader, val_loader, test_loader = model.prepare_data(X_train, y_train, X_valid, y_valid, X_test, y_test, batch_size=32, num_workers=4)\n",
				"model.fit(train_loader, val_loader, epochs=10, lr=2e-5, weight_decay=0.01, early_stopping=True, patience=3)"
			]
		},
		{
			"cell_type": "code",
			"execution_count": 34,
			"metadata": {},
			"outputs": [
				{
					"name": "stderr",
					"output_type": "stream",
					"text": [
						"Testing: 100%|██████████████████████████████████████████████████████████████| 12/12 [00:02<00:00,  4.22batch/s]"
					]
				},
				{
					"name": "stdout",
					"output_type": "stream",
					"text": [
						"              precision    recall  f1-score   support\n",
						"\n",
						"           0       0.97      0.77      0.86       180\n",
						"           1       0.81      0.98      0.88       180\n",
						"\n",
						"    accuracy                           0.87       360\n",
						"   macro avg       0.89      0.87      0.87       360\n",
						"weighted avg       0.89      0.87      0.87       360\n",
						"\n",
						"Test loss: 0.21891\n"
					]
				},
				{
					"name": "stderr",
					"output_type": "stream",
					"text": [
						"\n"
					]
				}
			],
			"source": [
				"y_pred_bert = model.evaluate(test_loader)"
			]
		},
		{
			"cell_type": "markdown",
			"metadata": {},
			"source": [
				"### Electra\n",
				"- Parameters: ~110 million\n",
				"- Layers: 12 Transformer layers\n",
				"- Hidden Size: 768\n",
				"- Attention Heads: 12"
			]
		},
		{
			"cell_type": "code",
			"execution_count": 22,
			"metadata": {},
			"outputs": [],
			"source": [
				"MODEL_NAME = 'google/electra-base-discriminator'"
			]
		},
		{
			"cell_type": "code",
			"execution_count": 23,
			"metadata": {},
			"outputs": [
				{
					"name": "stderr",
					"output_type": "stream",
					"text": [
						"Some weights of ElectraForSequenceClassification were not initialized from the model checkpoint at google/electra-base-discriminator and are newly initialized: ['classifier.dense.bias', 'classifier.dense.weight', 'classifier.out_proj.bias', 'classifier.out_proj.weight']\n",
						"You should probably TRAIN this model on a down-stream task to be able to use it for predictions and inference.\n"
					]
				},
				{
					"name": "stdout",
					"output_type": "stream",
					"text": [
						"Model initialized\n",
						"Device: cuda:0\n",
						"Model: google/electra-base-discriminator\n",
						"Study name: Walmart-Amazon/google/electra-base-discriminator@gpu6.enst.fr:0\n",
						"Epoch 1/10\n"
					]
				},
				{
					"name": "stderr",
					"output_type": "stream",
					"text": [
						"Training: 100%|█████████████████████████████████████████████████████████████| 51/51 [00:38<00:00,  1.33batch/s]\n",
						"Validation: 100%|███████████████████████████████████████████████████████████| 11/11 [00:02<00:00,  3.77batch/s]\n"
					]
				},
				{
					"name": "stdout",
					"output_type": "stream",
					"text": [
						"Train loss: 0.6891\n",
						"Val loss: 0.6943\n",
						"              precision    recall  f1-score   support\n",
						"\n",
						"           0       0.57      0.02      0.05       169\n",
						"           1       0.50      0.98      0.66       169\n",
						"\n",
						"    accuracy                           0.50       338\n",
						"   macro avg       0.54      0.50      0.35       338\n",
						"weighted avg       0.54      0.50      0.35       338\n",
						"\n",
						"Epoch 2/10\n"
					]
				},
				{
					"name": "stderr",
					"output_type": "stream",
					"text": [
						"Training: 100%|█████████████████████████████████████████████████████████████| 51/51 [00:38<00:00,  1.34batch/s]\n",
						"Validation: 100%|███████████████████████████████████████████████████████████| 11/11 [00:02<00:00,  3.73batch/s]\n"
					]
				},
				{
					"name": "stdout",
					"output_type": "stream",
					"text": [
						"Train loss: 0.6373\n",
						"Val loss: 0.4913\n",
						"              precision    recall  f1-score   support\n",
						"\n",
						"           0       0.79      0.75      0.77       169\n",
						"           1       0.76      0.80      0.78       169\n",
						"\n",
						"    accuracy                           0.78       338\n",
						"   macro avg       0.78      0.78      0.78       338\n",
						"weighted avg       0.78      0.78      0.78       338\n",
						"\n",
						"Epoch 3/10\n"
					]
				},
				{
					"name": "stderr",
					"output_type": "stream",
					"text": [
						"Training: 100%|█████████████████████████████████████████████████████████████| 51/51 [00:38<00:00,  1.34batch/s]\n",
						"Validation: 100%|███████████████████████████████████████████████████████████| 11/11 [00:02<00:00,  3.73batch/s]\n"
					]
				},
				{
					"name": "stdout",
					"output_type": "stream",
					"text": [
						"Train loss: 0.4026\n",
						"Val loss: 0.3481\n",
						"              precision    recall  f1-score   support\n",
						"\n",
						"           0       0.75      0.99      0.85       169\n",
						"           1       0.99      0.66      0.79       169\n",
						"\n",
						"    accuracy                           0.83       338\n",
						"   macro avg       0.87      0.83      0.82       338\n",
						"weighted avg       0.87      0.83      0.82       338\n",
						"\n",
						"Epoch 4/10\n"
					]
				},
				{
					"name": "stderr",
					"output_type": "stream",
					"text": [
						"Training: 100%|█████████████████████████████████████████████████████████████| 51/51 [00:37<00:00,  1.34batch/s]\n",
						"Validation: 100%|███████████████████████████████████████████████████████████| 11/11 [00:02<00:00,  3.76batch/s]\n"
					]
				},
				{
					"name": "stdout",
					"output_type": "stream",
					"text": [
						"Train loss: 0.2823\n",
						"Val loss: 0.2078\n",
						"              precision    recall  f1-score   support\n",
						"\n",
						"           0       0.89      0.82      0.86       169\n",
						"           1       0.84      0.90      0.87       169\n",
						"\n",
						"    accuracy                           0.86       338\n",
						"   macro avg       0.86      0.86      0.86       338\n",
						"weighted avg       0.86      0.86      0.86       338\n",
						"\n",
						"Epoch 5/10\n"
					]
				},
				{
					"name": "stderr",
					"output_type": "stream",
					"text": [
						"Training: 100%|█████████████████████████████████████████████████████████████| 51/51 [00:38<00:00,  1.34batch/s]\n",
						"Validation: 100%|███████████████████████████████████████████████████████████| 11/11 [00:02<00:00,  3.72batch/s]\n"
					]
				},
				{
					"name": "stdout",
					"output_type": "stream",
					"text": [
						"Train loss: 0.2461\n",
						"Val loss: 0.1979\n",
						"              precision    recall  f1-score   support\n",
						"\n",
						"           0       0.78      1.00      0.88       169\n",
						"           1       1.00      0.72      0.84       169\n",
						"\n",
						"    accuracy                           0.86       338\n",
						"   macro avg       0.89      0.86      0.86       338\n",
						"weighted avg       0.89      0.86      0.86       338\n",
						"\n",
						"Epoch 6/10\n"
					]
				},
				{
					"name": "stderr",
					"output_type": "stream",
					"text": [
						"Training: 100%|█████████████████████████████████████████████████████████████| 51/51 [00:38<00:00,  1.34batch/s]\n",
						"Validation: 100%|███████████████████████████████████████████████████████████| 11/11 [00:02<00:00,  3.74batch/s]\n"
					]
				},
				{
					"name": "stdout",
					"output_type": "stream",
					"text": [
						"Train loss: 0.2518\n",
						"Val loss: 0.2059\n",
						"              precision    recall  f1-score   support\n",
						"\n",
						"           0       0.82      0.92      0.87       169\n",
						"           1       0.91      0.80      0.85       169\n",
						"\n",
						"    accuracy                           0.86       338\n",
						"   macro avg       0.86      0.86      0.86       338\n",
						"weighted avg       0.86      0.86      0.86       338\n",
						"\n",
						"Epoch 7/10\n"
					]
				},
				{
					"name": "stderr",
					"output_type": "stream",
					"text": [
						"Training: 100%|█████████████████████████████████████████████████████████████| 51/51 [00:38<00:00,  1.34batch/s]\n",
						"Validation: 100%|███████████████████████████████████████████████████████████| 11/11 [00:02<00:00,  3.72batch/s]\n"
					]
				},
				{
					"name": "stdout",
					"output_type": "stream",
					"text": [
						"Train loss: 0.2313\n",
						"Val loss: 0.2012\n",
						"              precision    recall  f1-score   support\n",
						"\n",
						"           0       0.80      0.96      0.87       169\n",
						"           1       0.95      0.76      0.84       169\n",
						"\n",
						"    accuracy                           0.86       338\n",
						"   macro avg       0.87      0.86      0.86       338\n",
						"weighted avg       0.87      0.86      0.86       338\n",
						"\n",
						"Epoch 8/10\n"
					]
				},
				{
					"name": "stderr",
					"output_type": "stream",
					"text": [
						"Training: 100%|█████████████████████████████████████████████████████████████| 51/51 [00:38<00:00,  1.34batch/s]\n",
						"Validation: 100%|███████████████████████████████████████████████████████████| 11/11 [00:02<00:00,  3.78batch/s]\n"
					]
				},
				{
					"name": "stdout",
					"output_type": "stream",
					"text": [
						"Train loss: 0.2357\n",
						"Val loss: 0.1936\n",
						"              precision    recall  f1-score   support\n",
						"\n",
						"           0       0.90      0.80      0.85       169\n",
						"           1       0.82      0.91      0.86       169\n",
						"\n",
						"    accuracy                           0.86       338\n",
						"   macro avg       0.86      0.86      0.85       338\n",
						"weighted avg       0.86      0.86      0.85       338\n",
						"\n",
						"Epoch 9/10\n"
					]
				},
				{
					"name": "stderr",
					"output_type": "stream",
					"text": [
						"Training: 100%|█████████████████████████████████████████████████████████████| 51/51 [00:38<00:00,  1.34batch/s]\n",
						"Validation: 100%|███████████████████████████████████████████████████████████| 11/11 [00:02<00:00,  3.70batch/s]\n"
					]
				},
				{
					"name": "stdout",
					"output_type": "stream",
					"text": [
						"Train loss: 0.2315\n",
						"Val loss: 0.2014\n",
						"              precision    recall  f1-score   support\n",
						"\n",
						"           0       0.80      0.96      0.87       169\n",
						"           1       0.96      0.76      0.84       169\n",
						"\n",
						"    accuracy                           0.86       338\n",
						"   macro avg       0.88      0.86      0.86       338\n",
						"weighted avg       0.88      0.86      0.86       338\n",
						"\n",
						"Epoch 10/10\n"
					]
				},
				{
					"name": "stderr",
					"output_type": "stream",
					"text": [
						"Training: 100%|█████████████████████████████████████████████████████████████| 51/51 [00:38<00:00,  1.34batch/s]\n",
						"Validation: 100%|███████████████████████████████████████████████████████████| 11/11 [00:03<00:00,  3.61batch/s]"
					]
				},
				{
					"name": "stdout",
					"output_type": "stream",
					"text": [
						"Train loss: 0.2400\n",
						"Val loss: 0.1903\n",
						"              precision    recall  f1-score   support\n",
						"\n",
						"           0       0.79      0.98      0.87       169\n",
						"           1       0.97      0.73      0.84       169\n",
						"\n",
						"    accuracy                           0.86       338\n",
						"   macro avg       0.88      0.86      0.85       338\n",
						"weighted avg       0.88      0.86      0.85       338\n",
						"\n",
						"Training completed\n",
						"Best weights restored\n",
						"Mean time per epoch: 41.01\n"
					]
				},
				{
					"name": "stderr",
					"output_type": "stream",
					"text": [
						"\n"
					]
				}
			],
			"source": [
				"model = BertModel(model_name=MODEL_NAME, study_name=DATA_NAME + \"/\" + MODEL_NAME + \"@\" + COMPUTER, device=device)\n",
				"train_loader, val_loader, test_loader = model.prepare_data(X_train, y_train, X_valid, y_valid, X_test, y_test, batch_size=32, num_workers=4)\n",
				"model.fit(train_loader, val_loader, epochs=10, lr=2e-5, weight_decay=0.01, early_stopping=True, patience=3)"
			]
		},
		{
			"cell_type": "code",
			"execution_count": 24,
			"metadata": {},
			"outputs": [
				{
					"name": "stderr",
					"output_type": "stream",
					"text": [
						"Testing: 100%|██████████████████████████████████████████████████████████████| 12/12 [00:03<00:00,  3.77batch/s]"
					]
				},
				{
					"name": "stdout",
					"output_type": "stream",
					"text": [
						"              precision    recall  f1-score   support\n",
						"\n",
						"           0       0.78      0.97      0.87       180\n",
						"           1       0.96      0.73      0.83       180\n",
						"\n",
						"    accuracy                           0.85       360\n",
						"   macro avg       0.87      0.85      0.85       360\n",
						"weighted avg       0.87      0.85      0.85       360\n",
						"\n",
						"Test loss: 0.25164\n"
					]
				},
				{
					"name": "stderr",
					"output_type": "stream",
					"text": [
						"\n"
					]
				}
			],
			"source": [
				"y_pred_electra = model.evaluate(test_loader)"
			]
		}
	],
	"metadata": {
		"kernelspec": {
			"display_name": "Python 3",
			"language": "python",
			"name": "python3"
		},
		"language_info": {
			"codemirror_mode": {
				"name": "ipython",
				"version": 3
			},
			"file_extension": ".py",
			"mimetype": "text/x-python",
			"name": "python",
			"nbconvert_exporter": "python",
			"pygments_lexer": "ipython3",
			"version": "3.12.4"
		}
	},
	"nbformat": 4,
	"nbformat_minor": 2
}

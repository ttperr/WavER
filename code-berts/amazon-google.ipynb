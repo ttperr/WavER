{
 "cells": [
  {
   "cell_type": "markdown",
   "metadata": {},
   "source": [
    "# Entity Resolution project @ Wavestone\n",
    "## Amazon-Google Products Matching\n",
    "\n",
    "> *Datasets information from [here](Datasets.md) \\\n",
    "> Description to do but only take the raw data because the not raw data was already pre-processed*\n",
    "\n",
    "> **Tristan PERROT**\n"
   ]
  },
  {
   "cell_type": "markdown",
   "metadata": {},
   "source": [
    "## Import libraries\n"
   ]
  },
  {
   "cell_type": "code",
   "execution_count": 1,
   "metadata": {},
   "outputs": [],
   "source": [
    "%load_ext autoreload\n",
    "%autoreload 2"
   ]
  },
  {
   "cell_type": "code",
   "execution_count": 2,
   "metadata": {},
   "outputs": [
    {
     "name": "stdout",
     "output_type": "stream",
     "text": [
      "Using device: cpu\n"
     ]
    }
   ],
   "source": [
    "import os\n",
    "\n",
    "import torch\n",
    "import pickle\n",
    "\n",
    "device = torch.device('cuda:0' if torch.cuda.is_available() else 'cpu')\n",
    "print(f'Using device: {device}')"
   ]
  },
  {
   "cell_type": "code",
   "execution_count": 3,
   "metadata": {},
   "outputs": [],
   "source": [
    "while 'model' not in os.listdir():\n",
    "    os.chdir('..')"
   ]
  },
  {
   "cell_type": "code",
   "execution_count": 4,
   "metadata": {},
   "outputs": [],
   "source": [
    "MODEL_NAME = 'bert-base-uncased'\n",
    "DATA_NAME = 'amazon-google'\n",
    "COMPUTER = 'gpu4.enst.fr:0'\n",
    "DATA_DIR = os.path.join('data', DATA_NAME)"
   ]
  },
  {
   "cell_type": "markdown",
   "metadata": {},
   "source": [
    "## Load data"
   ]
  },
  {
   "cell_type": "code",
   "execution_count": 5,
   "metadata": {},
   "outputs": [],
   "source": [
    "import numpy as np\n",
    "\n",
    "from model.BertModel import BertModel\n",
    "from model.utils import deserialize_entities, load_data"
   ]
  },
  {
   "cell_type": "code",
   "execution_count": 9,
   "metadata": {},
   "outputs": [],
   "source": [
    "X_train_ids, y_train, X_valid_ids, y_valid, X_test_ids, y_test = load_data(DATA_DIR, comp_er=False)\n",
    "with open(os.path.join(DATA_DIR, '1_serialized.pkl'), 'rb') as f:\n",
    "    table_a_serialized = pickle.load(f)\n",
    "with open(os.path.join(DATA_DIR, '2_serialized.pkl'), 'rb') as f:\n",
    "    table_b_serialized = pickle.load(f)"
   ]
  },
  {
   "cell_type": "code",
   "execution_count": 10,
   "metadata": {},
   "outputs": [],
   "source": [
    "X_train = [table_a_serialized[i[0]] + ' [SEP] ' + table_b_serialized[i[1]] for i in X_train_ids]\n",
    "X_valid = [table_a_serialized[i[0]] + ' [SEP] ' + table_b_serialized[i[1]] for i in X_valid_ids]\n",
    "X_test = [table_a_serialized[i[0]] + ' [SEP] ' + table_b_serialized[i[1]] for i in X_test_ids]"
   ]
  },
  {
   "cell_type": "code",
   "execution_count": 11,
   "metadata": {},
   "outputs": [
    {
     "name": "stdout",
     "output_type": "stream",
     "text": [
      "Sample 0:\n",
      "[COL] name [VAL] quickbooks point-of-sale basic 6.0 [COL] description [VAL] quickbooks point-of-sale basic 6.0 retail management software turns any pc into a cash register that does what no ordinary cash register can do: it automatically tracks your inventory and customers while you ring up sales. it's a high-powered retail-management system that tracks inventory sales and customer information to help save you time and better serve your customers. track inventory automatically as you ring up sales. view larger. see each customer's purchase history as you ring up sales and suggest additional purchases based on past preferences. view larger. answer a few questions in the simple setup wizard import your inventory customer and vendor lists from microsoft excel or quickbooks financial software and you're ready to start ringing up sales. view larger. transfer key information directly into quickbooks financial software with one click. view larger. create customized reports that help you make better purchasing decisions. view larger. track inventory automatically as you ring up sales see what's selling when it's selling what needs restocking and more. best of all you can eliminate manual inventory. record each shipment of merchandise you receive and point-of-sale will automatically adjust inventory figures with each sale or return so you can keep the items your customers want on-hand without overstocking. improve cash flow by purchasing the right merchandise in the right quantities at the right time you'll greatly improve your cash flow. see inventory levels for each item as you ring it up. run reports with one click that show what you've got what's hot and what you need to reorder. simplify your closing procedures new to pos 6.0 you can now easily view quantity on-hand and inventory valuation for any historical date you choose. ring up sales faster scan bar codes or type a few keystrokes to accurately add items to sales receipts (bar-code reader sold separately). process credit and debit card transactions and collect tips as you ring up sales. with point-of-sale you can create bar-coded tags for everything you sell ensuring that you ring up the correct item and price--and keep your inventory up to date. authorize credit card and debit card purchases you can authorize credit card and pin-secured debit card purchases automatically--and collect tips on credit payments--as you ring up sales. all you need is a credit-card reader (sold separately) quickbooks point-of-sale and a quickbooks pos merchant service account (for details visit www.quickbooksmerchantservice.com). provide great customer service see each customer's purchase history as you ring up sales and suggest additional purchases based on past preferences. you can also sell and redeem gift cards (for details visit www.quickbooksmerchantservice.com). by tracking your customers' e-mail and shipping addresses you have what you need to let them know about upcoming sales or new inventory from their preferred manufacturers. scan bar codes or type a few keystrokes to add items accurately to sales receipts. view larger. start fast and get help when you need it quickbooks point-of-sale is so easy to set up that many retailers start ringing up sales the first day. just answer a few questions in the software's simple setup wizard import your inventory customer and vendor lists from microsoft excel or quickbooks financial software and you're ready to go. you even get free phone support for 30 days after registration. the first time you connect quickbooks point-of-sale to quickbooks financial software the quickbooks connection wizard walks you through setting everything up correctly. when the two programs are connected you can transfer inventory and sales data from your store to your back office with the click of a button. compatible with other applications import all of your customers vendors and inventory items in one quick step from quickbooks financial software or microsoft excel. save hours of typing each entry by hand. (microsoft word and excel integration requires word and excel 2000 2002 or 2003; outlook synchronization requires outlook 2000 2002 or 2003; all are sold separately. synchronization with outlook is also possible using quickbooks customer manager sold separately.) save hours on bookkeeping transfer sales and customer information employee timesheets sales receipts receiving vouchers and other key information directly into quickbooks financial software with one click. or use quickbooks point-of-sale all by itself. have a question about a tricky transaction? go to the practice file to see how it's done. intuit loads this file with three months of sample data for an imaginary retailer. combine it with quickbooks team quickbooks point-of-sale with quickbooks financial software (sold separately) and you can save time and reduce the risk of errors when performing financial accounting tasks. quickbooks point-of-sale works with any quickbooks pro or premier edition (2004-2007) and quickbooks enterprise solutions (versions 4.0-7.0). when you use quickbooks point-of-sale with quickbooks financial software the two programs work together to handle your business end-to-end--from managing inventory and ringing up sales to tracking finances and running customized reports that help you make better buying decisions. need hardware? save time and hassles with quickbooks point-of-sale basic 6.0 retail management software/hardware (bundle) a guaranteed-compatible software/hardware combination that includes pos basic 6.0 bundled with a receipt printer a cash drawer a bar-code scanner and a credit-card reader. merchant services are optional. for details including a complete list of services and requirements visit www.quickbooksmerchantservice.com. [COL] manufacturer [VAL] intuit [COL] price [VAL] 799.95 [SEP] [COL] name [VAL] mariner software macjournal v4 [COL] description [VAL] macjournal 4 is the world's most popular journaling software for the macintosh. easily create a personal journal with macjournals simple-to-use interface with two level security (password protection and aes-256 encryption). recording daily ideas in ... [COL] manufacturer [VAL]  [COL] price [VAL] 39.99\n",
      "Label: 0\n",
      "\n",
      "Sample 1:\n",
      "[COL] name [VAL] adobe contribute cs3 [mac] [COL] description [VAL] adobe contribute cs3 software enables anyone to quickly and easily update existing websites and blogs. with adobe contribute cs3 content authors can post and publish content to multiple websites and blogs from a single application or publish directly from within microsoft office applications. easily update web content for professional web designers web developers and website administrators ensuring that website and blog content remains fresh and current is an enormous challenge. often this means delegating the responsibility for updating web content and blog entries to numerous contributors which can put website integrity at risk especially when disparate tools are used for the different tasks. with adobe contribute cs3 anyone can quickly and easily update multiple websites and blogs using a single application--without compromising site integrity. simply browse to the website that needs updating or the blog that requires a new entry make changes to the content using adobe contribute cs3 and publish when finished. you can also publish content directly from microsoft word excel or outlook. use one tool for publishing to multiple websites and blogs with adobe contribute cs3 anyone can update website content or create blog entries using a single application. true wysiwyg authoring capabilities let users edit any website or blog in three simple steps dramatically reducing editing time. alternatively authors can publish directly from within microsoft office applications in a few clicks. just open the document that contains the content you want to post click publish and select the target website or blog. even rich media images movies and adobe flash (flv) files can be easily included in any website or blog using adobe contribute cs3. in edit mode just drag the file onto the website or blog entry. adobe contribute cs3 automatically uploads and posts it to the site when published. because authors edit content and add images in their actual context on the website or blog before publishing content length and style as well as image sizes are right the first time. with contribute cs3 you can embed pdf documents directly into your web page or blog entry. you can also convert your microsoft office documents to adobe pdf and insert them into a web page.* maintain website integrity seamless integration between adobe contribute cs3 and dreamweaver templates ensures that your website's look and feel is maintained even when multiple authors update content across the site. web designers and developers can create page templates with editable regions during website creation and then delegate routine content updates to business users. because content authors can update only the areas designated by the designer or webmaster the website always appears as the designer intended. and just like dreamweaver adobe contribute cs3 preserves code quality and formats through the editing process. top reasons to buy adobe contribute cs3 unified web publishing publish to multiple websites and blogs from a single application. easy flash (flv) upload include adobe flash (flv) files in websites and blogs by simply dragging and dropping the file onto the web page or into the blog entry during edit. contribute cs3 automatically uploads the file and posts it to the site on publish. compatible with windows vista and intel based macs adobe contribute cs3 works on intel and powerpc based macs and on windows xp and windows vista systems. quick web page and blog posting from microsoft office publish content directly from within microsoft office applications using the template of your choice significantly reducing your editing time. contribute cs3 adds buttons to your office applications that allow you to publish directly to a website or post to a blog without even opening contribute. wsiwyg blog templates enjoy the convenience of authoring blog entries offline in your own template with convenient wysiwyg layout and full-featured text editing. drag and drop rich media elements directly into your blog as you edit it. editing from internet explorer 7 and firefox 2 use contribute browser buttons to edit the page you are browsing or to post its content to a blog. the latest versions of internet explorer and firefox browsers are now supported. convenient pdf support embed pdf documents directly into your web page or blog entry. conveniently convert microsoft office documents to pdf and then insert them into your web page.* standard protocol support post your updates using any standard file transfer web-authoring or blogging protocol including ftp sftp webdav metaweblog and atom. * requires the installation of adobe acrobat software sold separately. acrobat cs3 professional is included with adobe creative suite 3 web premium and master collection. [COL] manufacturer [VAL] adobe [COL] price [VAL] 149.0 [SEP] [COL] name [VAL] adobe flash cs3 professional (mac) [COL] description [VAL] key features: creative flexibility software integration maximize productivity extend your reach... [COL] manufacturer [VAL]  [COL] price [VAL] 699.0\n",
      "Label: 1\n",
      "\n",
      "Sample 2:\n",
      "[COL] name [VAL] panda internet security 2007 3-user [COL] description [VAL] format: win 98 me 2000 xp [COL] manufacturer [VAL] panda software [COL] price [VAL] 69.95 [SEP] [COL] name [VAL] oem internet security suite 2007 3-user single pack [COL] description [VAL] total internet protection [COL] manufacturer [VAL]  [COL] price [VAL] 32.85\n",
      "Label: 1\n",
      "\n",
      "Sample 3:\n",
      "[COL] name [VAL] instant immersion spanish 2.0 [COL] description [VAL] instant immersion version 2.0 moves you from a beginner to an intermediate speaker with a 5 cd-rom course of study. [COL] manufacturer [VAL] topics entertainment [COL] price [VAL] 29.99 [SEP] [COL] name [VAL] adobe premiere pro cs3 video editing software for mac av production software [COL] description [VAL] premiere pro cs3 video editing software for mac the premiere pro cs3 video editing software for mac from adobe is a professional video nle and dvd creation suite. the software includes all the great features you expect from nle software including ... [COL] manufacturer [VAL]  [COL] price [VAL] 798.95\n",
      "Label: 0\n",
      "\n",
      "Sample 4:\n",
      "[COL] name [VAL] quickbooks customer manager 2.5 [COL] description [VAL] quickbooks customer manager 2.5 is the easiest way to provide your customers with great service. it consolidates key customer information from applications such as quickbooks microsoft outlook and outlook express in one place and on one screen. all the information you need to service your customers is now at your fingertips. consolidate all your key customer information from quickbooks microsoft outlook and outlook express in one place. view larger. view product demo (requires flash). summarize all the key customer information you need in one place. view larger. share appointments with microsoft outlook calendar. view larger. link files e-mails pictures or almost anything that relates to a customer or project. view larger. easily send personalized communications to a few or a few hundred customers. view larger. consolidate key customer information with quickbooks customer manager 2.5 all the information you need to keep close tabs on your customers are at your fingertips. whether it's the name and contact information you keep in outlook or outlook express the appointments you track in outlook or the financials such as invoices and balances that you track through quickbooks it can all be merged into one easy-to-access location. and with advance customization features customer manager lets you determine the exact information you want synchronized. in other words it's you're in complete control. to view a particular customer's quickbooks financials you can click on any quickbooks item in the recent history pane to jump to quickbooks to see the actual transaction whether it's an invoice payment record purchase order or check. you can also link directly to your customer's quickbooks quickreport. if you use outlook to manage your calendar simple click new appointment and customer manager will launch outlook and open an appointment window. you can then create an appointment that will appear in both outlook and customer manager. (if you don't use outlook you can use the calendar built-in to customer manager to keep track of your appointments. it's easy-to-use and looks similar to a spiral-bound calendar you may keep on your desk.) and finally the name record screen is the nerve center of customer manager and summarizes all the key customer information you need in one place. you can see details such as phone numbers files projects appointments and financial transactions -- all at one quick glance. you can access them in one click. among the many panes and action buttons that customer manager offers are customer profile which includes the customer address phone numbers contacts e-mail address web site and more; recent history which shows a chronological history of communications appointments quickbooks financial transactions and related notes and documents; and notes which allows you to enter details of phone calls and general notes such as directions to the customer's office while you're talking with the customer on the phone and much more. you can even link files e-mails pictures --just about anything that relates to a customer or project -- into one place regardless of which application it came from. so you can quickly view appointments and e-mails with attachments intact as well as letters faxes logos artwork pdf files spreadsheets and more. it's easy to drag multiple e-mails at one time and enter to-do reminders and notes from a phone call or project and schedule events right in customer manager. thousands of details one screen an advanced project record feature lets you stay on top of everything related to a project on a single screen. you can use this feature to track all the details related to a project including contacts suppliers vendors and files such as spreadsheets images or project plans as well as set pop-up alerts to remind you of important tasks and appointments ensuring that nothing slips through the cracks. but even with all these consolidation features customer manager still lets you keep in close personal touch with your customers. with it you can easily send personalized messages to a few or a few hundred customers. with merge features that let you create microsoft word letter templates you can use your customer information to create letters and labels for quick cost-effective mailings to any number of your customers. easy to set-up and use if you're familiar with quickbooks financial software learning how to use customer manager will be a breeze because it looks and works just like your financial software. the desktop looks like a browser and you navigate with one click on the icons toolbars and links. in fact even if you are not familiar with quickbooks if you're like most people you can install the software and run through the easy-to-navigate setup and be up and running in about 30 minutes. it's the best steps you'll take to keep your customers and their valuable information in close track. [COL] manufacturer [VAL] intuit [COL] price [VAL] 79.95 [SEP] [COL] name [VAL] marware project x project management software [COL] description [VAL] system requirements mac osx tiger power pc g3 512 mb ram [COL] manufacturer [VAL]  [COL] price [VAL] 179.99\n",
      "Label: 0\n",
      "\n"
     ]
    }
   ],
   "source": [
    "# Display the first 5 samples of the training set\n",
    "for i in range(5):\n",
    "    print(f'Sample {i}:')\n",
    "    print(X_train[i])\n",
    "    print(f'Label: {y_train[i]}')\n",
    "    print()"
   ]
  },
  {
   "cell_type": "markdown",
   "metadata": {},
   "source": [
    "### RoBERTa Base\n",
    "- Architecture: Transformer-based model\n",
    "- Parameters: ~125 million\n",
    "- Layers: 12 Transformer layers\n",
    "- Hidden Size: 768\n",
    "- Attention Heads: 12"
   ]
  },
  {
   "cell_type": "code",
   "execution_count": 156,
   "metadata": {},
   "outputs": [],
   "source": [
    "MODEL_NAME = 'roberta-base'"
   ]
  },
  {
   "cell_type": "code",
   "execution_count": 157,
   "metadata": {},
   "outputs": [
    {
     "name": "stderr",
     "output_type": "stream",
     "text": [
      "Some weights of RobertaForSequenceClassification were not initialized from the model checkpoint at roberta-base and are newly initialized: ['classifier.dense.bias', 'classifier.dense.weight', 'classifier.out_proj.bias', 'classifier.out_proj.weight']\n",
      "You should probably TRAIN this model on a down-stream task to be able to use it for predictions and inference.\n"
     ]
    },
    {
     "name": "stdout",
     "output_type": "stream",
     "text": [
      "Model initialized\n",
      "Device: cuda:0\n",
      "Model: roberta-base\n",
      "Study name: Amazon-Google/roberta-base@gpu6.enst.fr:0\n",
      "Epoch 1/10\n"
     ]
    },
    {
     "name": "stderr",
     "output_type": "stream",
     "text": [
      "Training: 100%|█████████████████████████████████████████████████████████████| 57/57 [00:35<00:00,  1.58batch/s]\n",
      "Validation: 100%|███████████████████████████████████████████████████████████| 13/13 [00:02<00:00,  4.57batch/s]\n"
     ]
    },
    {
     "name": "stdout",
     "output_type": "stream",
     "text": [
      "Train loss: 0.6719\n",
      "Val loss: 0.5654\n",
      "              precision    recall  f1-score   support\n",
      "\n",
      "           0       0.98      0.33      0.49       200\n",
      "           1       0.60      0.99      0.75       200\n",
      "\n",
      "    accuracy                           0.66       400\n",
      "   macro avg       0.79      0.66      0.62       400\n",
      "weighted avg       0.79      0.66      0.62       400\n",
      "\n",
      "Epoch 2/10\n"
     ]
    },
    {
     "name": "stderr",
     "output_type": "stream",
     "text": [
      "Training: 100%|█████████████████████████████████████████████████████████████| 57/57 [00:35<00:00,  1.61batch/s]\n",
      "Validation: 100%|███████████████████████████████████████████████████████████| 13/13 [00:02<00:00,  4.62batch/s]\n"
     ]
    },
    {
     "name": "stdout",
     "output_type": "stream",
     "text": [
      "Train loss: 0.2827\n",
      "Val loss: 0.1724\n",
      "              precision    recall  f1-score   support\n",
      "\n",
      "           0       0.96      0.81      0.88       200\n",
      "           1       0.83      0.97      0.90       200\n",
      "\n",
      "    accuracy                           0.89       400\n",
      "   macro avg       0.90      0.89      0.89       400\n",
      "weighted avg       0.90      0.89      0.89       400\n",
      "\n",
      "Epoch 3/10\n"
     ]
    },
    {
     "name": "stderr",
     "output_type": "stream",
     "text": [
      "Training: 100%|█████████████████████████████████████████████████████████████| 57/57 [00:35<00:00,  1.60batch/s]\n",
      "Validation: 100%|███████████████████████████████████████████████████████████| 13/13 [00:02<00:00,  4.53batch/s]\n"
     ]
    },
    {
     "name": "stdout",
     "output_type": "stream",
     "text": [
      "Train loss: 0.1395\n",
      "Val loss: 0.2006\n",
      "              precision    recall  f1-score   support\n",
      "\n",
      "           0       0.95      0.79      0.86       200\n",
      "           1       0.82      0.96      0.88       200\n",
      "\n",
      "    accuracy                           0.87       400\n",
      "   macro avg       0.88      0.87      0.87       400\n",
      "weighted avg       0.88      0.87      0.87       400\n",
      "\n",
      "Epoch 4/10\n"
     ]
    },
    {
     "name": "stderr",
     "output_type": "stream",
     "text": [
      "Training: 100%|█████████████████████████████████████████████████████████████| 57/57 [00:35<00:00,  1.59batch/s]\n",
      "Validation: 100%|███████████████████████████████████████████████████████████| 13/13 [00:02<00:00,  4.53batch/s]\n"
     ]
    },
    {
     "name": "stdout",
     "output_type": "stream",
     "text": [
      "Train loss: 0.1200\n",
      "Val loss: 0.1608\n",
      "              precision    recall  f1-score   support\n",
      "\n",
      "           0       0.99      0.80      0.88       200\n",
      "           1       0.83      0.99      0.90       200\n",
      "\n",
      "    accuracy                           0.90       400\n",
      "   macro avg       0.91      0.90      0.89       400\n",
      "weighted avg       0.91      0.90      0.89       400\n",
      "\n",
      "Epoch 5/10\n"
     ]
    },
    {
     "name": "stderr",
     "output_type": "stream",
     "text": [
      "Training: 100%|█████████████████████████████████████████████████████████████| 57/57 [00:36<00:00,  1.58batch/s]\n",
      "Validation: 100%|███████████████████████████████████████████████████████████| 13/13 [00:02<00:00,  4.37batch/s]\n"
     ]
    },
    {
     "name": "stdout",
     "output_type": "stream",
     "text": [
      "Train loss: 0.1138\n",
      "Val loss: 0.1565\n",
      "              precision    recall  f1-score   support\n",
      "\n",
      "           0       0.99      0.81      0.89       200\n",
      "           1       0.84      0.99      0.91       200\n",
      "\n",
      "    accuracy                           0.90       400\n",
      "   macro avg       0.91      0.90      0.90       400\n",
      "weighted avg       0.91      0.90      0.90       400\n",
      "\n",
      "Epoch 6/10\n"
     ]
    },
    {
     "name": "stderr",
     "output_type": "stream",
     "text": [
      "Training: 100%|█████████████████████████████████████████████████████████████| 57/57 [00:36<00:00,  1.57batch/s]\n",
      "Validation: 100%|███████████████████████████████████████████████████████████| 13/13 [00:02<00:00,  4.52batch/s]\n"
     ]
    },
    {
     "name": "stdout",
     "output_type": "stream",
     "text": [
      "Train loss: 0.1116\n",
      "Val loss: 0.1720\n",
      "              precision    recall  f1-score   support\n",
      "\n",
      "           0       0.86      0.97      0.91       200\n",
      "           1       0.97      0.83      0.90       200\n",
      "\n",
      "    accuracy                           0.91       400\n",
      "   macro avg       0.91      0.91      0.90       400\n",
      "weighted avg       0.91      0.91      0.90       400\n",
      "\n",
      "Epoch 7/10\n"
     ]
    },
    {
     "name": "stderr",
     "output_type": "stream",
     "text": [
      "Training: 100%|█████████████████████████████████████████████████████████████| 57/57 [00:36<00:00,  1.57batch/s]\n",
      "Validation: 100%|███████████████████████████████████████████████████████████| 13/13 [00:02<00:00,  4.54batch/s]\n"
     ]
    },
    {
     "name": "stdout",
     "output_type": "stream",
     "text": [
      "Train loss: 0.1053\n",
      "Val loss: 0.1708\n",
      "              precision    recall  f1-score   support\n",
      "\n",
      "           0       0.87      0.95      0.91       200\n",
      "           1       0.95      0.86      0.90       200\n",
      "\n",
      "    accuracy                           0.91       400\n",
      "   macro avg       0.91      0.91      0.90       400\n",
      "weighted avg       0.91      0.91      0.90       400\n",
      "\n",
      "Epoch 8/10\n"
     ]
    },
    {
     "name": "stderr",
     "output_type": "stream",
     "text": [
      "Training: 100%|█████████████████████████████████████████████████████████████| 57/57 [00:36<00:00,  1.57batch/s]\n",
      "Validation: 100%|███████████████████████████████████████████████████████████| 13/13 [00:02<00:00,  4.51batch/s]\n"
     ]
    },
    {
     "name": "stdout",
     "output_type": "stream",
     "text": [
      "Train loss: 0.1008\n",
      "Val loss: 0.1605\n",
      "              precision    recall  f1-score   support\n",
      "\n",
      "           0       0.97      0.82      0.89       200\n",
      "           1       0.84      0.97      0.90       200\n",
      "\n",
      "    accuracy                           0.90       400\n",
      "   macro avg       0.91      0.90      0.90       400\n",
      "weighted avg       0.91      0.90      0.90       400\n",
      "\n",
      "Early stopping triggered\n",
      "Best weights restored\n",
      "Mean time per epoch: 38.85\n"
     ]
    }
   ],
   "source": [
    "model = BertModel(model_name=MODEL_NAME, study_name=DATA_NAME + \"/\" + MODEL_NAME + \"@\" + COMPUTER, device=device)\n",
    "train_loader, val_loader, test_loader = model.prepare_data(X_train, y_train, X_valid, y_valid, X_test, y_test, batch_size=32, num_workers=4)\n",
    "model.fit(train_loader, val_loader, epochs=10, lr=2e-5, weight_decay=0.01, early_stopping=True, patience=3)"
   ]
  },
  {
   "cell_type": "code",
   "execution_count": 158,
   "metadata": {},
   "outputs": [
    {
     "name": "stderr",
     "output_type": "stream",
     "text": [
      "Testing: 100%|██████████████████████████████████████████████████████████████| 13/13 [00:02<00:00,  4.37batch/s]"
     ]
    },
    {
     "name": "stdout",
     "output_type": "stream",
     "text": [
      "              precision    recall  f1-score   support\n",
      "\n",
      "           0       0.98      0.92      0.95       199\n",
      "           1       0.93      0.98      0.95       199\n",
      "\n",
      "    accuracy                           0.95       398\n",
      "   macro avg       0.95      0.95      0.95       398\n",
      "weighted avg       0.95      0.95      0.95       398\n",
      "\n",
      "Test loss: 0.08975\n"
     ]
    },
    {
     "name": "stderr",
     "output_type": "stream",
     "text": [
      "\n"
     ]
    }
   ],
   "source": [
    "y_pred = model.evaluate(test_loader)"
   ]
  },
  {
   "cell_type": "code",
   "execution_count": 159,
   "metadata": {},
   "outputs": [
    {
     "name": "stdout",
     "output_type": "stream",
     "text": [
      "Prediction: 0\n",
      "Label: 0\n",
      "Sample: <col>title<val>casual games pack <col>description<val>a collection of 10 engaging amusing and addicting casual games to keep you (and your pc) busy / esrb = e for everyone <col>manufacturer<val>egames <col>price<val>19.99<sep><col>title<val>apple iwork '06 family pack <col>description<val>minimum system requirements macintosh computer with 500mhz or faster powerpc g4 or g5 processor or intel core duo processor mac os x 10.3.9 or 10.4.3 or later 3gb of available disk space 256mb of ram minimum; 512mb recommended 32mb or more video ... <col>manufacturer<val> <col>price<val>99.99\n"
     ]
    }
   ],
   "source": [
    "# Exemple of prediction\n",
    "print(f'Prediction: {y_pred[0]}')\n",
    "print(f'Label: {y_test[0]}')\n",
    "print(f'Sample: {X_test[0]}')"
   ]
  },
  {
   "cell_type": "code",
   "execution_count": 160,
   "metadata": {},
   "outputs": [
    {
     "name": "stdout",
     "output_type": "stream",
     "text": [
      "Entity 1:\n"
     ]
    },
    {
     "data": {
      "text/html": [
       "<div>\n",
       "<style scoped>\n",
       "    .dataframe tbody tr th:only-of-type {\n",
       "        vertical-align: middle;\n",
       "    }\n",
       "\n",
       "    .dataframe tbody tr th {\n",
       "        vertical-align: top;\n",
       "    }\n",
       "\n",
       "    .dataframe thead th {\n",
       "        text-align: right;\n",
       "    }\n",
       "</style>\n",
       "<table border=\"1\" class=\"dataframe\">\n",
       "  <thead>\n",
       "    <tr style=\"text-align: right;\">\n",
       "      <th>column</th>\n",
       "      <th>title</th>\n",
       "      <th>description</th>\n",
       "      <th>manufacturer</th>\n",
       "      <th>price</th>\n",
       "    </tr>\n",
       "  </thead>\n",
       "  <tbody>\n",
       "    <tr>\n",
       "      <th>0</th>\n",
       "      <td>corel dvd moviefactory 6.0 plus</td>\n",
       "      <td>ulead dvd moviefactory 6 plus is the award-win...</td>\n",
       "      <td>corel</td>\n",
       "      <td>79.99</td>\n",
       "    </tr>\n",
       "  </tbody>\n",
       "</table>\n",
       "</div>"
      ],
      "text/plain": [
       "column                             title  \\\n",
       "0       corel dvd moviefactory 6.0 plus    \n",
       "\n",
       "column                                        description manufacturer  price  \n",
       "0       ulead dvd moviefactory 6 plus is the award-win...       corel   79.99  "
      ]
     },
     "metadata": {},
     "output_type": "display_data"
    },
    {
     "name": "stdout",
     "output_type": "stream",
     "text": [
      "Entity 2:\n"
     ]
    },
    {
     "data": {
      "text/html": [
       "<div>\n",
       "<style scoped>\n",
       "    .dataframe tbody tr th:only-of-type {\n",
       "        vertical-align: middle;\n",
       "    }\n",
       "\n",
       "    .dataframe tbody tr th {\n",
       "        vertical-align: top;\n",
       "    }\n",
       "\n",
       "    .dataframe thead th {\n",
       "        text-align: right;\n",
       "    }\n",
       "</style>\n",
       "<table border=\"1\" class=\"dataframe\">\n",
       "  <thead>\n",
       "    <tr style=\"text-align: right;\">\n",
       "      <th>column</th>\n",
       "      <th>title</th>\n",
       "      <th>description</th>\n",
       "      <th>manufacturer</th>\n",
       "      <th>price</th>\n",
       "    </tr>\n",
       "  </thead>\n",
       "  <tbody>\n",
       "    <tr>\n",
       "      <th>0</th>\n",
       "      <td>dvd moviefactory 6 plus</td>\n",
       "      <td>corel dvd moviefactory 6 plus windows</td>\n",
       "      <td></td>\n",
       "      <td>77.32</td>\n",
       "    </tr>\n",
       "  </tbody>\n",
       "</table>\n",
       "</div>"
      ],
      "text/plain": [
       "column                     title                             description  \\\n",
       "0       dvd moviefactory 6 plus   corel dvd moviefactory 6 plus windows    \n",
       "\n",
       "column manufacturer  price  \n",
       "0                    77.32  "
      ]
     },
     "metadata": {},
     "output_type": "display_data"
    },
    {
     "name": "stdout",
     "output_type": "stream",
     "text": [
      "Label: 1\n",
      "Prediction: 1\n"
     ]
    }
   ],
   "source": [
    "e1_df, e2_df = deserialize_entities(X_test[np.nonzero(y_test)[0][0]])\n",
    "print('Entity 1:')\n",
    "display(e1_df)\n",
    "print('Entity 2:')\n",
    "display(e2_df)\n",
    "print(f'Label: {y_test[np.nonzero(y_test)[0][0]]}')\n",
    "print(f'Prediction: {y_pred[np.nonzero(y_test)[0][0]]}')"
   ]
  },
  {
   "cell_type": "markdown",
   "metadata": {},
   "source": [
    "### DistilRoBERTa\n",
    "- Parameters: ~82 million\n",
    "- Layers: 6 Transformer layers (half of RoBERTa-base)\n",
    "- Hidden Size: 768 (same as RoBERTa-base)\n",
    "- Attention Heads: 12 (same as RoBERTa-base)\n",
    "- It’s 60% faster than RoBERTa base.\n",
    "- Has 40% fewer parameters while retaining over 95% of the performance on most tasks."
   ]
  },
  {
   "cell_type": "code",
   "execution_count": 161,
   "metadata": {},
   "outputs": [],
   "source": [
    "MODEL_NAME = 'distilroberta-base'"
   ]
  },
  {
   "cell_type": "code",
   "execution_count": 162,
   "metadata": {},
   "outputs": [
    {
     "name": "stderr",
     "output_type": "stream",
     "text": [
      "Some weights of RobertaForSequenceClassification were not initialized from the model checkpoint at distilroberta-base and are newly initialized: ['classifier.dense.bias', 'classifier.dense.weight', 'classifier.out_proj.bias', 'classifier.out_proj.weight']\n",
      "You should probably TRAIN this model on a down-stream task to be able to use it for predictions and inference.\n"
     ]
    },
    {
     "name": "stdout",
     "output_type": "stream",
     "text": [
      "Model initialized\n",
      "Device: cuda:0\n",
      "Model: distilroberta-base\n",
      "Study name: Amazon-Google/distilroberta-base@gpu6.enst.fr:0\n",
      "Epoch 1/10\n"
     ]
    },
    {
     "name": "stderr",
     "output_type": "stream",
     "text": [
      "Training: 100%|█████████████████████████████████████████████████████████████| 57/57 [00:18<00:00,  3.08batch/s]\n",
      "Validation: 100%|███████████████████████████████████████████████████████████| 13/13 [00:01<00:00,  7.89batch/s]\n"
     ]
    },
    {
     "name": "stdout",
     "output_type": "stream",
     "text": [
      "Train loss: 0.6649\n",
      "Val loss: 0.3951\n",
      "              precision    recall  f1-score   support\n",
      "\n",
      "           0       0.81      0.92      0.86       200\n",
      "           1       0.90      0.79      0.84       200\n",
      "\n",
      "    accuracy                           0.85       400\n",
      "   macro avg       0.86      0.85      0.85       400\n",
      "weighted avg       0.86      0.85      0.85       400\n",
      "\n",
      "Epoch 2/10\n"
     ]
    },
    {
     "name": "stderr",
     "output_type": "stream",
     "text": [
      "Training: 100%|█████████████████████████████████████████████████████████████| 57/57 [00:18<00:00,  3.09batch/s]\n",
      "Validation: 100%|███████████████████████████████████████████████████████████| 13/13 [00:01<00:00,  7.40batch/s]\n"
     ]
    },
    {
     "name": "stdout",
     "output_type": "stream",
     "text": [
      "Train loss: 0.2813\n",
      "Val loss: 0.3417\n",
      "              precision    recall  f1-score   support\n",
      "\n",
      "           0       0.90      0.70      0.79       200\n",
      "           1       0.76      0.92      0.83       200\n",
      "\n",
      "    accuracy                           0.81       400\n",
      "   macro avg       0.83      0.81      0.81       400\n",
      "weighted avg       0.83      0.81      0.81       400\n",
      "\n",
      "Epoch 3/10\n"
     ]
    },
    {
     "name": "stderr",
     "output_type": "stream",
     "text": [
      "Training: 100%|█████████████████████████████████████████████████████████████| 57/57 [00:18<00:00,  3.04batch/s]\n",
      "Validation: 100%|███████████████████████████████████████████████████████████| 13/13 [00:01<00:00,  7.46batch/s]\n"
     ]
    },
    {
     "name": "stdout",
     "output_type": "stream",
     "text": [
      "Train loss: 0.1516\n",
      "Val loss: 0.1779\n",
      "              precision    recall  f1-score   support\n",
      "\n",
      "           0       0.90      0.89      0.90       200\n",
      "           1       0.89      0.91      0.90       200\n",
      "\n",
      "    accuracy                           0.90       400\n",
      "   macro avg       0.90      0.90      0.90       400\n",
      "weighted avg       0.90      0.90      0.90       400\n",
      "\n",
      "Epoch 4/10\n"
     ]
    },
    {
     "name": "stderr",
     "output_type": "stream",
     "text": [
      "Training: 100%|█████████████████████████████████████████████████████████████| 57/57 [00:18<00:00,  3.03batch/s]\n",
      "Validation: 100%|███████████████████████████████████████████████████████████| 13/13 [00:01<00:00,  7.08batch/s]\n"
     ]
    },
    {
     "name": "stdout",
     "output_type": "stream",
     "text": [
      "Train loss: 0.1223\n",
      "Val loss: 0.1512\n",
      "              precision    recall  f1-score   support\n",
      "\n",
      "           0       0.87      0.97      0.92       200\n",
      "           1       0.97      0.85      0.90       200\n",
      "\n",
      "    accuracy                           0.91       400\n",
      "   macro avg       0.92      0.91      0.91       400\n",
      "weighted avg       0.92      0.91      0.91       400\n",
      "\n",
      "Epoch 5/10\n"
     ]
    },
    {
     "name": "stderr",
     "output_type": "stream",
     "text": [
      "Training: 100%|█████████████████████████████████████████████████████████████| 57/57 [00:18<00:00,  3.02batch/s]\n",
      "Validation: 100%|███████████████████████████████████████████████████████████| 13/13 [00:01<00:00,  7.32batch/s]\n"
     ]
    },
    {
     "name": "stdout",
     "output_type": "stream",
     "text": [
      "Train loss: 0.1116\n",
      "Val loss: 0.1758\n",
      "              precision    recall  f1-score   support\n",
      "\n",
      "           0       0.92      0.88      0.90       200\n",
      "           1       0.88      0.92      0.90       200\n",
      "\n",
      "    accuracy                           0.90       400\n",
      "   macro avg       0.90      0.90      0.90       400\n",
      "weighted avg       0.90      0.90      0.90       400\n",
      "\n",
      "Epoch 6/10\n"
     ]
    },
    {
     "name": "stderr",
     "output_type": "stream",
     "text": [
      "Training: 100%|█████████████████████████████████████████████████████████████| 57/57 [00:18<00:00,  3.04batch/s]\n",
      "Validation: 100%|███████████████████████████████████████████████████████████| 13/13 [00:01<00:00,  7.50batch/s]\n"
     ]
    },
    {
     "name": "stdout",
     "output_type": "stream",
     "text": [
      "Train loss: 0.1024\n",
      "Val loss: 0.1740\n",
      "              precision    recall  f1-score   support\n",
      "\n",
      "           0       0.93      0.88      0.90       200\n",
      "           1       0.89      0.93      0.91       200\n",
      "\n",
      "    accuracy                           0.91       400\n",
      "   macro avg       0.91      0.91      0.90       400\n",
      "weighted avg       0.91      0.91      0.90       400\n",
      "\n",
      "Epoch 7/10\n"
     ]
    },
    {
     "name": "stderr",
     "output_type": "stream",
     "text": [
      "Training: 100%|█████████████████████████████████████████████████████████████| 57/57 [00:18<00:00,  3.04batch/s]\n",
      "Validation: 100%|███████████████████████████████████████████████████████████| 13/13 [00:01<00:00,  7.21batch/s]"
     ]
    },
    {
     "name": "stdout",
     "output_type": "stream",
     "text": [
      "Train loss: 0.1140\n",
      "Val loss: 0.1904\n",
      "              precision    recall  f1-score   support\n",
      "\n",
      "           0       0.90      0.90      0.90       200\n",
      "           1       0.90      0.90      0.90       200\n",
      "\n",
      "    accuracy                           0.90       400\n",
      "   macro avg       0.90      0.90      0.90       400\n",
      "weighted avg       0.90      0.90      0.90       400\n",
      "\n",
      "Early stopping triggered\n",
      "Best weights restored\n",
      "Mean time per epoch: 20.46\n"
     ]
    },
    {
     "name": "stderr",
     "output_type": "stream",
     "text": [
      "\n"
     ]
    }
   ],
   "source": [
    "model = BertModel(model_name=MODEL_NAME, study_name=DATA_NAME + \"/\" + MODEL_NAME + \"@\" + COMPUTER, device=device)\n",
    "train_loader, val_loader, test_loader = model.prepare_data(X_train, y_train, X_valid, y_valid, X_test, y_test, batch_size=32, num_workers=4)\n",
    "model.fit(train_loader, val_loader, epochs=10, lr=2e-5, weight_decay=0.01, early_stopping=True, patience=3)"
   ]
  },
  {
   "cell_type": "code",
   "execution_count": 163,
   "metadata": {},
   "outputs": [
    {
     "name": "stderr",
     "output_type": "stream",
     "text": [
      "Testing: 100%|██████████████████████████████████████████████████████████████| 13/13 [00:01<00:00,  8.02batch/s]"
     ]
    },
    {
     "name": "stdout",
     "output_type": "stream",
     "text": [
      "              precision    recall  f1-score   support\n",
      "\n",
      "           0       0.93      0.97      0.95       199\n",
      "           1       0.97      0.92      0.95       199\n",
      "\n",
      "    accuracy                           0.95       398\n",
      "   macro avg       0.95      0.95      0.95       398\n",
      "weighted avg       0.95      0.95      0.95       398\n",
      "\n",
      "Test loss: 0.12640\n"
     ]
    },
    {
     "name": "stderr",
     "output_type": "stream",
     "text": [
      "\n"
     ]
    }
   ],
   "source": [
    "y_pred_disti = model.evaluate(test_loader)"
   ]
  },
  {
   "cell_type": "markdown",
   "metadata": {},
   "source": [
    "### BERT Base\n",
    "- Parameters: ~110 million\n",
    "- Layers: 12 Transformer layers\n",
    "- Hidden Size: 768\n",
    "- Attention Heads: 12"
   ]
  },
  {
   "cell_type": "code",
   "execution_count": 164,
   "metadata": {},
   "outputs": [],
   "source": [
    "MODEL_NAME = 'bert-base-uncased'"
   ]
  },
  {
   "cell_type": "code",
   "execution_count": 165,
   "metadata": {},
   "outputs": [
    {
     "name": "stderr",
     "output_type": "stream",
     "text": [
      "Some weights of BertForSequenceClassification were not initialized from the model checkpoint at bert-base-uncased and are newly initialized: ['classifier.bias', 'classifier.weight']\n",
      "You should probably TRAIN this model on a down-stream task to be able to use it for predictions and inference.\n"
     ]
    },
    {
     "name": "stdout",
     "output_type": "stream",
     "text": [
      "Model initialized\n",
      "Device: cuda:0\n",
      "Model: bert-base-uncased\n",
      "Study name: Amazon-Google/bert-base-uncased@gpu6.enst.fr:0\n",
      "Epoch 1/10\n"
     ]
    },
    {
     "name": "stderr",
     "output_type": "stream",
     "text": [
      "Training: 100%|█████████████████████████████████████████████████████████████| 57/57 [00:36<00:00,  1.55batch/s]\n",
      "Validation: 100%|███████████████████████████████████████████████████████████| 13/13 [00:03<00:00,  4.23batch/s]\n"
     ]
    },
    {
     "name": "stdout",
     "output_type": "stream",
     "text": [
      "Train loss: 0.5158\n",
      "Val loss: 0.3788\n",
      "              precision    recall  f1-score   support\n",
      "\n",
      "           0       0.94      0.73      0.82       200\n",
      "           1       0.78      0.95      0.86       200\n",
      "\n",
      "    accuracy                           0.84       400\n",
      "   macro avg       0.86      0.84      0.84       400\n",
      "weighted avg       0.86      0.84      0.84       400\n",
      "\n",
      "Epoch 2/10\n"
     ]
    },
    {
     "name": "stderr",
     "output_type": "stream",
     "text": [
      "Training: 100%|█████████████████████████████████████████████████████████████| 57/57 [00:36<00:00,  1.57batch/s]\n",
      "Validation: 100%|███████████████████████████████████████████████████████████| 13/13 [00:02<00:00,  4.36batch/s]\n"
     ]
    },
    {
     "name": "stdout",
     "output_type": "stream",
     "text": [
      "Train loss: 0.2073\n",
      "Val loss: 0.1971\n",
      "              precision    recall  f1-score   support\n",
      "\n",
      "           0       0.97      0.78      0.87       200\n",
      "           1       0.82      0.98      0.89       200\n",
      "\n",
      "    accuracy                           0.88       400\n",
      "   macro avg       0.90      0.88      0.88       400\n",
      "weighted avg       0.90      0.88      0.88       400\n",
      "\n",
      "Epoch 3/10\n"
     ]
    },
    {
     "name": "stderr",
     "output_type": "stream",
     "text": [
      "Training: 100%|█████████████████████████████████████████████████████████████| 57/57 [00:36<00:00,  1.57batch/s]\n",
      "Validation: 100%|███████████████████████████████████████████████████████████| 13/13 [00:03<00:00,  4.27batch/s]\n"
     ]
    },
    {
     "name": "stdout",
     "output_type": "stream",
     "text": [
      "Train loss: 0.1435\n",
      "Val loss: 0.1745\n",
      "              precision    recall  f1-score   support\n",
      "\n",
      "           0       0.92      0.89      0.90       200\n",
      "           1       0.89      0.92      0.91       200\n",
      "\n",
      "    accuracy                           0.91       400\n",
      "   macro avg       0.91      0.91      0.90       400\n",
      "weighted avg       0.91      0.91      0.90       400\n",
      "\n",
      "Epoch 4/10\n"
     ]
    },
    {
     "name": "stderr",
     "output_type": "stream",
     "text": [
      "Training: 100%|█████████████████████████████████████████████████████████████| 57/57 [00:36<00:00,  1.57batch/s]\n",
      "Validation: 100%|███████████████████████████████████████████████████████████| 13/13 [00:02<00:00,  4.37batch/s]\n"
     ]
    },
    {
     "name": "stdout",
     "output_type": "stream",
     "text": [
      "Train loss: 0.1166\n",
      "Val loss: 0.1828\n",
      "              precision    recall  f1-score   support\n",
      "\n",
      "           0       0.99      0.80      0.88       200\n",
      "           1       0.83      0.99      0.90       200\n",
      "\n",
      "    accuracy                           0.90       400\n",
      "   macro avg       0.91      0.90      0.89       400\n",
      "weighted avg       0.91      0.90      0.89       400\n",
      "\n",
      "Epoch 5/10\n"
     ]
    },
    {
     "name": "stderr",
     "output_type": "stream",
     "text": [
      "Training: 100%|█████████████████████████████████████████████████████████████| 57/57 [00:36<00:00,  1.57batch/s]\n",
      "Validation: 100%|███████████████████████████████████████████████████████████| 13/13 [00:02<00:00,  4.38batch/s]\n"
     ]
    },
    {
     "name": "stdout",
     "output_type": "stream",
     "text": [
      "Train loss: 0.1060\n",
      "Val loss: 0.1716\n",
      "              precision    recall  f1-score   support\n",
      "\n",
      "           0       0.92      0.89      0.91       200\n",
      "           1       0.89      0.93      0.91       200\n",
      "\n",
      "    accuracy                           0.91       400\n",
      "   macro avg       0.91      0.91      0.91       400\n",
      "weighted avg       0.91      0.91      0.91       400\n",
      "\n",
      "Epoch 6/10\n"
     ]
    },
    {
     "name": "stderr",
     "output_type": "stream",
     "text": [
      "Training: 100%|█████████████████████████████████████████████████████████████| 57/57 [00:36<00:00,  1.57batch/s]\n",
      "Validation: 100%|███████████████████████████████████████████████████████████| 13/13 [00:02<00:00,  4.33batch/s]\n"
     ]
    },
    {
     "name": "stdout",
     "output_type": "stream",
     "text": [
      "Train loss: 0.1008\n",
      "Val loss: 0.1710\n",
      "              precision    recall  f1-score   support\n",
      "\n",
      "           0       0.92      0.89      0.91       200\n",
      "           1       0.89      0.93      0.91       200\n",
      "\n",
      "    accuracy                           0.91       400\n",
      "   macro avg       0.91      0.91      0.91       400\n",
      "weighted avg       0.91      0.91      0.91       400\n",
      "\n",
      "Epoch 7/10\n"
     ]
    },
    {
     "name": "stderr",
     "output_type": "stream",
     "text": [
      "Training: 100%|█████████████████████████████████████████████████████████████| 57/57 [00:36<00:00,  1.57batch/s]\n",
      "Validation: 100%|███████████████████████████████████████████████████████████| 13/13 [00:02<00:00,  4.35batch/s]\n"
     ]
    },
    {
     "name": "stdout",
     "output_type": "stream",
     "text": [
      "Train loss: 0.0937\n",
      "Val loss: 0.1809\n",
      "              precision    recall  f1-score   support\n",
      "\n",
      "           0       0.94      0.88      0.90       200\n",
      "           1       0.88      0.94      0.91       200\n",
      "\n",
      "    accuracy                           0.91       400\n",
      "   macro avg       0.91      0.91      0.91       400\n",
      "weighted avg       0.91      0.91      0.91       400\n",
      "\n",
      "Epoch 8/10\n"
     ]
    },
    {
     "name": "stderr",
     "output_type": "stream",
     "text": [
      "Training: 100%|█████████████████████████████████████████████████████████████| 57/57 [00:36<00:00,  1.57batch/s]\n",
      "Validation: 100%|███████████████████████████████████████████████████████████| 13/13 [00:02<00:00,  4.38batch/s]\n"
     ]
    },
    {
     "name": "stdout",
     "output_type": "stream",
     "text": [
      "Train loss: 0.0959\n",
      "Val loss: 0.1626\n",
      "              precision    recall  f1-score   support\n",
      "\n",
      "           0       0.89      0.94      0.92       200\n",
      "           1       0.94      0.89      0.91       200\n",
      "\n",
      "    accuracy                           0.92       400\n",
      "   macro avg       0.92      0.92      0.91       400\n",
      "weighted avg       0.92      0.92      0.91       400\n",
      "\n",
      "Epoch 9/10\n"
     ]
    },
    {
     "name": "stderr",
     "output_type": "stream",
     "text": [
      "Training: 100%|█████████████████████████████████████████████████████████████| 57/57 [00:36<00:00,  1.57batch/s]\n",
      "Validation: 100%|███████████████████████████████████████████████████████████| 13/13 [00:02<00:00,  4.41batch/s]\n"
     ]
    },
    {
     "name": "stdout",
     "output_type": "stream",
     "text": [
      "Train loss: 0.0874\n",
      "Val loss: 0.1936\n",
      "              precision    recall  f1-score   support\n",
      "\n",
      "           0       0.91      0.92      0.91       200\n",
      "           1       0.92      0.91      0.91       200\n",
      "\n",
      "    accuracy                           0.91       400\n",
      "   macro avg       0.91      0.91      0.91       400\n",
      "weighted avg       0.91      0.91      0.91       400\n",
      "\n",
      "Epoch 10/10\n"
     ]
    },
    {
     "name": "stderr",
     "output_type": "stream",
     "text": [
      "Training: 100%|█████████████████████████████████████████████████████████████| 57/57 [00:36<00:00,  1.57batch/s]\n",
      "Validation: 100%|███████████████████████████████████████████████████████████| 13/13 [00:02<00:00,  4.38batch/s]\n"
     ]
    },
    {
     "name": "stdout",
     "output_type": "stream",
     "text": [
      "Train loss: 0.0944\n",
      "Val loss: 0.1795\n",
      "              precision    recall  f1-score   support\n",
      "\n",
      "           0       0.93      0.89      0.91       200\n",
      "           1       0.89      0.94      0.91       200\n",
      "\n",
      "    accuracy                           0.91       400\n",
      "   macro avg       0.91      0.91      0.91       400\n",
      "weighted avg       0.91      0.91      0.91       400\n",
      "\n",
      "Training completed\n",
      "Best weights restored\n",
      "Mean time per epoch: 39.31\n"
     ]
    }
   ],
   "source": [
    "model = BertModel(model_name=MODEL_NAME, study_name=DATA_NAME + \"/\" + MODEL_NAME + \"@\" + COMPUTER, device=device)\n",
    "train_loader, val_loader, test_loader = model.prepare_data(X_train, y_train, X_valid, y_valid, X_test, y_test, batch_size=32, num_workers=4)\n",
    "model.fit(train_loader, val_loader, epochs=10, lr=2e-5, weight_decay=0.01, early_stopping=True, patience=3)"
   ]
  },
  {
   "cell_type": "code",
   "execution_count": 166,
   "metadata": {},
   "outputs": [
    {
     "name": "stderr",
     "output_type": "stream",
     "text": [
      "Testing: 100%|██████████████████████████████████████████████████████████████| 13/13 [00:03<00:00,  4.24batch/s]"
     ]
    },
    {
     "name": "stdout",
     "output_type": "stream",
     "text": [
      "              precision    recall  f1-score   support\n",
      "\n",
      "           0       0.97      0.92      0.95       199\n",
      "           1       0.93      0.97      0.95       199\n",
      "\n",
      "    accuracy                           0.95       398\n",
      "   macro avg       0.95      0.95      0.95       398\n",
      "weighted avg       0.95      0.95      0.95       398\n",
      "\n",
      "Test loss: 0.07849\n"
     ]
    },
    {
     "name": "stderr",
     "output_type": "stream",
     "text": [
      "\n"
     ]
    }
   ],
   "source": [
    "y_pred_bert = model.evaluate(test_loader)"
   ]
  },
  {
   "cell_type": "markdown",
   "metadata": {},
   "source": [
    "### Electra\n",
    "- Parameters: ~110 million\n",
    "- Layers: 12 Transformer layers\n",
    "- Hidden Size: 768\n",
    "- Attention Heads: 12"
   ]
  },
  {
   "cell_type": "code",
   "execution_count": 21,
   "metadata": {},
   "outputs": [],
   "source": [
    "MODEL_NAME = 'google/electra-base-discriminator'"
   ]
  },
  {
   "cell_type": "code",
   "execution_count": 22,
   "metadata": {},
   "outputs": [
    {
     "name": "stderr",
     "output_type": "stream",
     "text": [
      "Some weights of ElectraForSequenceClassification were not initialized from the model checkpoint at google/electra-base-discriminator and are newly initialized: ['classifier.dense.bias', 'classifier.dense.weight', 'classifier.out_proj.bias', 'classifier.out_proj.weight']\n",
      "You should probably TRAIN this model on a down-stream task to be able to use it for predictions and inference.\n"
     ]
    },
    {
     "name": "stdout",
     "output_type": "stream",
     "text": [
      "Model initialized\n",
      "Device: cuda:0\n",
      "Model: google/electra-base-discriminator\n",
      "Study name: Amazon-Google/google/electra-base-discriminator@gpu6.enst.fr:0\n",
      "Epoch 1/10\n"
     ]
    },
    {
     "name": "stderr",
     "output_type": "stream",
     "text": [
      "Training: 100%|█████████████████████████████████████████████████████████████| 57/57 [00:41<00:00,  1.39batch/s]\n",
      "Validation: 100%|███████████████████████████████████████████████████████████| 13/13 [00:03<00:00,  3.95batch/s]\n"
     ]
    },
    {
     "name": "stdout",
     "output_type": "stream",
     "text": [
      "Train loss: 0.5222\n",
      "Val loss: 0.2358\n",
      "              precision    recall  f1-score   support\n",
      "\n",
      "           0       0.87      0.94      0.90       200\n",
      "           1       0.94      0.85      0.90       200\n",
      "\n",
      "    accuracy                           0.90       400\n",
      "   macro avg       0.90      0.90      0.90       400\n",
      "weighted avg       0.90      0.90      0.90       400\n",
      "\n",
      "Epoch 2/10\n"
     ]
    },
    {
     "name": "stderr",
     "output_type": "stream",
     "text": [
      "Training: 100%|█████████████████████████████████████████████████████████████| 57/57 [00:41<00:00,  1.38batch/s]\n",
      "Validation: 100%|███████████████████████████████████████████████████████████| 13/13 [00:03<00:00,  3.93batch/s]\n"
     ]
    },
    {
     "name": "stdout",
     "output_type": "stream",
     "text": [
      "Train loss: 0.1591\n",
      "Val loss: 0.1694\n",
      "              precision    recall  f1-score   support\n",
      "\n",
      "           0       0.90      0.89      0.89       200\n",
      "           1       0.89      0.91      0.90       200\n",
      "\n",
      "    accuracy                           0.90       400\n",
      "   macro avg       0.90      0.90      0.89       400\n",
      "weighted avg       0.90      0.90      0.89       400\n",
      "\n",
      "Epoch 3/10\n"
     ]
    },
    {
     "name": "stderr",
     "output_type": "stream",
     "text": [
      "Training: 100%|█████████████████████████████████████████████████████████████| 57/57 [00:41<00:00,  1.37batch/s]\n",
      "Validation: 100%|███████████████████████████████████████████████████████████| 13/13 [00:03<00:00,  3.90batch/s]\n"
     ]
    },
    {
     "name": "stdout",
     "output_type": "stream",
     "text": [
      "Train loss: 0.1084\n",
      "Val loss: 0.1584\n",
      "              precision    recall  f1-score   support\n",
      "\n",
      "           0       0.96      0.81      0.88       200\n",
      "           1       0.84      0.97      0.90       200\n",
      "\n",
      "    accuracy                           0.89       400\n",
      "   macro avg       0.90      0.89      0.89       400\n",
      "weighted avg       0.90      0.89      0.89       400\n",
      "\n",
      "Epoch 4/10\n"
     ]
    },
    {
     "name": "stderr",
     "output_type": "stream",
     "text": [
      "Training: 100%|█████████████████████████████████████████████████████████████| 57/57 [00:41<00:00,  1.37batch/s]\n",
      "Validation: 100%|███████████████████████████████████████████████████████████| 13/13 [00:03<00:00,  3.91batch/s]\n"
     ]
    },
    {
     "name": "stdout",
     "output_type": "stream",
     "text": [
      "Train loss: 0.0949\n",
      "Val loss: 0.1650\n",
      "              precision    recall  f1-score   support\n",
      "\n",
      "           0       0.98      0.79      0.88       200\n",
      "           1       0.82      0.98      0.90       200\n",
      "\n",
      "    accuracy                           0.89       400\n",
      "   macro avg       0.90      0.89      0.89       400\n",
      "weighted avg       0.90      0.89      0.89       400\n",
      "\n",
      "Epoch 5/10\n"
     ]
    },
    {
     "name": "stderr",
     "output_type": "stream",
     "text": [
      "Training: 100%|█████████████████████████████████████████████████████████████| 57/57 [00:41<00:00,  1.37batch/s]\n",
      "Validation: 100%|███████████████████████████████████████████████████████████| 13/13 [00:03<00:00,  3.91batch/s]\n"
     ]
    },
    {
     "name": "stdout",
     "output_type": "stream",
     "text": [
      "Train loss: 0.0884\n",
      "Val loss: 0.1574\n",
      "              precision    recall  f1-score   support\n",
      "\n",
      "           0       0.87      0.96      0.91       200\n",
      "           1       0.96      0.85      0.90       200\n",
      "\n",
      "    accuracy                           0.91       400\n",
      "   macro avg       0.91      0.91      0.91       400\n",
      "weighted avg       0.91      0.91      0.91       400\n",
      "\n",
      "Epoch 6/10\n"
     ]
    },
    {
     "name": "stderr",
     "output_type": "stream",
     "text": [
      "Training: 100%|█████████████████████████████████████████████████████████████| 57/57 [00:41<00:00,  1.37batch/s]\n",
      "Validation: 100%|███████████████████████████████████████████████████████████| 13/13 [00:03<00:00,  3.90batch/s]\n"
     ]
    },
    {
     "name": "stdout",
     "output_type": "stream",
     "text": [
      "Train loss: 0.0885\n",
      "Val loss: 0.1829\n",
      "              precision    recall  f1-score   support\n",
      "\n",
      "           0       0.99      0.79      0.87       200\n",
      "           1       0.82      0.99      0.90       200\n",
      "\n",
      "    accuracy                           0.89       400\n",
      "   macro avg       0.90      0.89      0.89       400\n",
      "weighted avg       0.90      0.89      0.89       400\n",
      "\n",
      "Epoch 7/10\n"
     ]
    },
    {
     "name": "stderr",
     "output_type": "stream",
     "text": [
      "Training: 100%|█████████████████████████████████████████████████████████████| 57/57 [00:41<00:00,  1.36batch/s]\n",
      "Validation: 100%|███████████████████████████████████████████████████████████| 13/13 [00:03<00:00,  3.64batch/s]\n"
     ]
    },
    {
     "name": "stdout",
     "output_type": "stream",
     "text": [
      "Train loss: 0.0837\n",
      "Val loss: 0.1634\n",
      "              precision    recall  f1-score   support\n",
      "\n",
      "           0       0.90      0.90      0.90       200\n",
      "           1       0.90      0.90      0.90       200\n",
      "\n",
      "    accuracy                           0.90       400\n",
      "   macro avg       0.90      0.90      0.90       400\n",
      "weighted avg       0.90      0.90      0.90       400\n",
      "\n",
      "Epoch 8/10\n"
     ]
    },
    {
     "name": "stderr",
     "output_type": "stream",
     "text": [
      "Training: 100%|█████████████████████████████████████████████████████████████| 57/57 [00:41<00:00,  1.36batch/s]\n",
      "Validation: 100%|███████████████████████████████████████████████████████████| 13/13 [00:03<00:00,  3.79batch/s]\n"
     ]
    },
    {
     "name": "stdout",
     "output_type": "stream",
     "text": [
      "Train loss: 0.1074\n",
      "Val loss: 0.1576\n",
      "              precision    recall  f1-score   support\n",
      "\n",
      "           0       0.91      0.88      0.89       200\n",
      "           1       0.88      0.92      0.90       200\n",
      "\n",
      "    accuracy                           0.90       400\n",
      "   macro avg       0.90      0.90      0.89       400\n",
      "weighted avg       0.90      0.90      0.89       400\n",
      "\n",
      "Early stopping triggered\n",
      "Best weights restored\n",
      "Mean time per epoch: 44.87\n"
     ]
    }
   ],
   "source": [
    "model = BertModel(model_name=MODEL_NAME, study_name=DATA_NAME + \"/\" + MODEL_NAME + \"@\" + COMPUTER, device=device)\n",
    "train_loader, val_loader, test_loader = model.prepare_data(X_train, y_train, X_valid, y_valid, X_test, y_test, batch_size=32, num_workers=4)\n",
    "model.fit(train_loader, val_loader, epochs=10, lr=2e-5, weight_decay=0.01, early_stopping=True, patience=3)"
   ]
  },
  {
   "cell_type": "code",
   "execution_count": 23,
   "metadata": {},
   "outputs": [
    {
     "name": "stderr",
     "output_type": "stream",
     "text": [
      "Testing: 100%|██████████████████████████████████████████████████████████████| 13/13 [00:03<00:00,  3.89batch/s]"
     ]
    },
    {
     "name": "stdout",
     "output_type": "stream",
     "text": [
      "              precision    recall  f1-score   support\n",
      "\n",
      "           0       0.95      0.96      0.96       199\n",
      "           1       0.96      0.95      0.96       199\n",
      "\n",
      "    accuracy                           0.96       398\n",
      "   macro avg       0.96      0.96      0.96       398\n",
      "weighted avg       0.96      0.96      0.96       398\n",
      "\n",
      "Test loss: 0.09199\n"
     ]
    },
    {
     "name": "stderr",
     "output_type": "stream",
     "text": [
      "\n"
     ]
    }
   ],
   "source": [
    "y_pred_electra = model.evaluate(test_loader)"
   ]
  }
 ],
 "metadata": {
  "kernelspec": {
   "display_name": "Python 3",
   "language": "python",
   "name": "python3"
  },
  "language_info": {
   "codemirror_mode": {
    "name": "ipython",
    "version": 3
   },
   "file_extension": ".py",
   "mimetype": "text/x-python",
   "name": "python",
   "nbconvert_exporter": "python",
   "pygments_lexer": "ipython3",
   "version": "3.12.4"
  }
 },
 "nbformat": 4,
 "nbformat_minor": 2
}
